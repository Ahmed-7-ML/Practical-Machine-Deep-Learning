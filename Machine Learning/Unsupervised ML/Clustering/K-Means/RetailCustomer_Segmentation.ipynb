{
 "cells": [
  {
   "cell_type": "markdown",
   "id": "6768f606",
   "metadata": {},
   "source": [
    "## Import Dependencies\n"
   ]
  },
  {
   "cell_type": "code",
   "execution_count": 21,
   "id": "27ccf66d",
   "metadata": {},
   "outputs": [],
   "source": [
    "# Fast Computing and Data Handling\n",
    "import numpy as np\n",
    "import pandas as pd\n",
    "\n",
    "# Data Visualization\n",
    "import matplotlib.pyplot as plt\n",
    "import seaborn as sns\n",
    "\n",
    "# Clustering by K-Means\n",
    "from sklearn.cluster import KMeans\n",
    "\n",
    "# Categorical Encoding\n",
    "from sklearn.preprocessing import OneHotEncoder"
   ]
  },
  {
   "cell_type": "markdown",
   "id": "c9ad2b10",
   "metadata": {},
   "source": [
    "## Data Collection and Analysis\n"
   ]
  },
  {
   "cell_type": "code",
   "execution_count": null,
   "id": "76b4acc4",
   "metadata": {},
   "outputs": [
    {
     "data": {
      "application/vnd.microsoft.datawrangler.viewer.v0+json": {
       "columns": [
        {
         "name": "index",
         "rawType": "int64",
         "type": "integer"
        },
        {
         "name": "CustomerID",
         "rawType": "int64",
         "type": "integer"
        },
        {
         "name": "Genre",
         "rawType": "object",
         "type": "string"
        },
        {
         "name": "Age",
         "rawType": "int64",
         "type": "integer"
        },
        {
         "name": "Annual Income (k$)",
         "rawType": "int64",
         "type": "integer"
        },
        {
         "name": "Spending Score (1-100)",
         "rawType": "int64",
         "type": "integer"
        }
       ],
       "ref": "7abeec09-31dc-4fb7-a423-60362b37a0e5",
       "rows": [
        [
         "0",
         "1",
         "Male",
         "19",
         "15",
         "39"
        ],
        [
         "1",
         "2",
         "Male",
         "21",
         "15",
         "81"
        ],
        [
         "2",
         "3",
         "Female",
         "20",
         "16",
         "6"
        ],
        [
         "3",
         "4",
         "Female",
         "23",
         "16",
         "77"
        ],
        [
         "4",
         "5",
         "Female",
         "31",
         "17",
         "40"
        ],
        [
         "5",
         "6",
         "Female",
         "22",
         "17",
         "76"
        ],
        [
         "6",
         "7",
         "Female",
         "35",
         "18",
         "6"
        ]
       ],
       "shape": {
        "columns": 5,
        "rows": 7
       }
      },
      "text/html": [
       "<div>\n",
       "<style scoped>\n",
       "    .dataframe tbody tr th:only-of-type {\n",
       "        vertical-align: middle;\n",
       "    }\n",
       "\n",
       "    .dataframe tbody tr th {\n",
       "        vertical-align: top;\n",
       "    }\n",
       "\n",
       "    .dataframe thead th {\n",
       "        text-align: right;\n",
       "    }\n",
       "</style>\n",
       "<table border=\"1\" class=\"dataframe\">\n",
       "  <thead>\n",
       "    <tr style=\"text-align: right;\">\n",
       "      <th></th>\n",
       "      <th>CustomerID</th>\n",
       "      <th>Genre</th>\n",
       "      <th>Age</th>\n",
       "      <th>Annual Income (k$)</th>\n",
       "      <th>Spending Score (1-100)</th>\n",
       "    </tr>\n",
       "  </thead>\n",
       "  <tbody>\n",
       "    <tr>\n",
       "      <th>0</th>\n",
       "      <td>1</td>\n",
       "      <td>Male</td>\n",
       "      <td>19</td>\n",
       "      <td>15</td>\n",
       "      <td>39</td>\n",
       "    </tr>\n",
       "    <tr>\n",
       "      <th>1</th>\n",
       "      <td>2</td>\n",
       "      <td>Male</td>\n",
       "      <td>21</td>\n",
       "      <td>15</td>\n",
       "      <td>81</td>\n",
       "    </tr>\n",
       "    <tr>\n",
       "      <th>2</th>\n",
       "      <td>3</td>\n",
       "      <td>Female</td>\n",
       "      <td>20</td>\n",
       "      <td>16</td>\n",
       "      <td>6</td>\n",
       "    </tr>\n",
       "    <tr>\n",
       "      <th>3</th>\n",
       "      <td>4</td>\n",
       "      <td>Female</td>\n",
       "      <td>23</td>\n",
       "      <td>16</td>\n",
       "      <td>77</td>\n",
       "    </tr>\n",
       "    <tr>\n",
       "      <th>4</th>\n",
       "      <td>5</td>\n",
       "      <td>Female</td>\n",
       "      <td>31</td>\n",
       "      <td>17</td>\n",
       "      <td>40</td>\n",
       "    </tr>\n",
       "    <tr>\n",
       "      <th>5</th>\n",
       "      <td>6</td>\n",
       "      <td>Female</td>\n",
       "      <td>22</td>\n",
       "      <td>17</td>\n",
       "      <td>76</td>\n",
       "    </tr>\n",
       "    <tr>\n",
       "      <th>6</th>\n",
       "      <td>7</td>\n",
       "      <td>Female</td>\n",
       "      <td>35</td>\n",
       "      <td>18</td>\n",
       "      <td>6</td>\n",
       "    </tr>\n",
       "  </tbody>\n",
       "</table>\n",
       "</div>"
      ],
      "text/plain": [
       "   CustomerID   Genre  Age  Annual Income (k$)  Spending Score (1-100)\n",
       "0           1    Male   19                  15                      39\n",
       "1           2    Male   21                  15                      81\n",
       "2           3  Female   20                  16                       6\n",
       "3           4  Female   23                  16                      77\n",
       "4           5  Female   31                  17                      40\n",
       "5           6  Female   22                  17                      76\n",
       "6           7  Female   35                  18                       6"
      ]
     },
     "execution_count": 22,
     "metadata": {},
     "output_type": "execute_result"
    }
   ],
   "source": [
    "df = pd.read_csv('Mall_Customers.csv')  # Load CSV File as Pandas DataFrame\n",
    "\n",
    "df.head(7)  # Display First 7 Rows"
   ]
  },
  {
   "cell_type": "code",
   "execution_count": null,
   "id": "000deb79",
   "metadata": {},
   "outputs": [
    {
     "data": {
      "text/plain": [
       "(200, 5)"
      ]
     },
     "execution_count": 23,
     "metadata": {},
     "output_type": "execute_result"
    }
   ],
   "source": [
    "df.shape  # (Rows ,Columns)"
   ]
  },
  {
   "cell_type": "code",
   "execution_count": null,
   "id": "58aa0879",
   "metadata": {},
   "outputs": [
    {
     "name": "stdout",
     "output_type": "stream",
     "text": [
      "<class 'pandas.core.frame.DataFrame'>\n",
      "RangeIndex: 200 entries, 0 to 199\n",
      "Data columns (total 5 columns):\n",
      " #   Column                  Non-Null Count  Dtype \n",
      "---  ------                  --------------  ----- \n",
      " 0   CustomerID              200 non-null    int64 \n",
      " 1   Genre                   200 non-null    object\n",
      " 2   Age                     200 non-null    int64 \n",
      " 3   Annual Income (k$)      200 non-null    int64 \n",
      " 4   Spending Score (1-100)  200 non-null    int64 \n",
      "dtypes: int64(4), object(1)\n",
      "memory usage: 7.9+ KB\n"
     ]
    }
   ],
   "source": [
    "df.info()  # Information about Dataframe (# of Rows, # of Columns, Datatype of each)"
   ]
  },
  {
   "cell_type": "code",
   "execution_count": null,
   "id": "a290f4cb",
   "metadata": {},
   "outputs": [
    {
     "data": {
      "application/vnd.microsoft.datawrangler.viewer.v0+json": {
       "columns": [
        {
         "name": "index",
         "rawType": "object",
         "type": "string"
        },
        {
         "name": "0",
         "rawType": "int64",
         "type": "integer"
        }
       ],
       "ref": "2f861822-020e-4d8a-b59a-d64f6fdf6371",
       "rows": [
        [
         "CustomerID",
         "0"
        ],
        [
         "Genre",
         "0"
        ],
        [
         "Age",
         "0"
        ],
        [
         "Annual Income (k$)",
         "0"
        ],
        [
         "Spending Score (1-100)",
         "0"
        ]
       ],
       "shape": {
        "columns": 1,
        "rows": 5
       }
      },
      "text/plain": [
       "CustomerID                0\n",
       "Genre                     0\n",
       "Age                       0\n",
       "Annual Income (k$)        0\n",
       "Spending Score (1-100)    0\n",
       "dtype: int64"
      ]
     },
     "execution_count": 25,
     "metadata": {},
     "output_type": "execute_result"
    }
   ],
   "source": [
    "df.isnull().sum()  # Display the Number of missing values in each column"
   ]
  },
  {
   "cell_type": "markdown",
   "id": "fb55673e",
   "metadata": {},
   "source": [
    "_Wow, There is no missing values_\n"
   ]
  },
  {
   "cell_type": "code",
   "execution_count": 26,
   "id": "20bc5a11",
   "metadata": {},
   "outputs": [
    {
     "data": {
      "application/vnd.microsoft.datawrangler.viewer.v0+json": {
       "columns": [
        {
         "name": "index",
         "rawType": "object",
         "type": "string"
        },
        {
         "name": "CustomerID",
         "rawType": "float64",
         "type": "float"
        },
        {
         "name": "Age",
         "rawType": "float64",
         "type": "float"
        },
        {
         "name": "Annual Income (k$)",
         "rawType": "float64",
         "type": "float"
        },
        {
         "name": "Spending Score (1-100)",
         "rawType": "float64",
         "type": "float"
        }
       ],
       "ref": "76131bd9-d366-42f9-81d2-81671ac3c9a0",
       "rows": [
        [
         "count",
         "200.0",
         "200.0",
         "200.0",
         "200.0"
        ],
        [
         "mean",
         "100.5",
         "38.85",
         "60.56",
         "50.2"
        ],
        [
         "std",
         "57.879184513951124",
         "13.96900733155888",
         "26.264721165271244",
         "25.823521668370173"
        ],
        [
         "min",
         "1.0",
         "18.0",
         "15.0",
         "1.0"
        ],
        [
         "25%",
         "50.75",
         "28.75",
         "41.5",
         "34.75"
        ],
        [
         "50%",
         "100.5",
         "36.0",
         "61.5",
         "50.0"
        ],
        [
         "75%",
         "150.25",
         "49.0",
         "78.0",
         "73.0"
        ],
        [
         "max",
         "200.0",
         "70.0",
         "137.0",
         "99.0"
        ]
       ],
       "shape": {
        "columns": 4,
        "rows": 8
       }
      },
      "text/html": [
       "<div>\n",
       "<style scoped>\n",
       "    .dataframe tbody tr th:only-of-type {\n",
       "        vertical-align: middle;\n",
       "    }\n",
       "\n",
       "    .dataframe tbody tr th {\n",
       "        vertical-align: top;\n",
       "    }\n",
       "\n",
       "    .dataframe thead th {\n",
       "        text-align: right;\n",
       "    }\n",
       "</style>\n",
       "<table border=\"1\" class=\"dataframe\">\n",
       "  <thead>\n",
       "    <tr style=\"text-align: right;\">\n",
       "      <th></th>\n",
       "      <th>CustomerID</th>\n",
       "      <th>Age</th>\n",
       "      <th>Annual Income (k$)</th>\n",
       "      <th>Spending Score (1-100)</th>\n",
       "    </tr>\n",
       "  </thead>\n",
       "  <tbody>\n",
       "    <tr>\n",
       "      <th>count</th>\n",
       "      <td>200.000000</td>\n",
       "      <td>200.000000</td>\n",
       "      <td>200.000000</td>\n",
       "      <td>200.000000</td>\n",
       "    </tr>\n",
       "    <tr>\n",
       "      <th>mean</th>\n",
       "      <td>100.500000</td>\n",
       "      <td>38.850000</td>\n",
       "      <td>60.560000</td>\n",
       "      <td>50.200000</td>\n",
       "    </tr>\n",
       "    <tr>\n",
       "      <th>std</th>\n",
       "      <td>57.879185</td>\n",
       "      <td>13.969007</td>\n",
       "      <td>26.264721</td>\n",
       "      <td>25.823522</td>\n",
       "    </tr>\n",
       "    <tr>\n",
       "      <th>min</th>\n",
       "      <td>1.000000</td>\n",
       "      <td>18.000000</td>\n",
       "      <td>15.000000</td>\n",
       "      <td>1.000000</td>\n",
       "    </tr>\n",
       "    <tr>\n",
       "      <th>25%</th>\n",
       "      <td>50.750000</td>\n",
       "      <td>28.750000</td>\n",
       "      <td>41.500000</td>\n",
       "      <td>34.750000</td>\n",
       "    </tr>\n",
       "    <tr>\n",
       "      <th>50%</th>\n",
       "      <td>100.500000</td>\n",
       "      <td>36.000000</td>\n",
       "      <td>61.500000</td>\n",
       "      <td>50.000000</td>\n",
       "    </tr>\n",
       "    <tr>\n",
       "      <th>75%</th>\n",
       "      <td>150.250000</td>\n",
       "      <td>49.000000</td>\n",
       "      <td>78.000000</td>\n",
       "      <td>73.000000</td>\n",
       "    </tr>\n",
       "    <tr>\n",
       "      <th>max</th>\n",
       "      <td>200.000000</td>\n",
       "      <td>70.000000</td>\n",
       "      <td>137.000000</td>\n",
       "      <td>99.000000</td>\n",
       "    </tr>\n",
       "  </tbody>\n",
       "</table>\n",
       "</div>"
      ],
      "text/plain": [
       "       CustomerID         Age  Annual Income (k$)  Spending Score (1-100)\n",
       "count  200.000000  200.000000          200.000000              200.000000\n",
       "mean   100.500000   38.850000           60.560000               50.200000\n",
       "std     57.879185   13.969007           26.264721               25.823522\n",
       "min      1.000000   18.000000           15.000000                1.000000\n",
       "25%     50.750000   28.750000           41.500000               34.750000\n",
       "50%    100.500000   36.000000           61.500000               50.000000\n",
       "75%    150.250000   49.000000           78.000000               73.000000\n",
       "max    200.000000   70.000000          137.000000               99.000000"
      ]
     },
     "execution_count": 26,
     "metadata": {},
     "output_type": "execute_result"
    }
   ],
   "source": [
    "# Display Summary Statistics\n",
    "df.describe()"
   ]
  },
  {
   "cell_type": "markdown",
   "id": "7e843a29",
   "metadata": {},
   "source": [
    "_Check the Distribution of Genre Column_\n"
   ]
  },
  {
   "cell_type": "code",
   "execution_count": 27,
   "id": "402379ff",
   "metadata": {},
   "outputs": [
    {
     "data": {
      "image/png": "[encoded data removed]",
      "text/plain": [
       "<Figure size 640x480 with 1 Axes>"
      ]
     },
     "metadata": {},
     "output_type": "display_data"
    }
   ],
   "source": [
    "df[\"Genre\"].value_counts().plot(kind='bar')\n",
    "plt.title('Genre Distribution')\n",
    "plt.xlabel('Genre')\n",
    "plt.ylabel('Frequency')\n",
    "plt.xticks(rotation=45)\n",
    "plt.show()"
   ]
  },
  {
   "cell_type": "markdown",
   "id": "81600577",
   "metadata": {},
   "source": [
    "_Encode the Genre Column by One Hot Encoder_\n"
   ]
  },
  {
   "cell_type": "code",
   "execution_count": null,
   "id": "a7b699f4",
   "metadata": {},
   "outputs": [
    {
     "data": {
      "application/vnd.microsoft.datawrangler.viewer.v0+json": {
       "columns": [
        {
         "name": "index",
         "rawType": "int64",
         "type": "integer"
        },
        {
         "name": "CustomerID",
         "rawType": "int64",
         "type": "integer"
        },
        {
         "name": "Genre",
         "rawType": "object",
         "type": "string"
        },
        {
         "name": "Age",
         "rawType": "int64",
         "type": "integer"
        },
        {
         "name": "Annual Income (k$)",
         "rawType": "int64",
         "type": "integer"
        },
        {
         "name": "Spending Score (1-100)",
         "rawType": "int64",
         "type": "integer"
        },
        {
         "name": "Genre_Female",
         "rawType": "float64",
         "type": "float"
        },
        {
         "name": "Genre_Male",
         "rawType": "float64",
         "type": "float"
        }
       ],
       "ref": "359f859a-1fe1-4b83-9e63-1065718a0d9a",
       "rows": [
        [
         "0",
         "1",
         "Male",
         "19",
         "15",
         "39",
         "0.0",
         "1.0"
        ],
        [
         "1",
         "2",
         "Male",
         "21",
         "15",
         "81",
         "0.0",
         "1.0"
        ],
        [
         "2",
         "3",
         "Female",
         "20",
         "16",
         "6",
         "1.0",
         "0.0"
        ],
        [
         "3",
         "4",
         "Female",
         "23",
         "16",
         "77",
         "1.0",
         "0.0"
        ],
        [
         "4",
         "5",
         "Female",
         "31",
         "17",
         "40",
         "1.0",
         "0.0"
        ],
        [
         "5",
         "6",
         "Female",
         "22",
         "17",
         "76",
         "1.0",
         "0.0"
        ],
        [
         "6",
         "7",
         "Female",
         "35",
         "18",
         "6",
         "1.0",
         "0.0"
        ],
        [
         "7",
         "8",
         "Female",
         "23",
         "18",
         "94",
         "1.0",
         "0.0"
        ],
        [
         "8",
         "9",
         "Male",
         "64",
         "19",
         "3",
         "0.0",
         "1.0"
        ],
        [
         "9",
         "10",
         "Female",
         "30",
         "19",
         "72",
         "1.0",
         "0.0"
        ],
        [
         "10",
         "11",
         "Male",
         "67",
         "19",
         "14",
         "0.0",
         "1.0"
        ],
        [
         "11",
         "12",
         "Female",
         "35",
         "19",
         "99",
         "1.0",
         "0.0"
        ],
        [
         "12",
         "13",
         "Female",
         "58",
         "20",
         "15",
         "1.0",
         "0.0"
        ],
        [
         "13",
         "14",
         "Female",
         "24",
         "20",
         "77",
         "1.0",
         "0.0"
        ],
        [
         "14",
         "15",
         "Male",
         "37",
         "20",
         "13",
         "0.0",
         "1.0"
        ],
        [
         "15",
         "16",
         "Male",
         "22",
         "20",
         "79",
         "0.0",
         "1.0"
        ],
        [
         "16",
         "17",
         "Female",
         "35",
         "21",
         "35",
         "1.0",
         "0.0"
        ],
        [
         "17",
         "18",
         "Male",
         "20",
         "21",
         "66",
         "0.0",
         "1.0"
        ],
        [
         "18",
         "19",
         "Male",
         "52",
         "23",
         "29",
         "0.0",
         "1.0"
        ],
        [
         "19",
         "20",
         "Female",
         "35",
         "23",
         "98",
         "1.0",
         "0.0"
        ],
        [
         "20",
         "21",
         "Male",
         "35",
         "24",
         "35",
         "0.0",
         "1.0"
        ],
        [
         "21",
         "22",
         "Male",
         "25",
         "24",
         "73",
         "0.0",
         "1.0"
        ],
        [
         "22",
         "23",
         "Female",
         "46",
         "25",
         "5",
         "1.0",
         "0.0"
        ],
        [
         "23",
         "24",
         "Male",
         "31",
         "25",
         "73",
         "0.0",
         "1.0"
        ],
        [
         "24",
         "25",
         "Female",
         "54",
         "28",
         "14",
         "1.0",
         "0.0"
        ],
        [
         "25",
         "26",
         "Male",
         "29",
         "28",
         "82",
         "0.0",
         "1.0"
        ],
        [
         "26",
         "27",
         "Female",
         "45",
         "28",
         "32",
         "1.0",
         "0.0"
        ],
        [
         "27",
         "28",
         "Male",
         "35",
         "28",
         "61",
         "0.0",
         "1.0"
        ],
        [
         "28",
         "29",
         "Female",
         "40",
         "29",
         "31",
         "1.0",
         "0.0"
        ],
        [
         "29",
         "30",
         "Female",
         "23",
         "29",
         "87",
         "1.0",
         "0.0"
        ],
        [
         "30",
         "31",
         "Male",
         "60",
         "30",
         "4",
         "0.0",
         "1.0"
        ],
        [
         "31",
         "32",
         "Female",
         "21",
         "30",
         "73",
         "1.0",
         "0.0"
        ],
        [
         "32",
         "33",
         "Male",
         "53",
         "33",
         "4",
         "0.0",
         "1.0"
        ],
        [
         "33",
         "34",
         "Male",
         "18",
         "33",
         "92",
         "0.0",
         "1.0"
        ],
        [
         "34",
         "35",
         "Female",
         "49",
         "33",
         "14",
         "1.0",
         "0.0"
        ],
        [
         "35",
         "36",
         "Female",
         "21",
         "33",
         "81",
         "1.0",
         "0.0"
        ],
        [
         "36",
         "37",
         "Female",
         "42",
         "34",
         "17",
         "1.0",
         "0.0"
        ],
        [
         "37",
         "38",
         "Female",
         "30",
         "34",
         "73",
         "1.0",
         "0.0"
        ],
        [
         "38",
         "39",
         "Female",
         "36",
         "37",
         "26",
         "1.0",
         "0.0"
        ],
        [
         "39",
         "40",
         "Female",
         "20",
         "37",
         "75",
         "1.0",
         "0.0"
        ],
        [
         "40",
         "41",
         "Female",
         "65",
         "38",
         "35",
         "1.0",
         "0.0"
        ],
        [
         "41",
         "42",
         "Male",
         "24",
         "38",
         "92",
         "0.0",
         "1.0"
        ],
        [
         "42",
         "43",
         "Male",
         "48",
         "39",
         "36",
         "0.0",
         "1.0"
        ],
        [
         "43",
         "44",
         "Female",
         "31",
         "39",
         "61",
         "1.0",
         "0.0"
        ],
        [
         "44",
         "45",
         "Female",
         "49",
         "39",
         "28",
         "1.0",
         "0.0"
        ],
        [
         "45",
         "46",
         "Female",
         "24",
         "39",
         "65",
         "1.0",
         "0.0"
        ],
        [
         "46",
         "47",
         "Female",
         "50",
         "40",
         "55",
         "1.0",
         "0.0"
        ],
        [
         "47",
         "48",
         "Female",
         "27",
         "40",
         "47",
         "1.0",
         "0.0"
        ],
        [
         "48",
         "49",
         "Female",
         "29",
         "40",
         "42",
         "1.0",
         "0.0"
        ],
        [
         "49",
         "50",
         "Female",
         "31",
         "40",
         "42",
         "1.0",
         "0.0"
        ]
       ],
       "shape": {
        "columns": 7,
        "rows": 200
       }
      },
      "text/html": [
       "<div>\n",
       "<style scoped>\n",
       "    .dataframe tbody tr th:only-of-type {\n",
       "        vertical-align: middle;\n",
       "    }\n",
       "\n",
       "    .dataframe tbody tr th {\n",
       "        vertical-align: top;\n",
       "    }\n",
       "\n",
       "    .dataframe thead th {\n",
       "        text-align: right;\n",
       "    }\n",
       "</style>\n",
       "<table border=\"1\" class=\"dataframe\">\n",
       "  <thead>\n",
       "    <tr style=\"text-align: right;\">\n",
       "      <th></th>\n",
       "      <th>CustomerID</th>\n",
       "      <th>Genre</th>\n",
       "      <th>Age</th>\n",
       "      <th>Annual Income (k$)</th>\n",
       "      <th>Spending Score (1-100)</th>\n",
       "      <th>Genre_Female</th>\n",
       "      <th>Genre_Male</th>\n",
       "    </tr>\n",
       "  </thead>\n",
       "  <tbody>\n",
       "    <tr>\n",
       "      <th>0</th>\n",
       "      <td>1</td>\n",
       "      <td>Male</td>\n",
       "      <td>19</td>\n",
       "      <td>15</td>\n",
       "      <td>39</td>\n",
       "      <td>0.0</td>\n",
       "      <td>1.0</td>\n",
       "    </tr>\n",
       "    <tr>\n",
       "      <th>1</th>\n",
       "      <td>2</td>\n",
       "      <td>Male</td>\n",
       "      <td>21</td>\n",
       "      <td>15</td>\n",
       "      <td>81</td>\n",
       "      <td>0.0</td>\n",
       "      <td>1.0</td>\n",
       "    </tr>\n",
       "    <tr>\n",
       "      <th>2</th>\n",
       "      <td>3</td>\n",
       "      <td>Female</td>\n",
       "      <td>20</td>\n",
       "      <td>16</td>\n",
       "      <td>6</td>\n",
       "      <td>1.0</td>\n",
       "      <td>0.0</td>\n",
       "    </tr>\n",
       "    <tr>\n",
       "      <th>3</th>\n",
       "      <td>4</td>\n",
       "      <td>Female</td>\n",
       "      <td>23</td>\n",
       "      <td>16</td>\n",
       "      <td>77</td>\n",
       "      <td>1.0</td>\n",
       "      <td>0.0</td>\n",
       "    </tr>\n",
       "    <tr>\n",
       "      <th>4</th>\n",
       "      <td>5</td>\n",
       "      <td>Female</td>\n",
       "      <td>31</td>\n",
       "      <td>17</td>\n",
       "      <td>40</td>\n",
       "      <td>1.0</td>\n",
       "      <td>0.0</td>\n",
       "    </tr>\n",
       "    <tr>\n",
       "      <th>...</th>\n",
       "      <td>...</td>\n",
       "      <td>...</td>\n",
       "      <td>...</td>\n",
       "      <td>...</td>\n",
       "      <td>...</td>\n",
       "      <td>...</td>\n",
       "      <td>...</td>\n",
       "    </tr>\n",
       "    <tr>\n",
       "      <th>195</th>\n",
       "      <td>196</td>\n",
       "      <td>Female</td>\n",
       "      <td>35</td>\n",
       "      <td>120</td>\n",
       "      <td>79</td>\n",
       "      <td>1.0</td>\n",
       "      <td>0.0</td>\n",
       "    </tr>\n",
       "    <tr>\n",
       "      <th>196</th>\n",
       "      <td>197</td>\n",
       "      <td>Female</td>\n",
       "      <td>45</td>\n",
       "      <td>126</td>\n",
       "      <td>28</td>\n",
       "      <td>1.0</td>\n",
       "      <td>0.0</td>\n",
       "    </tr>\n",
       "    <tr>\n",
       "      <th>197</th>\n",
       "      <td>198</td>\n",
       "      <td>Male</td>\n",
       "      <td>32</td>\n",
       "      <td>126</td>\n",
       "      <td>74</td>\n",
       "      <td>0.0</td>\n",
       "      <td>1.0</td>\n",
       "    </tr>\n",
       "    <tr>\n",
       "      <th>198</th>\n",
       "      <td>199</td>\n",
       "      <td>Male</td>\n",
       "      <td>32</td>\n",
       "      <td>137</td>\n",
       "      <td>18</td>\n",
       "      <td>0.0</td>\n",
       "      <td>1.0</td>\n",
       "    </tr>\n",
       "    <tr>\n",
       "      <th>199</th>\n",
       "      <td>200</td>\n",
       "      <td>Male</td>\n",
       "      <td>30</td>\n",
       "      <td>137</td>\n",
       "      <td>83</td>\n",
       "      <td>0.0</td>\n",
       "      <td>1.0</td>\n",
       "    </tr>\n",
       "  </tbody>\n",
       "</table>\n",
       "<p>200 rows × 7 columns</p>\n",
       "</div>"
      ],
      "text/plain": [
       "     CustomerID   Genre  Age  Annual Income (k$)  Spending Score (1-100)  \\\n",
       "0             1    Male   19                  15                      39   \n",
       "1             2    Male   21                  15                      81   \n",
       "2             3  Female   20                  16                       6   \n",
       "3             4  Female   23                  16                      77   \n",
       "4             5  Female   31                  17                      40   \n",
       "..          ...     ...  ...                 ...                     ...   \n",
       "195         196  Female   35                 120                      79   \n",
       "196         197  Female   45                 126                      28   \n",
       "197         198    Male   32                 126                      74   \n",
       "198         199    Male   32                 137                      18   \n",
       "199         200    Male   30                 137                      83   \n",
       "\n",
       "     Genre_Female  Genre_Male  \n",
       "0             0.0         1.0  \n",
       "1             0.0         1.0  \n",
       "2             1.0         0.0  \n",
       "3             1.0         0.0  \n",
       "4             1.0         0.0  \n",
       "..            ...         ...  \n",
       "195           1.0         0.0  \n",
       "196           1.0         0.0  \n",
       "197           0.0         1.0  \n",
       "198           0.0         1.0  \n",
       "199           0.0         1.0  \n",
       "\n",
       "[200 rows x 7 columns]"
      ]
     },
     "execution_count": 31,
     "metadata": {},
     "output_type": "execute_result"
    }
   ],
   "source": [
    "OHE = OneHotEncoder(sparse_output=False)\n",
    "\n",
    "encoded = OHE.fit_transform(df[['Genre']])\n",
    "# print(encoded)\n",
    "\n",
    "encoded_df = pd.DataFrame(\n",
    "    encoded, columns=OHE.get_feature_names_out(['Genre']))\n",
    "df2 = pd.concat([df, encoded_df], axis=1)\n",
    "\n",
    "df2"
   ]
  },
  {
   "cell_type": "markdown",
   "id": "3745295e",
   "metadata": {},
   "source": [
    "## _Define the Features_\n"
   ]
  },
  {
   "cell_type": "code",
   "execution_count": 36,
   "id": "4ab3d70c",
   "metadata": {},
   "outputs": [
    {
     "data": {
      "text/plain": [
       "array([[ 19.,  15.,  39.,   0.,   1.],\n",
       "       [ 21.,  15.,  81.,   0.,   1.],\n",
       "       [ 20.,  16.,   6.,   1.,   0.],\n",
       "       [ 23.,  16.,  77.,   1.,   0.],\n",
       "       [ 31.,  17.,  40.,   1.,   0.],\n",
       "       [ 22.,  17.,  76.,   1.,   0.],\n",
       "       [ 35.,  18.,   6.,   1.,   0.],\n",
       "       [ 23.,  18.,  94.,   1.,   0.],\n",
       "       [ 64.,  19.,   3.,   0.,   1.],\n",
       "       [ 30.,  19.,  72.,   1.,   0.],\n",
       "       [ 67.,  19.,  14.,   0.,   1.],\n",
       "       [ 35.,  19.,  99.,   1.,   0.],\n",
       "       [ 58.,  20.,  15.,   1.,   0.],\n",
       "       [ 24.,  20.,  77.,   1.,   0.],\n",
       "       [ 37.,  20.,  13.,   0.,   1.],\n",
       "       [ 22.,  20.,  79.,   0.,   1.],\n",
       "       [ 35.,  21.,  35.,   1.,   0.],\n",
       "       [ 20.,  21.,  66.,   0.,   1.],\n",
       "       [ 52.,  23.,  29.,   0.,   1.],\n",
       "       [ 35.,  23.,  98.,   1.,   0.],\n",
       "       [ 35.,  24.,  35.,   0.,   1.],\n",
       "       [ 25.,  24.,  73.,   0.,   1.],\n",
       "       [ 46.,  25.,   5.,   1.,   0.],\n",
       "       [ 31.,  25.,  73.,   0.,   1.],\n",
       "       [ 54.,  28.,  14.,   1.,   0.],\n",
       "       [ 29.,  28.,  82.,   0.,   1.],\n",
       "       [ 45.,  28.,  32.,   1.,   0.],\n",
       "       [ 35.,  28.,  61.,   0.,   1.],\n",
       "       [ 40.,  29.,  31.,   1.,   0.],\n",
       "       [ 23.,  29.,  87.,   1.,   0.],\n",
       "       [ 60.,  30.,   4.,   0.,   1.],\n",
       "       [ 21.,  30.,  73.,   1.,   0.],\n",
       "       [ 53.,  33.,   4.,   0.,   1.],\n",
       "       [ 18.,  33.,  92.,   0.,   1.],\n",
       "       [ 49.,  33.,  14.,   1.,   0.],\n",
       "       [ 21.,  33.,  81.,   1.,   0.],\n",
       "       [ 42.,  34.,  17.,   1.,   0.],\n",
       "       [ 30.,  34.,  73.,   1.,   0.],\n",
       "       [ 36.,  37.,  26.,   1.,   0.],\n",
       "       [ 20.,  37.,  75.,   1.,   0.],\n",
       "       [ 65.,  38.,  35.,   1.,   0.],\n",
       "       [ 24.,  38.,  92.,   0.,   1.],\n",
       "       [ 48.,  39.,  36.,   0.,   1.],\n",
       "       [ 31.,  39.,  61.,   1.,   0.],\n",
       "       [ 49.,  39.,  28.,   1.,   0.],\n",
       "       [ 24.,  39.,  65.,   1.,   0.],\n",
       "       [ 50.,  40.,  55.,   1.,   0.],\n",
       "       [ 27.,  40.,  47.,   1.,   0.],\n",
       "       [ 29.,  40.,  42.,   1.,   0.],\n",
       "       [ 31.,  40.,  42.,   1.,   0.],\n",
       "       [ 49.,  42.,  52.,   1.,   0.],\n",
       "       [ 33.,  42.,  60.,   0.,   1.],\n",
       "       [ 31.,  43.,  54.,   1.,   0.],\n",
       "       [ 59.,  43.,  60.,   0.,   1.],\n",
       "       [ 50.,  43.,  45.,   1.,   0.],\n",
       "       [ 47.,  43.,  41.,   0.,   1.],\n",
       "       [ 51.,  44.,  50.,   1.,   0.],\n",
       "       [ 69.,  44.,  46.,   0.,   1.],\n",
       "       [ 27.,  46.,  51.,   1.,   0.],\n",
       "       [ 53.,  46.,  46.,   0.,   1.],\n",
       "       [ 70.,  46.,  56.,   0.,   1.],\n",
       "       [ 19.,  46.,  55.,   0.,   1.],\n",
       "       [ 67.,  47.,  52.,   1.,   0.],\n",
       "       [ 54.,  47.,  59.,   1.,   0.],\n",
       "       [ 63.,  48.,  51.,   0.,   1.],\n",
       "       [ 18.,  48.,  59.,   0.,   1.],\n",
       "       [ 43.,  48.,  50.,   1.,   0.],\n",
       "       [ 68.,  48.,  48.,   1.,   0.],\n",
       "       [ 19.,  48.,  59.,   0.,   1.],\n",
       "       [ 32.,  48.,  47.,   1.,   0.],\n",
       "       [ 70.,  49.,  55.,   0.,   1.],\n",
       "       [ 47.,  49.,  42.,   1.,   0.],\n",
       "       [ 60.,  50.,  49.,   1.,   0.],\n",
       "       [ 60.,  50.,  56.,   1.,   0.],\n",
       "       [ 59.,  54.,  47.,   0.,   1.],\n",
       "       [ 26.,  54.,  54.,   0.,   1.],\n",
       "       [ 45.,  54.,  53.,   1.,   0.],\n",
       "       [ 40.,  54.,  48.,   0.,   1.],\n",
       "       [ 23.,  54.,  52.,   1.,   0.],\n",
       "       [ 49.,  54.,  42.,   1.,   0.],\n",
       "       [ 57.,  54.,  51.,   0.,   1.],\n",
       "       [ 38.,  54.,  55.,   0.,   1.],\n",
       "       [ 67.,  54.,  41.,   0.,   1.],\n",
       "       [ 46.,  54.,  44.,   1.,   0.],\n",
       "       [ 21.,  54.,  57.,   1.,   0.],\n",
       "       [ 48.,  54.,  46.,   0.,   1.],\n",
       "       [ 55.,  57.,  58.,   1.,   0.],\n",
       "       [ 22.,  57.,  55.,   1.,   0.],\n",
       "       [ 34.,  58.,  60.,   1.,   0.],\n",
       "       [ 50.,  58.,  46.,   1.,   0.],\n",
       "       [ 68.,  59.,  55.,   1.,   0.],\n",
       "       [ 18.,  59.,  41.,   0.,   1.],\n",
       "       [ 48.,  60.,  49.,   0.,   1.],\n",
       "       [ 40.,  60.,  40.,   1.,   0.],\n",
       "       [ 32.,  60.,  42.,   1.,   0.],\n",
       "       [ 24.,  60.,  52.,   0.,   1.],\n",
       "       [ 47.,  60.,  47.,   1.,   0.],\n",
       "       [ 27.,  60.,  50.,   1.,   0.],\n",
       "       [ 48.,  61.,  42.,   0.,   1.],\n",
       "       [ 20.,  61.,  49.,   0.,   1.],\n",
       "       [ 23.,  62.,  41.,   1.,   0.],\n",
       "       [ 49.,  62.,  48.,   1.,   0.],\n",
       "       [ 67.,  62.,  59.,   0.,   1.],\n",
       "       [ 26.,  62.,  55.,   0.,   1.],\n",
       "       [ 49.,  62.,  56.,   0.,   1.],\n",
       "       [ 21.,  62.,  42.,   1.,   0.],\n",
       "       [ 66.,  63.,  50.,   1.,   0.],\n",
       "       [ 54.,  63.,  46.,   0.,   1.],\n",
       "       [ 68.,  63.,  43.,   0.,   1.],\n",
       "       [ 66.,  63.,  48.,   0.,   1.],\n",
       "       [ 65.,  63.,  52.,   0.,   1.],\n",
       "       [ 19.,  63.,  54.,   1.,   0.],\n",
       "       [ 38.,  64.,  42.,   1.,   0.],\n",
       "       [ 19.,  64.,  46.,   0.,   1.],\n",
       "       [ 18.,  65.,  48.,   1.,   0.],\n",
       "       [ 19.,  65.,  50.,   1.,   0.],\n",
       "       [ 63.,  65.,  43.,   1.,   0.],\n",
       "       [ 49.,  65.,  59.,   1.,   0.],\n",
       "       [ 51.,  67.,  43.,   1.,   0.],\n",
       "       [ 50.,  67.,  57.,   1.,   0.],\n",
       "       [ 27.,  67.,  56.,   0.,   1.],\n",
       "       [ 38.,  67.,  40.,   1.,   0.],\n",
       "       [ 40.,  69.,  58.,   1.,   0.],\n",
       "       [ 39.,  69.,  91.,   0.,   1.],\n",
       "       [ 23.,  70.,  29.,   1.,   0.],\n",
       "       [ 31.,  70.,  77.,   1.,   0.],\n",
       "       [ 43.,  71.,  35.,   0.,   1.],\n",
       "       [ 40.,  71.,  95.,   0.,   1.],\n",
       "       [ 59.,  71.,  11.,   0.,   1.],\n",
       "       [ 38.,  71.,  75.,   0.,   1.],\n",
       "       [ 47.,  71.,   9.,   0.,   1.],\n",
       "       [ 39.,  71.,  75.,   0.,   1.],\n",
       "       [ 25.,  72.,  34.,   1.,   0.],\n",
       "       [ 31.,  72.,  71.,   1.,   0.],\n",
       "       [ 20.,  73.,   5.,   0.,   1.],\n",
       "       [ 29.,  73.,  88.,   1.,   0.],\n",
       "       [ 44.,  73.,   7.,   1.,   0.],\n",
       "       [ 32.,  73.,  73.,   0.,   1.],\n",
       "       [ 19.,  74.,  10.,   0.,   1.],\n",
       "       [ 35.,  74.,  72.,   1.,   0.],\n",
       "       [ 57.,  75.,   5.,   1.,   0.],\n",
       "       [ 32.,  75.,  93.,   0.,   1.],\n",
       "       [ 28.,  76.,  40.,   1.,   0.],\n",
       "       [ 32.,  76.,  87.,   1.,   0.],\n",
       "       [ 25.,  77.,  12.,   0.,   1.],\n",
       "       [ 28.,  77.,  97.,   0.,   1.],\n",
       "       [ 48.,  77.,  36.,   0.,   1.],\n",
       "       [ 32.,  77.,  74.,   1.,   0.],\n",
       "       [ 34.,  78.,  22.,   1.,   0.],\n",
       "       [ 34.,  78.,  90.,   0.,   1.],\n",
       "       [ 43.,  78.,  17.,   0.,   1.],\n",
       "       [ 39.,  78.,  88.,   0.,   1.],\n",
       "       [ 44.,  78.,  20.,   1.,   0.],\n",
       "       [ 38.,  78.,  76.,   1.,   0.],\n",
       "       [ 47.,  78.,  16.,   1.,   0.],\n",
       "       [ 27.,  78.,  89.,   1.,   0.],\n",
       "       [ 37.,  78.,   1.,   0.,   1.],\n",
       "       [ 30.,  78.,  78.,   1.,   0.],\n",
       "       [ 34.,  78.,   1.,   0.,   1.],\n",
       "       [ 30.,  78.,  73.,   1.,   0.],\n",
       "       [ 56.,  79.,  35.,   1.,   0.],\n",
       "       [ 29.,  79.,  83.,   1.,   0.],\n",
       "       [ 19.,  81.,   5.,   0.,   1.],\n",
       "       [ 31.,  81.,  93.,   1.,   0.],\n",
       "       [ 50.,  85.,  26.,   0.,   1.],\n",
       "       [ 36.,  85.,  75.,   1.,   0.],\n",
       "       [ 42.,  86.,  20.,   0.,   1.],\n",
       "       [ 33.,  86.,  95.,   1.,   0.],\n",
       "       [ 36.,  87.,  27.,   1.,   0.],\n",
       "       [ 32.,  87.,  63.,   0.,   1.],\n",
       "       [ 40.,  87.,  13.,   0.,   1.],\n",
       "       [ 28.,  87.,  75.,   0.,   1.],\n",
       "       [ 36.,  87.,  10.,   0.,   1.],\n",
       "       [ 36.,  87.,  92.,   0.,   1.],\n",
       "       [ 52.,  88.,  13.,   1.,   0.],\n",
       "       [ 30.,  88.,  86.,   1.,   0.],\n",
       "       [ 58.,  88.,  15.,   0.,   1.],\n",
       "       [ 27.,  88.,  69.,   0.,   1.],\n",
       "       [ 59.,  93.,  14.,   0.,   1.],\n",
       "       [ 35.,  93.,  90.,   0.,   1.],\n",
       "       [ 37.,  97.,  32.,   1.,   0.],\n",
       "       [ 32.,  97.,  86.,   1.,   0.],\n",
       "       [ 46.,  98.,  15.,   0.,   1.],\n",
       "       [ 29.,  98.,  88.,   1.,   0.],\n",
       "       [ 41.,  99.,  39.,   1.,   0.],\n",
       "       [ 30.,  99.,  97.,   0.,   1.],\n",
       "       [ 54., 101.,  24.,   1.,   0.],\n",
       "       [ 28., 101.,  68.,   0.,   1.],\n",
       "       [ 41., 103.,  17.,   1.,   0.],\n",
       "       [ 36., 103.,  85.,   1.,   0.],\n",
       "       [ 34., 103.,  23.,   1.,   0.],\n",
       "       [ 32., 103.,  69.,   1.,   0.],\n",
       "       [ 33., 113.,   8.,   0.,   1.],\n",
       "       [ 38., 113.,  91.,   1.,   0.],\n",
       "       [ 47., 120.,  16.,   1.,   0.],\n",
       "       [ 35., 120.,  79.,   1.,   0.],\n",
       "       [ 45., 126.,  28.,   1.,   0.],\n",
       "       [ 32., 126.,  74.,   0.,   1.],\n",
       "       [ 32., 137.,  18.,   0.,   1.],\n",
       "       [ 30., 137.,  83.,   0.,   1.]])"
      ]
     },
     "execution_count": 36,
     "metadata": {},
     "output_type": "execute_result"
    }
   ],
   "source": [
    "# X = df2.iloc[:, 2:]\n",
    "X = df2.drop(['Genre', 'CustomerID'], axis=1).values\n",
    "X"
   ]
  },
  {
   "cell_type": "markdown",
   "id": "360f6b3d",
   "metadata": {},
   "source": [
    "_We deal with Unlabeled Data (Inputs without Outputs)_\n"
   ]
  },
  {
   "cell_type": "markdown",
   "id": "2dd98710",
   "metadata": {},
   "source": [
    "## Selecting the Value of K\n"
   ]
  },
  {
   "cell_type": "code",
   "execution_count": 37,
   "id": "99d90638",
   "metadata": {},
   "outputs": [
    {
     "data": {
      "text/plain": [
       "[308911.34,\n",
       " 212938.7150895141,\n",
       " 143440.43314900764,\n",
       " 104463.19922884135,\n",
       " 75448.45165554191,\n",
       " 58398.90268065269,\n",
       " 54915.22389371382,\n",
       " 48923.02802338673,\n",
       " 45747.26772394273,\n",
       " 38531.58480824523]"
      ]
     },
     "execution_count": 37,
     "metadata": {},
     "output_type": "execute_result"
    }
   ],
   "source": [
    "wcss = []\n",
    "\n",
    "for i in range(1, 11):\n",
    "    kmeans = KMeans(n_clusters=i, init='k-means++', random_state=7)\n",
    "    kmeans.fit(X)\n",
    "    wcss.append(kmeans.inertia_)\n",
    "\n",
    "wcss"
   ]
  },
  {
   "cell_type": "markdown",
   "id": "b9ff0098",
   "metadata": {},
   "source": [
    "_Plot the Elbow Graph_\n"
   ]
  },
  {
   "cell_type": "code",
   "execution_count": 38,
   "id": "f9ffd8d5",
   "metadata": {},
   "outputs": [
    {
     "data": {
      "image/png": "[encoded data removed]",
      "text/plain": [
       "<Figure size 640x480 with 1 Axes>"
      ]
     },
     "metadata": {},
     "output_type": "display_data"
    }
   ],
   "source": [
    "sns.set_style()\n",
    "plt.plot(range(1, 11), wcss)\n",
    "plt.title('Elbow Graph')\n",
    "plt.xlabel('Number of Clusters')\n",
    "plt.ylabel('WCSS')\n",
    "plt.show()"
   ]
  },
  {
   "cell_type": "markdown",
   "id": "03a60542",
   "metadata": {},
   "source": [
    "_The Optimal Value of K = 5_\n"
   ]
  },
  {
   "cell_type": "code",
   "execution_count": 40,
   "id": "d05d084c",
   "metadata": {},
   "outputs": [
    {
     "data": {
      "text/plain": [
       "array([3, 0, 3, 0, 3, 0, 3, 0, 3, 0, 3, 0, 3, 0, 3, 0, 3, 0, 3, 0, 3, 0,\n",
       "       3, 0, 3, 0, 3, 0, 3, 0, 3, 0, 3, 0, 3, 0, 3, 0, 3, 0, 3, 0, 3, 0,\n",
       "       3, 0, 2, 2, 2, 2, 2, 2, 2, 2, 2, 2, 2, 2, 2, 2, 2, 2, 2, 2, 2, 2,\n",
       "       2, 2, 2, 2, 2, 2, 2, 2, 2, 2, 2, 2, 2, 2, 2, 2, 2, 2, 2, 2, 2, 2,\n",
       "       2, 2, 2, 2, 2, 2, 2, 2, 2, 2, 2, 2, 2, 2, 2, 2, 2, 2, 2, 2, 2, 2,\n",
       "       2, 2, 2, 2, 2, 2, 2, 2, 2, 2, 2, 2, 2, 4, 1, 4, 2, 4, 1, 4, 1, 4,\n",
       "       1, 4, 1, 4, 1, 4, 1, 4, 1, 4, 2, 4, 1, 4, 1, 4, 1, 4, 1, 4, 1, 4,\n",
       "       1, 4, 1, 4, 1, 4, 1, 4, 1, 4, 1, 4, 1, 4, 1, 4, 1, 4, 1, 4, 1, 4,\n",
       "       1, 4, 1, 4, 1, 4, 1, 4, 1, 4, 1, 4, 1, 4, 1, 4, 1, 4, 1, 4, 1, 4,\n",
       "       1, 4])"
      ]
     },
     "execution_count": 40,
     "metadata": {},
     "output_type": "execute_result"
    }
   ],
   "source": [
    "kmeans = KMeans(n_clusters=5, init='k-means++', random_state=7)\n",
    "\n",
    "Y = kmeans.fit_predict(X)\n",
    "Y"
   ]
  },
  {
   "cell_type": "markdown",
   "id": "07a8a5a4",
   "metadata": {},
   "source": [
    "_Visualize All Clusters_\n"
   ]
  },
  {
   "cell_type": "code",
   "execution_count": null,
   "id": "52800405",
   "metadata": {},
   "outputs": [
    {
     "data": {
      "text/plain": [
       "Text(0, 0.5, 'Spending Score')"
      ]
     },
     "execution_count": 43,
     "metadata": {},
     "output_type": "execute_result"
    },
    {
     "data": {
      "image/png": "[encoded data removed]",
      "text/plain": [
       "<Figure size 800x500 with 1 Axes>"
      ]
     },
     "metadata": {},
     "output_type": "display_data"
    }
   ],
   "source": [
    "# plotting all the clusters and their Centroid\n",
    "\n",
    "plt.figure(figsize=(8, 5))\n",
    "plt.scatter(X[Y == 0, 0], X[Y == 0, 1], s=50, c='green', label='Cluster 1')\n",
    "plt.scatter(X[Y == 1, 0], X[Y == 1, 1], s=50, c='red', label='Cluster 2')\n",
    "plt.scatter(X[Y == 2, 0], X[Y == 2, 1], s=50, c='yellow', label='Cluster 3')\n",
    "plt.scatter(X[Y == 3, 0], X[Y == 3, 1], s=50, c='violet', label='Cluster 4')\n",
    "plt.scatter(X[Y == 4, 0], X[Y == 4, 1], s=50, c='blue', label='Cluster 5')\n",
    "\n",
    "# Plot the centroids\n",
    "plt.scatter(kmeans.cluster_centers_[:, 0], kmeans.cluster_centers_[\n",
    "            :, 1], s=100, c='cyan', label='Centroids')\n",
    "\n",
    "plt.title(\"Customer Groups\")\n",
    "plt.xlabel(\"Annual Income\")\n",
    "plt.ylabel(\"Spending Score\")"
   ]
  }
 ],
 "metadata": {
  "kernelspec": {
   "display_name": "myenv",
   "language": "python",
   "name": "python3"
  },
  "language_info": {
   "codemirror_mode": {
    "name": "ipython",
    "version": 3
   },
   "file_extension": ".py",
   "mimetype": "text/x-python",
   "name": "python",
   "nbconvert_exporter": "python",
   "pygments_lexer": "ipython3",
   "version": "3.9.21"
  }
 },
 "nbformat": 4,
 "nbformat_minor": 5
}
