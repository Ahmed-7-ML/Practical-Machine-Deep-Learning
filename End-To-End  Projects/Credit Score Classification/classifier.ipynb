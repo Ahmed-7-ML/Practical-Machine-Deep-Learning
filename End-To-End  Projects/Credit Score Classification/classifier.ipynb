{
 "cells": [
  {
   "cell_type": "markdown",
   "id": "4d063374",
   "metadata": {},
   "source": [
    "## *`Credit Score Classification`*\n",
    "- There are three credit scores that banks and credit card companies use to label their customers:\n",
    "    - Good\n",
    "    - Standard\n",
    "    - Poor"
   ]
  },
  {
   "cell_type": "markdown",
   "id": "f89a4141",
   "metadata": {},
   "source": [
    "### *`Import Libraries`*"
   ]
  },
  {
   "cell_type": "code",
   "execution_count": 15,
   "id": "7b8b9973",
   "metadata": {},
   "outputs": [
    {
     "data": {
      "text/plain": [
       "'vscode'"
      ]
     },
     "execution_count": 15,
     "metadata": {},
     "output_type": "execute_result"
    }
   ],
   "source": [
    "import pandas as pd\n",
    "import numpy as np\n",
    "import plotly.express as px\n",
    "import plotly.graph_objects as go\n",
    "import plotly.io as pio\n",
    "\n",
    "pio.templates.default = 'plotly_white'\n",
    "pio.renderers.default"
   ]
  },
  {
   "cell_type": "code",
   "execution_count": 7,
   "id": "aa71de57",
   "metadata": {},
   "outputs": [
    {
     "data": {
      "application/vnd.microsoft.datawrangler.viewer.v0+json": {
       "columns": [
        {
         "name": "index",
         "rawType": "int64",
         "type": "integer"
        },
        {
         "name": "ID",
         "rawType": "int64",
         "type": "integer"
        },
        {
         "name": "Customer_ID",
         "rawType": "int64",
         "type": "integer"
        },
        {
         "name": "Month",
         "rawType": "int64",
         "type": "integer"
        },
        {
         "name": "Name",
         "rawType": "object",
         "type": "string"
        },
        {
         "name": "Age",
         "rawType": "float64",
         "type": "float"
        },
        {
         "name": "SSN",
         "rawType": "float64",
         "type": "float"
        },
        {
         "name": "Occupation",
         "rawType": "object",
         "type": "string"
        },
        {
         "name": "Annual_Income",
         "rawType": "float64",
         "type": "float"
        },
        {
         "name": "Monthly_Inhand_Salary",
         "rawType": "float64",
         "type": "float"
        },
        {
         "name": "Num_Bank_Accounts",
         "rawType": "float64",
         "type": "float"
        },
        {
         "name": "Num_Credit_Card",
         "rawType": "float64",
         "type": "float"
        },
        {
         "name": "Interest_Rate",
         "rawType": "float64",
         "type": "float"
        },
        {
         "name": "Num_of_Loan",
         "rawType": "float64",
         "type": "float"
        },
        {
         "name": "Type_of_Loan",
         "rawType": "object",
         "type": "string"
        },
        {
         "name": "Delay_from_due_date",
         "rawType": "float64",
         "type": "float"
        },
        {
         "name": "Num_of_Delayed_Payment",
         "rawType": "float64",
         "type": "float"
        },
        {
         "name": "Changed_Credit_Limit",
         "rawType": "float64",
         "type": "float"
        },
        {
         "name": "Num_Credit_Inquiries",
         "rawType": "float64",
         "type": "float"
        },
        {
         "name": "Credit_Mix",
         "rawType": "object",
         "type": "string"
        },
        {
         "name": "Outstanding_Debt",
         "rawType": "float64",
         "type": "float"
        },
        {
         "name": "Credit_Utilization_Ratio",
         "rawType": "float64",
         "type": "float"
        },
        {
         "name": "Credit_History_Age",
         "rawType": "float64",
         "type": "float"
        },
        {
         "name": "Payment_of_Min_Amount",
         "rawType": "object",
         "type": "string"
        },
        {
         "name": "Total_EMI_per_month",
         "rawType": "float64",
         "type": "float"
        },
        {
         "name": "Amount_invested_monthly",
         "rawType": "float64",
         "type": "float"
        },
        {
         "name": "Payment_Behaviour",
         "rawType": "object",
         "type": "string"
        },
        {
         "name": "Monthly_Balance",
         "rawType": "float64",
         "type": "float"
        },
        {
         "name": "Credit_Score",
         "rawType": "object",
         "type": "string"
        }
       ],
       "ref": "4ca9b8c7-7e0c-48c2-aaf2-766fc1b26ac7",
       "rows": [
        [
         "0",
         "5634",
         "3392",
         "1",
         "Aaron Maashoh",
         "23.0",
         "821000265.0",
         "Scientist",
         "19114.12",
         "1824.8433333333328",
         "3.0",
         "4.0",
         "3.0",
         "4.0",
         "Auto Loan, Credit-Builder Loan, Personal Loan, and Home Equity Loan",
         "3.0",
         "7.0",
         "11.27",
         "4.0",
         "Good",
         "809.98",
         "26.822619623699016",
         "265.0",
         "No",
         "49.57494921489417",
         "21.465380264657146",
         "High_spent_Small_value_payments",
         "312.49408867943663",
         "Good"
        ],
        [
         "1",
         "5635",
         "3392",
         "2",
         "Aaron Maashoh",
         "23.0",
         "821000265.0",
         "Scientist",
         "19114.12",
         "1824.8433333333328",
         "3.0",
         "4.0",
         "3.0",
         "4.0",
         "Auto Loan, Credit-Builder Loan, Personal Loan, and Home Equity Loan",
         "3.0",
         "4.0",
         "11.27",
         "4.0",
         "Good",
         "809.98",
         "31.94496005538421",
         "266.0",
         "No",
         "49.57494921489417",
         "21.465380264657146",
         "Low_spent_Large_value_payments",
         "284.62916249607184",
         "Good"
        ],
        [
         "2",
         "5636",
         "3392",
         "3",
         "Aaron Maashoh",
         "23.0",
         "821000265.0",
         "Scientist",
         "19114.12",
         "1824.8433333333328",
         "3.0",
         "4.0",
         "3.0",
         "4.0",
         "Auto Loan, Credit-Builder Loan, Personal Loan, and Home Equity Loan",
         "3.0",
         "7.0",
         "11.27",
         "4.0",
         "Good",
         "809.98",
         "28.60935202206993",
         "267.0",
         "No",
         "49.57494921489417",
         "21.465380264657146",
         "Low_spent_Medium_value_payments",
         "331.2098628537912",
         "Good"
        ],
        [
         "3",
         "5637",
         "3392",
         "4",
         "Aaron Maashoh",
         "23.0",
         "821000265.0",
         "Scientist",
         "19114.12",
         "1824.8433333333328",
         "3.0",
         "4.0",
         "3.0",
         "4.0",
         "Auto Loan, Credit-Builder Loan, Personal Loan, and Home Equity Loan",
         "5.0",
         "4.0",
         "6.27",
         "4.0",
         "Good",
         "809.98",
         "31.37786186958236",
         "268.0",
         "No",
         "49.57494921489417",
         "21.465380264657146",
         "Low_spent_Small_value_payments",
         "223.45130972736783",
         "Good"
        ],
        [
         "4",
         "5638",
         "3392",
         "5",
         "Aaron Maashoh",
         "23.0",
         "821000265.0",
         "Scientist",
         "19114.12",
         "1824.8433333333328",
         "3.0",
         "4.0",
         "3.0",
         "4.0",
         "Auto Loan, Credit-Builder Loan, Personal Loan, and Home Equity Loan",
         "6.0",
         "4.0",
         "11.27",
         "4.0",
         "Good",
         "809.98",
         "24.797346908844982",
         "269.0",
         "No",
         "49.57494921489417",
         "21.465380264657146",
         "High_spent_Medium_value_payments",
         "341.48923103222177",
         "Good"
        ]
       ],
       "shape": {
        "columns": 28,
        "rows": 5
       }
      },
      "text/html": [
       "<div>\n",
       "<style scoped>\n",
       "    .dataframe tbody tr th:only-of-type {\n",
       "        vertical-align: middle;\n",
       "    }\n",
       "\n",
       "    .dataframe tbody tr th {\n",
       "        vertical-align: top;\n",
       "    }\n",
       "\n",
       "    .dataframe thead th {\n",
       "        text-align: right;\n",
       "    }\n",
       "</style>\n",
       "<table border=\"1\" class=\"dataframe\">\n",
       "  <thead>\n",
       "    <tr style=\"text-align: right;\">\n",
       "      <th></th>\n",
       "      <th>ID</th>\n",
       "      <th>Customer_ID</th>\n",
       "      <th>Month</th>\n",
       "      <th>Name</th>\n",
       "      <th>Age</th>\n",
       "      <th>SSN</th>\n",
       "      <th>Occupation</th>\n",
       "      <th>Annual_Income</th>\n",
       "      <th>Monthly_Inhand_Salary</th>\n",
       "      <th>Num_Bank_Accounts</th>\n",
       "      <th>...</th>\n",
       "      <th>Credit_Mix</th>\n",
       "      <th>Outstanding_Debt</th>\n",
       "      <th>Credit_Utilization_Ratio</th>\n",
       "      <th>Credit_History_Age</th>\n",
       "      <th>Payment_of_Min_Amount</th>\n",
       "      <th>Total_EMI_per_month</th>\n",
       "      <th>Amount_invested_monthly</th>\n",
       "      <th>Payment_Behaviour</th>\n",
       "      <th>Monthly_Balance</th>\n",
       "      <th>Credit_Score</th>\n",
       "    </tr>\n",
       "  </thead>\n",
       "  <tbody>\n",
       "    <tr>\n",
       "      <th>0</th>\n",
       "      <td>5634</td>\n",
       "      <td>3392</td>\n",
       "      <td>1</td>\n",
       "      <td>Aaron Maashoh</td>\n",
       "      <td>23.0</td>\n",
       "      <td>821000265.0</td>\n",
       "      <td>Scientist</td>\n",
       "      <td>19114.12</td>\n",
       "      <td>1824.843333</td>\n",
       "      <td>3.0</td>\n",
       "      <td>...</td>\n",
       "      <td>Good</td>\n",
       "      <td>809.98</td>\n",
       "      <td>26.822620</td>\n",
       "      <td>265.0</td>\n",
       "      <td>No</td>\n",
       "      <td>49.574949</td>\n",
       "      <td>21.46538</td>\n",
       "      <td>High_spent_Small_value_payments</td>\n",
       "      <td>312.494089</td>\n",
       "      <td>Good</td>\n",
       "    </tr>\n",
       "    <tr>\n",
       "      <th>1</th>\n",
       "      <td>5635</td>\n",
       "      <td>3392</td>\n",
       "      <td>2</td>\n",
       "      <td>Aaron Maashoh</td>\n",
       "      <td>23.0</td>\n",
       "      <td>821000265.0</td>\n",
       "      <td>Scientist</td>\n",
       "      <td>19114.12</td>\n",
       "      <td>1824.843333</td>\n",
       "      <td>3.0</td>\n",
       "      <td>...</td>\n",
       "      <td>Good</td>\n",
       "      <td>809.98</td>\n",
       "      <td>31.944960</td>\n",
       "      <td>266.0</td>\n",
       "      <td>No</td>\n",
       "      <td>49.574949</td>\n",
       "      <td>21.46538</td>\n",
       "      <td>Low_spent_Large_value_payments</td>\n",
       "      <td>284.629162</td>\n",
       "      <td>Good</td>\n",
       "    </tr>\n",
       "    <tr>\n",
       "      <th>2</th>\n",
       "      <td>5636</td>\n",
       "      <td>3392</td>\n",
       "      <td>3</td>\n",
       "      <td>Aaron Maashoh</td>\n",
       "      <td>23.0</td>\n",
       "      <td>821000265.0</td>\n",
       "      <td>Scientist</td>\n",
       "      <td>19114.12</td>\n",
       "      <td>1824.843333</td>\n",
       "      <td>3.0</td>\n",
       "      <td>...</td>\n",
       "      <td>Good</td>\n",
       "      <td>809.98</td>\n",
       "      <td>28.609352</td>\n",
       "      <td>267.0</td>\n",
       "      <td>No</td>\n",
       "      <td>49.574949</td>\n",
       "      <td>21.46538</td>\n",
       "      <td>Low_spent_Medium_value_payments</td>\n",
       "      <td>331.209863</td>\n",
       "      <td>Good</td>\n",
       "    </tr>\n",
       "    <tr>\n",
       "      <th>3</th>\n",
       "      <td>5637</td>\n",
       "      <td>3392</td>\n",
       "      <td>4</td>\n",
       "      <td>Aaron Maashoh</td>\n",
       "      <td>23.0</td>\n",
       "      <td>821000265.0</td>\n",
       "      <td>Scientist</td>\n",
       "      <td>19114.12</td>\n",
       "      <td>1824.843333</td>\n",
       "      <td>3.0</td>\n",
       "      <td>...</td>\n",
       "      <td>Good</td>\n",
       "      <td>809.98</td>\n",
       "      <td>31.377862</td>\n",
       "      <td>268.0</td>\n",
       "      <td>No</td>\n",
       "      <td>49.574949</td>\n",
       "      <td>21.46538</td>\n",
       "      <td>Low_spent_Small_value_payments</td>\n",
       "      <td>223.451310</td>\n",
       "      <td>Good</td>\n",
       "    </tr>\n",
       "    <tr>\n",
       "      <th>4</th>\n",
       "      <td>5638</td>\n",
       "      <td>3392</td>\n",
       "      <td>5</td>\n",
       "      <td>Aaron Maashoh</td>\n",
       "      <td>23.0</td>\n",
       "      <td>821000265.0</td>\n",
       "      <td>Scientist</td>\n",
       "      <td>19114.12</td>\n",
       "      <td>1824.843333</td>\n",
       "      <td>3.0</td>\n",
       "      <td>...</td>\n",
       "      <td>Good</td>\n",
       "      <td>809.98</td>\n",
       "      <td>24.797347</td>\n",
       "      <td>269.0</td>\n",
       "      <td>No</td>\n",
       "      <td>49.574949</td>\n",
       "      <td>21.46538</td>\n",
       "      <td>High_spent_Medium_value_payments</td>\n",
       "      <td>341.489231</td>\n",
       "      <td>Good</td>\n",
       "    </tr>\n",
       "  </tbody>\n",
       "</table>\n",
       "<p>5 rows × 28 columns</p>\n",
       "</div>"
      ],
      "text/plain": [
       "     ID  Customer_ID  Month           Name   Age          SSN Occupation  \\\n",
       "0  5634         3392      1  Aaron Maashoh  23.0  821000265.0  Scientist   \n",
       "1  5635         3392      2  Aaron Maashoh  23.0  821000265.0  Scientist   \n",
       "2  5636         3392      3  Aaron Maashoh  23.0  821000265.0  Scientist   \n",
       "3  5637         3392      4  Aaron Maashoh  23.0  821000265.0  Scientist   \n",
       "4  5638         3392      5  Aaron Maashoh  23.0  821000265.0  Scientist   \n",
       "\n",
       "   Annual_Income  Monthly_Inhand_Salary  Num_Bank_Accounts  ...  Credit_Mix  \\\n",
       "0       19114.12            1824.843333                3.0  ...        Good   \n",
       "1       19114.12            1824.843333                3.0  ...        Good   \n",
       "2       19114.12            1824.843333                3.0  ...        Good   \n",
       "3       19114.12            1824.843333                3.0  ...        Good   \n",
       "4       19114.12            1824.843333                3.0  ...        Good   \n",
       "\n",
       "   Outstanding_Debt  Credit_Utilization_Ratio Credit_History_Age  \\\n",
       "0            809.98                 26.822620              265.0   \n",
       "1            809.98                 31.944960              266.0   \n",
       "2            809.98                 28.609352              267.0   \n",
       "3            809.98                 31.377862              268.0   \n",
       "4            809.98                 24.797347              269.0   \n",
       "\n",
       "   Payment_of_Min_Amount  Total_EMI_per_month  Amount_invested_monthly  \\\n",
       "0                     No            49.574949                 21.46538   \n",
       "1                     No            49.574949                 21.46538   \n",
       "2                     No            49.574949                 21.46538   \n",
       "3                     No            49.574949                 21.46538   \n",
       "4                     No            49.574949                 21.46538   \n",
       "\n",
       "                  Payment_Behaviour Monthly_Balance  Credit_Score  \n",
       "0   High_spent_Small_value_payments      312.494089          Good  \n",
       "1    Low_spent_Large_value_payments      284.629162          Good  \n",
       "2   Low_spent_Medium_value_payments      331.209863          Good  \n",
       "3    Low_spent_Small_value_payments      223.451310          Good  \n",
       "4  High_spent_Medium_value_payments      341.489231          Good  \n",
       "\n",
       "[5 rows x 28 columns]"
      ]
     },
     "execution_count": 7,
     "metadata": {},
     "output_type": "execute_result"
    }
   ],
   "source": [
    "df = pd.read_csv('train.csv')\n",
    "\n",
    "df.head()"
   ]
  },
  {
   "cell_type": "code",
   "execution_count": 8,
   "id": "d3d3dc6d",
   "metadata": {},
   "outputs": [
    {
     "name": "stdout",
     "output_type": "stream",
     "text": [
      "<class 'pandas.core.frame.DataFrame'>\n",
      "RangeIndex: 100000 entries, 0 to 99999\n",
      "Data columns (total 28 columns):\n",
      " #   Column                    Non-Null Count   Dtype  \n",
      "---  ------                    --------------   -----  \n",
      " 0   ID                        100000 non-null  int64  \n",
      " 1   Customer_ID               100000 non-null  int64  \n",
      " 2   Month                     100000 non-null  int64  \n",
      " 3   Name                      100000 non-null  object \n",
      " 4   Age                       100000 non-null  float64\n",
      " 5   SSN                       100000 non-null  float64\n",
      " 6   Occupation                100000 non-null  object \n",
      " 7   Annual_Income             100000 non-null  float64\n",
      " 8   Monthly_Inhand_Salary     100000 non-null  float64\n",
      " 9   Num_Bank_Accounts         100000 non-null  float64\n",
      " 10  Num_Credit_Card           100000 non-null  float64\n",
      " 11  Interest_Rate             100000 non-null  float64\n",
      " 12  Num_of_Loan               100000 non-null  float64\n",
      " 13  Type_of_Loan              100000 non-null  object \n",
      " 14  Delay_from_due_date       100000 non-null  float64\n",
      " 15  Num_of_Delayed_Payment    100000 non-null  float64\n",
      " 16  Changed_Credit_Limit      100000 non-null  float64\n",
      " 17  Num_Credit_Inquiries      100000 non-null  float64\n",
      " 18  Credit_Mix                100000 non-null  object \n",
      " 19  Outstanding_Debt          100000 non-null  float64\n",
      " 20  Credit_Utilization_Ratio  100000 non-null  float64\n",
      " 21  Credit_History_Age        100000 non-null  float64\n",
      " 22  Payment_of_Min_Amount     100000 non-null  object \n",
      " 23  Total_EMI_per_month       100000 non-null  float64\n",
      " 24  Amount_invested_monthly   100000 non-null  float64\n",
      " 25  Payment_Behaviour         100000 non-null  object \n",
      " 26  Monthly_Balance           100000 non-null  float64\n",
      " 27  Credit_Score              100000 non-null  object \n",
      "dtypes: float64(18), int64(3), object(7)\n",
      "memory usage: 21.4+ MB\n"
     ]
    }
   ],
   "source": [
    "df.info()"
   ]
  },
  {
   "cell_type": "code",
   "execution_count": 9,
   "id": "f86678ab",
   "metadata": {},
   "outputs": [
    {
     "data": {
      "application/vnd.microsoft.datawrangler.viewer.v0+json": {
       "columns": [
        {
         "name": "index",
         "rawType": "object",
         "type": "string"
        },
        {
         "name": "0",
         "rawType": "int64",
         "type": "integer"
        }
       ],
       "ref": "d2bf3fb9-4b02-438a-bfde-978238e303bd",
       "rows": [
        [
         "ID",
         "0"
        ],
        [
         "Customer_ID",
         "0"
        ],
        [
         "Month",
         "0"
        ],
        [
         "Name",
         "0"
        ],
        [
         "Age",
         "0"
        ],
        [
         "SSN",
         "0"
        ],
        [
         "Occupation",
         "0"
        ],
        [
         "Annual_Income",
         "0"
        ],
        [
         "Monthly_Inhand_Salary",
         "0"
        ],
        [
         "Num_Bank_Accounts",
         "0"
        ],
        [
         "Num_Credit_Card",
         "0"
        ],
        [
         "Interest_Rate",
         "0"
        ],
        [
         "Num_of_Loan",
         "0"
        ],
        [
         "Type_of_Loan",
         "0"
        ],
        [
         "Delay_from_due_date",
         "0"
        ],
        [
         "Num_of_Delayed_Payment",
         "0"
        ],
        [
         "Changed_Credit_Limit",
         "0"
        ],
        [
         "Num_Credit_Inquiries",
         "0"
        ],
        [
         "Credit_Mix",
         "0"
        ],
        [
         "Outstanding_Debt",
         "0"
        ],
        [
         "Credit_Utilization_Ratio",
         "0"
        ],
        [
         "Credit_History_Age",
         "0"
        ],
        [
         "Payment_of_Min_Amount",
         "0"
        ],
        [
         "Total_EMI_per_month",
         "0"
        ],
        [
         "Amount_invested_monthly",
         "0"
        ],
        [
         "Payment_Behaviour",
         "0"
        ],
        [
         "Monthly_Balance",
         "0"
        ],
        [
         "Credit_Score",
         "0"
        ]
       ],
       "shape": {
        "columns": 1,
        "rows": 28
       }
      },
      "text/plain": [
       "ID                          0\n",
       "Customer_ID                 0\n",
       "Month                       0\n",
       "Name                        0\n",
       "Age                         0\n",
       "SSN                         0\n",
       "Occupation                  0\n",
       "Annual_Income               0\n",
       "Monthly_Inhand_Salary       0\n",
       "Num_Bank_Accounts           0\n",
       "Num_Credit_Card             0\n",
       "Interest_Rate               0\n",
       "Num_of_Loan                 0\n",
       "Type_of_Loan                0\n",
       "Delay_from_due_date         0\n",
       "Num_of_Delayed_Payment      0\n",
       "Changed_Credit_Limit        0\n",
       "Num_Credit_Inquiries        0\n",
       "Credit_Mix                  0\n",
       "Outstanding_Debt            0\n",
       "Credit_Utilization_Ratio    0\n",
       "Credit_History_Age          0\n",
       "Payment_of_Min_Amount       0\n",
       "Total_EMI_per_month         0\n",
       "Amount_invested_monthly     0\n",
       "Payment_Behaviour           0\n",
       "Monthly_Balance             0\n",
       "Credit_Score                0\n",
       "dtype: int64"
      ]
     },
     "execution_count": 9,
     "metadata": {},
     "output_type": "execute_result"
    }
   ],
   "source": [
    "df.isnull().sum()"
   ]
  },
  {
   "cell_type": "markdown",
   "id": "296791ee",
   "metadata": {},
   "source": [
    "*The dataset doesn’t have any null values. As this dataset is labelled, let’s have a look at the Credit_Score column values*"
   ]
  },
  {
   "cell_type": "code",
   "execution_count": 11,
   "id": "ef35f03b",
   "metadata": {},
   "outputs": [
    {
     "data": {
      "application/vnd.microsoft.datawrangler.viewer.v0+json": {
       "columns": [
        {
         "name": "Credit_Score",
         "rawType": "object",
         "type": "string"
        },
        {
         "name": "count",
         "rawType": "int64",
         "type": "integer"
        }
       ],
       "ref": "e9825e5c-3e55-45e4-a33d-d152c148a206",
       "rows": [
        [
         "Standard",
         "53174"
        ],
        [
         "Poor",
         "28998"
        ],
        [
         "Good",
         "17828"
        ]
       ],
       "shape": {
        "columns": 1,
        "rows": 3
       }
      },
      "text/plain": [
       "Credit_Score\n",
       "Standard    53174\n",
       "Poor        28998\n",
       "Good        17828\n",
       "Name: count, dtype: int64"
      ]
     },
     "execution_count": 11,
     "metadata": {},
     "output_type": "execute_result"
    }
   ],
   "source": [
    "df['Credit_Score'].value_counts()"
   ]
  },
  {
   "cell_type": "code",
   "execution_count": 10,
   "id": "57102ed2",
   "metadata": {},
   "outputs": [
    {
     "data": {
      "text/plain": [
       "<Axes: xlabel='Credit_Score'>"
      ]
     },
     "execution_count": 10,
     "metadata": {},
     "output_type": "execute_result"
    },
    {
     "data": {
      "image/png": "[encoded data removed]",
      "text/plain": [
       "<Figure size 640x480 with 1 Axes>"
      ]
     },
     "metadata": {},
     "output_type": "display_data"
    }
   ],
   "source": [
    "df['Credit_Score'].value_counts().plot(kind='bar')"
   ]
  },
  {
   "cell_type": "markdown",
   "id": "36b95bf4",
   "metadata": {},
   "source": [
    "### *`Data Exploration`*"
   ]
  },
  {
   "cell_type": "code",
   "execution_count": 13,
   "id": "1f1f16af",
   "metadata": {},
   "outputs": [
    {
     "name": "stdout",
     "output_type": "stream",
     "text": [
      "Collecting nbformat\n",
      "  Using cached nbformat-5.10.4-py3-none-any.whl.metadata (3.6 kB)\n",
      "Collecting fastjsonschema>=2.15 (from nbformat)\n",
      "  Downloading fastjsonschema-2.21.2-py3-none-any.whl.metadata (2.3 kB)\n",
      "Collecting jsonschema>=2.6 (from nbformat)\n",
      "  Using cached jsonschema-4.25.1-py3-none-any.whl.metadata (7.6 kB)\n",
      "Requirement already satisfied: jupyter-core!=5.0.*,>=4.12 in c:\\users\\mr\\anaconda3\\envs\\diabetes_env\\lib\\site-packages (from nbformat) (5.8.1)\n",
      "Requirement already satisfied: traitlets>=5.1 in c:\\users\\mr\\anaconda3\\envs\\diabetes_env\\lib\\site-packages (from nbformat) (5.14.3)\n",
      "Collecting attrs>=22.2.0 (from jsonschema>=2.6->nbformat)\n",
      "  Using cached attrs-25.3.0-py3-none-any.whl.metadata (10 kB)\n",
      "Collecting jsonschema-specifications>=2023.03.6 (from jsonschema>=2.6->nbformat)\n",
      "  Downloading jsonschema_specifications-2025.9.1-py3-none-any.whl.metadata (2.9 kB)\n",
      "Collecting referencing>=0.28.4 (from jsonschema>=2.6->nbformat)\n",
      "  Using cached referencing-0.36.2-py3-none-any.whl.metadata (2.8 kB)\n",
      "Collecting rpds-py>=0.7.1 (from jsonschema>=2.6->nbformat)\n",
      "  Downloading rpds_py-0.27.1-cp310-cp310-win_amd64.whl.metadata (4.3 kB)\n",
      "Requirement already satisfied: platformdirs>=2.5 in c:\\users\\mr\\anaconda3\\envs\\diabetes_env\\lib\\site-packages (from jupyter-core!=5.0.*,>=4.12->nbformat) (4.4.0)\n",
      "Requirement already satisfied: pywin32>=300 in c:\\users\\mr\\anaconda3\\envs\\diabetes_env\\lib\\site-packages (from jupyter-core!=5.0.*,>=4.12->nbformat) (311)\n",
      "Requirement already satisfied: typing-extensions>=4.4.0 in c:\\users\\mr\\anaconda3\\envs\\diabetes_env\\lib\\site-packages (from referencing>=0.28.4->jsonschema>=2.6->nbformat) (4.15.0)\n",
      "Using cached nbformat-5.10.4-py3-none-any.whl (78 kB)\n",
      "Downloading fastjsonschema-2.21.2-py3-none-any.whl (24 kB)\n",
      "Using cached jsonschema-4.25.1-py3-none-any.whl (90 kB)\n",
      "Using cached attrs-25.3.0-py3-none-any.whl (63 kB)\n",
      "Downloading jsonschema_specifications-2025.9.1-py3-none-any.whl (18 kB)\n",
      "Using cached referencing-0.36.2-py3-none-any.whl (26 kB)\n",
      "Downloading rpds_py-0.27.1-cp310-cp310-win_amd64.whl (228 kB)\n",
      "Installing collected packages: fastjsonschema, rpds-py, attrs, referencing, jsonschema-specifications, jsonschema, nbformat\n",
      "\n",
      "   ----------- ---------------------------- 2/7 [attrs]\n",
      "   ----------------- ---------------------- 3/7 [referencing]\n",
      "   ---------------------------- ----------- 5/7 [jsonschema]\n",
      "   ---------------------------- ----------- 5/7 [jsonschema]\n",
      "   ---------------------------------- ----- 6/7 [nbformat]\n",
      "   ---------------------------------------- 7/7 [nbformat]\n",
      "\n",
      "Successfully installed attrs-25.3.0 fastjsonschema-2.21.2 jsonschema-4.25.1 jsonschema-specifications-2025.9.1 nbformat-5.10.4 referencing-0.36.2 rpds-py-0.27.1\n"
     ]
    }
   ],
   "source": [
    "!pip install nbformat --upgrade"
   ]
  },
  {
   "cell_type": "code",
   "execution_count": 19,
   "id": "a936fa56",
   "metadata": {},
   "outputs": [],
   "source": [
    "pio.renderers.default = \"browser\"  # يفتح الرسمة في المتصفح"
   ]
  },
  {
   "cell_type": "code",
   "execution_count": 20,
   "id": "e7214c12",
   "metadata": {},
   "outputs": [],
   "source": [
    "fig = px.box(df,\n",
    "            x=\"Occupation\",\n",
    "            color=\"Credit_Score\",\n",
    "            title=\"Credit Scores Based on Occupation\",\n",
    "            color_discrete_map={'Poor': 'red',\n",
    "                                'Standard': 'yellow',\n",
    "                                'Good': 'green'})\n",
    "fig.show()"
   ]
  },
  {
   "cell_type": "code",
   "execution_count": null,
   "id": "121a1b07",
   "metadata": {},
   "outputs": [],
   "source": []
  },
  {
   "cell_type": "code",
   "execution_count": null,
   "id": "ae534711",
   "metadata": {},
   "outputs": [],
   "source": []
  },
  {
   "cell_type": "code",
   "execution_count": null,
   "id": "838dbf14",
   "metadata": {},
   "outputs": [],
   "source": []
  },
  {
   "cell_type": "markdown",
   "id": "db35abee",
   "metadata": {},
   "source": [
    "###"
   ]
  }
 ],
 "metadata": {
  "kernelspec": {
   "display_name": "diabetes_env",
   "language": "python",
   "name": "python3"
  },
  "language_info": {
   "codemirror_mode": {
    "name": "ipython",
    "version": 3
   },
   "file_extension": ".py",
   "mimetype": "text/x-python",
   "name": "python",
   "nbconvert_exporter": "python",
   "pygments_lexer": "ipython3",
   "version": "3.10.18"
  }
 },
 "nbformat": 4,
 "nbformat_minor": 5
}
