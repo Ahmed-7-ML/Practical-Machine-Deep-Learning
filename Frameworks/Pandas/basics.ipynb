{
 "cells": [
  {
   "cell_type": "markdown",
   "id": "358a7e8a",
   "metadata": {},
   "source": [
    "- ## *`Pandas`:*\n",
    "    1. Open Source library that built on top of Numpy.\n",
    "    2. Used in Data Preparation and Cleaning.\n",
    "    3. Has built-in visualization features.\n",
    "    4. Work with data from wide variety of sources."
   ]
  },
  {
   "cell_type": "code",
   "execution_count": 3,
   "id": "343ad0ed",
   "metadata": {},
   "outputs": [],
   "source": [
    "import numpy as np\n",
    "import pandas as pd"
   ]
  },
  {
   "cell_type": "markdown",
   "id": "b7761cdf",
   "metadata": {},
   "source": [
    "<img src='ds.png'>"
   ]
  },
  {
   "cell_type": "markdown",
   "id": "a3512c3c",
   "metadata": {},
   "source": [
    "- ### *`Series : ` Single-Column Data that represent  single variable and information of a single type.*\n",
    "- ### *`Data Frame : ` Multi-Column Data that each column represents a different variable , each column has its own data type and the information can be hetergeneous.*"
   ]
  },
  {
   "cell_type": "markdown",
   "id": "1c78150d",
   "metadata": {},
   "source": [
    "### *`Series` -> pd.Series(data=.., index=.., dtype=.., name=..., copy=..)*"
   ]
  },
  {
   "cell_type": "code",
   "execution_count": 5,
   "id": "d45f844f",
   "metadata": {},
   "outputs": [
    {
     "data": {
      "application/vnd.microsoft.datawrangler.viewer.v0+json": {
       "columns": [
        {
         "name": "index",
         "rawType": "int64",
         "type": "integer"
        },
        {
         "name": "0",
         "rawType": "object",
         "type": "string"
        }
       ],
       "ref": "c3c04a9e-55ea-4941-83de-6dbd9b8611ba",
       "rows": [
        [
         "0",
         "G"
        ],
        [
         "1",
         "E"
        ],
        [
         "2",
         "E"
        ],
        [
         "3",
         "K"
        ],
        [
         "4",
         "S"
        ],
        [
         "5",
         "F"
        ],
        [
         "6",
         "O"
        ],
        [
         "7",
         "R"
        ],
        [
         "8",
         "G"
        ],
        [
         "9",
         "E"
        ],
        [
         "10",
         "E"
        ],
        [
         "11",
         "K"
        ],
        [
         "12",
         "S"
        ]
       ],
       "shape": {
        "columns": 1,
        "rows": 13
       }
      },
      "text/plain": [
       "0     G\n",
       "1     E\n",
       "2     E\n",
       "3     K\n",
       "4     S\n",
       "5     F\n",
       "6     O\n",
       "7     R\n",
       "8     G\n",
       "9     E\n",
       "10    E\n",
       "11    K\n",
       "12    S\n",
       "dtype: object"
      ]
     },
     "execution_count": 5,
     "metadata": {},
     "output_type": "execute_result"
    }
   ],
   "source": [
    "# From List to Series\n",
    "chars = ['G', 'E', 'E', 'K', 'S', 'F', 'O', 'R', 'G', 'E', 'E', 'K', 'S']\n",
    "\n",
    "ser1 = pd.Series(data=chars)\n",
    "\n",
    "ser1"
   ]
  },
  {
   "cell_type": "code",
   "execution_count": null,
   "id": "bd420075",
   "metadata": {},
   "outputs": [
    {
     "data": {
      "application/vnd.microsoft.datawrangler.viewer.v0+json": {
       "columns": [
        {
         "name": "index",
         "rawType": "int64",
         "type": "integer"
        },
        {
         "name": "0",
         "rawType": "object",
         "type": "string"
        }
       ],
       "ref": "f0b8bb86-a4d9-4bcb-a5d6-839eefde2ec4",
       "rows": [
        [
         "13",
         "G"
        ],
        [
         "14",
         "E"
        ],
        [
         "15",
         "E"
        ],
        [
         "16",
         "K"
        ],
        [
         "17",
         "S"
        ],
        [
         "18",
         "F"
        ],
        [
         "19",
         "O"
        ],
        [
         "20",
         "R"
        ],
        [
         "21",
         "G"
        ],
        [
         "22",
         "E"
        ],
        [
         "23",
         "E"
        ],
        [
         "24",
         "K"
        ],
        [
         "25",
         "S"
        ]
       ],
       "shape": {
        "columns": 1,
        "rows": 13
       }
      },
      "text/plain": [
       "13    G\n",
       "14    E\n",
       "15    E\n",
       "16    K\n",
       "17    S\n",
       "18    F\n",
       "19    O\n",
       "20    R\n",
       "21    G\n",
       "22    E\n",
       "23    E\n",
       "24    K\n",
       "25    S\n",
       "dtype: object"
      ]
     },
     "execution_count": 8,
     "metadata": {},
     "output_type": "execute_result"
    }
   ],
   "source": [
    "# You can Change the Indics.\n",
    "ser2 = pd.Series(data=chars, index=np.arange(13, 26))\n",
    "\n",
    "ser2"
   ]
  },
  {
   "cell_type": "code",
   "execution_count": 9,
   "id": "debd0266",
   "metadata": {},
   "outputs": [
    {
     "data": {
      "application/vnd.microsoft.datawrangler.viewer.v0+json": {
       "columns": [
        {
         "name": "index",
         "rawType": "int64",
         "type": "integer"
        },
        {
         "name": "Characters",
         "rawType": "object",
         "type": "string"
        }
       ],
       "ref": "355f09bb-5425-4144-98de-d0d54d8fb468",
       "rows": [
        [
         "0",
         "G"
        ],
        [
         "1",
         "E"
        ],
        [
         "2",
         "E"
        ],
        [
         "3",
         "K"
        ],
        [
         "4",
         "S"
        ],
        [
         "5",
         "F"
        ],
        [
         "6",
         "O"
        ],
        [
         "7",
         "R"
        ],
        [
         "8",
         "G"
        ],
        [
         "9",
         "E"
        ],
        [
         "10",
         "E"
        ],
        [
         "11",
         "K"
        ],
        [
         "12",
         "S"
        ]
       ],
       "shape": {
        "columns": 1,
        "rows": 13
       }
      },
      "text/plain": [
       "0     G\n",
       "1     E\n",
       "2     E\n",
       "3     K\n",
       "4     S\n",
       "5     F\n",
       "6     O\n",
       "7     R\n",
       "8     G\n",
       "9     E\n",
       "10    E\n",
       "11    K\n",
       "12    S\n",
       "Name: Characters, dtype: object"
      ]
     },
     "execution_count": 9,
     "metadata": {},
     "output_type": "execute_result"
    }
   ],
   "source": [
    "# Put a Name for the Series\n",
    "ser3 = pd.Series(chars, name='Characters')\n",
    "\n",
    "ser3"
   ]
  },
  {
   "cell_type": "code",
   "execution_count": 12,
   "id": "73713967",
   "metadata": {},
   "outputs": [
    {
     "data": {
      "application/vnd.microsoft.datawrangler.viewer.v0+json": {
       "columns": [
        {
         "name": "index",
         "rawType": "object",
         "type": "string"
        },
        {
         "name": "Chars",
         "rawType": "int64",
         "type": "integer"
        }
       ],
       "ref": "d50fdfed-c3fd-416a-a64f-a0d89b372975",
       "rows": [
        [
         "G",
         "2"
        ],
        [
         "E",
         "4"
        ],
        [
         "K",
         "2"
        ],
        [
         "S",
         "2"
        ],
        [
         "F",
         "1"
        ],
        [
         "O",
         "1"
        ],
        [
         "R",
         "1"
        ]
       ],
       "shape": {
        "columns": 1,
        "rows": 7
       }
      },
      "text/plain": [
       "G    2\n",
       "E    4\n",
       "K    2\n",
       "S    2\n",
       "F    1\n",
       "O    1\n",
       "R    1\n",
       "Name: Chars, dtype: int64"
      ]
     },
     "execution_count": 12,
     "metadata": {},
     "output_type": "execute_result"
    }
   ],
   "source": [
    "# From Dict to Series\n",
    "chars = {'G': 2, 'E': 4, 'K': 2, 'S': 2, 'F': 1, 'O': 1, 'R': 1}\n",
    "\n",
    "# As Dictionary has Key:Value Pairs -> The Series make the Keys as the Indics and Values as Column Values\n",
    "ser4 = pd.Series(chars, name='Chars')\n",
    "ser4"
   ]
  },
  {
   "cell_type": "markdown",
   "id": "f0d179b4",
   "metadata": {},
   "source": [
    "*`Indexing and Slicing : ` You can deal with numeric indeics or the indices you made*"
   ]
  },
  {
   "cell_type": "code",
   "execution_count": null,
   "id": "c26ef6a2",
   "metadata": {},
   "outputs": [
    {
     "data": {
      "text/plain": [
       "np.int64(2)"
      ]
     },
     "execution_count": 13,
     "metadata": {},
     "output_type": "execute_result"
    }
   ],
   "source": [
    "ser4['G']   # Access the Column Values with Index= 'G'"
   ]
  },
  {
   "cell_type": "code",
   "execution_count": null,
   "id": "8707eda8",
   "metadata": {},
   "outputs": [
    {
     "data": {
      "application/vnd.microsoft.datawrangler.viewer.v0+json": {
       "columns": [
        {
         "name": "index",
         "rawType": "object",
         "type": "string"
        },
        {
         "name": "Chars",
         "rawType": "int64",
         "type": "integer"
        }
       ],
       "ref": "c3838102-4aa9-4b10-8402-4a5997c2fa6b",
       "rows": [
        [
         "G",
         "2"
        ],
        [
         "E",
         "4"
        ],
        [
         "K",
         "2"
        ],
        [
         "S",
         "2"
        ]
       ],
       "shape": {
        "columns": 1,
        "rows": 4
       }
      },
      "text/plain": [
       "G    2\n",
       "E    4\n",
       "K    2\n",
       "S    2\n",
       "Name: Chars, dtype: int64"
      ]
     },
     "execution_count": 18,
     "metadata": {},
     "output_type": "execute_result"
    }
   ],
   "source": [
    "# If the Indices are not numeric -> The Stop value is INCLUSIVE\n",
    "# [Start: Stop]\n",
    "ser4['G': 'S']"
   ]
  },
  {
   "cell_type": "code",
   "execution_count": 14,
   "id": "e19e8468",
   "metadata": {},
   "outputs": [
    {
     "data": {
      "application/vnd.microsoft.datawrangler.viewer.v0+json": {
       "columns": [
        {
         "name": "index",
         "rawType": "int64",
         "type": "integer"
        },
        {
         "name": "Characters",
         "rawType": "object",
         "type": "string"
        }
       ],
       "ref": "b0c35259-e4c7-4c33-bdc1-543ab872c919",
       "rows": [
        [
         "0",
         "G"
        ],
        [
         "1",
         "E"
        ],
        [
         "2",
         "E"
        ],
        [
         "3",
         "K"
        ],
        [
         "4",
         "S"
        ],
        [
         "5",
         "F"
        ],
        [
         "6",
         "O"
        ],
        [
         "7",
         "R"
        ],
        [
         "8",
         "G"
        ],
        [
         "9",
         "E"
        ],
        [
         "10",
         "E"
        ],
        [
         "11",
         "K"
        ],
        [
         "12",
         "S"
        ]
       ],
       "shape": {
        "columns": 1,
        "rows": 13
       }
      },
      "text/plain": [
       "0     G\n",
       "1     E\n",
       "2     E\n",
       "3     K\n",
       "4     S\n",
       "5     F\n",
       "6     O\n",
       "7     R\n",
       "8     G\n",
       "9     E\n",
       "10    E\n",
       "11    K\n",
       "12    S\n",
       "Name: Characters, dtype: object"
      ]
     },
     "execution_count": 14,
     "metadata": {},
     "output_type": "execute_result"
    }
   ],
   "source": [
    "ser3"
   ]
  },
  {
   "cell_type": "code",
   "execution_count": 15,
   "id": "1798ab33",
   "metadata": {},
   "outputs": [
    {
     "data": {
      "text/plain": [
       "'F'"
      ]
     },
     "execution_count": 15,
     "metadata": {},
     "output_type": "execute_result"
    }
   ],
   "source": [
    "ser3[5]"
   ]
  },
  {
   "cell_type": "code",
   "execution_count": null,
   "id": "ca78b4a9",
   "metadata": {},
   "outputs": [
    {
     "data": {
      "application/vnd.microsoft.datawrangler.viewer.v0+json": {
       "columns": [
        {
         "name": "index",
         "rawType": "int64",
         "type": "integer"
        },
        {
         "name": "Characters",
         "rawType": "object",
         "type": "string"
        }
       ],
       "ref": "09e9dfb8-a501-41ff-9dd5-5a8ef82bee1d",
       "rows": [
        [
         "0",
         "G"
        ],
        [
         "1",
         "E"
        ],
        [
         "2",
         "E"
        ],
        [
         "3",
         "K"
        ]
       ],
       "shape": {
        "columns": 1,
        "rows": 4
       }
      },
      "text/plain": [
       "0    G\n",
       "1    E\n",
       "2    E\n",
       "3    K\n",
       "Name: Characters, dtype: object"
      ]
     },
     "execution_count": 16,
     "metadata": {},
     "output_type": "execute_result"
    }
   ],
   "source": [
    "# If the Indices are numeric -> The Stop value is EXCLUSIVE\n",
    "ser3[0:4]\n",
    "# Access rows from index = 0 to index = 3   (4 Values)"
   ]
  },
  {
   "cell_type": "code",
   "execution_count": 19,
   "id": "be51a23d",
   "metadata": {},
   "outputs": [
    {
     "data": {
      "application/vnd.microsoft.datawrangler.viewer.v0+json": {
       "columns": [
        {
         "name": "index",
         "rawType": "int64",
         "type": "integer"
        },
        {
         "name": "Characters",
         "rawType": "object",
         "type": "string"
        }
       ],
       "ref": "2a893d83-0a01-4982-a6c4-d95732b1e4bb",
       "rows": [
        [
         "1",
         "E"
        ],
        [
         "3",
         "K"
        ]
       ],
       "shape": {
        "columns": 1,
        "rows": 2
       }
      },
      "text/plain": [
       "1    E\n",
       "3    K\n",
       "Name: Characters, dtype: object"
      ]
     },
     "execution_count": 19,
     "metadata": {},
     "output_type": "execute_result"
    }
   ],
   "source": [
    "# [Start: Stop: Step]\n",
    "ser3[1:5:2]"
   ]
  },
  {
   "cell_type": "markdown",
   "id": "daf9faac",
   "metadata": {},
   "source": [
    "*`Arithmetis Operations`*"
   ]
  },
  {
   "cell_type": "code",
   "execution_count": 25,
   "id": "b2bde9aa",
   "metadata": {},
   "outputs": [
    {
     "data": {
      "application/vnd.microsoft.datawrangler.viewer.v0+json": {
       "columns": [
        {
         "name": "index",
         "rawType": "int64",
         "type": "integer"
        },
        {
         "name": "0",
         "rawType": "object",
         "type": "string"
        }
       ],
       "ref": "cbba803a-f59d-4d50-b115-6a971c0dd000",
       "rows": [
        [
         "0",
         "G"
        ],
        [
         "1",
         "E"
        ],
        [
         "2",
         "E"
        ],
        [
         "3",
         "K"
        ],
        [
         "4",
         "S"
        ],
        [
         "5",
         "F"
        ],
        [
         "6",
         "O"
        ],
        [
         "7",
         "R"
        ],
        [
         "8",
         "G"
        ],
        [
         "9",
         "E"
        ],
        [
         "10",
         "E"
        ],
        [
         "11",
         "K"
        ],
        [
         "12",
         "S"
        ]
       ],
       "shape": {
        "columns": 1,
        "rows": 13
       }
      },
      "text/plain": [
       "0     G\n",
       "1     E\n",
       "2     E\n",
       "3     K\n",
       "4     S\n",
       "5     F\n",
       "6     O\n",
       "7     R\n",
       "8     G\n",
       "9     E\n",
       "10    E\n",
       "11    K\n",
       "12    S\n",
       "dtype: object"
      ]
     },
     "execution_count": 25,
     "metadata": {},
     "output_type": "execute_result"
    }
   ],
   "source": [
    "ser1"
   ]
  },
  {
   "cell_type": "code",
   "execution_count": 26,
   "id": "77bb7cb9",
   "metadata": {},
   "outputs": [
    {
     "data": {
      "application/vnd.microsoft.datawrangler.viewer.v0+json": {
       "columns": [
        {
         "name": "index",
         "rawType": "int64",
         "type": "integer"
        },
        {
         "name": "Characters",
         "rawType": "object",
         "type": "string"
        }
       ],
       "ref": "35df3f2a-64a0-4a8b-8087-90d1237ae593",
       "rows": [
        [
         "0",
         "G"
        ],
        [
         "1",
         "E"
        ],
        [
         "2",
         "E"
        ],
        [
         "3",
         "K"
        ],
        [
         "4",
         "S"
        ],
        [
         "5",
         "F"
        ],
        [
         "6",
         "O"
        ],
        [
         "7",
         "R"
        ],
        [
         "8",
         "G"
        ],
        [
         "9",
         "E"
        ],
        [
         "10",
         "E"
        ],
        [
         "11",
         "K"
        ],
        [
         "12",
         "S"
        ]
       ],
       "shape": {
        "columns": 1,
        "rows": 13
       }
      },
      "text/plain": [
       "0     G\n",
       "1     E\n",
       "2     E\n",
       "3     K\n",
       "4     S\n",
       "5     F\n",
       "6     O\n",
       "7     R\n",
       "8     G\n",
       "9     E\n",
       "10    E\n",
       "11    K\n",
       "12    S\n",
       "Name: Characters, dtype: object"
      ]
     },
     "execution_count": 26,
     "metadata": {},
     "output_type": "execute_result"
    }
   ],
   "source": [
    "ser3"
   ]
  },
  {
   "cell_type": "code",
   "execution_count": null,
   "id": "503e4669",
   "metadata": {},
   "outputs": [
    {
     "data": {
      "application/vnd.microsoft.datawrangler.viewer.v0+json": {
       "columns": [
        {
         "name": "index",
         "rawType": "int64",
         "type": "integer"
        },
        {
         "name": "0",
         "rawType": "object",
         "type": "string"
        }
       ],
       "ref": "1855cc95-e2d7-4525-ad10-ade08a044526",
       "rows": [
        [
         "0",
         "GG"
        ],
        [
         "1",
         "EE"
        ],
        [
         "2",
         "EE"
        ],
        [
         "3",
         "KK"
        ],
        [
         "4",
         "SS"
        ],
        [
         "5",
         "FF"
        ],
        [
         "6",
         "OO"
        ],
        [
         "7",
         "RR"
        ],
        [
         "8",
         "GG"
        ],
        [
         "9",
         "EE"
        ],
        [
         "10",
         "EE"
        ],
        [
         "11",
         "KK"
        ],
        [
         "12",
         "SS"
        ]
       ],
       "shape": {
        "columns": 1,
        "rows": 13
       }
      },
      "text/plain": [
       "0     GG\n",
       "1     EE\n",
       "2     EE\n",
       "3     KK\n",
       "4     SS\n",
       "5     FF\n",
       "6     OO\n",
       "7     RR\n",
       "8     GG\n",
       "9     EE\n",
       "10    EE\n",
       "11    KK\n",
       "12    SS\n",
       "dtype: object"
      ]
     },
     "execution_count": 24,
     "metadata": {},
     "output_type": "execute_result"
    }
   ],
   "source": [
    "# 2 different series with common indices.\n",
    "# Add the values with common index -> String Concatenation (In this case)\n",
    "ser3 + ser1"
   ]
  },
  {
   "cell_type": "code",
   "execution_count": 27,
   "id": "77a33c81",
   "metadata": {},
   "outputs": [
    {
     "data": {
      "application/vnd.microsoft.datawrangler.viewer.v0+json": {
       "columns": [
        {
         "name": "index",
         "rawType": "object",
         "type": "string"
        },
        {
         "name": "0",
         "rawType": "float64",
         "type": "float"
        }
       ],
       "ref": "8e91c1c2-be1e-4863-965d-aa3125510238",
       "rows": [
        [
         "A",
         "2.0"
        ],
        [
         "B",
         null
        ],
        [
         "C",
         "5.0"
        ],
        [
         "D",
         null
        ],
        [
         "E",
         null
        ],
        [
         "F",
         null
        ]
       ],
       "shape": {
        "columns": 1,
        "rows": 6
       }
      },
      "text/plain": [
       "A    2.0\n",
       "B    NaN\n",
       "C    5.0\n",
       "D    NaN\n",
       "E    NaN\n",
       "F    NaN\n",
       "dtype: float64"
      ]
     },
     "execution_count": 27,
     "metadata": {},
     "output_type": "execute_result"
    }
   ],
   "source": [
    "s1 = pd.Series([1, 2, 3, 4], index=['A', 'B', 'C', 'D'])\n",
    "\n",
    "s2 = pd.Series([1, 2, 3, 4], index=['A', 'C', 'E', 'F'])\n",
    "\n",
    "s1 + s2"
   ]
  },
  {
   "cell_type": "markdown",
   "id": "8a095234",
   "metadata": {},
   "source": [
    "*Find the common indices and Add values of them or anything other tahn addition*"
   ]
  },
  {
   "cell_type": "code",
   "execution_count": 28,
   "id": "2e4a65f3",
   "metadata": {},
   "outputs": [
    {
     "data": {
      "application/vnd.microsoft.datawrangler.viewer.v0+json": {
       "columns": [
        {
         "name": "index",
         "rawType": "object",
         "type": "string"
        },
        {
         "name": "0",
         "rawType": "float64",
         "type": "float"
        }
       ],
       "ref": "d64ffc2b-4070-4d58-85a0-e9864f889743",
       "rows": [
        [
         "A",
         "1.0"
        ],
        [
         "B",
         null
        ],
        [
         "C",
         "6.0"
        ],
        [
         "D",
         null
        ],
        [
         "E",
         null
        ],
        [
         "F",
         null
        ]
       ],
       "shape": {
        "columns": 1,
        "rows": 6
       }
      },
      "text/plain": [
       "A    1.0\n",
       "B    NaN\n",
       "C    6.0\n",
       "D    NaN\n",
       "E    NaN\n",
       "F    NaN\n",
       "dtype: float64"
      ]
     },
     "execution_count": 28,
     "metadata": {},
     "output_type": "execute_result"
    }
   ],
   "source": [
    "s1 * s2"
   ]
  },
  {
   "cell_type": "code",
   "execution_count": 29,
   "id": "80a8a4f7",
   "metadata": {},
   "outputs": [
    {
     "data": {
      "application/vnd.microsoft.datawrangler.viewer.v0+json": {
       "columns": [
        {
         "name": "index",
         "rawType": "object",
         "type": "string"
        },
        {
         "name": "0",
         "rawType": "float64",
         "type": "float"
        }
       ],
       "ref": "c549ee0c-1dd0-41b4-9781-0f677052e1e3",
       "rows": [
        [
         "A",
         "0.0"
        ],
        [
         "B",
         null
        ],
        [
         "C",
         "1.0"
        ],
        [
         "D",
         null
        ],
        [
         "E",
         null
        ],
        [
         "F",
         null
        ]
       ],
       "shape": {
        "columns": 1,
        "rows": 6
       }
      },
      "text/plain": [
       "A    0.0\n",
       "B    NaN\n",
       "C    1.0\n",
       "D    NaN\n",
       "E    NaN\n",
       "F    NaN\n",
       "dtype: float64"
      ]
     },
     "execution_count": 29,
     "metadata": {},
     "output_type": "execute_result"
    }
   ],
   "source": [
    "s1 - s2"
   ]
  },
  {
   "cell_type": "code",
   "execution_count": 30,
   "id": "d8f10d9e",
   "metadata": {},
   "outputs": [
    {
     "data": {
      "application/vnd.microsoft.datawrangler.viewer.v0+json": {
       "columns": [
        {
         "name": "index",
         "rawType": "object",
         "type": "string"
        },
        {
         "name": "0",
         "rawType": "float64",
         "type": "float"
        }
       ],
       "ref": "d0f34191-2316-415b-86a5-f8c25c0aba25",
       "rows": [
        [
         "A",
         "1.0"
        ],
        [
         "B",
         null
        ],
        [
         "C",
         "1.5"
        ],
        [
         "D",
         null
        ],
        [
         "E",
         null
        ],
        [
         "F",
         null
        ]
       ],
       "shape": {
        "columns": 1,
        "rows": 6
       }
      },
      "text/plain": [
       "A    1.0\n",
       "B    NaN\n",
       "C    1.5\n",
       "D    NaN\n",
       "E    NaN\n",
       "F    NaN\n",
       "dtype: float64"
      ]
     },
     "execution_count": 30,
     "metadata": {},
     "output_type": "execute_result"
    }
   ],
   "source": [
    "s1 / s2"
   ]
  },
  {
   "cell_type": "code",
   "execution_count": 32,
   "id": "50164e74",
   "metadata": {},
   "outputs": [
    {
     "data": {
      "application/vnd.microsoft.datawrangler.viewer.v0+json": {
       "columns": [
        {
         "name": "index",
         "rawType": "object",
         "type": "string"
        },
        {
         "name": "0",
         "rawType": "float64",
         "type": "float"
        }
       ],
       "ref": "caad79ab-ed57-483b-89e9-1f6dc7b45595",
       "rows": [
        [
         "A",
         "1.0"
        ],
        [
         "B",
         null
        ],
        [
         "C",
         "1.0"
        ],
        [
         "D",
         null
        ],
        [
         "E",
         null
        ],
        [
         "F",
         null
        ]
       ],
       "shape": {
        "columns": 1,
        "rows": 6
       }
      },
      "text/plain": [
       "A    1.0\n",
       "B    NaN\n",
       "C    1.0\n",
       "D    NaN\n",
       "E    NaN\n",
       "F    NaN\n",
       "dtype: float64"
      ]
     },
     "execution_count": 32,
     "metadata": {},
     "output_type": "execute_result"
    }
   ],
   "source": [
    "s1 // s2"
   ]
  },
  {
   "cell_type": "code",
   "execution_count": 31,
   "id": "c8a76e43",
   "metadata": {},
   "outputs": [
    {
     "data": {
      "application/vnd.microsoft.datawrangler.viewer.v0+json": {
       "columns": [
        {
         "name": "index",
         "rawType": "object",
         "type": "string"
        },
        {
         "name": "0",
         "rawType": "float64",
         "type": "float"
        }
       ],
       "ref": "378d0864-0c1e-43dd-95fc-e38c0c682eda",
       "rows": [
        [
         "A",
         "1.0"
        ],
        [
         "B",
         null
        ],
        [
         "C",
         "9.0"
        ],
        [
         "D",
         null
        ],
        [
         "E",
         null
        ],
        [
         "F",
         null
        ]
       ],
       "shape": {
        "columns": 1,
        "rows": 6
       }
      },
      "text/plain": [
       "A    1.0\n",
       "B    NaN\n",
       "C    9.0\n",
       "D    NaN\n",
       "E    NaN\n",
       "F    NaN\n",
       "dtype: float64"
      ]
     },
     "execution_count": 31,
     "metadata": {},
     "output_type": "execute_result"
    }
   ],
   "source": [
    "s1 ** s2"
   ]
  },
  {
   "cell_type": "markdown",
   "id": "7ce44abd",
   "metadata": {},
   "source": [
    "### *`Data Frames` -> od.DataFrame(data=.., index=.., columns=.., dtype=.., copy=..)*"
   ]
  },
  {
   "cell_type": "markdown",
   "id": "1c3e19a2",
   "metadata": {},
   "source": [
    "<img src='df.png'>"
   ]
  },
  {
   "cell_type": "markdown",
   "id": "aa00652d",
   "metadata": {},
   "source": [
    "*U have the Flexibility to change the column names or index names and data type of input values*"
   ]
  },
  {
   "cell_type": "code",
   "execution_count": null,
   "id": "fbbe937b",
   "metadata": {},
   "outputs": [
    {
     "data": {
      "application/vnd.microsoft.datawrangler.viewer.v0+json": {
       "columns": [
        {
         "name": "index",
         "rawType": "int64",
         "type": "integer"
        },
        {
         "name": "P",
         "rawType": "int64",
         "type": "integer"
        },
        {
         "name": "Q",
         "rawType": "int64",
         "type": "integer"
        },
        {
         "name": "R",
         "rawType": "int64",
         "type": "integer"
        },
        {
         "name": "S",
         "rawType": "int64",
         "type": "integer"
        }
       ],
       "ref": "9a606fc4-5112-4aa7-942f-83321ed0f6f1",
       "rows": [
        [
         "0",
         "0",
         "1",
         "2",
         "3"
        ],
        [
         "1",
         "4",
         "5",
         "6",
         "7"
        ],
        [
         "2",
         "8",
         "9",
         "10",
         "11"
        ]
       ],
       "shape": {
        "columns": 4,
        "rows": 3
       }
      },
      "text/html": [
       "<div>\n",
       "<style scoped>\n",
       "    .dataframe tbody tr th:only-of-type {\n",
       "        vertical-align: middle;\n",
       "    }\n",
       "\n",
       "    .dataframe tbody tr th {\n",
       "        vertical-align: top;\n",
       "    }\n",
       "\n",
       "    .dataframe thead th {\n",
       "        text-align: right;\n",
       "    }\n",
       "</style>\n",
       "<table border=\"1\" class=\"dataframe\">\n",
       "  <thead>\n",
       "    <tr style=\"text-align: right;\">\n",
       "      <th></th>\n",
       "      <th>P</th>\n",
       "      <th>Q</th>\n",
       "      <th>R</th>\n",
       "      <th>S</th>\n",
       "    </tr>\n",
       "  </thead>\n",
       "  <tbody>\n",
       "    <tr>\n",
       "      <th>0</th>\n",
       "      <td>0</td>\n",
       "      <td>1</td>\n",
       "      <td>2</td>\n",
       "      <td>3</td>\n",
       "    </tr>\n",
       "    <tr>\n",
       "      <th>1</th>\n",
       "      <td>4</td>\n",
       "      <td>5</td>\n",
       "      <td>6</td>\n",
       "      <td>7</td>\n",
       "    </tr>\n",
       "    <tr>\n",
       "      <th>2</th>\n",
       "      <td>8</td>\n",
       "      <td>9</td>\n",
       "      <td>10</td>\n",
       "      <td>11</td>\n",
       "    </tr>\n",
       "  </tbody>\n",
       "</table>\n",
       "</div>"
      ],
      "text/plain": [
       "   P  Q   R   S\n",
       "0  0  1   2   3\n",
       "1  4  5   6   7\n",
       "2  8  9  10  11"
      ]
     },
     "execution_count": 33,
     "metadata": {},
     "output_type": "execute_result"
    }
   ],
   "source": [
    "# Create a DF From Numpy Array\n",
    "pd.DataFrame(np.arange(12).reshape(3, 4), columns=['P', 'Q', 'R', 'S'])"
   ]
  },
  {
   "cell_type": "code",
   "execution_count": null,
   "id": "89694431",
   "metadata": {},
   "outputs": [
    {
     "data": {
      "application/vnd.microsoft.datawrangler.viewer.v0+json": {
       "columns": [
        {
         "name": "index",
         "rawType": "object",
         "type": "string"
        },
        {
         "name": "max_speed",
         "rawType": "int64",
         "type": "integer"
        },
        {
         "name": "shield",
         "rawType": "int64",
         "type": "integer"
        }
       ],
       "ref": "f0919414-2a21-436c-b29f-a11bb2d37bb8",
       "rows": [
        [
         "A",
         "2",
         "3"
        ],
        [
         "B",
         "4",
         "5"
        ],
        [
         "C",
         "1",
         "6"
        ]
       ],
       "shape": {
        "columns": 2,
        "rows": 3
       }
      },
      "text/html": [
       "<div>\n",
       "<style scoped>\n",
       "    .dataframe tbody tr th:only-of-type {\n",
       "        vertical-align: middle;\n",
       "    }\n",
       "\n",
       "    .dataframe tbody tr th {\n",
       "        vertical-align: top;\n",
       "    }\n",
       "\n",
       "    .dataframe thead th {\n",
       "        text-align: right;\n",
       "    }\n",
       "</style>\n",
       "<table border=\"1\" class=\"dataframe\">\n",
       "  <thead>\n",
       "    <tr style=\"text-align: right;\">\n",
       "      <th></th>\n",
       "      <th>max_speed</th>\n",
       "      <th>shield</th>\n",
       "    </tr>\n",
       "  </thead>\n",
       "  <tbody>\n",
       "    <tr>\n",
       "      <th>A</th>\n",
       "      <td>2</td>\n",
       "      <td>3</td>\n",
       "    </tr>\n",
       "    <tr>\n",
       "      <th>B</th>\n",
       "      <td>4</td>\n",
       "      <td>5</td>\n",
       "    </tr>\n",
       "    <tr>\n",
       "      <th>C</th>\n",
       "      <td>1</td>\n",
       "      <td>6</td>\n",
       "    </tr>\n",
       "  </tbody>\n",
       "</table>\n",
       "</div>"
      ],
      "text/plain": [
       "   max_speed  shield\n",
       "A          2       3\n",
       "B          4       5\n",
       "C          1       6"
      ]
     },
     "execution_count": 34,
     "metadata": {},
     "output_type": "execute_result"
    }
   ],
   "source": [
    "# Create a DF from Nested Lists\n",
    "pd.DataFrame([[2, 3], [4, 5], [1, 6]], columns=['max_speed', 'shield'], index=['A', 'B', 'C'])"
   ]
  },
  {
   "cell_type": "code",
   "execution_count": 36,
   "id": "63380b60",
   "metadata": {},
   "outputs": [
    {
     "data": {
      "application/vnd.microsoft.datawrangler.viewer.v0+json": {
       "columns": [
        {
         "name": "index",
         "rawType": "object",
         "type": "string"
        },
        {
         "name": "Oranges",
         "rawType": "int64",
         "type": "integer"
        },
        {
         "name": "Apples",
         "rawType": "int64",
         "type": "integer"
        },
        {
         "name": "Grapes",
         "rawType": "int64",
         "type": "integer"
        },
        {
         "name": "Pear",
         "rawType": "int64",
         "type": "integer"
        }
       ],
       "ref": "b86b4b8d-de9d-4bcd-aada-5026e6067082",
       "rows": [
        [
         "June",
         "3",
         "0",
         "5",
         "1"
        ],
        [
         "July",
         "2",
         "3",
         "6",
         "23"
        ],
        [
         "Augast",
         "1",
         "7",
         "9",
         "45"
        ],
        [
         "September",
         "0",
         "2",
         "0",
         "1"
        ]
       ],
       "shape": {
        "columns": 4,
        "rows": 4
       }
      },
      "text/html": [
       "<div>\n",
       "<style scoped>\n",
       "    .dataframe tbody tr th:only-of-type {\n",
       "        vertical-align: middle;\n",
       "    }\n",
       "\n",
       "    .dataframe tbody tr th {\n",
       "        vertical-align: top;\n",
       "    }\n",
       "\n",
       "    .dataframe thead th {\n",
       "        text-align: right;\n",
       "    }\n",
       "</style>\n",
       "<table border=\"1\" class=\"dataframe\">\n",
       "  <thead>\n",
       "    <tr style=\"text-align: right;\">\n",
       "      <th></th>\n",
       "      <th>Oranges</th>\n",
       "      <th>Apples</th>\n",
       "      <th>Grapes</th>\n",
       "      <th>Pear</th>\n",
       "    </tr>\n",
       "  </thead>\n",
       "  <tbody>\n",
       "    <tr>\n",
       "      <th>June</th>\n",
       "      <td>3</td>\n",
       "      <td>0</td>\n",
       "      <td>5</td>\n",
       "      <td>1</td>\n",
       "    </tr>\n",
       "    <tr>\n",
       "      <th>July</th>\n",
       "      <td>2</td>\n",
       "      <td>3</td>\n",
       "      <td>6</td>\n",
       "      <td>23</td>\n",
       "    </tr>\n",
       "    <tr>\n",
       "      <th>Augast</th>\n",
       "      <td>1</td>\n",
       "      <td>7</td>\n",
       "      <td>9</td>\n",
       "      <td>45</td>\n",
       "    </tr>\n",
       "    <tr>\n",
       "      <th>September</th>\n",
       "      <td>0</td>\n",
       "      <td>2</td>\n",
       "      <td>0</td>\n",
       "      <td>1</td>\n",
       "    </tr>\n",
       "  </tbody>\n",
       "</table>\n",
       "</div>"
      ],
      "text/plain": [
       "           Oranges  Apples  Grapes  Pear\n",
       "June             3       0       5     1\n",
       "July             2       3       6    23\n",
       "Augast           1       7       9    45\n",
       "September        0       2       0     1"
      ]
     },
     "execution_count": 36,
     "metadata": {},
     "output_type": "execute_result"
    }
   ],
   "source": [
    "# Create a DF From Dictionary\n",
    "\n",
    "fruits = {'Oranges': [3, 2, 1, 0],\n",
    "        'Apples': [0, 3, 7, 2],\n",
    "        'Grapes': [5, 6, 9, 0],\n",
    "        'Pear': [1, 23, 45, 1]\n",
    "        }\n",
    "\n",
    "df = pd.DataFrame(fruits, index=['June', 'July', 'Augast', 'September'])\n",
    "df"
   ]
  },
  {
   "cell_type": "markdown",
   "id": "12a71035",
   "metadata": {},
   "source": [
    "*`Indexing & Slicing of DataFrames -> You have a 2 Points of References [Rows: Columns] -> [Start:Stop:Step, Start:Stop:Step]` -> .iloc[] vs. loc[]*"
   ]
  },
  {
   "cell_type": "code",
   "execution_count": 37,
   "id": "33d7a1cc",
   "metadata": {},
   "outputs": [],
   "source": [
    "# df.loc[] -> Select Rows/ Columns by Names or Labels.\n",
    "# df.iloc[] -> Select Rows/ Columns by Position."
   ]
  },
  {
   "cell_type": "code",
   "execution_count": null,
   "id": "e2e93398",
   "metadata": {},
   "outputs": [
    {
     "name": "stdout",
     "output_type": "stream",
     "text": [
      "Oranges     2\n",
      "Apples      3\n",
      "Grapes      6\n",
      "Pear       23\n",
      "Name: July, dtype: int64\n"
     ]
    },
    {
     "data": {
      "application/vnd.microsoft.datawrangler.viewer.v0+json": {
       "columns": [
        {
         "name": "index",
         "rawType": "object",
         "type": "string"
        },
        {
         "name": "July",
         "rawType": "int64",
         "type": "integer"
        }
       ],
       "ref": "f4278e77-4872-463c-8db3-685cea7af961",
       "rows": [
        [
         "Oranges",
         "2"
        ],
        [
         "Apples",
         "3"
        ],
        [
         "Grapes",
         "6"
        ],
        [
         "Pear",
         "23"
        ]
       ],
       "shape": {
        "columns": 1,
        "rows": 4
       }
      },
      "text/plain": [
       "Oranges     2\n",
       "Apples      3\n",
       "Grapes      6\n",
       "Pear       23\n",
       "Name: July, dtype: int64"
      ]
     },
     "execution_count": 40,
     "metadata": {},
     "output_type": "execute_result"
    }
   ],
   "source": [
    "# Select Single Row\n",
    "print(df.iloc[1])      # Row 2\n",
    "\n",
    "df.loc['July']          # The Same Row using Label/Name"
   ]
  },
  {
   "cell_type": "code",
   "execution_count": null,
   "id": "29af737b",
   "metadata": {},
   "outputs": [
    {
     "name": "stdout",
     "output_type": "stream",
     "text": [
      "June         0\n",
      "July         3\n",
      "Augast       7\n",
      "September    2\n",
      "Name: Apples, dtype: int64\n"
     ]
    },
    {
     "data": {
      "application/vnd.microsoft.datawrangler.viewer.v0+json": {
       "columns": [
        {
         "name": "index",
         "rawType": "object",
         "type": "string"
        },
        {
         "name": "Apples",
         "rawType": "int64",
         "type": "integer"
        }
       ],
       "ref": "e34fd75f-d6f8-4527-8fb5-b935e0a05f7e",
       "rows": [
        [
         "June",
         "0"
        ],
        [
         "July",
         "3"
        ],
        [
         "Augast",
         "7"
        ],
        [
         "September",
         "2"
        ]
       ],
       "shape": {
        "columns": 1,
        "rows": 4
       }
      },
      "text/plain": [
       "June         0\n",
       "July         3\n",
       "Augast       7\n",
       "September    2\n",
       "Name: Apples, dtype: int64"
      ]
     },
     "execution_count": 42,
     "metadata": {},
     "output_type": "execute_result"
    }
   ],
   "source": [
    "# Select Single Column\n",
    "print(df.iloc[:, 1])    # Access all rows and Column 0\n",
    "\n",
    "df.loc[:, 'Apples']     # The Same Column using Name"
   ]
  },
  {
   "cell_type": "code",
   "execution_count": 45,
   "id": "dcf0e9d3",
   "metadata": {},
   "outputs": [
    {
     "name": "stdout",
     "output_type": "stream",
     "text": [
      "           Oranges  Apples  Grapes  Pear\n",
      "July             2       3       6    23\n",
      "September        0       2       0     1\n"
     ]
    },
    {
     "data": {
      "application/vnd.microsoft.datawrangler.viewer.v0+json": {
       "columns": [
        {
         "name": "index",
         "rawType": "object",
         "type": "string"
        },
        {
         "name": "Oranges",
         "rawType": "int64",
         "type": "integer"
        },
        {
         "name": "Apples",
         "rawType": "int64",
         "type": "integer"
        },
        {
         "name": "Grapes",
         "rawType": "int64",
         "type": "integer"
        },
        {
         "name": "Pear",
         "rawType": "int64",
         "type": "integer"
        }
       ],
       "ref": "504133f6-ed8c-4478-a09e-7517b74dd892",
       "rows": [
        [
         "July",
         "2",
         "3",
         "6",
         "23"
        ],
        [
         "September",
         "0",
         "2",
         "0",
         "1"
        ]
       ],
       "shape": {
        "columns": 4,
        "rows": 2
       }
      },
      "text/html": [
       "<div>\n",
       "<style scoped>\n",
       "    .dataframe tbody tr th:only-of-type {\n",
       "        vertical-align: middle;\n",
       "    }\n",
       "\n",
       "    .dataframe tbody tr th {\n",
       "        vertical-align: top;\n",
       "    }\n",
       "\n",
       "    .dataframe thead th {\n",
       "        text-align: right;\n",
       "    }\n",
       "</style>\n",
       "<table border=\"1\" class=\"dataframe\">\n",
       "  <thead>\n",
       "    <tr style=\"text-align: right;\">\n",
       "      <th></th>\n",
       "      <th>Oranges</th>\n",
       "      <th>Apples</th>\n",
       "      <th>Grapes</th>\n",
       "      <th>Pear</th>\n",
       "    </tr>\n",
       "  </thead>\n",
       "  <tbody>\n",
       "    <tr>\n",
       "      <th>July</th>\n",
       "      <td>2</td>\n",
       "      <td>3</td>\n",
       "      <td>6</td>\n",
       "      <td>23</td>\n",
       "    </tr>\n",
       "    <tr>\n",
       "      <th>September</th>\n",
       "      <td>0</td>\n",
       "      <td>2</td>\n",
       "      <td>0</td>\n",
       "      <td>1</td>\n",
       "    </tr>\n",
       "  </tbody>\n",
       "</table>\n",
       "</div>"
      ],
      "text/plain": [
       "           Oranges  Apples  Grapes  Pear\n",
       "July             2       3       6    23\n",
       "September        0       2       0     1"
      ]
     },
     "execution_count": 45,
     "metadata": {},
     "output_type": "execute_result"
    }
   ],
   "source": [
    "# Select Multiple Rows\n",
    "print(df.iloc[[1, 3]])      # Access Row 1 & Row3\n",
    "\n",
    "df.loc[['July', 'September']]"
   ]
  },
  {
   "cell_type": "code",
   "execution_count": 48,
   "id": "64a919b2",
   "metadata": {},
   "outputs": [
    {
     "name": "stdout",
     "output_type": "stream",
     "text": [
      "           Oranges  Pear\n",
      "June             3     1\n",
      "July             2    23\n",
      "Augast           1    45\n",
      "September        0     1\n"
     ]
    },
    {
     "data": {
      "application/vnd.microsoft.datawrangler.viewer.v0+json": {
       "columns": [
        {
         "name": "index",
         "rawType": "object",
         "type": "string"
        },
        {
         "name": "Oranges",
         "rawType": "int64",
         "type": "integer"
        },
        {
         "name": "Pear",
         "rawType": "int64",
         "type": "integer"
        }
       ],
       "ref": "1d78cbdf-b30e-428b-b349-e5d659f7a59f",
       "rows": [
        [
         "June",
         "3",
         "1"
        ],
        [
         "July",
         "2",
         "23"
        ],
        [
         "Augast",
         "1",
         "45"
        ],
        [
         "September",
         "0",
         "1"
        ]
       ],
       "shape": {
        "columns": 2,
        "rows": 4
       }
      },
      "text/html": [
       "<div>\n",
       "<style scoped>\n",
       "    .dataframe tbody tr th:only-of-type {\n",
       "        vertical-align: middle;\n",
       "    }\n",
       "\n",
       "    .dataframe tbody tr th {\n",
       "        vertical-align: top;\n",
       "    }\n",
       "\n",
       "    .dataframe thead th {\n",
       "        text-align: right;\n",
       "    }\n",
       "</style>\n",
       "<table border=\"1\" class=\"dataframe\">\n",
       "  <thead>\n",
       "    <tr style=\"text-align: right;\">\n",
       "      <th></th>\n",
       "      <th>Oranges</th>\n",
       "      <th>Pear</th>\n",
       "    </tr>\n",
       "  </thead>\n",
       "  <tbody>\n",
       "    <tr>\n",
       "      <th>June</th>\n",
       "      <td>3</td>\n",
       "      <td>1</td>\n",
       "    </tr>\n",
       "    <tr>\n",
       "      <th>July</th>\n",
       "      <td>2</td>\n",
       "      <td>23</td>\n",
       "    </tr>\n",
       "    <tr>\n",
       "      <th>Augast</th>\n",
       "      <td>1</td>\n",
       "      <td>45</td>\n",
       "    </tr>\n",
       "    <tr>\n",
       "      <th>September</th>\n",
       "      <td>0</td>\n",
       "      <td>1</td>\n",
       "    </tr>\n",
       "  </tbody>\n",
       "</table>\n",
       "</div>"
      ],
      "text/plain": [
       "           Oranges  Pear\n",
       "June             3     1\n",
       "July             2    23\n",
       "Augast           1    45\n",
       "September        0     1"
      ]
     },
     "execution_count": 48,
     "metadata": {},
     "output_type": "execute_result"
    }
   ],
   "source": [
    "# Select Multiple Columns\n",
    "print(df.iloc[:, [0, -1]])      # Access 1st and Last Column\n",
    "\n",
    "df.loc[:, ['Oranges', 'Pear']]"
   ]
  },
  {
   "cell_type": "code",
   "execution_count": null,
   "id": "cbf155c4",
   "metadata": {},
   "outputs": [
    {
     "name": "stdout",
     "output_type": "stream",
     "text": [
      "           Oranges  Apples  Grapes  Pear\n",
      "July             2       3       6    23\n",
      "Augast           1       7       9    45\n",
      "September        0       2       0     1\n"
     ]
    },
    {
     "data": {
      "application/vnd.microsoft.datawrangler.viewer.v0+json": {
       "columns": [
        {
         "name": "index",
         "rawType": "object",
         "type": "string"
        },
        {
         "name": "Oranges",
         "rawType": "int64",
         "type": "integer"
        },
        {
         "name": "Apples",
         "rawType": "int64",
         "type": "integer"
        },
        {
         "name": "Grapes",
         "rawType": "int64",
         "type": "integer"
        },
        {
         "name": "Pear",
         "rawType": "int64",
         "type": "integer"
        }
       ],
       "ref": "ad3a4cb5-da2b-4146-9bb3-a68720265cb3",
       "rows": [
        [
         "July",
         "2",
         "3",
         "6",
         "23"
        ],
        [
         "Augast",
         "1",
         "7",
         "9",
         "45"
        ],
        [
         "September",
         "0",
         "2",
         "0",
         "1"
        ]
       ],
       "shape": {
        "columns": 4,
        "rows": 3
       }
      },
      "text/html": [
       "<div>\n",
       "<style scoped>\n",
       "    .dataframe tbody tr th:only-of-type {\n",
       "        vertical-align: middle;\n",
       "    }\n",
       "\n",
       "    .dataframe tbody tr th {\n",
       "        vertical-align: top;\n",
       "    }\n",
       "\n",
       "    .dataframe thead th {\n",
       "        text-align: right;\n",
       "    }\n",
       "</style>\n",
       "<table border=\"1\" class=\"dataframe\">\n",
       "  <thead>\n",
       "    <tr style=\"text-align: right;\">\n",
       "      <th></th>\n",
       "      <th>Oranges</th>\n",
       "      <th>Apples</th>\n",
       "      <th>Grapes</th>\n",
       "      <th>Pear</th>\n",
       "    </tr>\n",
       "  </thead>\n",
       "  <tbody>\n",
       "    <tr>\n",
       "      <th>July</th>\n",
       "      <td>2</td>\n",
       "      <td>3</td>\n",
       "      <td>6</td>\n",
       "      <td>23</td>\n",
       "    </tr>\n",
       "    <tr>\n",
       "      <th>Augast</th>\n",
       "      <td>1</td>\n",
       "      <td>7</td>\n",
       "      <td>9</td>\n",
       "      <td>45</td>\n",
       "    </tr>\n",
       "    <tr>\n",
       "      <th>September</th>\n",
       "      <td>0</td>\n",
       "      <td>2</td>\n",
       "      <td>0</td>\n",
       "      <td>1</td>\n",
       "    </tr>\n",
       "  </tbody>\n",
       "</table>\n",
       "</div>"
      ],
      "text/plain": [
       "           Oranges  Apples  Grapes  Pear\n",
       "July             2       3       6    23\n",
       "Augast           1       7       9    45\n",
       "September        0       2       0     1"
      ]
     },
     "execution_count": 50,
     "metadata": {},
     "output_type": "execute_result"
    }
   ],
   "source": [
    "# Select Rows Range -> Slicing\n",
    "print(df.iloc[1: 4])    # Access 3 Rows from index=1 to index=3\n",
    "\n",
    "df.loc['July': 'September']     # Stop here is Inclusive"
   ]
  },
  {
   "cell_type": "code",
   "execution_count": 52,
   "id": "5d97a550",
   "metadata": {},
   "outputs": [
    {
     "name": "stdout",
     "output_type": "stream",
     "text": [
      "           Apples  Grapes  Pear\n",
      "June            0       5     1\n",
      "July            3       6    23\n",
      "Augast          7       9    45\n",
      "September       2       0     1\n"
     ]
    },
    {
     "data": {
      "application/vnd.microsoft.datawrangler.viewer.v0+json": {
       "columns": [
        {
         "name": "index",
         "rawType": "object",
         "type": "string"
        },
        {
         "name": "Apples",
         "rawType": "int64",
         "type": "integer"
        },
        {
         "name": "Grapes",
         "rawType": "int64",
         "type": "integer"
        },
        {
         "name": "Pear",
         "rawType": "int64",
         "type": "integer"
        }
       ],
       "ref": "7b60dcd1-7214-4a4a-85a7-87fdbb3e720b",
       "rows": [
        [
         "June",
         "0",
         "5",
         "1"
        ],
        [
         "July",
         "3",
         "6",
         "23"
        ],
        [
         "Augast",
         "7",
         "9",
         "45"
        ],
        [
         "September",
         "2",
         "0",
         "1"
        ]
       ],
       "shape": {
        "columns": 3,
        "rows": 4
       }
      },
      "text/html": [
       "<div>\n",
       "<style scoped>\n",
       "    .dataframe tbody tr th:only-of-type {\n",
       "        vertical-align: middle;\n",
       "    }\n",
       "\n",
       "    .dataframe tbody tr th {\n",
       "        vertical-align: top;\n",
       "    }\n",
       "\n",
       "    .dataframe thead th {\n",
       "        text-align: right;\n",
       "    }\n",
       "</style>\n",
       "<table border=\"1\" class=\"dataframe\">\n",
       "  <thead>\n",
       "    <tr style=\"text-align: right;\">\n",
       "      <th></th>\n",
       "      <th>Apples</th>\n",
       "      <th>Grapes</th>\n",
       "      <th>Pear</th>\n",
       "    </tr>\n",
       "  </thead>\n",
       "  <tbody>\n",
       "    <tr>\n",
       "      <th>June</th>\n",
       "      <td>0</td>\n",
       "      <td>5</td>\n",
       "      <td>1</td>\n",
       "    </tr>\n",
       "    <tr>\n",
       "      <th>July</th>\n",
       "      <td>3</td>\n",
       "      <td>6</td>\n",
       "      <td>23</td>\n",
       "    </tr>\n",
       "    <tr>\n",
       "      <th>Augast</th>\n",
       "      <td>7</td>\n",
       "      <td>9</td>\n",
       "      <td>45</td>\n",
       "    </tr>\n",
       "    <tr>\n",
       "      <th>September</th>\n",
       "      <td>2</td>\n",
       "      <td>0</td>\n",
       "      <td>1</td>\n",
       "    </tr>\n",
       "  </tbody>\n",
       "</table>\n",
       "</div>"
      ],
      "text/plain": [
       "           Apples  Grapes  Pear\n",
       "June            0       5     1\n",
       "July            3       6    23\n",
       "Augast          7       9    45\n",
       "September       2       0     1"
      ]
     },
     "execution_count": 52,
     "metadata": {},
     "output_type": "execute_result"
    }
   ],
   "source": [
    "# Select Columns Range\n",
    "print(df.iloc[:, 1: 4])\n",
    "\n",
    "df.loc[:, 'Apples': 'Pear']"
   ]
  },
  {
   "cell_type": "code",
   "execution_count": 54,
   "metadata": {},
   "outputs": [
    {
     "data": {
      "application/vnd.microsoft.datawrangler.viewer.v0+json": {
       "columns": [
        {
         "name": "index",
         "rawType": "object",
         "type": "string"
        },
        {
         "name": "Oranges",
         "rawType": "int64",
         "type": "integer"
        },
        {
         "name": "Apples",
         "rawType": "int64",
         "type": "integer"
        },
        {
         "name": "Grapes",
         "rawType": "int64",
         "type": "integer"
        },
        {
         "name": "Pear",
         "rawType": "int64",
         "type": "integer"
        }
       ],
       "ref": "80d37a7c-dbe3-485b-9ba0-c62ab27d0a2f",
       "rows": [
        [
         "July",
         "2",
         "3",
         "6",
         "23"
        ],
        [
         "Augast",
         "1",
         "7",
         "9",
         "45"
        ]
       ],
       "shape": {
        "columns": 4,
        "rows": 2
       }
      },
      "text/html": [
       "<div>\n",
       "<style scoped>\n",
       "    .dataframe tbody tr th:only-of-type {\n",
       "        vertical-align: middle;\n",
       "    }\n",
       "\n",
       "    .dataframe tbody tr th {\n",
       "        vertical-align: top;\n",
       "    }\n",
       "\n",
       "    .dataframe thead th {\n",
       "        text-align: right;\n",
       "    }\n",
       "</style>\n",
       "<table border=\"1\" class=\"dataframe\">\n",
       "  <thead>\n",
       "    <tr style=\"text-align: right;\">\n",
       "      <th></th>\n",
       "      <th>Oranges</th>\n",
       "      <th>Apples</th>\n",
       "      <th>Grapes</th>\n",
       "      <th>Pear</th>\n",
       "    </tr>\n",
       "  </thead>\n",
       "  <tbody>\n",
       "    <tr>\n",
       "      <th>July</th>\n",
       "      <td>2</td>\n",
       "      <td>3</td>\n",
       "      <td>6</td>\n",
       "      <td>23</td>\n",
       "    </tr>\n",
       "    <tr>\n",
       "      <th>Augast</th>\n",
       "      <td>1</td>\n",
       "      <td>7</td>\n",
       "      <td>9</td>\n",
       "      <td>45</td>\n",
       "    </tr>\n",
       "  </tbody>\n",
       "</table>\n",
       "</div>"
      ],
      "text/plain": [
       "        Oranges  Apples  Grapes  Pear\n",
       "July          2       3       6    23\n",
       "Augast        1       7       9    45"
      ]
     },
     "execution_count": 54,
     "metadata": {},
     "output_type": "execute_result"
    }
   ],
   "source": [
    "# U Can Apply Conditions\n",
    "df.loc[df['Apples'] > 2]"
   ]
  },
  {
   "cell_type": "code",
   "execution_count": 55,
   "id": "93c8e8c1",
   "metadata": {},
   "outputs": [
    {
     "data": {
      "application/vnd.microsoft.datawrangler.viewer.v0+json": {
       "columns": [
        {
         "name": "index",
         "rawType": "object",
         "type": "string"
        },
        {
         "name": "Oranges",
         "rawType": "int64",
         "type": "integer"
        }
       ],
       "ref": "9b835a97-bab0-4557-8b2e-cc01266fe0e6",
       "rows": [
        [
         "July",
         "2"
        ],
        [
         "Augast",
         "1"
        ]
       ],
       "shape": {
        "columns": 1,
        "rows": 2
       }
      },
      "text/plain": [
       "July      2\n",
       "Augast    1\n",
       "Name: Oranges, dtype: int64"
      ]
     },
     "execution_count": 55,
     "metadata": {},
     "output_type": "execute_result"
    }
   ],
   "source": [
    "df.loc[df['Apples'] > 2, 'Oranges']"
   ]
  },
  {
   "cell_type": "code",
   "execution_count": 56,
   "id": "747f7825",
   "metadata": {},
   "outputs": [
    {
     "data": {
      "application/vnd.microsoft.datawrangler.viewer.v0+json": {
       "columns": [
        {
         "name": "index",
         "rawType": "object",
         "type": "string"
        },
        {
         "name": "Oranges",
         "rawType": "int64",
         "type": "integer"
        },
        {
         "name": "Apples",
         "rawType": "int64",
         "type": "integer"
        },
        {
         "name": "Grapes",
         "rawType": "int64",
         "type": "integer"
        },
        {
         "name": "Pear",
         "rawType": "int64",
         "type": "integer"
        }
       ],
       "ref": "24fe6f35-eb67-48ba-b6f1-579e11a23b22",
       "rows": [
        [
         "July",
         "2",
         "3",
         "6",
         "23"
        ]
       ],
       "shape": {
        "columns": 4,
        "rows": 1
       }
      },
      "text/html": [
       "<div>\n",
       "<style scoped>\n",
       "    .dataframe tbody tr th:only-of-type {\n",
       "        vertical-align: middle;\n",
       "    }\n",
       "\n",
       "    .dataframe tbody tr th {\n",
       "        vertical-align: top;\n",
       "    }\n",
       "\n",
       "    .dataframe thead th {\n",
       "        text-align: right;\n",
       "    }\n",
       "</style>\n",
       "<table border=\"1\" class=\"dataframe\">\n",
       "  <thead>\n",
       "    <tr style=\"text-align: right;\">\n",
       "      <th></th>\n",
       "      <th>Oranges</th>\n",
       "      <th>Apples</th>\n",
       "      <th>Grapes</th>\n",
       "      <th>Pear</th>\n",
       "    </tr>\n",
       "  </thead>\n",
       "  <tbody>\n",
       "    <tr>\n",
       "      <th>July</th>\n",
       "      <td>2</td>\n",
       "      <td>3</td>\n",
       "      <td>6</td>\n",
       "      <td>23</td>\n",
       "    </tr>\n",
       "  </tbody>\n",
       "</table>\n",
       "</div>"
      ],
      "text/plain": [
       "      Oranges  Apples  Grapes  Pear\n",
       "July        2       3       6    23"
      ]
     },
     "execution_count": 56,
     "metadata": {},
     "output_type": "execute_result"
    }
   ],
   "source": [
    "# U Can use Lambda Function\n",
    "df.loc[lambda df: df['Apples'] == 3]"
   ]
  },
  {
   "cell_type": "markdown",
   "id": "33962df1",
   "metadata": {},
   "source": [
    "*`Filtering`*"
   ]
  },
  {
   "cell_type": "code",
   "execution_count": 57,
   "id": "e525f5aa",
   "metadata": {},
   "outputs": [
    {
     "data": {
      "application/vnd.microsoft.datawrangler.viewer.v0+json": {
       "columns": [
        {
         "name": "index",
         "rawType": "object",
         "type": "string"
        },
        {
         "name": "Oranges",
         "rawType": "int64",
         "type": "integer"
        },
        {
         "name": "Apples",
         "rawType": "int64",
         "type": "integer"
        },
        {
         "name": "Grapes",
         "rawType": "int64",
         "type": "integer"
        },
        {
         "name": "Pear",
         "rawType": "int64",
         "type": "integer"
        }
       ],
       "ref": "6ff847e8-bc86-43bb-98c6-365acca9ea64",
       "rows": [
        [
         "June",
         "3",
         "0",
         "5",
         "1"
        ],
        [
         "July",
         "2",
         "3",
         "6",
         "23"
        ],
        [
         "Augast",
         "1",
         "7",
         "9",
         "45"
        ],
        [
         "September",
         "0",
         "2",
         "0",
         "1"
        ]
       ],
       "shape": {
        "columns": 4,
        "rows": 4
       }
      },
      "text/html": [
       "<div>\n",
       "<style scoped>\n",
       "    .dataframe tbody tr th:only-of-type {\n",
       "        vertical-align: middle;\n",
       "    }\n",
       "\n",
       "    .dataframe tbody tr th {\n",
       "        vertical-align: top;\n",
       "    }\n",
       "\n",
       "    .dataframe thead th {\n",
       "        text-align: right;\n",
       "    }\n",
       "</style>\n",
       "<table border=\"1\" class=\"dataframe\">\n",
       "  <thead>\n",
       "    <tr style=\"text-align: right;\">\n",
       "      <th></th>\n",
       "      <th>Oranges</th>\n",
       "      <th>Apples</th>\n",
       "      <th>Grapes</th>\n",
       "      <th>Pear</th>\n",
       "    </tr>\n",
       "  </thead>\n",
       "  <tbody>\n",
       "    <tr>\n",
       "      <th>June</th>\n",
       "      <td>3</td>\n",
       "      <td>0</td>\n",
       "      <td>5</td>\n",
       "      <td>1</td>\n",
       "    </tr>\n",
       "    <tr>\n",
       "      <th>July</th>\n",
       "      <td>2</td>\n",
       "      <td>3</td>\n",
       "      <td>6</td>\n",
       "      <td>23</td>\n",
       "    </tr>\n",
       "    <tr>\n",
       "      <th>Augast</th>\n",
       "      <td>1</td>\n",
       "      <td>7</td>\n",
       "      <td>9</td>\n",
       "      <td>45</td>\n",
       "    </tr>\n",
       "    <tr>\n",
       "      <th>September</th>\n",
       "      <td>0</td>\n",
       "      <td>2</td>\n",
       "      <td>0</td>\n",
       "      <td>1</td>\n",
       "    </tr>\n",
       "  </tbody>\n",
       "</table>\n",
       "</div>"
      ],
      "text/plain": [
       "           Oranges  Apples  Grapes  Pear\n",
       "June             3       0       5     1\n",
       "July             2       3       6    23\n",
       "Augast           1       7       9    45\n",
       "September        0       2       0     1"
      ]
     },
     "execution_count": 57,
     "metadata": {},
     "output_type": "execute_result"
    }
   ],
   "source": [
    "df"
   ]
  },
  {
   "cell_type": "code",
   "execution_count": 59,
   "id": "c68b3734",
   "metadata": {},
   "outputs": [
    {
     "data": {
      "application/vnd.microsoft.datawrangler.viewer.v0+json": {
       "columns": [
        {
         "name": "index",
         "rawType": "object",
         "type": "string"
        },
        {
         "name": "Oranges",
         "rawType": "int64",
         "type": "integer"
        },
        {
         "name": "Apples",
         "rawType": "int64",
         "type": "integer"
        },
        {
         "name": "Grapes",
         "rawType": "int64",
         "type": "integer"
        },
        {
         "name": "Pear",
         "rawType": "int64",
         "type": "integer"
        }
       ],
       "ref": "0ae102a0-dc20-455c-b1c8-de55db0d35bc",
       "rows": [
        [
         "June",
         "3",
         "0",
         "5",
         "1"
        ],
        [
         "July",
         "2",
         "3",
         "6",
         "23"
        ]
       ],
       "shape": {
        "columns": 4,
        "rows": 2
       }
      },
      "text/html": [
       "<div>\n",
       "<style scoped>\n",
       "    .dataframe tbody tr th:only-of-type {\n",
       "        vertical-align: middle;\n",
       "    }\n",
       "\n",
       "    .dataframe tbody tr th {\n",
       "        vertical-align: top;\n",
       "    }\n",
       "\n",
       "    .dataframe thead th {\n",
       "        text-align: right;\n",
       "    }\n",
       "</style>\n",
       "<table border=\"1\" class=\"dataframe\">\n",
       "  <thead>\n",
       "    <tr style=\"text-align: right;\">\n",
       "      <th></th>\n",
       "      <th>Oranges</th>\n",
       "      <th>Apples</th>\n",
       "      <th>Grapes</th>\n",
       "      <th>Pear</th>\n",
       "    </tr>\n",
       "  </thead>\n",
       "  <tbody>\n",
       "    <tr>\n",
       "      <th>June</th>\n",
       "      <td>3</td>\n",
       "      <td>0</td>\n",
       "      <td>5</td>\n",
       "      <td>1</td>\n",
       "    </tr>\n",
       "    <tr>\n",
       "      <th>July</th>\n",
       "      <td>2</td>\n",
       "      <td>3</td>\n",
       "      <td>6</td>\n",
       "      <td>23</td>\n",
       "    </tr>\n",
       "  </tbody>\n",
       "</table>\n",
       "</div>"
      ],
      "text/plain": [
       "      Oranges  Apples  Grapes  Pear\n",
       "June        3       0       5     1\n",
       "July        2       3       6    23"
      ]
     },
     "execution_count": 59,
     "metadata": {},
     "output_type": "execute_result"
    }
   ],
   "source": [
    "df.loc[df['Oranges']> 1]"
   ]
  },
  {
   "cell_type": "code",
   "execution_count": 60,
   "id": "88c1f635",
   "metadata": {},
   "outputs": [
    {
     "data": {
      "application/vnd.microsoft.datawrangler.viewer.v0+json": {
       "columns": [
        {
         "name": "index",
         "rawType": "object",
         "type": "string"
        },
        {
         "name": "Oranges",
         "rawType": "int64",
         "type": "integer"
        },
        {
         "name": "Apples",
         "rawType": "int64",
         "type": "integer"
        },
        {
         "name": "Grapes",
         "rawType": "int64",
         "type": "integer"
        },
        {
         "name": "Pear",
         "rawType": "int64",
         "type": "integer"
        }
       ],
       "ref": "9d9c7872-828a-4c9d-9103-8e1b2e8fb082",
       "rows": [
        [
         "July",
         "2",
         "3",
         "6",
         "23"
        ]
       ],
       "shape": {
        "columns": 4,
        "rows": 1
       }
      },
      "text/html": [
       "<div>\n",
       "<style scoped>\n",
       "    .dataframe tbody tr th:only-of-type {\n",
       "        vertical-align: middle;\n",
       "    }\n",
       "\n",
       "    .dataframe tbody tr th {\n",
       "        vertical-align: top;\n",
       "    }\n",
       "\n",
       "    .dataframe thead th {\n",
       "        text-align: right;\n",
       "    }\n",
       "</style>\n",
       "<table border=\"1\" class=\"dataframe\">\n",
       "  <thead>\n",
       "    <tr style=\"text-align: right;\">\n",
       "      <th></th>\n",
       "      <th>Oranges</th>\n",
       "      <th>Apples</th>\n",
       "      <th>Grapes</th>\n",
       "      <th>Pear</th>\n",
       "    </tr>\n",
       "  </thead>\n",
       "  <tbody>\n",
       "    <tr>\n",
       "      <th>July</th>\n",
       "      <td>2</td>\n",
       "      <td>3</td>\n",
       "      <td>6</td>\n",
       "      <td>23</td>\n",
       "    </tr>\n",
       "  </tbody>\n",
       "</table>\n",
       "</div>"
      ],
      "text/plain": [
       "      Oranges  Apples  Grapes  Pear\n",
       "July        2       3       6    23"
      ]
     },
     "execution_count": 60,
     "metadata": {},
     "output_type": "execute_result"
    }
   ],
   "source": [
    "df[df['Apples'] == 3]"
   ]
  },
  {
   "cell_type": "code",
   "execution_count": null,
   "id": "4b1184c0",
   "metadata": {},
   "outputs": [
    {
     "data": {
      "application/vnd.microsoft.datawrangler.viewer.v0+json": {
       "columns": [
        {
         "name": "index",
         "rawType": "object",
         "type": "string"
        },
        {
         "name": "Oranges",
         "rawType": "int64",
         "type": "integer"
        },
        {
         "name": "Apples",
         "rawType": "int64",
         "type": "integer"
        },
        {
         "name": "Grapes",
         "rawType": "int64",
         "type": "integer"
        },
        {
         "name": "Pear",
         "rawType": "int64",
         "type": "integer"
        }
       ],
       "ref": "e8ecc1df-392b-4db8-864d-9bc6b2aa0afc",
       "rows": [
        [
         "July",
         "2",
         "3",
         "6",
         "23"
        ],
        [
         "Augast",
         "1",
         "7",
         "9",
         "45"
        ]
       ],
       "shape": {
        "columns": 4,
        "rows": 2
       }
      },
      "text/html": [
       "<div>\n",
       "<style scoped>\n",
       "    .dataframe tbody tr th:only-of-type {\n",
       "        vertical-align: middle;\n",
       "    }\n",
       "\n",
       "    .dataframe tbody tr th {\n",
       "        vertical-align: top;\n",
       "    }\n",
       "\n",
       "    .dataframe thead th {\n",
       "        text-align: right;\n",
       "    }\n",
       "</style>\n",
       "<table border=\"1\" class=\"dataframe\">\n",
       "  <thead>\n",
       "    <tr style=\"text-align: right;\">\n",
       "      <th></th>\n",
       "      <th>Oranges</th>\n",
       "      <th>Apples</th>\n",
       "      <th>Grapes</th>\n",
       "      <th>Pear</th>\n",
       "    </tr>\n",
       "  </thead>\n",
       "  <tbody>\n",
       "    <tr>\n",
       "      <th>July</th>\n",
       "      <td>2</td>\n",
       "      <td>3</td>\n",
       "      <td>6</td>\n",
       "      <td>23</td>\n",
       "    </tr>\n",
       "    <tr>\n",
       "      <th>Augast</th>\n",
       "      <td>1</td>\n",
       "      <td>7</td>\n",
       "      <td>9</td>\n",
       "      <td>45</td>\n",
       "    </tr>\n",
       "  </tbody>\n",
       "</table>\n",
       "</div>"
      ],
      "text/plain": [
       "        Oranges  Apples  Grapes  Pear\n",
       "July          2       3       6    23\n",
       "Augast        1       7       9    45"
      ]
     },
     "execution_count": 62,
     "metadata": {},
     "output_type": "execute_result"
    }
   ],
   "source": [
    "# df.query(Query_Expression)\n",
    "df.query(\"Pear > 1 \")"
   ]
  },
  {
   "cell_type": "code",
   "execution_count": 64,
   "id": "af7831aa",
   "metadata": {},
   "outputs": [
    {
     "data": {
      "application/vnd.microsoft.datawrangler.viewer.v0+json": {
       "columns": [
        {
         "name": "index",
         "rawType": "object",
         "type": "string"
        },
        {
         "name": "Oranges",
         "rawType": "int64",
         "type": "integer"
        },
        {
         "name": "Apples",
         "rawType": "int64",
         "type": "integer"
        },
        {
         "name": "Grapes",
         "rawType": "int64",
         "type": "integer"
        },
        {
         "name": "Pear",
         "rawType": "int64",
         "type": "integer"
        }
       ],
       "ref": "ebafcbd2-2517-4b03-80a7-8a06e3c6bff3",
       "rows": [
        [
         "July",
         "2",
         "3",
         "6",
         "23"
        ],
        [
         "Augast",
         "1",
         "7",
         "9",
         "45"
        ]
       ],
       "shape": {
        "columns": 4,
        "rows": 2
       }
      },
      "text/html": [
       "<div>\n",
       "<style scoped>\n",
       "    .dataframe tbody tr th:only-of-type {\n",
       "        vertical-align: middle;\n",
       "    }\n",
       "\n",
       "    .dataframe tbody tr th {\n",
       "        vertical-align: top;\n",
       "    }\n",
       "\n",
       "    .dataframe thead th {\n",
       "        text-align: right;\n",
       "    }\n",
       "</style>\n",
       "<table border=\"1\" class=\"dataframe\">\n",
       "  <thead>\n",
       "    <tr style=\"text-align: right;\">\n",
       "      <th></th>\n",
       "      <th>Oranges</th>\n",
       "      <th>Apples</th>\n",
       "      <th>Grapes</th>\n",
       "      <th>Pear</th>\n",
       "    </tr>\n",
       "  </thead>\n",
       "  <tbody>\n",
       "    <tr>\n",
       "      <th>July</th>\n",
       "      <td>2</td>\n",
       "      <td>3</td>\n",
       "      <td>6</td>\n",
       "      <td>23</td>\n",
       "    </tr>\n",
       "    <tr>\n",
       "      <th>Augast</th>\n",
       "      <td>1</td>\n",
       "      <td>7</td>\n",
       "      <td>9</td>\n",
       "      <td>45</td>\n",
       "    </tr>\n",
       "  </tbody>\n",
       "</table>\n",
       "</div>"
      ],
      "text/plain": [
       "        Oranges  Apples  Grapes  Pear\n",
       "July          2       3       6    23\n",
       "Augast        1       7       9    45"
      ]
     },
     "execution_count": 64,
     "metadata": {},
     "output_type": "execute_result"
    }
   ],
   "source": [
    "# Add 2 or more conditions -> AND/ OR\n",
    "df.loc[(df['Apples'] > 2) & (df['Grapes'] >= 0)]"
   ]
  },
  {
   "cell_type": "markdown",
   "id": "8857d81c",
   "metadata": {},
   "source": [
    "### *`Analyzing DataFrames : ` (head, tail, info, describe)*"
   ]
  },
  {
   "cell_type": "code",
   "execution_count": 65,
   "id": "0ceb3bcc",
   "metadata": {},
   "outputs": [
    {
     "data": {
      "application/vnd.microsoft.datawrangler.viewer.v0+json": {
       "columns": [
        {
         "name": "index",
         "rawType": "object",
         "type": "string"
        },
        {
         "name": "A",
         "rawType": "int64",
         "type": "integer"
        },
        {
         "name": "B",
         "rawType": "int64",
         "type": "integer"
        },
        {
         "name": "C",
         "rawType": "int64",
         "type": "integer"
        }
       ],
       "ref": "7fa62d59-4b52-4f46-9139-f50798faa8ab",
       "rows": [
        [
         "X",
         "1",
         "2",
         "3"
        ],
        [
         "Y",
         "4",
         "5",
         "6"
        ],
        [
         "Z",
         "7",
         "8",
         "9"
        ]
       ],
       "shape": {
        "columns": 3,
        "rows": 3
       }
      },
      "text/html": [
       "<div>\n",
       "<style scoped>\n",
       "    .dataframe tbody tr th:only-of-type {\n",
       "        vertical-align: middle;\n",
       "    }\n",
       "\n",
       "    .dataframe tbody tr th {\n",
       "        vertical-align: top;\n",
       "    }\n",
       "\n",
       "    .dataframe thead th {\n",
       "        text-align: right;\n",
       "    }\n",
       "</style>\n",
       "<table border=\"1\" class=\"dataframe\">\n",
       "  <thead>\n",
       "    <tr style=\"text-align: right;\">\n",
       "      <th></th>\n",
       "      <th>A</th>\n",
       "      <th>B</th>\n",
       "      <th>C</th>\n",
       "    </tr>\n",
       "  </thead>\n",
       "  <tbody>\n",
       "    <tr>\n",
       "      <th>X</th>\n",
       "      <td>1</td>\n",
       "      <td>2</td>\n",
       "      <td>3</td>\n",
       "    </tr>\n",
       "    <tr>\n",
       "      <th>Y</th>\n",
       "      <td>4</td>\n",
       "      <td>5</td>\n",
       "      <td>6</td>\n",
       "    </tr>\n",
       "    <tr>\n",
       "      <th>Z</th>\n",
       "      <td>7</td>\n",
       "      <td>8</td>\n",
       "      <td>9</td>\n",
       "    </tr>\n",
       "  </tbody>\n",
       "</table>\n",
       "</div>"
      ],
      "text/plain": [
       "   A  B  C\n",
       "X  1  2  3\n",
       "Y  4  5  6\n",
       "Z  7  8  9"
      ]
     },
     "execution_count": 65,
     "metadata": {},
     "output_type": "execute_result"
    }
   ],
   "source": [
    "df = pd.DataFrame([[1, 2, 3], [4, 5, 6], [7, 8, 9]], columns=['A', 'B', 'C'], index=['X', 'Y', 'Z'] )\n",
    "\n",
    "df"
   ]
  },
  {
   "cell_type": "code",
   "execution_count": 66,
   "id": "c6332469",
   "metadata": {},
   "outputs": [
    {
     "data": {
      "application/vnd.microsoft.datawrangler.viewer.v0+json": {
       "columns": [
        {
         "name": "index",
         "rawType": "object",
         "type": "string"
        },
        {
         "name": "A",
         "rawType": "int64",
         "type": "integer"
        },
        {
         "name": "B",
         "rawType": "int64",
         "type": "integer"
        },
        {
         "name": "C",
         "rawType": "int64",
         "type": "integer"
        }
       ],
       "ref": "23f8049e-e6e4-411b-b745-639ac726d497",
       "rows": [
        [
         "X",
         "1",
         "2",
         "3"
        ],
        [
         "Y",
         "4",
         "5",
         "6"
        ]
       ],
       "shape": {
        "columns": 3,
        "rows": 2
       }
      },
      "text/html": [
       "<div>\n",
       "<style scoped>\n",
       "    .dataframe tbody tr th:only-of-type {\n",
       "        vertical-align: middle;\n",
       "    }\n",
       "\n",
       "    .dataframe tbody tr th {\n",
       "        vertical-align: top;\n",
       "    }\n",
       "\n",
       "    .dataframe thead th {\n",
       "        text-align: right;\n",
       "    }\n",
       "</style>\n",
       "<table border=\"1\" class=\"dataframe\">\n",
       "  <thead>\n",
       "    <tr style=\"text-align: right;\">\n",
       "      <th></th>\n",
       "      <th>A</th>\n",
       "      <th>B</th>\n",
       "      <th>C</th>\n",
       "    </tr>\n",
       "  </thead>\n",
       "  <tbody>\n",
       "    <tr>\n",
       "      <th>X</th>\n",
       "      <td>1</td>\n",
       "      <td>2</td>\n",
       "      <td>3</td>\n",
       "    </tr>\n",
       "    <tr>\n",
       "      <th>Y</th>\n",
       "      <td>4</td>\n",
       "      <td>5</td>\n",
       "      <td>6</td>\n",
       "    </tr>\n",
       "  </tbody>\n",
       "</table>\n",
       "</div>"
      ],
      "text/plain": [
       "   A  B  C\n",
       "X  1  2  3\n",
       "Y  4  5  6"
      ]
     },
     "execution_count": 66,
     "metadata": {},
     "output_type": "execute_result"
    }
   ],
   "source": [
    "df.head(2)"
   ]
  },
  {
   "cell_type": "code",
   "execution_count": 67,
   "id": "4c4e42c2",
   "metadata": {},
   "outputs": [
    {
     "data": {
      "application/vnd.microsoft.datawrangler.viewer.v0+json": {
       "columns": [
        {
         "name": "index",
         "rawType": "object",
         "type": "string"
        },
        {
         "name": "A",
         "rawType": "int64",
         "type": "integer"
        },
        {
         "name": "B",
         "rawType": "int64",
         "type": "integer"
        },
        {
         "name": "C",
         "rawType": "int64",
         "type": "integer"
        }
       ],
       "ref": "a1660f96-ce66-4088-9a12-5bdfa2da9e6e",
       "rows": [
        [
         "Z",
         "7",
         "8",
         "9"
        ]
       ],
       "shape": {
        "columns": 3,
        "rows": 1
       }
      },
      "text/html": [
       "<div>\n",
       "<style scoped>\n",
       "    .dataframe tbody tr th:only-of-type {\n",
       "        vertical-align: middle;\n",
       "    }\n",
       "\n",
       "    .dataframe tbody tr th {\n",
       "        vertical-align: top;\n",
       "    }\n",
       "\n",
       "    .dataframe thead th {\n",
       "        text-align: right;\n",
       "    }\n",
       "</style>\n",
       "<table border=\"1\" class=\"dataframe\">\n",
       "  <thead>\n",
       "    <tr style=\"text-align: right;\">\n",
       "      <th></th>\n",
       "      <th>A</th>\n",
       "      <th>B</th>\n",
       "      <th>C</th>\n",
       "    </tr>\n",
       "  </thead>\n",
       "  <tbody>\n",
       "    <tr>\n",
       "      <th>Z</th>\n",
       "      <td>7</td>\n",
       "      <td>8</td>\n",
       "      <td>9</td>\n",
       "    </tr>\n",
       "  </tbody>\n",
       "</table>\n",
       "</div>"
      ],
      "text/plain": [
       "   A  B  C\n",
       "Z  7  8  9"
      ]
     },
     "execution_count": 67,
     "metadata": {},
     "output_type": "execute_result"
    }
   ],
   "source": [
    "df.tail(1)"
   ]
  },
  {
   "cell_type": "code",
   "execution_count": 68,
   "id": "7a1d40ad",
   "metadata": {},
   "outputs": [
    {
     "name": "stdout",
     "output_type": "stream",
     "text": [
      "<class 'pandas.core.frame.DataFrame'>\n",
      "Index: 3 entries, X to Z\n",
      "Data columns (total 3 columns):\n",
      " #   Column  Non-Null Count  Dtype\n",
      "---  ------  --------------  -----\n",
      " 0   A       3 non-null      int64\n",
      " 1   B       3 non-null      int64\n",
      " 2   C       3 non-null      int64\n",
      "dtypes: int64(3)\n",
      "memory usage: 96.0+ bytes\n"
     ]
    }
   ],
   "source": [
    "df.info()"
   ]
  },
  {
   "cell_type": "code",
   "execution_count": 69,
   "metadata": {},
   "outputs": [
    {
     "data": {
      "application/vnd.microsoft.datawrangler.viewer.v0+json": {
       "columns": [
        {
         "name": "index",
         "rawType": "object",
         "type": "string"
        },
        {
         "name": "A",
         "rawType": "float64",
         "type": "float"
        },
        {
         "name": "B",
         "rawType": "float64",
         "type": "float"
        },
        {
         "name": "C",
         "rawType": "float64",
         "type": "float"
        }
       ],
       "ref": "0d86d63f-5c7d-4b85-ae02-6c7cdfb22cce",
       "rows": [
        [
         "count",
         "3.0",
         "3.0",
         "3.0"
        ],
        [
         "mean",
         "4.0",
         "5.0",
         "6.0"
        ],
        [
         "std",
         "3.0",
         "3.0",
         "3.0"
        ],
        [
         "min",
         "1.0",
         "2.0",
         "3.0"
        ],
        [
         "25%",
         "2.5",
         "3.5",
         "4.5"
        ],
        [
         "50%",
         "4.0",
         "5.0",
         "6.0"
        ],
        [
         "75%",
         "5.5",
         "6.5",
         "7.5"
        ],
        [
         "max",
         "7.0",
         "8.0",
         "9.0"
        ]
       ],
       "shape": {
        "columns": 3,
        "rows": 8
       }
      },
      "text/html": [
       "<div>\n",
       "<style scoped>\n",
       "    .dataframe tbody tr th:only-of-type {\n",
       "        vertical-align: middle;\n",
       "    }\n",
       "\n",
       "    .dataframe tbody tr th {\n",
       "        vertical-align: top;\n",
       "    }\n",
       "\n",
       "    .dataframe thead th {\n",
       "        text-align: right;\n",
       "    }\n",
       "</style>\n",
       "<table border=\"1\" class=\"dataframe\">\n",
       "  <thead>\n",
       "    <tr style=\"text-align: right;\">\n",
       "      <th></th>\n",
       "      <th>A</th>\n",
       "      <th>B</th>\n",
       "      <th>C</th>\n",
       "    </tr>\n",
       "  </thead>\n",
       "  <tbody>\n",
       "    <tr>\n",
       "      <th>count</th>\n",
       "      <td>3.0</td>\n",
       "      <td>3.0</td>\n",
       "      <td>3.0</td>\n",
       "    </tr>\n",
       "    <tr>\n",
       "      <th>mean</th>\n",
       "      <td>4.0</td>\n",
       "      <td>5.0</td>\n",
       "      <td>6.0</td>\n",
       "    </tr>\n",
       "    <tr>\n",
       "      <th>std</th>\n",
       "      <td>3.0</td>\n",
       "      <td>3.0</td>\n",
       "      <td>3.0</td>\n",
       "    </tr>\n",
       "    <tr>\n",
       "      <th>min</th>\n",
       "      <td>1.0</td>\n",
       "      <td>2.0</td>\n",
       "      <td>3.0</td>\n",
       "    </tr>\n",
       "    <tr>\n",
       "      <th>25%</th>\n",
       "      <td>2.5</td>\n",
       "      <td>3.5</td>\n",
       "      <td>4.5</td>\n",
       "    </tr>\n",
       "    <tr>\n",
       "      <th>50%</th>\n",
       "      <td>4.0</td>\n",
       "      <td>5.0</td>\n",
       "      <td>6.0</td>\n",
       "    </tr>\n",
       "    <tr>\n",
       "      <th>75%</th>\n",
       "      <td>5.5</td>\n",
       "      <td>6.5</td>\n",
       "      <td>7.5</td>\n",
       "    </tr>\n",
       "    <tr>\n",
       "      <th>max</th>\n",
       "      <td>7.0</td>\n",
       "      <td>8.0</td>\n",
       "      <td>9.0</td>\n",
       "    </tr>\n",
       "  </tbody>\n",
       "</table>\n",
       "</div>"
      ],
      "text/plain": [
       "         A    B    C\n",
       "count  3.0  3.0  3.0\n",
       "mean   4.0  5.0  6.0\n",
       "std    3.0  3.0  3.0\n",
       "min    1.0  2.0  3.0\n",
       "25%    2.5  3.5  4.5\n",
       "50%    4.0  5.0  6.0\n",
       "75%    5.5  6.5  7.5\n",
       "max    7.0  8.0  9.0"
      ]
     },
     "execution_count": 69,
     "metadata": {},
     "output_type": "execute_result"
    }
   ],
   "source": [
    "df.describe()"
   ]
  },
  {
   "cell_type": "code",
   "execution_count": 5,
   "metadata": {},
   "outputs": [
    {
     "data": {
      "text/plain": [
       "array([1, 4, 7])"
      ]
     },
     "execution_count": 5,
     "metadata": {},
     "output_type": "execute_result"
    }
   ],
   "source": [
    "df['A'].unique()"
   ]
  },
  {
   "cell_type": "code",
   "execution_count": 6,
   "id": "16df2acd",
   "metadata": {},
   "outputs": [
    {
     "data": {
      "text/plain": [
       "3"
      ]
     },
     "execution_count": 6,
     "metadata": {},
     "output_type": "execute_result"
    }
   ],
   "source": [
    "df['A'].nunique()"
   ]
  },
  {
   "cell_type": "code",
   "execution_count": 7,
   "id": "9c30c6d2",
   "metadata": {},
   "outputs": [
    {
     "data": {
      "text/plain": [
       "(3, 3)"
      ]
     },
     "execution_count": 7,
     "metadata": {},
     "output_type": "execute_result"
    }
   ],
   "source": [
    "df.shape"
   ]
  },
  {
   "cell_type": "code",
   "execution_count": 9,
   "id": "2f034047",
   "metadata": {},
   "outputs": [
    {
     "data": {
      "text/plain": [
       "9"
      ]
     },
     "execution_count": 9,
     "metadata": {},
     "output_type": "execute_result"
    }
   ],
   "source": [
    "df.size"
   ]
  },
  {
   "cell_type": "markdown",
   "id": "e620c703",
   "metadata": {},
   "source": [
    "### *`Load in Dataframes from Files`*"
   ]
  },
  {
   "cell_type": "code",
   "execution_count": null,
   "id": "1c2f759d",
   "metadata": {},
   "outputs": [
    {
     "data": {
      "application/vnd.microsoft.datawrangler.viewer.v0+json": {
       "columns": [
        {
         "name": "index",
         "rawType": "int64",
         "type": "integer"
        },
        {
         "name": "Make",
         "rawType": "object",
         "type": "string"
        },
        {
         "name": "Model",
         "rawType": "object",
         "type": "string"
        },
        {
         "name": "Year",
         "rawType": "int64",
         "type": "integer"
        },
        {
         "name": "Engine Fuel Type",
         "rawType": "object",
         "type": "string"
        },
        {
         "name": "Engine HP",
         "rawType": "float64",
         "type": "float"
        },
        {
         "name": "Engine Cylinders",
         "rawType": "float64",
         "type": "float"
        },
        {
         "name": "Transmission Type",
         "rawType": "object",
         "type": "string"
        },
        {
         "name": "Driven_Wheels",
         "rawType": "object",
         "type": "string"
        },
        {
         "name": "Number of Doors",
         "rawType": "float64",
         "type": "float"
        },
        {
         "name": "Market Category",
         "rawType": "object",
         "type": "string"
        },
        {
         "name": "Vehicle Size",
         "rawType": "object",
         "type": "string"
        },
        {
         "name": "Vehicle Style",
         "rawType": "object",
         "type": "string"
        },
        {
         "name": "highway MPG",
         "rawType": "int64",
         "type": "integer"
        },
        {
         "name": "city mpg",
         "rawType": "int64",
         "type": "integer"
        },
        {
         "name": "Popularity",
         "rawType": "int64",
         "type": "integer"
        },
        {
         "name": "MSRP",
         "rawType": "int64",
         "type": "integer"
        }
       ],
       "ref": "f5c7bd00-fb07-4885-b7f6-e79a385d9790",
       "rows": [
        [
         "0",
         "BMW",
         "1 Series M",
         "2011",
         "premium unleaded (required)",
         "335.0",
         "6.0",
         "MANUAL",
         "rear wheel drive",
         "2.0",
         "Factory Tuner,Luxury,High-Performance",
         "Compact",
         "Coupe",
         "26",
         "19",
         "3916",
         "46135"
        ],
        [
         "1",
         "BMW",
         "1 Series",
         "2011",
         "premium unleaded (required)",
         "300.0",
         "6.0",
         "MANUAL",
         "rear wheel drive",
         "2.0",
         "Luxury,Performance",
         "Compact",
         "Convertible",
         "28",
         "19",
         "3916",
         "40650"
        ],
        [
         "2",
         "BMW",
         "1 Series",
         "2011",
         "premium unleaded (required)",
         "300.0",
         "6.0",
         "MANUAL",
         "rear wheel drive",
         "2.0",
         "Luxury,High-Performance",
         "Compact",
         "Coupe",
         "28",
         "20",
         "3916",
         "36350"
        ],
        [
         "3",
         "BMW",
         "1 Series",
         "2011",
         "premium unleaded (required)",
         "230.0",
         "6.0",
         "MANUAL",
         "rear wheel drive",
         "2.0",
         "Luxury,Performance",
         "Compact",
         "Coupe",
         "28",
         "18",
         "3916",
         "29450"
        ],
        [
         "4",
         "BMW",
         "1 Series",
         "2011",
         "premium unleaded (required)",
         "230.0",
         "6.0",
         "MANUAL",
         "rear wheel drive",
         "2.0",
         "Luxury",
         "Compact",
         "Convertible",
         "28",
         "18",
         "3916",
         "34500"
        ]
       ],
       "shape": {
        "columns": 16,
        "rows": 5
       }
      },
      "text/html": [
       "<div>\n",
       "<style scoped>\n",
       "    .dataframe tbody tr th:only-of-type {\n",
       "        vertical-align: middle;\n",
       "    }\n",
       "\n",
       "    .dataframe tbody tr th {\n",
       "        vertical-align: top;\n",
       "    }\n",
       "\n",
       "    .dataframe thead th {\n",
       "        text-align: right;\n",
       "    }\n",
       "</style>\n",
       "<table border=\"1\" class=\"dataframe\">\n",
       "  <thead>\n",
       "    <tr style=\"text-align: right;\">\n",
       "      <th></th>\n",
       "      <th>Make</th>\n",
       "      <th>Model</th>\n",
       "      <th>Year</th>\n",
       "      <th>Engine Fuel Type</th>\n",
       "      <th>Engine HP</th>\n",
       "      <th>Engine Cylinders</th>\n",
       "      <th>Transmission Type</th>\n",
       "      <th>Driven_Wheels</th>\n",
       "      <th>Number of Doors</th>\n",
       "      <th>Market Category</th>\n",
       "      <th>Vehicle Size</th>\n",
       "      <th>Vehicle Style</th>\n",
       "      <th>highway MPG</th>\n",
       "      <th>city mpg</th>\n",
       "      <th>Popularity</th>\n",
       "      <th>MSRP</th>\n",
       "    </tr>\n",
       "  </thead>\n",
       "  <tbody>\n",
       "    <tr>\n",
       "      <th>0</th>\n",
       "      <td>BMW</td>\n",
       "      <td>1 Series M</td>\n",
       "      <td>2011</td>\n",
       "      <td>premium unleaded (required)</td>\n",
       "      <td>335.0</td>\n",
       "      <td>6.0</td>\n",
       "      <td>MANUAL</td>\n",
       "      <td>rear wheel drive</td>\n",
       "      <td>2.0</td>\n",
       "      <td>Factory Tuner,Luxury,High-Performance</td>\n",
       "      <td>Compact</td>\n",
       "      <td>Coupe</td>\n",
       "      <td>26</td>\n",
       "      <td>19</td>\n",
       "      <td>3916</td>\n",
       "      <td>46135</td>\n",
       "    </tr>\n",
       "    <tr>\n",
       "      <th>1</th>\n",
       "      <td>BMW</td>\n",
       "      <td>1 Series</td>\n",
       "      <td>2011</td>\n",
       "      <td>premium unleaded (required)</td>\n",
       "      <td>300.0</td>\n",
       "      <td>6.0</td>\n",
       "      <td>MANUAL</td>\n",
       "      <td>rear wheel drive</td>\n",
       "      <td>2.0</td>\n",
       "      <td>Luxury,Performance</td>\n",
       "      <td>Compact</td>\n",
       "      <td>Convertible</td>\n",
       "      <td>28</td>\n",
       "      <td>19</td>\n",
       "      <td>3916</td>\n",
       "      <td>40650</td>\n",
       "    </tr>\n",
       "    <tr>\n",
       "      <th>2</th>\n",
       "      <td>BMW</td>\n",
       "      <td>1 Series</td>\n",
       "      <td>2011</td>\n",
       "      <td>premium unleaded (required)</td>\n",
       "      <td>300.0</td>\n",
       "      <td>6.0</td>\n",
       "      <td>MANUAL</td>\n",
       "      <td>rear wheel drive</td>\n",
       "      <td>2.0</td>\n",
       "      <td>Luxury,High-Performance</td>\n",
       "      <td>Compact</td>\n",
       "      <td>Coupe</td>\n",
       "      <td>28</td>\n",
       "      <td>20</td>\n",
       "      <td>3916</td>\n",
       "      <td>36350</td>\n",
       "    </tr>\n",
       "    <tr>\n",
       "      <th>3</th>\n",
       "      <td>BMW</td>\n",
       "      <td>1 Series</td>\n",
       "      <td>2011</td>\n",
       "      <td>premium unleaded (required)</td>\n",
       "      <td>230.0</td>\n",
       "      <td>6.0</td>\n",
       "      <td>MANUAL</td>\n",
       "      <td>rear wheel drive</td>\n",
       "      <td>2.0</td>\n",
       "      <td>Luxury,Performance</td>\n",
       "      <td>Compact</td>\n",
       "      <td>Coupe</td>\n",
       "      <td>28</td>\n",
       "      <td>18</td>\n",
       "      <td>3916</td>\n",
       "      <td>29450</td>\n",
       "    </tr>\n",
       "    <tr>\n",
       "      <th>4</th>\n",
       "      <td>BMW</td>\n",
       "      <td>1 Series</td>\n",
       "      <td>2011</td>\n",
       "      <td>premium unleaded (required)</td>\n",
       "      <td>230.0</td>\n",
       "      <td>6.0</td>\n",
       "      <td>MANUAL</td>\n",
       "      <td>rear wheel drive</td>\n",
       "      <td>2.0</td>\n",
       "      <td>Luxury</td>\n",
       "      <td>Compact</td>\n",
       "      <td>Convertible</td>\n",
       "      <td>28</td>\n",
       "      <td>18</td>\n",
       "      <td>3916</td>\n",
       "      <td>34500</td>\n",
       "    </tr>\n",
       "  </tbody>\n",
       "</table>\n",
       "</div>"
      ],
      "text/plain": [
       "  Make       Model  Year             Engine Fuel Type  Engine HP  \\\n",
       "0  BMW  1 Series M  2011  premium unleaded (required)      335.0   \n",
       "1  BMW    1 Series  2011  premium unleaded (required)      300.0   \n",
       "2  BMW    1 Series  2011  premium unleaded (required)      300.0   \n",
       "3  BMW    1 Series  2011  premium unleaded (required)      230.0   \n",
       "4  BMW    1 Series  2011  premium unleaded (required)      230.0   \n",
       "\n",
       "   Engine Cylinders Transmission Type     Driven_Wheels  Number of Doors  \\\n",
       "0               6.0            MANUAL  rear wheel drive              2.0   \n",
       "1               6.0            MANUAL  rear wheel drive              2.0   \n",
       "2               6.0            MANUAL  rear wheel drive              2.0   \n",
       "3               6.0            MANUAL  rear wheel drive              2.0   \n",
       "4               6.0            MANUAL  rear wheel drive              2.0   \n",
       "\n",
       "                         Market Category Vehicle Size Vehicle Style  \\\n",
       "0  Factory Tuner,Luxury,High-Performance      Compact         Coupe   \n",
       "1                     Luxury,Performance      Compact   Convertible   \n",
       "2                Luxury,High-Performance      Compact         Coupe   \n",
       "3                     Luxury,Performance      Compact         Coupe   \n",
       "4                                 Luxury      Compact   Convertible   \n",
       "\n",
       "   highway MPG  city mpg  Popularity   MSRP  \n",
       "0           26        19        3916  46135  \n",
       "1           28        19        3916  40650  \n",
       "2           28        20        3916  36350  \n",
       "3           28        18        3916  29450  \n",
       "4           28        18        3916  34500  "
      ]
     },
     "execution_count": 70,
     "metadata": {},
     "output_type": "execute_result"
    }
   ],
   "source": [
    "# Load a CSV File -> pd.read_csv(..., delimiter=.., ..etc.)\n",
    "\n",
    "df = pd.read_csv('data.csv')\n",
    "\n",
    "# Display First 5 Rows(default) or you can specify the number of rows u want.\n",
    "df.head()"
   ]
  },
  {
   "cell_type": "code",
   "execution_count": 71,
   "id": "4ecb27df",
   "metadata": {},
   "outputs": [
    {
     "data": {
      "application/vnd.microsoft.datawrangler.viewer.v0+json": {
       "columns": [
        {
         "name": "index",
         "rawType": "int64",
         "type": "integer"
        },
        {
         "name": "Make",
         "rawType": "object",
         "type": "string"
        },
        {
         "name": "Model",
         "rawType": "object",
         "type": "string"
        },
        {
         "name": "Year",
         "rawType": "int64",
         "type": "integer"
        },
        {
         "name": "Engine Fuel Type",
         "rawType": "object",
         "type": "string"
        },
        {
         "name": "Engine HP",
         "rawType": "float64",
         "type": "float"
        },
        {
         "name": "Engine Cylinders",
         "rawType": "float64",
         "type": "float"
        },
        {
         "name": "Transmission Type",
         "rawType": "object",
         "type": "string"
        },
        {
         "name": "Driven_Wheels",
         "rawType": "object",
         "type": "string"
        },
        {
         "name": "Number of Doors",
         "rawType": "float64",
         "type": "float"
        },
        {
         "name": "Market Category",
         "rawType": "object",
         "type": "string"
        },
        {
         "name": "Vehicle Size",
         "rawType": "object",
         "type": "string"
        },
        {
         "name": "Vehicle Style",
         "rawType": "object",
         "type": "string"
        },
        {
         "name": "highway MPG",
         "rawType": "int64",
         "type": "integer"
        },
        {
         "name": "city mpg",
         "rawType": "int64",
         "type": "integer"
        },
        {
         "name": "Popularity",
         "rawType": "int64",
         "type": "integer"
        },
        {
         "name": "MSRP",
         "rawType": "int64",
         "type": "integer"
        }
       ],
       "ref": "f2fdcab7-8eed-4a0c-9714-d30bc42b94ff",
       "rows": [
        [
         "11904",
         "BMW",
         "Z8",
         "2002",
         "premium unleaded (required)",
         "394.0",
         "8.0",
         "MANUAL",
         "rear wheel drive",
         "2.0",
         "Exotic,Luxury,High-Performance",
         "Compact",
         "Convertible",
         "19",
         "12",
         "3916",
         "130000"
        ],
        [
         "11905",
         "BMW",
         "Z8",
         "2003",
         "premium unleaded (required)",
         "394.0",
         "8.0",
         "MANUAL",
         "rear wheel drive",
         "2.0",
         "Exotic,Luxury,High-Performance",
         "Compact",
         "Convertible",
         "19",
         "12",
         "3916",
         "131500"
        ],
        [
         "11906",
         "Acura",
         "ZDX",
         "2011",
         "premium unleaded (required)",
         "300.0",
         "6.0",
         "AUTOMATIC",
         "all wheel drive",
         "4.0",
         "Crossover,Hatchback,Luxury",
         "Midsize",
         "4dr Hatchback",
         "23",
         "16",
         "204",
         "46020"
        ],
        [
         "11907",
         "Acura",
         "ZDX",
         "2011",
         "premium unleaded (required)",
         "300.0",
         "6.0",
         "AUTOMATIC",
         "all wheel drive",
         "4.0",
         "Crossover,Hatchback,Luxury",
         "Midsize",
         "4dr Hatchback",
         "23",
         "16",
         "204",
         "56570"
        ],
        [
         "11908",
         "Acura",
         "ZDX",
         "2011",
         "premium unleaded (required)",
         "300.0",
         "6.0",
         "AUTOMATIC",
         "all wheel drive",
         "4.0",
         "Crossover,Hatchback,Luxury",
         "Midsize",
         "4dr Hatchback",
         "23",
         "16",
         "204",
         "50520"
        ],
        [
         "11909",
         "Acura",
         "ZDX",
         "2012",
         "premium unleaded (required)",
         "300.0",
         "6.0",
         "AUTOMATIC",
         "all wheel drive",
         "4.0",
         "Crossover,Hatchback,Luxury",
         "Midsize",
         "4dr Hatchback",
         "23",
         "16",
         "204",
         "46120"
        ],
        [
         "11910",
         "Acura",
         "ZDX",
         "2012",
         "premium unleaded (required)",
         "300.0",
         "6.0",
         "AUTOMATIC",
         "all wheel drive",
         "4.0",
         "Crossover,Hatchback,Luxury",
         "Midsize",
         "4dr Hatchback",
         "23",
         "16",
         "204",
         "56670"
        ],
        [
         "11911",
         "Acura",
         "ZDX",
         "2012",
         "premium unleaded (required)",
         "300.0",
         "6.0",
         "AUTOMATIC",
         "all wheel drive",
         "4.0",
         "Crossover,Hatchback,Luxury",
         "Midsize",
         "4dr Hatchback",
         "23",
         "16",
         "204",
         "50620"
        ],
        [
         "11912",
         "Acura",
         "ZDX",
         "2013",
         "premium unleaded (recommended)",
         "300.0",
         "6.0",
         "AUTOMATIC",
         "all wheel drive",
         "4.0",
         "Crossover,Hatchback,Luxury",
         "Midsize",
         "4dr Hatchback",
         "23",
         "16",
         "204",
         "50920"
        ],
        [
         "11913",
         "Lincoln",
         "Zephyr",
         "2006",
         "regular unleaded",
         "221.0",
         "6.0",
         "AUTOMATIC",
         "front wheel drive",
         "4.0",
         "Luxury",
         "Midsize",
         "Sedan",
         "26",
         "17",
         "61",
         "28995"
        ]
       ],
       "shape": {
        "columns": 16,
        "rows": 10
       }
      },
      "text/html": [
       "<div>\n",
       "<style scoped>\n",
       "    .dataframe tbody tr th:only-of-type {\n",
       "        vertical-align: middle;\n",
       "    }\n",
       "\n",
       "    .dataframe tbody tr th {\n",
       "        vertical-align: top;\n",
       "    }\n",
       "\n",
       "    .dataframe thead th {\n",
       "        text-align: right;\n",
       "    }\n",
       "</style>\n",
       "<table border=\"1\" class=\"dataframe\">\n",
       "  <thead>\n",
       "    <tr style=\"text-align: right;\">\n",
       "      <th></th>\n",
       "      <th>Make</th>\n",
       "      <th>Model</th>\n",
       "      <th>Year</th>\n",
       "      <th>Engine Fuel Type</th>\n",
       "      <th>Engine HP</th>\n",
       "      <th>Engine Cylinders</th>\n",
       "      <th>Transmission Type</th>\n",
       "      <th>Driven_Wheels</th>\n",
       "      <th>Number of Doors</th>\n",
       "      <th>Market Category</th>\n",
       "      <th>Vehicle Size</th>\n",
       "      <th>Vehicle Style</th>\n",
       "      <th>highway MPG</th>\n",
       "      <th>city mpg</th>\n",
       "      <th>Popularity</th>\n",
       "      <th>MSRP</th>\n",
       "    </tr>\n",
       "  </thead>\n",
       "  <tbody>\n",
       "    <tr>\n",
       "      <th>11904</th>\n",
       "      <td>BMW</td>\n",
       "      <td>Z8</td>\n",
       "      <td>2002</td>\n",
       "      <td>premium unleaded (required)</td>\n",
       "      <td>394.0</td>\n",
       "      <td>8.0</td>\n",
       "      <td>MANUAL</td>\n",
       "      <td>rear wheel drive</td>\n",
       "      <td>2.0</td>\n",
       "      <td>Exotic,Luxury,High-Performance</td>\n",
       "      <td>Compact</td>\n",
       "      <td>Convertible</td>\n",
       "      <td>19</td>\n",
       "      <td>12</td>\n",
       "      <td>3916</td>\n",
       "      <td>130000</td>\n",
       "    </tr>\n",
       "    <tr>\n",
       "      <th>11905</th>\n",
       "      <td>BMW</td>\n",
       "      <td>Z8</td>\n",
       "      <td>2003</td>\n",
       "      <td>premium unleaded (required)</td>\n",
       "      <td>394.0</td>\n",
       "      <td>8.0</td>\n",
       "      <td>MANUAL</td>\n",
       "      <td>rear wheel drive</td>\n",
       "      <td>2.0</td>\n",
       "      <td>Exotic,Luxury,High-Performance</td>\n",
       "      <td>Compact</td>\n",
       "      <td>Convertible</td>\n",
       "      <td>19</td>\n",
       "      <td>12</td>\n",
       "      <td>3916</td>\n",
       "      <td>131500</td>\n",
       "    </tr>\n",
       "    <tr>\n",
       "      <th>11906</th>\n",
       "      <td>Acura</td>\n",
       "      <td>ZDX</td>\n",
       "      <td>2011</td>\n",
       "      <td>premium unleaded (required)</td>\n",
       "      <td>300.0</td>\n",
       "      <td>6.0</td>\n",
       "      <td>AUTOMATIC</td>\n",
       "      <td>all wheel drive</td>\n",
       "      <td>4.0</td>\n",
       "      <td>Crossover,Hatchback,Luxury</td>\n",
       "      <td>Midsize</td>\n",
       "      <td>4dr Hatchback</td>\n",
       "      <td>23</td>\n",
       "      <td>16</td>\n",
       "      <td>204</td>\n",
       "      <td>46020</td>\n",
       "    </tr>\n",
       "    <tr>\n",
       "      <th>11907</th>\n",
       "      <td>Acura</td>\n",
       "      <td>ZDX</td>\n",
       "      <td>2011</td>\n",
       "      <td>premium unleaded (required)</td>\n",
       "      <td>300.0</td>\n",
       "      <td>6.0</td>\n",
       "      <td>AUTOMATIC</td>\n",
       "      <td>all wheel drive</td>\n",
       "      <td>4.0</td>\n",
       "      <td>Crossover,Hatchback,Luxury</td>\n",
       "      <td>Midsize</td>\n",
       "      <td>4dr Hatchback</td>\n",
       "      <td>23</td>\n",
       "      <td>16</td>\n",
       "      <td>204</td>\n",
       "      <td>56570</td>\n",
       "    </tr>\n",
       "    <tr>\n",
       "      <th>11908</th>\n",
       "      <td>Acura</td>\n",
       "      <td>ZDX</td>\n",
       "      <td>2011</td>\n",
       "      <td>premium unleaded (required)</td>\n",
       "      <td>300.0</td>\n",
       "      <td>6.0</td>\n",
       "      <td>AUTOMATIC</td>\n",
       "      <td>all wheel drive</td>\n",
       "      <td>4.0</td>\n",
       "      <td>Crossover,Hatchback,Luxury</td>\n",
       "      <td>Midsize</td>\n",
       "      <td>4dr Hatchback</td>\n",
       "      <td>23</td>\n",
       "      <td>16</td>\n",
       "      <td>204</td>\n",
       "      <td>50520</td>\n",
       "    </tr>\n",
       "    <tr>\n",
       "      <th>11909</th>\n",
       "      <td>Acura</td>\n",
       "      <td>ZDX</td>\n",
       "      <td>2012</td>\n",
       "      <td>premium unleaded (required)</td>\n",
       "      <td>300.0</td>\n",
       "      <td>6.0</td>\n",
       "      <td>AUTOMATIC</td>\n",
       "      <td>all wheel drive</td>\n",
       "      <td>4.0</td>\n",
       "      <td>Crossover,Hatchback,Luxury</td>\n",
       "      <td>Midsize</td>\n",
       "      <td>4dr Hatchback</td>\n",
       "      <td>23</td>\n",
       "      <td>16</td>\n",
       "      <td>204</td>\n",
       "      <td>46120</td>\n",
       "    </tr>\n",
       "    <tr>\n",
       "      <th>11910</th>\n",
       "      <td>Acura</td>\n",
       "      <td>ZDX</td>\n",
       "      <td>2012</td>\n",
       "      <td>premium unleaded (required)</td>\n",
       "      <td>300.0</td>\n",
       "      <td>6.0</td>\n",
       "      <td>AUTOMATIC</td>\n",
       "      <td>all wheel drive</td>\n",
       "      <td>4.0</td>\n",
       "      <td>Crossover,Hatchback,Luxury</td>\n",
       "      <td>Midsize</td>\n",
       "      <td>4dr Hatchback</td>\n",
       "      <td>23</td>\n",
       "      <td>16</td>\n",
       "      <td>204</td>\n",
       "      <td>56670</td>\n",
       "    </tr>\n",
       "    <tr>\n",
       "      <th>11911</th>\n",
       "      <td>Acura</td>\n",
       "      <td>ZDX</td>\n",
       "      <td>2012</td>\n",
       "      <td>premium unleaded (required)</td>\n",
       "      <td>300.0</td>\n",
       "      <td>6.0</td>\n",
       "      <td>AUTOMATIC</td>\n",
       "      <td>all wheel drive</td>\n",
       "      <td>4.0</td>\n",
       "      <td>Crossover,Hatchback,Luxury</td>\n",
       "      <td>Midsize</td>\n",
       "      <td>4dr Hatchback</td>\n",
       "      <td>23</td>\n",
       "      <td>16</td>\n",
       "      <td>204</td>\n",
       "      <td>50620</td>\n",
       "    </tr>\n",
       "    <tr>\n",
       "      <th>11912</th>\n",
       "      <td>Acura</td>\n",
       "      <td>ZDX</td>\n",
       "      <td>2013</td>\n",
       "      <td>premium unleaded (recommended)</td>\n",
       "      <td>300.0</td>\n",
       "      <td>6.0</td>\n",
       "      <td>AUTOMATIC</td>\n",
       "      <td>all wheel drive</td>\n",
       "      <td>4.0</td>\n",
       "      <td>Crossover,Hatchback,Luxury</td>\n",
       "      <td>Midsize</td>\n",
       "      <td>4dr Hatchback</td>\n",
       "      <td>23</td>\n",
       "      <td>16</td>\n",
       "      <td>204</td>\n",
       "      <td>50920</td>\n",
       "    </tr>\n",
       "    <tr>\n",
       "      <th>11913</th>\n",
       "      <td>Lincoln</td>\n",
       "      <td>Zephyr</td>\n",
       "      <td>2006</td>\n",
       "      <td>regular unleaded</td>\n",
       "      <td>221.0</td>\n",
       "      <td>6.0</td>\n",
       "      <td>AUTOMATIC</td>\n",
       "      <td>front wheel drive</td>\n",
       "      <td>4.0</td>\n",
       "      <td>Luxury</td>\n",
       "      <td>Midsize</td>\n",
       "      <td>Sedan</td>\n",
       "      <td>26</td>\n",
       "      <td>17</td>\n",
       "      <td>61</td>\n",
       "      <td>28995</td>\n",
       "    </tr>\n",
       "  </tbody>\n",
       "</table>\n",
       "</div>"
      ],
      "text/plain": [
       "          Make   Model  Year                Engine Fuel Type  Engine HP  \\\n",
       "11904      BMW      Z8  2002     premium unleaded (required)      394.0   \n",
       "11905      BMW      Z8  2003     premium unleaded (required)      394.0   \n",
       "11906    Acura     ZDX  2011     premium unleaded (required)      300.0   \n",
       "11907    Acura     ZDX  2011     premium unleaded (required)      300.0   \n",
       "11908    Acura     ZDX  2011     premium unleaded (required)      300.0   \n",
       "11909    Acura     ZDX  2012     premium unleaded (required)      300.0   \n",
       "11910    Acura     ZDX  2012     premium unleaded (required)      300.0   \n",
       "11911    Acura     ZDX  2012     premium unleaded (required)      300.0   \n",
       "11912    Acura     ZDX  2013  premium unleaded (recommended)      300.0   \n",
       "11913  Lincoln  Zephyr  2006                regular unleaded      221.0   \n",
       "\n",
       "       Engine Cylinders Transmission Type      Driven_Wheels  Number of Doors  \\\n",
       "11904               8.0            MANUAL   rear wheel drive              2.0   \n",
       "11905               8.0            MANUAL   rear wheel drive              2.0   \n",
       "11906               6.0         AUTOMATIC    all wheel drive              4.0   \n",
       "11907               6.0         AUTOMATIC    all wheel drive              4.0   \n",
       "11908               6.0         AUTOMATIC    all wheel drive              4.0   \n",
       "11909               6.0         AUTOMATIC    all wheel drive              4.0   \n",
       "11910               6.0         AUTOMATIC    all wheel drive              4.0   \n",
       "11911               6.0         AUTOMATIC    all wheel drive              4.0   \n",
       "11912               6.0         AUTOMATIC    all wheel drive              4.0   \n",
       "11913               6.0         AUTOMATIC  front wheel drive              4.0   \n",
       "\n",
       "                      Market Category Vehicle Size  Vehicle Style  \\\n",
       "11904  Exotic,Luxury,High-Performance      Compact    Convertible   \n",
       "11905  Exotic,Luxury,High-Performance      Compact    Convertible   \n",
       "11906      Crossover,Hatchback,Luxury      Midsize  4dr Hatchback   \n",
       "11907      Crossover,Hatchback,Luxury      Midsize  4dr Hatchback   \n",
       "11908      Crossover,Hatchback,Luxury      Midsize  4dr Hatchback   \n",
       "11909      Crossover,Hatchback,Luxury      Midsize  4dr Hatchback   \n",
       "11910      Crossover,Hatchback,Luxury      Midsize  4dr Hatchback   \n",
       "11911      Crossover,Hatchback,Luxury      Midsize  4dr Hatchback   \n",
       "11912      Crossover,Hatchback,Luxury      Midsize  4dr Hatchback   \n",
       "11913                          Luxury      Midsize          Sedan   \n",
       "\n",
       "       highway MPG  city mpg  Popularity    MSRP  \n",
       "11904           19        12        3916  130000  \n",
       "11905           19        12        3916  131500  \n",
       "11906           23        16         204   46020  \n",
       "11907           23        16         204   56570  \n",
       "11908           23        16         204   50520  \n",
       "11909           23        16         204   46120  \n",
       "11910           23        16         204   56670  \n",
       "11911           23        16         204   50620  \n",
       "11912           23        16         204   50920  \n",
       "11913           26        17          61   28995  "
      ]
     },
     "execution_count": 71,
     "metadata": {},
     "output_type": "execute_result"
    }
   ],
   "source": [
    "# Display Last 5 Rows(default) or you can specify the number of rows u want.\n",
    "df.tail(10)"
   ]
  },
  {
   "cell_type": "code",
   "execution_count": null,
   "id": "6aee8380",
   "metadata": {},
   "outputs": [
    {
     "name": "stdout",
     "output_type": "stream",
     "text": [
      "<class 'pandas.core.frame.DataFrame'>\n",
      "RangeIndex: 11914 entries, 0 to 11913\n",
      "Data columns (total 16 columns):\n",
      " #   Column             Non-Null Count  Dtype  \n",
      "---  ------             --------------  -----  \n",
      " 0   Make               11914 non-null  object \n",
      " 1   Model              11914 non-null  object \n",
      " 2   Year               11914 non-null  int64  \n",
      " 3   Engine Fuel Type   11911 non-null  object \n",
      " 4   Engine HP          11845 non-null  float64\n",
      " 5   Engine Cylinders   11884 non-null  float64\n",
      " 6   Transmission Type  11914 non-null  object \n",
      " 7   Driven_Wheels      11914 non-null  object \n",
      " 8   Number of Doors    11908 non-null  float64\n",
      " 9   Market Category    8172 non-null   object \n",
      " 10  Vehicle Size       11914 non-null  object \n",
      " 11  Vehicle Style      11914 non-null  object \n",
      " 12  highway MPG        11914 non-null  int64  \n",
      " 13  city mpg           11914 non-null  int64  \n",
      " 14  Popularity         11914 non-null  int64  \n",
      " 15  MSRP               11914 non-null  int64  \n",
      "dtypes: float64(3), int64(5), object(8)\n",
      "memory usage: 1.5+ MB\n"
     ]
    }
   ],
   "source": [
    "# Display Metadata about DataFrame\n",
    "df.info()"
   ]
  },
  {
   "cell_type": "code",
   "execution_count": 73,
   "id": "e8e340a8",
   "metadata": {},
   "outputs": [
    {
     "data": {
      "application/vnd.microsoft.datawrangler.viewer.v0+json": {
       "columns": [
        {
         "name": "index",
         "rawType": "object",
         "type": "string"
        },
        {
         "name": "Year",
         "rawType": "float64",
         "type": "float"
        },
        {
         "name": "Engine HP",
         "rawType": "float64",
         "type": "float"
        },
        {
         "name": "Engine Cylinders",
         "rawType": "float64",
         "type": "float"
        },
        {
         "name": "Number of Doors",
         "rawType": "float64",
         "type": "float"
        },
        {
         "name": "highway MPG",
         "rawType": "float64",
         "type": "float"
        },
        {
         "name": "city mpg",
         "rawType": "float64",
         "type": "float"
        },
        {
         "name": "Popularity",
         "rawType": "float64",
         "type": "float"
        },
        {
         "name": "MSRP",
         "rawType": "float64",
         "type": "float"
        }
       ],
       "ref": "91dc2b75-da84-4519-9431-47d91fec5e87",
       "rows": [
        [
         "count",
         "11914.0",
         "11845.0",
         "11884.0",
         "11908.0",
         "11914.0",
         "11914.0",
         "11914.0",
         "11914.0"
        ],
        [
         "mean",
         "2010.384337753903",
         "249.38607007176023",
         "5.628828677213059",
         "3.4360933825999327",
         "26.637485311398354",
         "19.73325499412456",
         "1554.9111969111968",
         "40594.737032063116"
        ],
        [
         "std",
         "7.579739887595646",
         "109.19187025917257",
         "1.7805593482463664",
         "0.8813153865835297",
         "8.863000766979342",
         "8.987798160299272",
         "1441.8553466274557",
         "60109.103603654476"
        ],
        [
         "min",
         "1990.0",
         "55.0",
         "0.0",
         "2.0",
         "12.0",
         "7.0",
         "2.0",
         "2000.0"
        ],
        [
         "25%",
         "2007.0",
         "170.0",
         "4.0",
         "2.0",
         "22.0",
         "16.0",
         "549.0",
         "21000.0"
        ],
        [
         "50%",
         "2015.0",
         "227.0",
         "6.0",
         "4.0",
         "26.0",
         "18.0",
         "1385.0",
         "29995.0"
        ],
        [
         "75%",
         "2016.0",
         "300.0",
         "6.0",
         "4.0",
         "30.0",
         "22.0",
         "2009.0",
         "42231.25"
        ],
        [
         "max",
         "2017.0",
         "1001.0",
         "16.0",
         "4.0",
         "354.0",
         "137.0",
         "5657.0",
         "2065902.0"
        ]
       ],
       "shape": {
        "columns": 8,
        "rows": 8
       }
      },
      "text/html": [
       "<div>\n",
       "<style scoped>\n",
       "    .dataframe tbody tr th:only-of-type {\n",
       "        vertical-align: middle;\n",
       "    }\n",
       "\n",
       "    .dataframe tbody tr th {\n",
       "        vertical-align: top;\n",
       "    }\n",
       "\n",
       "    .dataframe thead th {\n",
       "        text-align: right;\n",
       "    }\n",
       "</style>\n",
       "<table border=\"1\" class=\"dataframe\">\n",
       "  <thead>\n",
       "    <tr style=\"text-align: right;\">\n",
       "      <th></th>\n",
       "      <th>Year</th>\n",
       "      <th>Engine HP</th>\n",
       "      <th>Engine Cylinders</th>\n",
       "      <th>Number of Doors</th>\n",
       "      <th>highway MPG</th>\n",
       "      <th>city mpg</th>\n",
       "      <th>Popularity</th>\n",
       "      <th>MSRP</th>\n",
       "    </tr>\n",
       "  </thead>\n",
       "  <tbody>\n",
       "    <tr>\n",
       "      <th>count</th>\n",
       "      <td>11914.000000</td>\n",
       "      <td>11845.00000</td>\n",
       "      <td>11884.000000</td>\n",
       "      <td>11908.000000</td>\n",
       "      <td>11914.000000</td>\n",
       "      <td>11914.000000</td>\n",
       "      <td>11914.000000</td>\n",
       "      <td>1.191400e+04</td>\n",
       "    </tr>\n",
       "    <tr>\n",
       "      <th>mean</th>\n",
       "      <td>2010.384338</td>\n",
       "      <td>249.38607</td>\n",
       "      <td>5.628829</td>\n",
       "      <td>3.436093</td>\n",
       "      <td>26.637485</td>\n",
       "      <td>19.733255</td>\n",
       "      <td>1554.911197</td>\n",
       "      <td>4.059474e+04</td>\n",
       "    </tr>\n",
       "    <tr>\n",
       "      <th>std</th>\n",
       "      <td>7.579740</td>\n",
       "      <td>109.19187</td>\n",
       "      <td>1.780559</td>\n",
       "      <td>0.881315</td>\n",
       "      <td>8.863001</td>\n",
       "      <td>8.987798</td>\n",
       "      <td>1441.855347</td>\n",
       "      <td>6.010910e+04</td>\n",
       "    </tr>\n",
       "    <tr>\n",
       "      <th>min</th>\n",
       "      <td>1990.000000</td>\n",
       "      <td>55.00000</td>\n",
       "      <td>0.000000</td>\n",
       "      <td>2.000000</td>\n",
       "      <td>12.000000</td>\n",
       "      <td>7.000000</td>\n",
       "      <td>2.000000</td>\n",
       "      <td>2.000000e+03</td>\n",
       "    </tr>\n",
       "    <tr>\n",
       "      <th>25%</th>\n",
       "      <td>2007.000000</td>\n",
       "      <td>170.00000</td>\n",
       "      <td>4.000000</td>\n",
       "      <td>2.000000</td>\n",
       "      <td>22.000000</td>\n",
       "      <td>16.000000</td>\n",
       "      <td>549.000000</td>\n",
       "      <td>2.100000e+04</td>\n",
       "    </tr>\n",
       "    <tr>\n",
       "      <th>50%</th>\n",
       "      <td>2015.000000</td>\n",
       "      <td>227.00000</td>\n",
       "      <td>6.000000</td>\n",
       "      <td>4.000000</td>\n",
       "      <td>26.000000</td>\n",
       "      <td>18.000000</td>\n",
       "      <td>1385.000000</td>\n",
       "      <td>2.999500e+04</td>\n",
       "    </tr>\n",
       "    <tr>\n",
       "      <th>75%</th>\n",
       "      <td>2016.000000</td>\n",
       "      <td>300.00000</td>\n",
       "      <td>6.000000</td>\n",
       "      <td>4.000000</td>\n",
       "      <td>30.000000</td>\n",
       "      <td>22.000000</td>\n",
       "      <td>2009.000000</td>\n",
       "      <td>4.223125e+04</td>\n",
       "    </tr>\n",
       "    <tr>\n",
       "      <th>max</th>\n",
       "      <td>2017.000000</td>\n",
       "      <td>1001.00000</td>\n",
       "      <td>16.000000</td>\n",
       "      <td>4.000000</td>\n",
       "      <td>354.000000</td>\n",
       "      <td>137.000000</td>\n",
       "      <td>5657.000000</td>\n",
       "      <td>2.065902e+06</td>\n",
       "    </tr>\n",
       "  </tbody>\n",
       "</table>\n",
       "</div>"
      ],
      "text/plain": [
       "               Year    Engine HP  Engine Cylinders  Number of Doors  \\\n",
       "count  11914.000000  11845.00000      11884.000000     11908.000000   \n",
       "mean    2010.384338    249.38607          5.628829         3.436093   \n",
       "std        7.579740    109.19187          1.780559         0.881315   \n",
       "min     1990.000000     55.00000          0.000000         2.000000   \n",
       "25%     2007.000000    170.00000          4.000000         2.000000   \n",
       "50%     2015.000000    227.00000          6.000000         4.000000   \n",
       "75%     2016.000000    300.00000          6.000000         4.000000   \n",
       "max     2017.000000   1001.00000         16.000000         4.000000   \n",
       "\n",
       "        highway MPG      city mpg    Popularity          MSRP  \n",
       "count  11914.000000  11914.000000  11914.000000  1.191400e+04  \n",
       "mean      26.637485     19.733255   1554.911197  4.059474e+04  \n",
       "std        8.863001      8.987798   1441.855347  6.010910e+04  \n",
       "min       12.000000      7.000000      2.000000  2.000000e+03  \n",
       "25%       22.000000     16.000000    549.000000  2.100000e+04  \n",
       "50%       26.000000     18.000000   1385.000000  2.999500e+04  \n",
       "75%       30.000000     22.000000   2009.000000  4.223125e+04  \n",
       "max      354.000000    137.000000   5657.000000  2.065902e+06  "
      ]
     },
     "execution_count": 73,
     "metadata": {},
     "output_type": "execute_result"
    }
   ],
   "source": [
    "# Descriptive Statistics\n",
    "df.describe()       # Default : Numerical Columns"
   ]
  },
  {
   "cell_type": "code",
   "execution_count": 74,
   "id": "97ab9ed3",
   "metadata": {},
   "outputs": [
    {
     "data": {
      "application/vnd.microsoft.datawrangler.viewer.v0+json": {
       "columns": [
        {
         "name": "index",
         "rawType": "object",
         "type": "string"
        },
        {
         "name": "Make",
         "rawType": "object",
         "type": "unknown"
        },
        {
         "name": "Model",
         "rawType": "object",
         "type": "unknown"
        },
        {
         "name": "Engine Fuel Type",
         "rawType": "object",
         "type": "unknown"
        },
        {
         "name": "Transmission Type",
         "rawType": "object",
         "type": "unknown"
        },
        {
         "name": "Driven_Wheels",
         "rawType": "object",
         "type": "unknown"
        },
        {
         "name": "Market Category",
         "rawType": "object",
         "type": "unknown"
        },
        {
         "name": "Vehicle Size",
         "rawType": "object",
         "type": "unknown"
        },
        {
         "name": "Vehicle Style",
         "rawType": "object",
         "type": "unknown"
        }
       ],
       "ref": "e66aac91-6053-4e3b-95b9-42625fecc421",
       "rows": [
        [
         "count",
         "11914",
         "11914",
         "11911",
         "11914",
         "11914",
         "8172",
         "11914",
         "11914"
        ],
        [
         "unique",
         "48",
         "915",
         "10",
         "5",
         "4",
         "71",
         "3",
         "16"
        ],
        [
         "top",
         "Chevrolet",
         "Silverado 1500",
         "regular unleaded",
         "AUTOMATIC",
         "front wheel drive",
         "Crossover",
         "Compact",
         "Sedan"
        ],
        [
         "freq",
         "1123",
         "156",
         "7172",
         "8266",
         "4787",
         "1110",
         "4764",
         "3048"
        ]
       ],
       "shape": {
        "columns": 8,
        "rows": 4
       }
      },
      "text/html": [
       "<div>\n",
       "<style scoped>\n",
       "    .dataframe tbody tr th:only-of-type {\n",
       "        vertical-align: middle;\n",
       "    }\n",
       "\n",
       "    .dataframe tbody tr th {\n",
       "        vertical-align: top;\n",
       "    }\n",
       "\n",
       "    .dataframe thead th {\n",
       "        text-align: right;\n",
       "    }\n",
       "</style>\n",
       "<table border=\"1\" class=\"dataframe\">\n",
       "  <thead>\n",
       "    <tr style=\"text-align: right;\">\n",
       "      <th></th>\n",
       "      <th>Make</th>\n",
       "      <th>Model</th>\n",
       "      <th>Engine Fuel Type</th>\n",
       "      <th>Transmission Type</th>\n",
       "      <th>Driven_Wheels</th>\n",
       "      <th>Market Category</th>\n",
       "      <th>Vehicle Size</th>\n",
       "      <th>Vehicle Style</th>\n",
       "    </tr>\n",
       "  </thead>\n",
       "  <tbody>\n",
       "    <tr>\n",
       "      <th>count</th>\n",
       "      <td>11914</td>\n",
       "      <td>11914</td>\n",
       "      <td>11911</td>\n",
       "      <td>11914</td>\n",
       "      <td>11914</td>\n",
       "      <td>8172</td>\n",
       "      <td>11914</td>\n",
       "      <td>11914</td>\n",
       "    </tr>\n",
       "    <tr>\n",
       "      <th>unique</th>\n",
       "      <td>48</td>\n",
       "      <td>915</td>\n",
       "      <td>10</td>\n",
       "      <td>5</td>\n",
       "      <td>4</td>\n",
       "      <td>71</td>\n",
       "      <td>3</td>\n",
       "      <td>16</td>\n",
       "    </tr>\n",
       "    <tr>\n",
       "      <th>top</th>\n",
       "      <td>Chevrolet</td>\n",
       "      <td>Silverado 1500</td>\n",
       "      <td>regular unleaded</td>\n",
       "      <td>AUTOMATIC</td>\n",
       "      <td>front wheel drive</td>\n",
       "      <td>Crossover</td>\n",
       "      <td>Compact</td>\n",
       "      <td>Sedan</td>\n",
       "    </tr>\n",
       "    <tr>\n",
       "      <th>freq</th>\n",
       "      <td>1123</td>\n",
       "      <td>156</td>\n",
       "      <td>7172</td>\n",
       "      <td>8266</td>\n",
       "      <td>4787</td>\n",
       "      <td>1110</td>\n",
       "      <td>4764</td>\n",
       "      <td>3048</td>\n",
       "    </tr>\n",
       "  </tbody>\n",
       "</table>\n",
       "</div>"
      ],
      "text/plain": [
       "             Make           Model  Engine Fuel Type Transmission Type  \\\n",
       "count       11914           11914             11911             11914   \n",
       "unique         48             915                10                 5   \n",
       "top     Chevrolet  Silverado 1500  regular unleaded         AUTOMATIC   \n",
       "freq         1123             156              7172              8266   \n",
       "\n",
       "            Driven_Wheels Market Category Vehicle Size Vehicle Style  \n",
       "count               11914            8172        11914         11914  \n",
       "unique                  4              71            3            16  \n",
       "top     front wheel drive       Crossover      Compact         Sedan  \n",
       "freq                 4787            1110         4764          3048  "
      ]
     },
     "execution_count": 74,
     "metadata": {},
     "output_type": "execute_result"
    }
   ],
   "source": [
    "df.describe(include='object')       # Statistics for Categorical Columns"
   ]
  },
  {
   "cell_type": "markdown",
   "id": "c006f620",
   "metadata": {},
   "source": [
    "*`Drop Rows/Columns` -> df.drop(columns=[.., .., ..], axis=1/0, inplace=True/False)*"
   ]
  },
  {
   "cell_type": "code",
   "execution_count": null,
   "id": "c2b69741",
   "metadata": {},
   "outputs": [
    {
     "data": {
      "application/vnd.microsoft.datawrangler.viewer.v0+json": {
       "columns": [
        {
         "name": "index",
         "rawType": "int64",
         "type": "integer"
        },
        {
         "name": "Year",
         "rawType": "int64",
         "type": "integer"
        },
        {
         "name": "Engine Fuel Type",
         "rawType": "object",
         "type": "unknown"
        },
        {
         "name": "Engine HP",
         "rawType": "float64",
         "type": "float"
        },
        {
         "name": "Engine Cylinders",
         "rawType": "float64",
         "type": "float"
        },
        {
         "name": "Transmission Type",
         "rawType": "object",
         "type": "string"
        },
        {
         "name": "Driven_Wheels",
         "rawType": "object",
         "type": "string"
        },
        {
         "name": "Number of Doors",
         "rawType": "float64",
         "type": "float"
        },
        {
         "name": "Market Category",
         "rawType": "object",
         "type": "unknown"
        },
        {
         "name": "Vehicle Size",
         "rawType": "object",
         "type": "string"
        },
        {
         "name": "Vehicle Style",
         "rawType": "object",
         "type": "string"
        },
        {
         "name": "highway MPG",
         "rawType": "int64",
         "type": "integer"
        },
        {
         "name": "city mpg",
         "rawType": "int64",
         "type": "integer"
        },
        {
         "name": "Popularity",
         "rawType": "int64",
         "type": "integer"
        },
        {
         "name": "MSRP",
         "rawType": "int64",
         "type": "integer"
        }
       ],
       "ref": "d3efd7f8-75a8-4db0-b5a0-d2e5ff6688de",
       "rows": [
        [
         "0",
         "2011",
         "premium unleaded (required)",
         "335.0",
         "6.0",
         "MANUAL",
         "rear wheel drive",
         "2.0",
         "Factory Tuner,Luxury,High-Performance",
         "Compact",
         "Coupe",
         "26",
         "19",
         "3916",
         "46135"
        ],
        [
         "1",
         "2011",
         "premium unleaded (required)",
         "300.0",
         "6.0",
         "MANUAL",
         "rear wheel drive",
         "2.0",
         "Luxury,Performance",
         "Compact",
         "Convertible",
         "28",
         "19",
         "3916",
         "40650"
        ],
        [
         "2",
         "2011",
         "premium unleaded (required)",
         "300.0",
         "6.0",
         "MANUAL",
         "rear wheel drive",
         "2.0",
         "Luxury,High-Performance",
         "Compact",
         "Coupe",
         "28",
         "20",
         "3916",
         "36350"
        ],
        [
         "3",
         "2011",
         "premium unleaded (required)",
         "230.0",
         "6.0",
         "MANUAL",
         "rear wheel drive",
         "2.0",
         "Luxury,Performance",
         "Compact",
         "Coupe",
         "28",
         "18",
         "3916",
         "29450"
        ],
        [
         "4",
         "2011",
         "premium unleaded (required)",
         "230.0",
         "6.0",
         "MANUAL",
         "rear wheel drive",
         "2.0",
         "Luxury",
         "Compact",
         "Convertible",
         "28",
         "18",
         "3916",
         "34500"
        ],
        [
         "5",
         "2012",
         "premium unleaded (required)",
         "230.0",
         "6.0",
         "MANUAL",
         "rear wheel drive",
         "2.0",
         "Luxury,Performance",
         "Compact",
         "Coupe",
         "28",
         "18",
         "3916",
         "31200"
        ],
        [
         "6",
         "2012",
         "premium unleaded (required)",
         "300.0",
         "6.0",
         "MANUAL",
         "rear wheel drive",
         "2.0",
         "Luxury,Performance",
         "Compact",
         "Convertible",
         "26",
         "17",
         "3916",
         "44100"
        ],
        [
         "7",
         "2012",
         "premium unleaded (required)",
         "300.0",
         "6.0",
         "MANUAL",
         "rear wheel drive",
         "2.0",
         "Luxury,High-Performance",
         "Compact",
         "Coupe",
         "28",
         "20",
         "3916",
         "39300"
        ],
        [
         "8",
         "2012",
         "premium unleaded (required)",
         "230.0",
         "6.0",
         "MANUAL",
         "rear wheel drive",
         "2.0",
         "Luxury",
         "Compact",
         "Convertible",
         "28",
         "18",
         "3916",
         "36900"
        ],
        [
         "9",
         "2013",
         "premium unleaded (required)",
         "230.0",
         "6.0",
         "MANUAL",
         "rear wheel drive",
         "2.0",
         "Luxury",
         "Compact",
         "Convertible",
         "27",
         "18",
         "3916",
         "37200"
        ],
        [
         "10",
         "2013",
         "premium unleaded (required)",
         "300.0",
         "6.0",
         "MANUAL",
         "rear wheel drive",
         "2.0",
         "Luxury,High-Performance",
         "Compact",
         "Coupe",
         "28",
         "20",
         "3916",
         "39600"
        ],
        [
         "11",
         "2013",
         "premium unleaded (required)",
         "230.0",
         "6.0",
         "MANUAL",
         "rear wheel drive",
         "2.0",
         "Luxury,Performance",
         "Compact",
         "Coupe",
         "28",
         "19",
         "3916",
         "31500"
        ],
        [
         "12",
         "2013",
         "premium unleaded (required)",
         "300.0",
         "6.0",
         "MANUAL",
         "rear wheel drive",
         "2.0",
         "Luxury,Performance",
         "Compact",
         "Convertible",
         "28",
         "19",
         "3916",
         "44400"
        ],
        [
         "13",
         "2013",
         "premium unleaded (required)",
         "230.0",
         "6.0",
         "MANUAL",
         "rear wheel drive",
         "2.0",
         "Luxury",
         "Compact",
         "Convertible",
         "28",
         "19",
         "3916",
         "37200"
        ],
        [
         "14",
         "2013",
         "premium unleaded (required)",
         "230.0",
         "6.0",
         "MANUAL",
         "rear wheel drive",
         "2.0",
         "Luxury,Performance",
         "Compact",
         "Coupe",
         "28",
         "19",
         "3916",
         "31500"
        ],
        [
         "15",
         "2013",
         "premium unleaded (required)",
         "320.0",
         "6.0",
         "MANUAL",
         "rear wheel drive",
         "2.0",
         "Luxury,High-Performance",
         "Compact",
         "Convertible",
         "25",
         "18",
         "3916",
         "48250"
        ],
        [
         "16",
         "2013",
         "premium unleaded (required)",
         "320.0",
         "6.0",
         "MANUAL",
         "rear wheel drive",
         "2.0",
         "Luxury,High-Performance",
         "Compact",
         "Coupe",
         "28",
         "20",
         "3916",
         "43550"
        ],
        [
         "17",
         "1992",
         "regular unleaded",
         "172.0",
         "6.0",
         "MANUAL",
         "front wheel drive",
         "4.0",
         "Luxury",
         "Midsize",
         "Sedan",
         "24",
         "17",
         "3105",
         "2000"
        ],
        [
         "18",
         "1992",
         "regular unleaded",
         "172.0",
         "6.0",
         "MANUAL",
         "front wheel drive",
         "4.0",
         "Luxury",
         "Midsize",
         "Sedan",
         "24",
         "17",
         "3105",
         "2000"
        ],
        [
         "19",
         "1992",
         "regular unleaded",
         "172.0",
         "6.0",
         "AUTOMATIC",
         "all wheel drive",
         "4.0",
         "Luxury",
         "Midsize",
         "Wagon",
         "20",
         "16",
         "3105",
         "2000"
        ],
        [
         "20",
         "1992",
         "regular unleaded",
         "172.0",
         "6.0",
         "MANUAL",
         "front wheel drive",
         "4.0",
         "Luxury",
         "Midsize",
         "Sedan",
         "24",
         "17",
         "3105",
         "2000"
        ],
        [
         "21",
         "1992",
         "regular unleaded",
         "172.0",
         "6.0",
         "MANUAL",
         "all wheel drive",
         "4.0",
         "Luxury",
         "Midsize",
         "Sedan",
         "21",
         "16",
         "3105",
         "2000"
        ],
        [
         "22",
         "1993",
         "regular unleaded",
         "172.0",
         "6.0",
         "MANUAL",
         "front wheel drive",
         "4.0",
         "Luxury",
         "Midsize",
         "Sedan",
         "24",
         "17",
         "3105",
         "2000"
        ],
        [
         "23",
         "1993",
         "regular unleaded",
         "172.0",
         "6.0",
         "AUTOMATIC",
         "all wheel drive",
         "4.0",
         "Luxury",
         "Midsize",
         "Wagon",
         "20",
         "16",
         "3105",
         "2000"
        ],
        [
         "24",
         "1993",
         "regular unleaded",
         "172.0",
         "6.0",
         "MANUAL",
         "front wheel drive",
         "4.0",
         "Luxury",
         "Midsize",
         "Sedan",
         "24",
         "17",
         "3105",
         "2000"
        ],
        [
         "25",
         "1993",
         "regular unleaded",
         "172.0",
         "6.0",
         "MANUAL",
         "front wheel drive",
         "4.0",
         "Luxury",
         "Midsize",
         "Sedan",
         "24",
         "17",
         "3105",
         "2000"
        ],
        [
         "26",
         "1993",
         "regular unleaded",
         "172.0",
         "6.0",
         "MANUAL",
         "all wheel drive",
         "4.0",
         "Luxury",
         "Midsize",
         "Sedan",
         "21",
         "16",
         "3105",
         "2000"
        ],
        [
         "27",
         "1994",
         "regular unleaded",
         "172.0",
         "6.0",
         "AUTOMATIC",
         "front wheel drive",
         "4.0",
         "Luxury",
         "Midsize",
         "Wagon",
         "21",
         "16",
         "3105",
         "2000"
        ],
        [
         "28",
         "1994",
         "regular unleaded",
         "172.0",
         "6.0",
         "MANUAL",
         "all wheel drive",
         "4.0",
         "Luxury",
         "Midsize",
         "Sedan",
         "22",
         "16",
         "3105",
         "2000"
        ],
        [
         "29",
         "1994",
         "regular unleaded",
         "172.0",
         "6.0",
         "MANUAL",
         "front wheel drive",
         "4.0",
         "Luxury",
         "Midsize",
         "Sedan",
         "22",
         "17",
         "3105",
         "2000"
        ],
        [
         "30",
         "1994",
         "regular unleaded",
         "172.0",
         "6.0",
         "AUTOMATIC",
         "front wheel drive",
         "4.0",
         "Luxury",
         "Midsize",
         "Sedan",
         "22",
         "16",
         "3105",
         "2000"
        ],
        [
         "31",
         "1994",
         "regular unleaded",
         "172.0",
         "6.0",
         "AUTOMATIC",
         "all wheel drive",
         "4.0",
         "Luxury",
         "Midsize",
         "Wagon",
         "21",
         "16",
         "3105",
         "2000"
        ],
        [
         "32",
         "2017",
         "premium unleaded (recommended)",
         "160.0",
         "4.0",
         "MANUAL",
         "rear wheel drive",
         "2.0",
         "Performance",
         "Compact",
         "Convertible",
         "35",
         "26",
         "819",
         "27495"
        ],
        [
         "33",
         "2017",
         "premium unleaded (recommended)",
         "160.0",
         "4.0",
         "MANUAL",
         "rear wheel drive",
         "2.0",
         "Performance",
         "Compact",
         "Convertible",
         "35",
         "26",
         "819",
         "24995"
        ],
        [
         "34",
         "2017",
         "premium unleaded (recommended)",
         "160.0",
         "4.0",
         "MANUAL",
         "rear wheel drive",
         "2.0",
         "Performance",
         "Compact",
         "Convertible",
         "35",
         "26",
         "819",
         "28195"
        ],
        [
         "35",
         "1991",
         "regular unleaded",
         "130.0",
         "4.0",
         "MANUAL",
         "rear wheel drive",
         "4.0",
         "Luxury",
         "Compact",
         "Sedan",
         "26",
         "18",
         "617",
         "2000"
        ],
        [
         "36",
         "1991",
         "regular unleaded",
         "158.0",
         "6.0",
         "MANUAL",
         "rear wheel drive",
         "4.0",
         "Luxury",
         "Compact",
         "Sedan",
         "25",
         "17",
         "617",
         "2000"
        ],
        [
         "37",
         "1992",
         "regular unleaded",
         "158.0",
         "6.0",
         "MANUAL",
         "rear wheel drive",
         "4.0",
         "Luxury",
         "Compact",
         "Sedan",
         "25",
         "17",
         "617",
         "2000"
        ],
        [
         "38",
         "1992",
         "regular unleaded",
         "130.0",
         "4.0",
         "MANUAL",
         "rear wheel drive",
         "4.0",
         "Luxury",
         "Compact",
         "Sedan",
         "26",
         "18",
         "617",
         "2000"
        ],
        [
         "39",
         "1993",
         "regular unleaded",
         "130.0",
         "4.0",
         "MANUAL",
         "rear wheel drive",
         "4.0",
         "Luxury",
         "Compact",
         "Sedan",
         "26",
         "18",
         "617",
         "2000"
        ],
        [
         "40",
         "1993",
         "regular unleaded",
         "158.0",
         "6.0",
         "MANUAL",
         "rear wheel drive",
         "4.0",
         "Luxury",
         "Compact",
         "Sedan",
         "25",
         "17",
         "617",
         "2000"
        ],
        [
         "41",
         "2016",
         "premium unleaded (required)",
         "240.0",
         "4.0",
         "AUTOMATIC",
         "rear wheel drive",
         "2.0",
         "Luxury,Performance",
         "Compact",
         "Coupe",
         "35",
         "23",
         "3916",
         "32850"
        ],
        [
         "42",
         "2016",
         "premium unleaded (required)",
         "240.0",
         "4.0",
         "AUTOMATIC",
         "rear wheel drive",
         "2.0",
         "Luxury",
         "Compact",
         "Convertible",
         "34",
         "23",
         "3916",
         "38650"
        ],
        [
         "43",
         "2016",
         "premium unleaded (required)",
         "320.0",
         "6.0",
         "AUTOMATIC",
         "rear wheel drive",
         "2.0",
         "Factory Tuner,Luxury,High-Performance",
         "Compact",
         "Convertible",
         "31",
         "20",
         "3916",
         "48750"
        ],
        [
         "44",
         "2016",
         "premium unleaded (required)",
         "240.0",
         "4.0",
         "AUTOMATIC",
         "all wheel drive",
         "2.0",
         "Luxury,Performance",
         "Compact",
         "Coupe",
         "35",
         "23",
         "3916",
         "34850"
        ],
        [
         "45",
         "2016",
         "premium unleaded (required)",
         "240.0",
         "4.0",
         "AUTOMATIC",
         "all wheel drive",
         "2.0",
         "Luxury",
         "Compact",
         "Convertible",
         "34",
         "22",
         "3916",
         "40650"
        ],
        [
         "46",
         "2016",
         "premium unleaded (required)",
         "320.0",
         "6.0",
         "AUTOMATIC",
         "rear wheel drive",
         "2.0",
         "Factory Tuner,Luxury,High-Performance",
         "Compact",
         "Coupe",
         "31",
         "20",
         "3916",
         "44150"
        ],
        [
         "47",
         "2016",
         "premium unleaded (required)",
         "240.0",
         "4.0",
         "MANUAL",
         "rear wheel drive",
         "2.0",
         "Luxury,Performance",
         "Compact",
         "Coupe",
         "34",
         "22",
         "3916",
         "32850"
        ],
        [
         "48",
         "2016",
         "premium unleaded (required)",
         "320.0",
         "6.0",
         "AUTOMATIC",
         "all wheel drive",
         "2.0",
         "Factory Tuner,Luxury,High-Performance",
         "Compact",
         "Coupe",
         "30",
         "20",
         "3916",
         "46150"
        ],
        [
         "49",
         "2016",
         "premium unleaded (required)",
         "320.0",
         "6.0",
         "AUTOMATIC",
         "rear wheel drive",
         "2.0",
         "Factory Tuner,Luxury,High-Performance",
         "Compact",
         "Convertible",
         "30",
         "20",
         "3916",
         "50750"
        ]
       ],
       "shape": {
        "columns": 14,
        "rows": 11914
       }
      },
      "text/html": [
       "<div>\n",
       "<style scoped>\n",
       "    .dataframe tbody tr th:only-of-type {\n",
       "        vertical-align: middle;\n",
       "    }\n",
       "\n",
       "    .dataframe tbody tr th {\n",
       "        vertical-align: top;\n",
       "    }\n",
       "\n",
       "    .dataframe thead th {\n",
       "        text-align: right;\n",
       "    }\n",
       "</style>\n",
       "<table border=\"1\" class=\"dataframe\">\n",
       "  <thead>\n",
       "    <tr style=\"text-align: right;\">\n",
       "      <th></th>\n",
       "      <th>Year</th>\n",
       "      <th>Engine Fuel Type</th>\n",
       "      <th>Engine HP</th>\n",
       "      <th>Engine Cylinders</th>\n",
       "      <th>Transmission Type</th>\n",
       "      <th>Driven_Wheels</th>\n",
       "      <th>Number of Doors</th>\n",
       "      <th>Market Category</th>\n",
       "      <th>Vehicle Size</th>\n",
       "      <th>Vehicle Style</th>\n",
       "      <th>highway MPG</th>\n",
       "      <th>city mpg</th>\n",
       "      <th>Popularity</th>\n",
       "      <th>MSRP</th>\n",
       "    </tr>\n",
       "  </thead>\n",
       "  <tbody>\n",
       "    <tr>\n",
       "      <th>0</th>\n",
       "      <td>2011</td>\n",
       "      <td>premium unleaded (required)</td>\n",
       "      <td>335.0</td>\n",
       "      <td>6.0</td>\n",
       "      <td>MANUAL</td>\n",
       "      <td>rear wheel drive</td>\n",
       "      <td>2.0</td>\n",
       "      <td>Factory Tuner,Luxury,High-Performance</td>\n",
       "      <td>Compact</td>\n",
       "      <td>Coupe</td>\n",
       "      <td>26</td>\n",
       "      <td>19</td>\n",
       "      <td>3916</td>\n",
       "      <td>46135</td>\n",
       "    </tr>\n",
       "    <tr>\n",
       "      <th>1</th>\n",
       "      <td>2011</td>\n",
       "      <td>premium unleaded (required)</td>\n",
       "      <td>300.0</td>\n",
       "      <td>6.0</td>\n",
       "      <td>MANUAL</td>\n",
       "      <td>rear wheel drive</td>\n",
       "      <td>2.0</td>\n",
       "      <td>Luxury,Performance</td>\n",
       "      <td>Compact</td>\n",
       "      <td>Convertible</td>\n",
       "      <td>28</td>\n",
       "      <td>19</td>\n",
       "      <td>3916</td>\n",
       "      <td>40650</td>\n",
       "    </tr>\n",
       "    <tr>\n",
       "      <th>2</th>\n",
       "      <td>2011</td>\n",
       "      <td>premium unleaded (required)</td>\n",
       "      <td>300.0</td>\n",
       "      <td>6.0</td>\n",
       "      <td>MANUAL</td>\n",
       "      <td>rear wheel drive</td>\n",
       "      <td>2.0</td>\n",
       "      <td>Luxury,High-Performance</td>\n",
       "      <td>Compact</td>\n",
       "      <td>Coupe</td>\n",
       "      <td>28</td>\n",
       "      <td>20</td>\n",
       "      <td>3916</td>\n",
       "      <td>36350</td>\n",
       "    </tr>\n",
       "    <tr>\n",
       "      <th>3</th>\n",
       "      <td>2011</td>\n",
       "      <td>premium unleaded (required)</td>\n",
       "      <td>230.0</td>\n",
       "      <td>6.0</td>\n",
       "      <td>MANUAL</td>\n",
       "      <td>rear wheel drive</td>\n",
       "      <td>2.0</td>\n",
       "      <td>Luxury,Performance</td>\n",
       "      <td>Compact</td>\n",
       "      <td>Coupe</td>\n",
       "      <td>28</td>\n",
       "      <td>18</td>\n",
       "      <td>3916</td>\n",
       "      <td>29450</td>\n",
       "    </tr>\n",
       "    <tr>\n",
       "      <th>4</th>\n",
       "      <td>2011</td>\n",
       "      <td>premium unleaded (required)</td>\n",
       "      <td>230.0</td>\n",
       "      <td>6.0</td>\n",
       "      <td>MANUAL</td>\n",
       "      <td>rear wheel drive</td>\n",
       "      <td>2.0</td>\n",
       "      <td>Luxury</td>\n",
       "      <td>Compact</td>\n",
       "      <td>Convertible</td>\n",
       "      <td>28</td>\n",
       "      <td>18</td>\n",
       "      <td>3916</td>\n",
       "      <td>34500</td>\n",
       "    </tr>\n",
       "    <tr>\n",
       "      <th>...</th>\n",
       "      <td>...</td>\n",
       "      <td>...</td>\n",
       "      <td>...</td>\n",
       "      <td>...</td>\n",
       "      <td>...</td>\n",
       "      <td>...</td>\n",
       "      <td>...</td>\n",
       "      <td>...</td>\n",
       "      <td>...</td>\n",
       "      <td>...</td>\n",
       "      <td>...</td>\n",
       "      <td>...</td>\n",
       "      <td>...</td>\n",
       "      <td>...</td>\n",
       "    </tr>\n",
       "    <tr>\n",
       "      <th>11909</th>\n",
       "      <td>2012</td>\n",
       "      <td>premium unleaded (required)</td>\n",
       "      <td>300.0</td>\n",
       "      <td>6.0</td>\n",
       "      <td>AUTOMATIC</td>\n",
       "      <td>all wheel drive</td>\n",
       "      <td>4.0</td>\n",
       "      <td>Crossover,Hatchback,Luxury</td>\n",
       "      <td>Midsize</td>\n",
       "      <td>4dr Hatchback</td>\n",
       "      <td>23</td>\n",
       "      <td>16</td>\n",
       "      <td>204</td>\n",
       "      <td>46120</td>\n",
       "    </tr>\n",
       "    <tr>\n",
       "      <th>11910</th>\n",
       "      <td>2012</td>\n",
       "      <td>premium unleaded (required)</td>\n",
       "      <td>300.0</td>\n",
       "      <td>6.0</td>\n",
       "      <td>AUTOMATIC</td>\n",
       "      <td>all wheel drive</td>\n",
       "      <td>4.0</td>\n",
       "      <td>Crossover,Hatchback,Luxury</td>\n",
       "      <td>Midsize</td>\n",
       "      <td>4dr Hatchback</td>\n",
       "      <td>23</td>\n",
       "      <td>16</td>\n",
       "      <td>204</td>\n",
       "      <td>56670</td>\n",
       "    </tr>\n",
       "    <tr>\n",
       "      <th>11911</th>\n",
       "      <td>2012</td>\n",
       "      <td>premium unleaded (required)</td>\n",
       "      <td>300.0</td>\n",
       "      <td>6.0</td>\n",
       "      <td>AUTOMATIC</td>\n",
       "      <td>all wheel drive</td>\n",
       "      <td>4.0</td>\n",
       "      <td>Crossover,Hatchback,Luxury</td>\n",
       "      <td>Midsize</td>\n",
       "      <td>4dr Hatchback</td>\n",
       "      <td>23</td>\n",
       "      <td>16</td>\n",
       "      <td>204</td>\n",
       "      <td>50620</td>\n",
       "    </tr>\n",
       "    <tr>\n",
       "      <th>11912</th>\n",
       "      <td>2013</td>\n",
       "      <td>premium unleaded (recommended)</td>\n",
       "      <td>300.0</td>\n",
       "      <td>6.0</td>\n",
       "      <td>AUTOMATIC</td>\n",
       "      <td>all wheel drive</td>\n",
       "      <td>4.0</td>\n",
       "      <td>Crossover,Hatchback,Luxury</td>\n",
       "      <td>Midsize</td>\n",
       "      <td>4dr Hatchback</td>\n",
       "      <td>23</td>\n",
       "      <td>16</td>\n",
       "      <td>204</td>\n",
       "      <td>50920</td>\n",
       "    </tr>\n",
       "    <tr>\n",
       "      <th>11913</th>\n",
       "      <td>2006</td>\n",
       "      <td>regular unleaded</td>\n",
       "      <td>221.0</td>\n",
       "      <td>6.0</td>\n",
       "      <td>AUTOMATIC</td>\n",
       "      <td>front wheel drive</td>\n",
       "      <td>4.0</td>\n",
       "      <td>Luxury</td>\n",
       "      <td>Midsize</td>\n",
       "      <td>Sedan</td>\n",
       "      <td>26</td>\n",
       "      <td>17</td>\n",
       "      <td>61</td>\n",
       "      <td>28995</td>\n",
       "    </tr>\n",
       "  </tbody>\n",
       "</table>\n",
       "<p>11914 rows × 14 columns</p>\n",
       "</div>"
      ],
      "text/plain": [
       "       Year                Engine Fuel Type  Engine HP  Engine Cylinders  \\\n",
       "0      2011     premium unleaded (required)      335.0               6.0   \n",
       "1      2011     premium unleaded (required)      300.0               6.0   \n",
       "2      2011     premium unleaded (required)      300.0               6.0   \n",
       "3      2011     premium unleaded (required)      230.0               6.0   \n",
       "4      2011     premium unleaded (required)      230.0               6.0   \n",
       "...     ...                             ...        ...               ...   \n",
       "11909  2012     premium unleaded (required)      300.0               6.0   \n",
       "11910  2012     premium unleaded (required)      300.0               6.0   \n",
       "11911  2012     premium unleaded (required)      300.0               6.0   \n",
       "11912  2013  premium unleaded (recommended)      300.0               6.0   \n",
       "11913  2006                regular unleaded      221.0               6.0   \n",
       "\n",
       "      Transmission Type      Driven_Wheels  Number of Doors  \\\n",
       "0                MANUAL   rear wheel drive              2.0   \n",
       "1                MANUAL   rear wheel drive              2.0   \n",
       "2                MANUAL   rear wheel drive              2.0   \n",
       "3                MANUAL   rear wheel drive              2.0   \n",
       "4                MANUAL   rear wheel drive              2.0   \n",
       "...                 ...                ...              ...   \n",
       "11909         AUTOMATIC    all wheel drive              4.0   \n",
       "11910         AUTOMATIC    all wheel drive              4.0   \n",
       "11911         AUTOMATIC    all wheel drive              4.0   \n",
       "11912         AUTOMATIC    all wheel drive              4.0   \n",
       "11913         AUTOMATIC  front wheel drive              4.0   \n",
       "\n",
       "                             Market Category Vehicle Size  Vehicle Style  \\\n",
       "0      Factory Tuner,Luxury,High-Performance      Compact          Coupe   \n",
       "1                         Luxury,Performance      Compact    Convertible   \n",
       "2                    Luxury,High-Performance      Compact          Coupe   \n",
       "3                         Luxury,Performance      Compact          Coupe   \n",
       "4                                     Luxury      Compact    Convertible   \n",
       "...                                      ...          ...            ...   \n",
       "11909             Crossover,Hatchback,Luxury      Midsize  4dr Hatchback   \n",
       "11910             Crossover,Hatchback,Luxury      Midsize  4dr Hatchback   \n",
       "11911             Crossover,Hatchback,Luxury      Midsize  4dr Hatchback   \n",
       "11912             Crossover,Hatchback,Luxury      Midsize  4dr Hatchback   \n",
       "11913                                 Luxury      Midsize          Sedan   \n",
       "\n",
       "       highway MPG  city mpg  Popularity   MSRP  \n",
       "0               26        19        3916  46135  \n",
       "1               28        19        3916  40650  \n",
       "2               28        20        3916  36350  \n",
       "3               28        18        3916  29450  \n",
       "4               28        18        3916  34500  \n",
       "...            ...       ...         ...    ...  \n",
       "11909           23        16         204  46120  \n",
       "11910           23        16         204  56670  \n",
       "11911           23        16         204  50620  \n",
       "11912           23        16         204  50920  \n",
       "11913           26        17          61  28995  \n",
       "\n",
       "[11914 rows x 14 columns]"
      ]
     },
     "execution_count": 75,
     "metadata": {},
     "output_type": "execute_result"
    }
   ],
   "source": [
    "# If U want to Drop Columns\n",
    "df.drop(columns=['Make', 'Model'], axis=1)"
   ]
  },
  {
   "cell_type": "code",
   "execution_count": 76,
   "id": "13fb666c",
   "metadata": {},
   "outputs": [],
   "source": [
    "# If you want to make changes to orignal DF -> inplace = True\n",
    "df.drop(columns=['Make', 'Model'], axis=1, inplace=True)"
   ]
  },
  {
   "cell_type": "code",
   "execution_count": null,
   "id": "ba610758",
   "metadata": {},
   "outputs": [
    {
     "data": {
      "application/vnd.microsoft.datawrangler.viewer.v0+json": {
       "columns": [
        {
         "name": "index",
         "rawType": "int64",
         "type": "integer"
        },
        {
         "name": "Year",
         "rawType": "int64",
         "type": "integer"
        },
        {
         "name": "Engine Fuel Type",
         "rawType": "object",
         "type": "unknown"
        },
        {
         "name": "Engine HP",
         "rawType": "float64",
         "type": "float"
        },
        {
         "name": "Engine Cylinders",
         "rawType": "float64",
         "type": "float"
        },
        {
         "name": "Transmission Type",
         "rawType": "object",
         "type": "string"
        },
        {
         "name": "Driven_Wheels",
         "rawType": "object",
         "type": "string"
        },
        {
         "name": "Number of Doors",
         "rawType": "float64",
         "type": "float"
        },
        {
         "name": "Market Category",
         "rawType": "object",
         "type": "unknown"
        },
        {
         "name": "Vehicle Size",
         "rawType": "object",
         "type": "string"
        },
        {
         "name": "Vehicle Style",
         "rawType": "object",
         "type": "string"
        },
        {
         "name": "highway MPG",
         "rawType": "int64",
         "type": "integer"
        },
        {
         "name": "city mpg",
         "rawType": "int64",
         "type": "integer"
        },
        {
         "name": "Popularity",
         "rawType": "int64",
         "type": "integer"
        },
        {
         "name": "MSRP",
         "rawType": "int64",
         "type": "integer"
        }
       ],
       "ref": "1ff025d7-4d1b-4fa6-9cb9-58504b7de17e",
       "rows": [
        [
         "2",
         "2011",
         "premium unleaded (required)",
         "300.0",
         "6.0",
         "MANUAL",
         "rear wheel drive",
         "2.0",
         "Luxury,High-Performance",
         "Compact",
         "Coupe",
         "28",
         "20",
         "3916",
         "36350"
        ],
        [
         "3",
         "2011",
         "premium unleaded (required)",
         "230.0",
         "6.0",
         "MANUAL",
         "rear wheel drive",
         "2.0",
         "Luxury,Performance",
         "Compact",
         "Coupe",
         "28",
         "18",
         "3916",
         "29450"
        ],
        [
         "4",
         "2011",
         "premium unleaded (required)",
         "230.0",
         "6.0",
         "MANUAL",
         "rear wheel drive",
         "2.0",
         "Luxury",
         "Compact",
         "Convertible",
         "28",
         "18",
         "3916",
         "34500"
        ],
        [
         "5",
         "2012",
         "premium unleaded (required)",
         "230.0",
         "6.0",
         "MANUAL",
         "rear wheel drive",
         "2.0",
         "Luxury,Performance",
         "Compact",
         "Coupe",
         "28",
         "18",
         "3916",
         "31200"
        ],
        [
         "6",
         "2012",
         "premium unleaded (required)",
         "300.0",
         "6.0",
         "MANUAL",
         "rear wheel drive",
         "2.0",
         "Luxury,Performance",
         "Compact",
         "Convertible",
         "26",
         "17",
         "3916",
         "44100"
        ],
        [
         "7",
         "2012",
         "premium unleaded (required)",
         "300.0",
         "6.0",
         "MANUAL",
         "rear wheel drive",
         "2.0",
         "Luxury,High-Performance",
         "Compact",
         "Coupe",
         "28",
         "20",
         "3916",
         "39300"
        ],
        [
         "8",
         "2012",
         "premium unleaded (required)",
         "230.0",
         "6.0",
         "MANUAL",
         "rear wheel drive",
         "2.0",
         "Luxury",
         "Compact",
         "Convertible",
         "28",
         "18",
         "3916",
         "36900"
        ],
        [
         "9",
         "2013",
         "premium unleaded (required)",
         "230.0",
         "6.0",
         "MANUAL",
         "rear wheel drive",
         "2.0",
         "Luxury",
         "Compact",
         "Convertible",
         "27",
         "18",
         "3916",
         "37200"
        ],
        [
         "10",
         "2013",
         "premium unleaded (required)",
         "300.0",
         "6.0",
         "MANUAL",
         "rear wheel drive",
         "2.0",
         "Luxury,High-Performance",
         "Compact",
         "Coupe",
         "28",
         "20",
         "3916",
         "39600"
        ],
        [
         "11",
         "2013",
         "premium unleaded (required)",
         "230.0",
         "6.0",
         "MANUAL",
         "rear wheel drive",
         "2.0",
         "Luxury,Performance",
         "Compact",
         "Coupe",
         "28",
         "19",
         "3916",
         "31500"
        ],
        [
         "12",
         "2013",
         "premium unleaded (required)",
         "300.0",
         "6.0",
         "MANUAL",
         "rear wheel drive",
         "2.0",
         "Luxury,Performance",
         "Compact",
         "Convertible",
         "28",
         "19",
         "3916",
         "44400"
        ],
        [
         "13",
         "2013",
         "premium unleaded (required)",
         "230.0",
         "6.0",
         "MANUAL",
         "rear wheel drive",
         "2.0",
         "Luxury",
         "Compact",
         "Convertible",
         "28",
         "19",
         "3916",
         "37200"
        ],
        [
         "14",
         "2013",
         "premium unleaded (required)",
         "230.0",
         "6.0",
         "MANUAL",
         "rear wheel drive",
         "2.0",
         "Luxury,Performance",
         "Compact",
         "Coupe",
         "28",
         "19",
         "3916",
         "31500"
        ],
        [
         "15",
         "2013",
         "premium unleaded (required)",
         "320.0",
         "6.0",
         "MANUAL",
         "rear wheel drive",
         "2.0",
         "Luxury,High-Performance",
         "Compact",
         "Convertible",
         "25",
         "18",
         "3916",
         "48250"
        ],
        [
         "16",
         "2013",
         "premium unleaded (required)",
         "320.0",
         "6.0",
         "MANUAL",
         "rear wheel drive",
         "2.0",
         "Luxury,High-Performance",
         "Compact",
         "Coupe",
         "28",
         "20",
         "3916",
         "43550"
        ],
        [
         "17",
         "1992",
         "regular unleaded",
         "172.0",
         "6.0",
         "MANUAL",
         "front wheel drive",
         "4.0",
         "Luxury",
         "Midsize",
         "Sedan",
         "24",
         "17",
         "3105",
         "2000"
        ],
        [
         "18",
         "1992",
         "regular unleaded",
         "172.0",
         "6.0",
         "MANUAL",
         "front wheel drive",
         "4.0",
         "Luxury",
         "Midsize",
         "Sedan",
         "24",
         "17",
         "3105",
         "2000"
        ],
        [
         "19",
         "1992",
         "regular unleaded",
         "172.0",
         "6.0",
         "AUTOMATIC",
         "all wheel drive",
         "4.0",
         "Luxury",
         "Midsize",
         "Wagon",
         "20",
         "16",
         "3105",
         "2000"
        ],
        [
         "20",
         "1992",
         "regular unleaded",
         "172.0",
         "6.0",
         "MANUAL",
         "front wheel drive",
         "4.0",
         "Luxury",
         "Midsize",
         "Sedan",
         "24",
         "17",
         "3105",
         "2000"
        ],
        [
         "21",
         "1992",
         "regular unleaded",
         "172.0",
         "6.0",
         "MANUAL",
         "all wheel drive",
         "4.0",
         "Luxury",
         "Midsize",
         "Sedan",
         "21",
         "16",
         "3105",
         "2000"
        ],
        [
         "22",
         "1993",
         "regular unleaded",
         "172.0",
         "6.0",
         "MANUAL",
         "front wheel drive",
         "4.0",
         "Luxury",
         "Midsize",
         "Sedan",
         "24",
         "17",
         "3105",
         "2000"
        ],
        [
         "23",
         "1993",
         "regular unleaded",
         "172.0",
         "6.0",
         "AUTOMATIC",
         "all wheel drive",
         "4.0",
         "Luxury",
         "Midsize",
         "Wagon",
         "20",
         "16",
         "3105",
         "2000"
        ],
        [
         "24",
         "1993",
         "regular unleaded",
         "172.0",
         "6.0",
         "MANUAL",
         "front wheel drive",
         "4.0",
         "Luxury",
         "Midsize",
         "Sedan",
         "24",
         "17",
         "3105",
         "2000"
        ],
        [
         "25",
         "1993",
         "regular unleaded",
         "172.0",
         "6.0",
         "MANUAL",
         "front wheel drive",
         "4.0",
         "Luxury",
         "Midsize",
         "Sedan",
         "24",
         "17",
         "3105",
         "2000"
        ],
        [
         "26",
         "1993",
         "regular unleaded",
         "172.0",
         "6.0",
         "MANUAL",
         "all wheel drive",
         "4.0",
         "Luxury",
         "Midsize",
         "Sedan",
         "21",
         "16",
         "3105",
         "2000"
        ],
        [
         "27",
         "1994",
         "regular unleaded",
         "172.0",
         "6.0",
         "AUTOMATIC",
         "front wheel drive",
         "4.0",
         "Luxury",
         "Midsize",
         "Wagon",
         "21",
         "16",
         "3105",
         "2000"
        ],
        [
         "28",
         "1994",
         "regular unleaded",
         "172.0",
         "6.0",
         "MANUAL",
         "all wheel drive",
         "4.0",
         "Luxury",
         "Midsize",
         "Sedan",
         "22",
         "16",
         "3105",
         "2000"
        ],
        [
         "29",
         "1994",
         "regular unleaded",
         "172.0",
         "6.0",
         "MANUAL",
         "front wheel drive",
         "4.0",
         "Luxury",
         "Midsize",
         "Sedan",
         "22",
         "17",
         "3105",
         "2000"
        ],
        [
         "30",
         "1994",
         "regular unleaded",
         "172.0",
         "6.0",
         "AUTOMATIC",
         "front wheel drive",
         "4.0",
         "Luxury",
         "Midsize",
         "Sedan",
         "22",
         "16",
         "3105",
         "2000"
        ],
        [
         "31",
         "1994",
         "regular unleaded",
         "172.0",
         "6.0",
         "AUTOMATIC",
         "all wheel drive",
         "4.0",
         "Luxury",
         "Midsize",
         "Wagon",
         "21",
         "16",
         "3105",
         "2000"
        ],
        [
         "32",
         "2017",
         "premium unleaded (recommended)",
         "160.0",
         "4.0",
         "MANUAL",
         "rear wheel drive",
         "2.0",
         "Performance",
         "Compact",
         "Convertible",
         "35",
         "26",
         "819",
         "27495"
        ],
        [
         "33",
         "2017",
         "premium unleaded (recommended)",
         "160.0",
         "4.0",
         "MANUAL",
         "rear wheel drive",
         "2.0",
         "Performance",
         "Compact",
         "Convertible",
         "35",
         "26",
         "819",
         "24995"
        ],
        [
         "34",
         "2017",
         "premium unleaded (recommended)",
         "160.0",
         "4.0",
         "MANUAL",
         "rear wheel drive",
         "2.0",
         "Performance",
         "Compact",
         "Convertible",
         "35",
         "26",
         "819",
         "28195"
        ],
        [
         "35",
         "1991",
         "regular unleaded",
         "130.0",
         "4.0",
         "MANUAL",
         "rear wheel drive",
         "4.0",
         "Luxury",
         "Compact",
         "Sedan",
         "26",
         "18",
         "617",
         "2000"
        ],
        [
         "36",
         "1991",
         "regular unleaded",
         "158.0",
         "6.0",
         "MANUAL",
         "rear wheel drive",
         "4.0",
         "Luxury",
         "Compact",
         "Sedan",
         "25",
         "17",
         "617",
         "2000"
        ],
        [
         "37",
         "1992",
         "regular unleaded",
         "158.0",
         "6.0",
         "MANUAL",
         "rear wheel drive",
         "4.0",
         "Luxury",
         "Compact",
         "Sedan",
         "25",
         "17",
         "617",
         "2000"
        ],
        [
         "38",
         "1992",
         "regular unleaded",
         "130.0",
         "4.0",
         "MANUAL",
         "rear wheel drive",
         "4.0",
         "Luxury",
         "Compact",
         "Sedan",
         "26",
         "18",
         "617",
         "2000"
        ],
        [
         "39",
         "1993",
         "regular unleaded",
         "130.0",
         "4.0",
         "MANUAL",
         "rear wheel drive",
         "4.0",
         "Luxury",
         "Compact",
         "Sedan",
         "26",
         "18",
         "617",
         "2000"
        ],
        [
         "40",
         "1993",
         "regular unleaded",
         "158.0",
         "6.0",
         "MANUAL",
         "rear wheel drive",
         "4.0",
         "Luxury",
         "Compact",
         "Sedan",
         "25",
         "17",
         "617",
         "2000"
        ],
        [
         "41",
         "2016",
         "premium unleaded (required)",
         "240.0",
         "4.0",
         "AUTOMATIC",
         "rear wheel drive",
         "2.0",
         "Luxury,Performance",
         "Compact",
         "Coupe",
         "35",
         "23",
         "3916",
         "32850"
        ],
        [
         "42",
         "2016",
         "premium unleaded (required)",
         "240.0",
         "4.0",
         "AUTOMATIC",
         "rear wheel drive",
         "2.0",
         "Luxury",
         "Compact",
         "Convertible",
         "34",
         "23",
         "3916",
         "38650"
        ],
        [
         "43",
         "2016",
         "premium unleaded (required)",
         "320.0",
         "6.0",
         "AUTOMATIC",
         "rear wheel drive",
         "2.0",
         "Factory Tuner,Luxury,High-Performance",
         "Compact",
         "Convertible",
         "31",
         "20",
         "3916",
         "48750"
        ],
        [
         "44",
         "2016",
         "premium unleaded (required)",
         "240.0",
         "4.0",
         "AUTOMATIC",
         "all wheel drive",
         "2.0",
         "Luxury,Performance",
         "Compact",
         "Coupe",
         "35",
         "23",
         "3916",
         "34850"
        ],
        [
         "45",
         "2016",
         "premium unleaded (required)",
         "240.0",
         "4.0",
         "AUTOMATIC",
         "all wheel drive",
         "2.0",
         "Luxury",
         "Compact",
         "Convertible",
         "34",
         "22",
         "3916",
         "40650"
        ],
        [
         "46",
         "2016",
         "premium unleaded (required)",
         "320.0",
         "6.0",
         "AUTOMATIC",
         "rear wheel drive",
         "2.0",
         "Factory Tuner,Luxury,High-Performance",
         "Compact",
         "Coupe",
         "31",
         "20",
         "3916",
         "44150"
        ],
        [
         "47",
         "2016",
         "premium unleaded (required)",
         "240.0",
         "4.0",
         "MANUAL",
         "rear wheel drive",
         "2.0",
         "Luxury,Performance",
         "Compact",
         "Coupe",
         "34",
         "22",
         "3916",
         "32850"
        ],
        [
         "48",
         "2016",
         "premium unleaded (required)",
         "320.0",
         "6.0",
         "AUTOMATIC",
         "all wheel drive",
         "2.0",
         "Factory Tuner,Luxury,High-Performance",
         "Compact",
         "Coupe",
         "30",
         "20",
         "3916",
         "46150"
        ],
        [
         "49",
         "2016",
         "premium unleaded (required)",
         "320.0",
         "6.0",
         "AUTOMATIC",
         "rear wheel drive",
         "2.0",
         "Factory Tuner,Luxury,High-Performance",
         "Compact",
         "Convertible",
         "30",
         "20",
         "3916",
         "50750"
        ],
        [
         "50",
         "2017",
         "premium unleaded (recommended)",
         "335.0",
         "6.0",
         "AUTOMATIC",
         "all wheel drive",
         "2.0",
         "Factory Tuner,Luxury,High-Performance",
         "Compact",
         "Coupe",
         "31",
         "21",
         "3916",
         "46450"
        ],
        [
         "51",
         "2017",
         "premium unleaded (recommended)",
         "335.0",
         "6.0",
         "AUTOMATIC",
         "rear wheel drive",
         "2.0",
         "Factory Tuner,Luxury,High-Performance",
         "Compact",
         "Convertible",
         "32",
         "21",
         "3916",
         "49050"
        ]
       ],
       "shape": {
        "columns": 14,
        "rows": 11912
       }
      },
      "text/html": [
       "<div>\n",
       "<style scoped>\n",
       "    .dataframe tbody tr th:only-of-type {\n",
       "        vertical-align: middle;\n",
       "    }\n",
       "\n",
       "    .dataframe tbody tr th {\n",
       "        vertical-align: top;\n",
       "    }\n",
       "\n",
       "    .dataframe thead th {\n",
       "        text-align: right;\n",
       "    }\n",
       "</style>\n",
       "<table border=\"1\" class=\"dataframe\">\n",
       "  <thead>\n",
       "    <tr style=\"text-align: right;\">\n",
       "      <th></th>\n",
       "      <th>Year</th>\n",
       "      <th>Engine Fuel Type</th>\n",
       "      <th>Engine HP</th>\n",
       "      <th>Engine Cylinders</th>\n",
       "      <th>Transmission Type</th>\n",
       "      <th>Driven_Wheels</th>\n",
       "      <th>Number of Doors</th>\n",
       "      <th>Market Category</th>\n",
       "      <th>Vehicle Size</th>\n",
       "      <th>Vehicle Style</th>\n",
       "      <th>highway MPG</th>\n",
       "      <th>city mpg</th>\n",
       "      <th>Popularity</th>\n",
       "      <th>MSRP</th>\n",
       "    </tr>\n",
       "  </thead>\n",
       "  <tbody>\n",
       "    <tr>\n",
       "      <th>2</th>\n",
       "      <td>2011</td>\n",
       "      <td>premium unleaded (required)</td>\n",
       "      <td>300.0</td>\n",
       "      <td>6.0</td>\n",
       "      <td>MANUAL</td>\n",
       "      <td>rear wheel drive</td>\n",
       "      <td>2.0</td>\n",
       "      <td>Luxury,High-Performance</td>\n",
       "      <td>Compact</td>\n",
       "      <td>Coupe</td>\n",
       "      <td>28</td>\n",
       "      <td>20</td>\n",
       "      <td>3916</td>\n",
       "      <td>36350</td>\n",
       "    </tr>\n",
       "    <tr>\n",
       "      <th>3</th>\n",
       "      <td>2011</td>\n",
       "      <td>premium unleaded (required)</td>\n",
       "      <td>230.0</td>\n",
       "      <td>6.0</td>\n",
       "      <td>MANUAL</td>\n",
       "      <td>rear wheel drive</td>\n",
       "      <td>2.0</td>\n",
       "      <td>Luxury,Performance</td>\n",
       "      <td>Compact</td>\n",
       "      <td>Coupe</td>\n",
       "      <td>28</td>\n",
       "      <td>18</td>\n",
       "      <td>3916</td>\n",
       "      <td>29450</td>\n",
       "    </tr>\n",
       "    <tr>\n",
       "      <th>4</th>\n",
       "      <td>2011</td>\n",
       "      <td>premium unleaded (required)</td>\n",
       "      <td>230.0</td>\n",
       "      <td>6.0</td>\n",
       "      <td>MANUAL</td>\n",
       "      <td>rear wheel drive</td>\n",
       "      <td>2.0</td>\n",
       "      <td>Luxury</td>\n",
       "      <td>Compact</td>\n",
       "      <td>Convertible</td>\n",
       "      <td>28</td>\n",
       "      <td>18</td>\n",
       "      <td>3916</td>\n",
       "      <td>34500</td>\n",
       "    </tr>\n",
       "    <tr>\n",
       "      <th>5</th>\n",
       "      <td>2012</td>\n",
       "      <td>premium unleaded (required)</td>\n",
       "      <td>230.0</td>\n",
       "      <td>6.0</td>\n",
       "      <td>MANUAL</td>\n",
       "      <td>rear wheel drive</td>\n",
       "      <td>2.0</td>\n",
       "      <td>Luxury,Performance</td>\n",
       "      <td>Compact</td>\n",
       "      <td>Coupe</td>\n",
       "      <td>28</td>\n",
       "      <td>18</td>\n",
       "      <td>3916</td>\n",
       "      <td>31200</td>\n",
       "    </tr>\n",
       "    <tr>\n",
       "      <th>6</th>\n",
       "      <td>2012</td>\n",
       "      <td>premium unleaded (required)</td>\n",
       "      <td>300.0</td>\n",
       "      <td>6.0</td>\n",
       "      <td>MANUAL</td>\n",
       "      <td>rear wheel drive</td>\n",
       "      <td>2.0</td>\n",
       "      <td>Luxury,Performance</td>\n",
       "      <td>Compact</td>\n",
       "      <td>Convertible</td>\n",
       "      <td>26</td>\n",
       "      <td>17</td>\n",
       "      <td>3916</td>\n",
       "      <td>44100</td>\n",
       "    </tr>\n",
       "    <tr>\n",
       "      <th>...</th>\n",
       "      <td>...</td>\n",
       "      <td>...</td>\n",
       "      <td>...</td>\n",
       "      <td>...</td>\n",
       "      <td>...</td>\n",
       "      <td>...</td>\n",
       "      <td>...</td>\n",
       "      <td>...</td>\n",
       "      <td>...</td>\n",
       "      <td>...</td>\n",
       "      <td>...</td>\n",
       "      <td>...</td>\n",
       "      <td>...</td>\n",
       "      <td>...</td>\n",
       "    </tr>\n",
       "    <tr>\n",
       "      <th>11909</th>\n",
       "      <td>2012</td>\n",
       "      <td>premium unleaded (required)</td>\n",
       "      <td>300.0</td>\n",
       "      <td>6.0</td>\n",
       "      <td>AUTOMATIC</td>\n",
       "      <td>all wheel drive</td>\n",
       "      <td>4.0</td>\n",
       "      <td>Crossover,Hatchback,Luxury</td>\n",
       "      <td>Midsize</td>\n",
       "      <td>4dr Hatchback</td>\n",
       "      <td>23</td>\n",
       "      <td>16</td>\n",
       "      <td>204</td>\n",
       "      <td>46120</td>\n",
       "    </tr>\n",
       "    <tr>\n",
       "      <th>11910</th>\n",
       "      <td>2012</td>\n",
       "      <td>premium unleaded (required)</td>\n",
       "      <td>300.0</td>\n",
       "      <td>6.0</td>\n",
       "      <td>AUTOMATIC</td>\n",
       "      <td>all wheel drive</td>\n",
       "      <td>4.0</td>\n",
       "      <td>Crossover,Hatchback,Luxury</td>\n",
       "      <td>Midsize</td>\n",
       "      <td>4dr Hatchback</td>\n",
       "      <td>23</td>\n",
       "      <td>16</td>\n",
       "      <td>204</td>\n",
       "      <td>56670</td>\n",
       "    </tr>\n",
       "    <tr>\n",
       "      <th>11911</th>\n",
       "      <td>2012</td>\n",
       "      <td>premium unleaded (required)</td>\n",
       "      <td>300.0</td>\n",
       "      <td>6.0</td>\n",
       "      <td>AUTOMATIC</td>\n",
       "      <td>all wheel drive</td>\n",
       "      <td>4.0</td>\n",
       "      <td>Crossover,Hatchback,Luxury</td>\n",
       "      <td>Midsize</td>\n",
       "      <td>4dr Hatchback</td>\n",
       "      <td>23</td>\n",
       "      <td>16</td>\n",
       "      <td>204</td>\n",
       "      <td>50620</td>\n",
       "    </tr>\n",
       "    <tr>\n",
       "      <th>11912</th>\n",
       "      <td>2013</td>\n",
       "      <td>premium unleaded (recommended)</td>\n",
       "      <td>300.0</td>\n",
       "      <td>6.0</td>\n",
       "      <td>AUTOMATIC</td>\n",
       "      <td>all wheel drive</td>\n",
       "      <td>4.0</td>\n",
       "      <td>Crossover,Hatchback,Luxury</td>\n",
       "      <td>Midsize</td>\n",
       "      <td>4dr Hatchback</td>\n",
       "      <td>23</td>\n",
       "      <td>16</td>\n",
       "      <td>204</td>\n",
       "      <td>50920</td>\n",
       "    </tr>\n",
       "    <tr>\n",
       "      <th>11913</th>\n",
       "      <td>2006</td>\n",
       "      <td>regular unleaded</td>\n",
       "      <td>221.0</td>\n",
       "      <td>6.0</td>\n",
       "      <td>AUTOMATIC</td>\n",
       "      <td>front wheel drive</td>\n",
       "      <td>4.0</td>\n",
       "      <td>Luxury</td>\n",
       "      <td>Midsize</td>\n",
       "      <td>Sedan</td>\n",
       "      <td>26</td>\n",
       "      <td>17</td>\n",
       "      <td>61</td>\n",
       "      <td>28995</td>\n",
       "    </tr>\n",
       "  </tbody>\n",
       "</table>\n",
       "<p>11912 rows × 14 columns</p>\n",
       "</div>"
      ],
      "text/plain": [
       "       Year                Engine Fuel Type  Engine HP  Engine Cylinders  \\\n",
       "2      2011     premium unleaded (required)      300.0               6.0   \n",
       "3      2011     premium unleaded (required)      230.0               6.0   \n",
       "4      2011     premium unleaded (required)      230.0               6.0   \n",
       "5      2012     premium unleaded (required)      230.0               6.0   \n",
       "6      2012     premium unleaded (required)      300.0               6.0   \n",
       "...     ...                             ...        ...               ...   \n",
       "11909  2012     premium unleaded (required)      300.0               6.0   \n",
       "11910  2012     premium unleaded (required)      300.0               6.0   \n",
       "11911  2012     premium unleaded (required)      300.0               6.0   \n",
       "11912  2013  premium unleaded (recommended)      300.0               6.0   \n",
       "11913  2006                regular unleaded      221.0               6.0   \n",
       "\n",
       "      Transmission Type      Driven_Wheels  Number of Doors  \\\n",
       "2                MANUAL   rear wheel drive              2.0   \n",
       "3                MANUAL   rear wheel drive              2.0   \n",
       "4                MANUAL   rear wheel drive              2.0   \n",
       "5                MANUAL   rear wheel drive              2.0   \n",
       "6                MANUAL   rear wheel drive              2.0   \n",
       "...                 ...                ...              ...   \n",
       "11909         AUTOMATIC    all wheel drive              4.0   \n",
       "11910         AUTOMATIC    all wheel drive              4.0   \n",
       "11911         AUTOMATIC    all wheel drive              4.0   \n",
       "11912         AUTOMATIC    all wheel drive              4.0   \n",
       "11913         AUTOMATIC  front wheel drive              4.0   \n",
       "\n",
       "                  Market Category Vehicle Size  Vehicle Style  highway MPG  \\\n",
       "2         Luxury,High-Performance      Compact          Coupe           28   \n",
       "3              Luxury,Performance      Compact          Coupe           28   \n",
       "4                          Luxury      Compact    Convertible           28   \n",
       "5              Luxury,Performance      Compact          Coupe           28   \n",
       "6              Luxury,Performance      Compact    Convertible           26   \n",
       "...                           ...          ...            ...          ...   \n",
       "11909  Crossover,Hatchback,Luxury      Midsize  4dr Hatchback           23   \n",
       "11910  Crossover,Hatchback,Luxury      Midsize  4dr Hatchback           23   \n",
       "11911  Crossover,Hatchback,Luxury      Midsize  4dr Hatchback           23   \n",
       "11912  Crossover,Hatchback,Luxury      Midsize  4dr Hatchback           23   \n",
       "11913                      Luxury      Midsize          Sedan           26   \n",
       "\n",
       "       city mpg  Popularity   MSRP  \n",
       "2            20        3916  36350  \n",
       "3            18        3916  29450  \n",
       "4            18        3916  34500  \n",
       "5            18        3916  31200  \n",
       "6            17        3916  44100  \n",
       "...         ...         ...    ...  \n",
       "11909        16         204  46120  \n",
       "11910        16         204  56670  \n",
       "11911        16         204  50620  \n",
       "11912        16         204  50920  \n",
       "11913        17          61  28995  \n",
       "\n",
       "[11912 rows x 14 columns]"
      ]
     },
     "execution_count": 77,
     "metadata": {},
     "output_type": "execute_result"
    }
   ],
   "source": [
    "# axis = 0 (default)\n",
    "df.drop([0, 1])     # Drop Rows 1 & 0"
   ]
  },
  {
   "cell_type": "markdown",
   "id": "cc64a5df",
   "metadata": {},
   "source": [
    "*`Cleaning Empty Cells` -> df.dropna() OR df.fillna()*"
   ]
  },
  {
   "cell_type": "markdown",
   "id": "4484c7fb",
   "metadata": {},
   "source": [
    "<img src='dropna.png'>"
   ]
  },
  {
   "cell_type": "code",
   "execution_count": 78,
   "id": "8f755ef8",
   "metadata": {},
   "outputs": [
    {
     "data": {
      "application/vnd.microsoft.datawrangler.viewer.v0+json": {
       "columns": [
        {
         "name": "index",
         "rawType": "int64",
         "type": "integer"
        },
        {
         "name": "Year",
         "rawType": "int64",
         "type": "integer"
        },
        {
         "name": "Engine Fuel Type",
         "rawType": "object",
         "type": "string"
        },
        {
         "name": "Engine HP",
         "rawType": "float64",
         "type": "float"
        },
        {
         "name": "Engine Cylinders",
         "rawType": "float64",
         "type": "float"
        },
        {
         "name": "Transmission Type",
         "rawType": "object",
         "type": "string"
        },
        {
         "name": "Driven_Wheels",
         "rawType": "object",
         "type": "string"
        },
        {
         "name": "Number of Doors",
         "rawType": "float64",
         "type": "float"
        },
        {
         "name": "Market Category",
         "rawType": "object",
         "type": "string"
        },
        {
         "name": "Vehicle Size",
         "rawType": "object",
         "type": "string"
        },
        {
         "name": "Vehicle Style",
         "rawType": "object",
         "type": "string"
        },
        {
         "name": "highway MPG",
         "rawType": "int64",
         "type": "integer"
        },
        {
         "name": "city mpg",
         "rawType": "int64",
         "type": "integer"
        },
        {
         "name": "Popularity",
         "rawType": "int64",
         "type": "integer"
        },
        {
         "name": "MSRP",
         "rawType": "int64",
         "type": "integer"
        }
       ],
       "ref": "9eee9e8c-0e96-43d8-8748-89559d699a7b",
       "rows": [
        [
         "0",
         "2011",
         "premium unleaded (required)",
         "335.0",
         "6.0",
         "MANUAL",
         "rear wheel drive",
         "2.0",
         "Factory Tuner,Luxury,High-Performance",
         "Compact",
         "Coupe",
         "26",
         "19",
         "3916",
         "46135"
        ],
        [
         "1",
         "2011",
         "premium unleaded (required)",
         "300.0",
         "6.0",
         "MANUAL",
         "rear wheel drive",
         "2.0",
         "Luxury,Performance",
         "Compact",
         "Convertible",
         "28",
         "19",
         "3916",
         "40650"
        ],
        [
         "2",
         "2011",
         "premium unleaded (required)",
         "300.0",
         "6.0",
         "MANUAL",
         "rear wheel drive",
         "2.0",
         "Luxury,High-Performance",
         "Compact",
         "Coupe",
         "28",
         "20",
         "3916",
         "36350"
        ],
        [
         "3",
         "2011",
         "premium unleaded (required)",
         "230.0",
         "6.0",
         "MANUAL",
         "rear wheel drive",
         "2.0",
         "Luxury,Performance",
         "Compact",
         "Coupe",
         "28",
         "18",
         "3916",
         "29450"
        ],
        [
         "4",
         "2011",
         "premium unleaded (required)",
         "230.0",
         "6.0",
         "MANUAL",
         "rear wheel drive",
         "2.0",
         "Luxury",
         "Compact",
         "Convertible",
         "28",
         "18",
         "3916",
         "34500"
        ],
        [
         "5",
         "2012",
         "premium unleaded (required)",
         "230.0",
         "6.0",
         "MANUAL",
         "rear wheel drive",
         "2.0",
         "Luxury,Performance",
         "Compact",
         "Coupe",
         "28",
         "18",
         "3916",
         "31200"
        ],
        [
         "6",
         "2012",
         "premium unleaded (required)",
         "300.0",
         "6.0",
         "MANUAL",
         "rear wheel drive",
         "2.0",
         "Luxury,Performance",
         "Compact",
         "Convertible",
         "26",
         "17",
         "3916",
         "44100"
        ],
        [
         "7",
         "2012",
         "premium unleaded (required)",
         "300.0",
         "6.0",
         "MANUAL",
         "rear wheel drive",
         "2.0",
         "Luxury,High-Performance",
         "Compact",
         "Coupe",
         "28",
         "20",
         "3916",
         "39300"
        ],
        [
         "8",
         "2012",
         "premium unleaded (required)",
         "230.0",
         "6.0",
         "MANUAL",
         "rear wheel drive",
         "2.0",
         "Luxury",
         "Compact",
         "Convertible",
         "28",
         "18",
         "3916",
         "36900"
        ],
        [
         "9",
         "2013",
         "premium unleaded (required)",
         "230.0",
         "6.0",
         "MANUAL",
         "rear wheel drive",
         "2.0",
         "Luxury",
         "Compact",
         "Convertible",
         "27",
         "18",
         "3916",
         "37200"
        ],
        [
         "10",
         "2013",
         "premium unleaded (required)",
         "300.0",
         "6.0",
         "MANUAL",
         "rear wheel drive",
         "2.0",
         "Luxury,High-Performance",
         "Compact",
         "Coupe",
         "28",
         "20",
         "3916",
         "39600"
        ],
        [
         "11",
         "2013",
         "premium unleaded (required)",
         "230.0",
         "6.0",
         "MANUAL",
         "rear wheel drive",
         "2.0",
         "Luxury,Performance",
         "Compact",
         "Coupe",
         "28",
         "19",
         "3916",
         "31500"
        ],
        [
         "12",
         "2013",
         "premium unleaded (required)",
         "300.0",
         "6.0",
         "MANUAL",
         "rear wheel drive",
         "2.0",
         "Luxury,Performance",
         "Compact",
         "Convertible",
         "28",
         "19",
         "3916",
         "44400"
        ],
        [
         "13",
         "2013",
         "premium unleaded (required)",
         "230.0",
         "6.0",
         "MANUAL",
         "rear wheel drive",
         "2.0",
         "Luxury",
         "Compact",
         "Convertible",
         "28",
         "19",
         "3916",
         "37200"
        ],
        [
         "14",
         "2013",
         "premium unleaded (required)",
         "230.0",
         "6.0",
         "MANUAL",
         "rear wheel drive",
         "2.0",
         "Luxury,Performance",
         "Compact",
         "Coupe",
         "28",
         "19",
         "3916",
         "31500"
        ],
        [
         "15",
         "2013",
         "premium unleaded (required)",
         "320.0",
         "6.0",
         "MANUAL",
         "rear wheel drive",
         "2.0",
         "Luxury,High-Performance",
         "Compact",
         "Convertible",
         "25",
         "18",
         "3916",
         "48250"
        ],
        [
         "16",
         "2013",
         "premium unleaded (required)",
         "320.0",
         "6.0",
         "MANUAL",
         "rear wheel drive",
         "2.0",
         "Luxury,High-Performance",
         "Compact",
         "Coupe",
         "28",
         "20",
         "3916",
         "43550"
        ],
        [
         "17",
         "1992",
         "regular unleaded",
         "172.0",
         "6.0",
         "MANUAL",
         "front wheel drive",
         "4.0",
         "Luxury",
         "Midsize",
         "Sedan",
         "24",
         "17",
         "3105",
         "2000"
        ],
        [
         "18",
         "1992",
         "regular unleaded",
         "172.0",
         "6.0",
         "MANUAL",
         "front wheel drive",
         "4.0",
         "Luxury",
         "Midsize",
         "Sedan",
         "24",
         "17",
         "3105",
         "2000"
        ],
        [
         "19",
         "1992",
         "regular unleaded",
         "172.0",
         "6.0",
         "AUTOMATIC",
         "all wheel drive",
         "4.0",
         "Luxury",
         "Midsize",
         "Wagon",
         "20",
         "16",
         "3105",
         "2000"
        ],
        [
         "20",
         "1992",
         "regular unleaded",
         "172.0",
         "6.0",
         "MANUAL",
         "front wheel drive",
         "4.0",
         "Luxury",
         "Midsize",
         "Sedan",
         "24",
         "17",
         "3105",
         "2000"
        ],
        [
         "21",
         "1992",
         "regular unleaded",
         "172.0",
         "6.0",
         "MANUAL",
         "all wheel drive",
         "4.0",
         "Luxury",
         "Midsize",
         "Sedan",
         "21",
         "16",
         "3105",
         "2000"
        ],
        [
         "22",
         "1993",
         "regular unleaded",
         "172.0",
         "6.0",
         "MANUAL",
         "front wheel drive",
         "4.0",
         "Luxury",
         "Midsize",
         "Sedan",
         "24",
         "17",
         "3105",
         "2000"
        ],
        [
         "23",
         "1993",
         "regular unleaded",
         "172.0",
         "6.0",
         "AUTOMATIC",
         "all wheel drive",
         "4.0",
         "Luxury",
         "Midsize",
         "Wagon",
         "20",
         "16",
         "3105",
         "2000"
        ],
        [
         "24",
         "1993",
         "regular unleaded",
         "172.0",
         "6.0",
         "MANUAL",
         "front wheel drive",
         "4.0",
         "Luxury",
         "Midsize",
         "Sedan",
         "24",
         "17",
         "3105",
         "2000"
        ],
        [
         "25",
         "1993",
         "regular unleaded",
         "172.0",
         "6.0",
         "MANUAL",
         "front wheel drive",
         "4.0",
         "Luxury",
         "Midsize",
         "Sedan",
         "24",
         "17",
         "3105",
         "2000"
        ],
        [
         "26",
         "1993",
         "regular unleaded",
         "172.0",
         "6.0",
         "MANUAL",
         "all wheel drive",
         "4.0",
         "Luxury",
         "Midsize",
         "Sedan",
         "21",
         "16",
         "3105",
         "2000"
        ],
        [
         "27",
         "1994",
         "regular unleaded",
         "172.0",
         "6.0",
         "AUTOMATIC",
         "front wheel drive",
         "4.0",
         "Luxury",
         "Midsize",
         "Wagon",
         "21",
         "16",
         "3105",
         "2000"
        ],
        [
         "28",
         "1994",
         "regular unleaded",
         "172.0",
         "6.0",
         "MANUAL",
         "all wheel drive",
         "4.0",
         "Luxury",
         "Midsize",
         "Sedan",
         "22",
         "16",
         "3105",
         "2000"
        ],
        [
         "29",
         "1994",
         "regular unleaded",
         "172.0",
         "6.0",
         "MANUAL",
         "front wheel drive",
         "4.0",
         "Luxury",
         "Midsize",
         "Sedan",
         "22",
         "17",
         "3105",
         "2000"
        ],
        [
         "30",
         "1994",
         "regular unleaded",
         "172.0",
         "6.0",
         "AUTOMATIC",
         "front wheel drive",
         "4.0",
         "Luxury",
         "Midsize",
         "Sedan",
         "22",
         "16",
         "3105",
         "2000"
        ],
        [
         "31",
         "1994",
         "regular unleaded",
         "172.0",
         "6.0",
         "AUTOMATIC",
         "all wheel drive",
         "4.0",
         "Luxury",
         "Midsize",
         "Wagon",
         "21",
         "16",
         "3105",
         "2000"
        ],
        [
         "32",
         "2017",
         "premium unleaded (recommended)",
         "160.0",
         "4.0",
         "MANUAL",
         "rear wheel drive",
         "2.0",
         "Performance",
         "Compact",
         "Convertible",
         "35",
         "26",
         "819",
         "27495"
        ],
        [
         "33",
         "2017",
         "premium unleaded (recommended)",
         "160.0",
         "4.0",
         "MANUAL",
         "rear wheel drive",
         "2.0",
         "Performance",
         "Compact",
         "Convertible",
         "35",
         "26",
         "819",
         "24995"
        ],
        [
         "34",
         "2017",
         "premium unleaded (recommended)",
         "160.0",
         "4.0",
         "MANUAL",
         "rear wheel drive",
         "2.0",
         "Performance",
         "Compact",
         "Convertible",
         "35",
         "26",
         "819",
         "28195"
        ],
        [
         "35",
         "1991",
         "regular unleaded",
         "130.0",
         "4.0",
         "MANUAL",
         "rear wheel drive",
         "4.0",
         "Luxury",
         "Compact",
         "Sedan",
         "26",
         "18",
         "617",
         "2000"
        ],
        [
         "36",
         "1991",
         "regular unleaded",
         "158.0",
         "6.0",
         "MANUAL",
         "rear wheel drive",
         "4.0",
         "Luxury",
         "Compact",
         "Sedan",
         "25",
         "17",
         "617",
         "2000"
        ],
        [
         "37",
         "1992",
         "regular unleaded",
         "158.0",
         "6.0",
         "MANUAL",
         "rear wheel drive",
         "4.0",
         "Luxury",
         "Compact",
         "Sedan",
         "25",
         "17",
         "617",
         "2000"
        ],
        [
         "38",
         "1992",
         "regular unleaded",
         "130.0",
         "4.0",
         "MANUAL",
         "rear wheel drive",
         "4.0",
         "Luxury",
         "Compact",
         "Sedan",
         "26",
         "18",
         "617",
         "2000"
        ],
        [
         "39",
         "1993",
         "regular unleaded",
         "130.0",
         "4.0",
         "MANUAL",
         "rear wheel drive",
         "4.0",
         "Luxury",
         "Compact",
         "Sedan",
         "26",
         "18",
         "617",
         "2000"
        ],
        [
         "40",
         "1993",
         "regular unleaded",
         "158.0",
         "6.0",
         "MANUAL",
         "rear wheel drive",
         "4.0",
         "Luxury",
         "Compact",
         "Sedan",
         "25",
         "17",
         "617",
         "2000"
        ],
        [
         "41",
         "2016",
         "premium unleaded (required)",
         "240.0",
         "4.0",
         "AUTOMATIC",
         "rear wheel drive",
         "2.0",
         "Luxury,Performance",
         "Compact",
         "Coupe",
         "35",
         "23",
         "3916",
         "32850"
        ],
        [
         "42",
         "2016",
         "premium unleaded (required)",
         "240.0",
         "4.0",
         "AUTOMATIC",
         "rear wheel drive",
         "2.0",
         "Luxury",
         "Compact",
         "Convertible",
         "34",
         "23",
         "3916",
         "38650"
        ],
        [
         "43",
         "2016",
         "premium unleaded (required)",
         "320.0",
         "6.0",
         "AUTOMATIC",
         "rear wheel drive",
         "2.0",
         "Factory Tuner,Luxury,High-Performance",
         "Compact",
         "Convertible",
         "31",
         "20",
         "3916",
         "48750"
        ],
        [
         "44",
         "2016",
         "premium unleaded (required)",
         "240.0",
         "4.0",
         "AUTOMATIC",
         "all wheel drive",
         "2.0",
         "Luxury,Performance",
         "Compact",
         "Coupe",
         "35",
         "23",
         "3916",
         "34850"
        ],
        [
         "45",
         "2016",
         "premium unleaded (required)",
         "240.0",
         "4.0",
         "AUTOMATIC",
         "all wheel drive",
         "2.0",
         "Luxury",
         "Compact",
         "Convertible",
         "34",
         "22",
         "3916",
         "40650"
        ],
        [
         "46",
         "2016",
         "premium unleaded (required)",
         "320.0",
         "6.0",
         "AUTOMATIC",
         "rear wheel drive",
         "2.0",
         "Factory Tuner,Luxury,High-Performance",
         "Compact",
         "Coupe",
         "31",
         "20",
         "3916",
         "44150"
        ],
        [
         "47",
         "2016",
         "premium unleaded (required)",
         "240.0",
         "4.0",
         "MANUAL",
         "rear wheel drive",
         "2.0",
         "Luxury,Performance",
         "Compact",
         "Coupe",
         "34",
         "22",
         "3916",
         "32850"
        ],
        [
         "48",
         "2016",
         "premium unleaded (required)",
         "320.0",
         "6.0",
         "AUTOMATIC",
         "all wheel drive",
         "2.0",
         "Factory Tuner,Luxury,High-Performance",
         "Compact",
         "Coupe",
         "30",
         "20",
         "3916",
         "46150"
        ],
        [
         "49",
         "2016",
         "premium unleaded (required)",
         "320.0",
         "6.0",
         "AUTOMATIC",
         "rear wheel drive",
         "2.0",
         "Factory Tuner,Luxury,High-Performance",
         "Compact",
         "Convertible",
         "30",
         "20",
         "3916",
         "50750"
        ]
       ],
       "shape": {
        "columns": 14,
        "rows": 8084
       }
      },
      "text/html": [
       "<div>\n",
       "<style scoped>\n",
       "    .dataframe tbody tr th:only-of-type {\n",
       "        vertical-align: middle;\n",
       "    }\n",
       "\n",
       "    .dataframe tbody tr th {\n",
       "        vertical-align: top;\n",
       "    }\n",
       "\n",
       "    .dataframe thead th {\n",
       "        text-align: right;\n",
       "    }\n",
       "</style>\n",
       "<table border=\"1\" class=\"dataframe\">\n",
       "  <thead>\n",
       "    <tr style=\"text-align: right;\">\n",
       "      <th></th>\n",
       "      <th>Year</th>\n",
       "      <th>Engine Fuel Type</th>\n",
       "      <th>Engine HP</th>\n",
       "      <th>Engine Cylinders</th>\n",
       "      <th>Transmission Type</th>\n",
       "      <th>Driven_Wheels</th>\n",
       "      <th>Number of Doors</th>\n",
       "      <th>Market Category</th>\n",
       "      <th>Vehicle Size</th>\n",
       "      <th>Vehicle Style</th>\n",
       "      <th>highway MPG</th>\n",
       "      <th>city mpg</th>\n",
       "      <th>Popularity</th>\n",
       "      <th>MSRP</th>\n",
       "    </tr>\n",
       "  </thead>\n",
       "  <tbody>\n",
       "    <tr>\n",
       "      <th>0</th>\n",
       "      <td>2011</td>\n",
       "      <td>premium unleaded (required)</td>\n",
       "      <td>335.0</td>\n",
       "      <td>6.0</td>\n",
       "      <td>MANUAL</td>\n",
       "      <td>rear wheel drive</td>\n",
       "      <td>2.0</td>\n",
       "      <td>Factory Tuner,Luxury,High-Performance</td>\n",
       "      <td>Compact</td>\n",
       "      <td>Coupe</td>\n",
       "      <td>26</td>\n",
       "      <td>19</td>\n",
       "      <td>3916</td>\n",
       "      <td>46135</td>\n",
       "    </tr>\n",
       "    <tr>\n",
       "      <th>1</th>\n",
       "      <td>2011</td>\n",
       "      <td>premium unleaded (required)</td>\n",
       "      <td>300.0</td>\n",
       "      <td>6.0</td>\n",
       "      <td>MANUAL</td>\n",
       "      <td>rear wheel drive</td>\n",
       "      <td>2.0</td>\n",
       "      <td>Luxury,Performance</td>\n",
       "      <td>Compact</td>\n",
       "      <td>Convertible</td>\n",
       "      <td>28</td>\n",
       "      <td>19</td>\n",
       "      <td>3916</td>\n",
       "      <td>40650</td>\n",
       "    </tr>\n",
       "    <tr>\n",
       "      <th>2</th>\n",
       "      <td>2011</td>\n",
       "      <td>premium unleaded (required)</td>\n",
       "      <td>300.0</td>\n",
       "      <td>6.0</td>\n",
       "      <td>MANUAL</td>\n",
       "      <td>rear wheel drive</td>\n",
       "      <td>2.0</td>\n",
       "      <td>Luxury,High-Performance</td>\n",
       "      <td>Compact</td>\n",
       "      <td>Coupe</td>\n",
       "      <td>28</td>\n",
       "      <td>20</td>\n",
       "      <td>3916</td>\n",
       "      <td>36350</td>\n",
       "    </tr>\n",
       "    <tr>\n",
       "      <th>3</th>\n",
       "      <td>2011</td>\n",
       "      <td>premium unleaded (required)</td>\n",
       "      <td>230.0</td>\n",
       "      <td>6.0</td>\n",
       "      <td>MANUAL</td>\n",
       "      <td>rear wheel drive</td>\n",
       "      <td>2.0</td>\n",
       "      <td>Luxury,Performance</td>\n",
       "      <td>Compact</td>\n",
       "      <td>Coupe</td>\n",
       "      <td>28</td>\n",
       "      <td>18</td>\n",
       "      <td>3916</td>\n",
       "      <td>29450</td>\n",
       "    </tr>\n",
       "    <tr>\n",
       "      <th>4</th>\n",
       "      <td>2011</td>\n",
       "      <td>premium unleaded (required)</td>\n",
       "      <td>230.0</td>\n",
       "      <td>6.0</td>\n",
       "      <td>MANUAL</td>\n",
       "      <td>rear wheel drive</td>\n",
       "      <td>2.0</td>\n",
       "      <td>Luxury</td>\n",
       "      <td>Compact</td>\n",
       "      <td>Convertible</td>\n",
       "      <td>28</td>\n",
       "      <td>18</td>\n",
       "      <td>3916</td>\n",
       "      <td>34500</td>\n",
       "    </tr>\n",
       "    <tr>\n",
       "      <th>...</th>\n",
       "      <td>...</td>\n",
       "      <td>...</td>\n",
       "      <td>...</td>\n",
       "      <td>...</td>\n",
       "      <td>...</td>\n",
       "      <td>...</td>\n",
       "      <td>...</td>\n",
       "      <td>...</td>\n",
       "      <td>...</td>\n",
       "      <td>...</td>\n",
       "      <td>...</td>\n",
       "      <td>...</td>\n",
       "      <td>...</td>\n",
       "      <td>...</td>\n",
       "    </tr>\n",
       "    <tr>\n",
       "      <th>11909</th>\n",
       "      <td>2012</td>\n",
       "      <td>premium unleaded (required)</td>\n",
       "      <td>300.0</td>\n",
       "      <td>6.0</td>\n",
       "      <td>AUTOMATIC</td>\n",
       "      <td>all wheel drive</td>\n",
       "      <td>4.0</td>\n",
       "      <td>Crossover,Hatchback,Luxury</td>\n",
       "      <td>Midsize</td>\n",
       "      <td>4dr Hatchback</td>\n",
       "      <td>23</td>\n",
       "      <td>16</td>\n",
       "      <td>204</td>\n",
       "      <td>46120</td>\n",
       "    </tr>\n",
       "    <tr>\n",
       "      <th>11910</th>\n",
       "      <td>2012</td>\n",
       "      <td>premium unleaded (required)</td>\n",
       "      <td>300.0</td>\n",
       "      <td>6.0</td>\n",
       "      <td>AUTOMATIC</td>\n",
       "      <td>all wheel drive</td>\n",
       "      <td>4.0</td>\n",
       "      <td>Crossover,Hatchback,Luxury</td>\n",
       "      <td>Midsize</td>\n",
       "      <td>4dr Hatchback</td>\n",
       "      <td>23</td>\n",
       "      <td>16</td>\n",
       "      <td>204</td>\n",
       "      <td>56670</td>\n",
       "    </tr>\n",
       "    <tr>\n",
       "      <th>11911</th>\n",
       "      <td>2012</td>\n",
       "      <td>premium unleaded (required)</td>\n",
       "      <td>300.0</td>\n",
       "      <td>6.0</td>\n",
       "      <td>AUTOMATIC</td>\n",
       "      <td>all wheel drive</td>\n",
       "      <td>4.0</td>\n",
       "      <td>Crossover,Hatchback,Luxury</td>\n",
       "      <td>Midsize</td>\n",
       "      <td>4dr Hatchback</td>\n",
       "      <td>23</td>\n",
       "      <td>16</td>\n",
       "      <td>204</td>\n",
       "      <td>50620</td>\n",
       "    </tr>\n",
       "    <tr>\n",
       "      <th>11912</th>\n",
       "      <td>2013</td>\n",
       "      <td>premium unleaded (recommended)</td>\n",
       "      <td>300.0</td>\n",
       "      <td>6.0</td>\n",
       "      <td>AUTOMATIC</td>\n",
       "      <td>all wheel drive</td>\n",
       "      <td>4.0</td>\n",
       "      <td>Crossover,Hatchback,Luxury</td>\n",
       "      <td>Midsize</td>\n",
       "      <td>4dr Hatchback</td>\n",
       "      <td>23</td>\n",
       "      <td>16</td>\n",
       "      <td>204</td>\n",
       "      <td>50920</td>\n",
       "    </tr>\n",
       "    <tr>\n",
       "      <th>11913</th>\n",
       "      <td>2006</td>\n",
       "      <td>regular unleaded</td>\n",
       "      <td>221.0</td>\n",
       "      <td>6.0</td>\n",
       "      <td>AUTOMATIC</td>\n",
       "      <td>front wheel drive</td>\n",
       "      <td>4.0</td>\n",
       "      <td>Luxury</td>\n",
       "      <td>Midsize</td>\n",
       "      <td>Sedan</td>\n",
       "      <td>26</td>\n",
       "      <td>17</td>\n",
       "      <td>61</td>\n",
       "      <td>28995</td>\n",
       "    </tr>\n",
       "  </tbody>\n",
       "</table>\n",
       "<p>8084 rows × 14 columns</p>\n",
       "</div>"
      ],
      "text/plain": [
       "       Year                Engine Fuel Type  Engine HP  Engine Cylinders  \\\n",
       "0      2011     premium unleaded (required)      335.0               6.0   \n",
       "1      2011     premium unleaded (required)      300.0               6.0   \n",
       "2      2011     premium unleaded (required)      300.0               6.0   \n",
       "3      2011     premium unleaded (required)      230.0               6.0   \n",
       "4      2011     premium unleaded (required)      230.0               6.0   \n",
       "...     ...                             ...        ...               ...   \n",
       "11909  2012     premium unleaded (required)      300.0               6.0   \n",
       "11910  2012     premium unleaded (required)      300.0               6.0   \n",
       "11911  2012     premium unleaded (required)      300.0               6.0   \n",
       "11912  2013  premium unleaded (recommended)      300.0               6.0   \n",
       "11913  2006                regular unleaded      221.0               6.0   \n",
       "\n",
       "      Transmission Type      Driven_Wheels  Number of Doors  \\\n",
       "0                MANUAL   rear wheel drive              2.0   \n",
       "1                MANUAL   rear wheel drive              2.0   \n",
       "2                MANUAL   rear wheel drive              2.0   \n",
       "3                MANUAL   rear wheel drive              2.0   \n",
       "4                MANUAL   rear wheel drive              2.0   \n",
       "...                 ...                ...              ...   \n",
       "11909         AUTOMATIC    all wheel drive              4.0   \n",
       "11910         AUTOMATIC    all wheel drive              4.0   \n",
       "11911         AUTOMATIC    all wheel drive              4.0   \n",
       "11912         AUTOMATIC    all wheel drive              4.0   \n",
       "11913         AUTOMATIC  front wheel drive              4.0   \n",
       "\n",
       "                             Market Category Vehicle Size  Vehicle Style  \\\n",
       "0      Factory Tuner,Luxury,High-Performance      Compact          Coupe   \n",
       "1                         Luxury,Performance      Compact    Convertible   \n",
       "2                    Luxury,High-Performance      Compact          Coupe   \n",
       "3                         Luxury,Performance      Compact          Coupe   \n",
       "4                                     Luxury      Compact    Convertible   \n",
       "...                                      ...          ...            ...   \n",
       "11909             Crossover,Hatchback,Luxury      Midsize  4dr Hatchback   \n",
       "11910             Crossover,Hatchback,Luxury      Midsize  4dr Hatchback   \n",
       "11911             Crossover,Hatchback,Luxury      Midsize  4dr Hatchback   \n",
       "11912             Crossover,Hatchback,Luxury      Midsize  4dr Hatchback   \n",
       "11913                                 Luxury      Midsize          Sedan   \n",
       "\n",
       "       highway MPG  city mpg  Popularity   MSRP  \n",
       "0               26        19        3916  46135  \n",
       "1               28        19        3916  40650  \n",
       "2               28        20        3916  36350  \n",
       "3               28        18        3916  29450  \n",
       "4               28        18        3916  34500  \n",
       "...            ...       ...         ...    ...  \n",
       "11909           23        16         204  46120  \n",
       "11910           23        16         204  56670  \n",
       "11911           23        16         204  50620  \n",
       "11912           23        16         204  50920  \n",
       "11913           26        17          61  28995  \n",
       "\n",
       "[8084 rows x 14 columns]"
      ]
     },
     "execution_count": 78,
     "metadata": {},
     "output_type": "execute_result"
    }
   ],
   "source": [
    "df.dropna()"
   ]
  },
  {
   "cell_type": "code",
   "execution_count": 79,
   "id": "2cc0be44",
   "metadata": {},
   "outputs": [
    {
     "data": {
      "application/vnd.microsoft.datawrangler.viewer.v0+json": {
       "columns": [
        {
         "name": "index",
         "rawType": "int64",
         "type": "integer"
        },
        {
         "name": "Year",
         "rawType": "int64",
         "type": "integer"
        },
        {
         "name": "Transmission Type",
         "rawType": "object",
         "type": "string"
        },
        {
         "name": "Driven_Wheels",
         "rawType": "object",
         "type": "string"
        },
        {
         "name": "Vehicle Size",
         "rawType": "object",
         "type": "string"
        },
        {
         "name": "Vehicle Style",
         "rawType": "object",
         "type": "string"
        },
        {
         "name": "highway MPG",
         "rawType": "int64",
         "type": "integer"
        },
        {
         "name": "city mpg",
         "rawType": "int64",
         "type": "integer"
        },
        {
         "name": "Popularity",
         "rawType": "int64",
         "type": "integer"
        },
        {
         "name": "MSRP",
         "rawType": "int64",
         "type": "integer"
        }
       ],
       "ref": "53a8241c-4765-49be-8317-88a1c08f2263",
       "rows": [
        [
         "0",
         "2011",
         "MANUAL",
         "rear wheel drive",
         "Compact",
         "Coupe",
         "26",
         "19",
         "3916",
         "46135"
        ],
        [
         "1",
         "2011",
         "MANUAL",
         "rear wheel drive",
         "Compact",
         "Convertible",
         "28",
         "19",
         "3916",
         "40650"
        ],
        [
         "2",
         "2011",
         "MANUAL",
         "rear wheel drive",
         "Compact",
         "Coupe",
         "28",
         "20",
         "3916",
         "36350"
        ],
        [
         "3",
         "2011",
         "MANUAL",
         "rear wheel drive",
         "Compact",
         "Coupe",
         "28",
         "18",
         "3916",
         "29450"
        ],
        [
         "4",
         "2011",
         "MANUAL",
         "rear wheel drive",
         "Compact",
         "Convertible",
         "28",
         "18",
         "3916",
         "34500"
        ],
        [
         "5",
         "2012",
         "MANUAL",
         "rear wheel drive",
         "Compact",
         "Coupe",
         "28",
         "18",
         "3916",
         "31200"
        ],
        [
         "6",
         "2012",
         "MANUAL",
         "rear wheel drive",
         "Compact",
         "Convertible",
         "26",
         "17",
         "3916",
         "44100"
        ],
        [
         "7",
         "2012",
         "MANUAL",
         "rear wheel drive",
         "Compact",
         "Coupe",
         "28",
         "20",
         "3916",
         "39300"
        ],
        [
         "8",
         "2012",
         "MANUAL",
         "rear wheel drive",
         "Compact",
         "Convertible",
         "28",
         "18",
         "3916",
         "36900"
        ],
        [
         "9",
         "2013",
         "MANUAL",
         "rear wheel drive",
         "Compact",
         "Convertible",
         "27",
         "18",
         "3916",
         "37200"
        ],
        [
         "10",
         "2013",
         "MANUAL",
         "rear wheel drive",
         "Compact",
         "Coupe",
         "28",
         "20",
         "3916",
         "39600"
        ],
        [
         "11",
         "2013",
         "MANUAL",
         "rear wheel drive",
         "Compact",
         "Coupe",
         "28",
         "19",
         "3916",
         "31500"
        ],
        [
         "12",
         "2013",
         "MANUAL",
         "rear wheel drive",
         "Compact",
         "Convertible",
         "28",
         "19",
         "3916",
         "44400"
        ],
        [
         "13",
         "2013",
         "MANUAL",
         "rear wheel drive",
         "Compact",
         "Convertible",
         "28",
         "19",
         "3916",
         "37200"
        ],
        [
         "14",
         "2013",
         "MANUAL",
         "rear wheel drive",
         "Compact",
         "Coupe",
         "28",
         "19",
         "3916",
         "31500"
        ],
        [
         "15",
         "2013",
         "MANUAL",
         "rear wheel drive",
         "Compact",
         "Convertible",
         "25",
         "18",
         "3916",
         "48250"
        ],
        [
         "16",
         "2013",
         "MANUAL",
         "rear wheel drive",
         "Compact",
         "Coupe",
         "28",
         "20",
         "3916",
         "43550"
        ],
        [
         "17",
         "1992",
         "MANUAL",
         "front wheel drive",
         "Midsize",
         "Sedan",
         "24",
         "17",
         "3105",
         "2000"
        ],
        [
         "18",
         "1992",
         "MANUAL",
         "front wheel drive",
         "Midsize",
         "Sedan",
         "24",
         "17",
         "3105",
         "2000"
        ],
        [
         "19",
         "1992",
         "AUTOMATIC",
         "all wheel drive",
         "Midsize",
         "Wagon",
         "20",
         "16",
         "3105",
         "2000"
        ],
        [
         "20",
         "1992",
         "MANUAL",
         "front wheel drive",
         "Midsize",
         "Sedan",
         "24",
         "17",
         "3105",
         "2000"
        ],
        [
         "21",
         "1992",
         "MANUAL",
         "all wheel drive",
         "Midsize",
         "Sedan",
         "21",
         "16",
         "3105",
         "2000"
        ],
        [
         "22",
         "1993",
         "MANUAL",
         "front wheel drive",
         "Midsize",
         "Sedan",
         "24",
         "17",
         "3105",
         "2000"
        ],
        [
         "23",
         "1993",
         "AUTOMATIC",
         "all wheel drive",
         "Midsize",
         "Wagon",
         "20",
         "16",
         "3105",
         "2000"
        ],
        [
         "24",
         "1993",
         "MANUAL",
         "front wheel drive",
         "Midsize",
         "Sedan",
         "24",
         "17",
         "3105",
         "2000"
        ],
        [
         "25",
         "1993",
         "MANUAL",
         "front wheel drive",
         "Midsize",
         "Sedan",
         "24",
         "17",
         "3105",
         "2000"
        ],
        [
         "26",
         "1993",
         "MANUAL",
         "all wheel drive",
         "Midsize",
         "Sedan",
         "21",
         "16",
         "3105",
         "2000"
        ],
        [
         "27",
         "1994",
         "AUTOMATIC",
         "front wheel drive",
         "Midsize",
         "Wagon",
         "21",
         "16",
         "3105",
         "2000"
        ],
        [
         "28",
         "1994",
         "MANUAL",
         "all wheel drive",
         "Midsize",
         "Sedan",
         "22",
         "16",
         "3105",
         "2000"
        ],
        [
         "29",
         "1994",
         "MANUAL",
         "front wheel drive",
         "Midsize",
         "Sedan",
         "22",
         "17",
         "3105",
         "2000"
        ],
        [
         "30",
         "1994",
         "AUTOMATIC",
         "front wheel drive",
         "Midsize",
         "Sedan",
         "22",
         "16",
         "3105",
         "2000"
        ],
        [
         "31",
         "1994",
         "AUTOMATIC",
         "all wheel drive",
         "Midsize",
         "Wagon",
         "21",
         "16",
         "3105",
         "2000"
        ],
        [
         "32",
         "2017",
         "MANUAL",
         "rear wheel drive",
         "Compact",
         "Convertible",
         "35",
         "26",
         "819",
         "27495"
        ],
        [
         "33",
         "2017",
         "MANUAL",
         "rear wheel drive",
         "Compact",
         "Convertible",
         "35",
         "26",
         "819",
         "24995"
        ],
        [
         "34",
         "2017",
         "MANUAL",
         "rear wheel drive",
         "Compact",
         "Convertible",
         "35",
         "26",
         "819",
         "28195"
        ],
        [
         "35",
         "1991",
         "MANUAL",
         "rear wheel drive",
         "Compact",
         "Sedan",
         "26",
         "18",
         "617",
         "2000"
        ],
        [
         "36",
         "1991",
         "MANUAL",
         "rear wheel drive",
         "Compact",
         "Sedan",
         "25",
         "17",
         "617",
         "2000"
        ],
        [
         "37",
         "1992",
         "MANUAL",
         "rear wheel drive",
         "Compact",
         "Sedan",
         "25",
         "17",
         "617",
         "2000"
        ],
        [
         "38",
         "1992",
         "MANUAL",
         "rear wheel drive",
         "Compact",
         "Sedan",
         "26",
         "18",
         "617",
         "2000"
        ],
        [
         "39",
         "1993",
         "MANUAL",
         "rear wheel drive",
         "Compact",
         "Sedan",
         "26",
         "18",
         "617",
         "2000"
        ],
        [
         "40",
         "1993",
         "MANUAL",
         "rear wheel drive",
         "Compact",
         "Sedan",
         "25",
         "17",
         "617",
         "2000"
        ],
        [
         "41",
         "2016",
         "AUTOMATIC",
         "rear wheel drive",
         "Compact",
         "Coupe",
         "35",
         "23",
         "3916",
         "32850"
        ],
        [
         "42",
         "2016",
         "AUTOMATIC",
         "rear wheel drive",
         "Compact",
         "Convertible",
         "34",
         "23",
         "3916",
         "38650"
        ],
        [
         "43",
         "2016",
         "AUTOMATIC",
         "rear wheel drive",
         "Compact",
         "Convertible",
         "31",
         "20",
         "3916",
         "48750"
        ],
        [
         "44",
         "2016",
         "AUTOMATIC",
         "all wheel drive",
         "Compact",
         "Coupe",
         "35",
         "23",
         "3916",
         "34850"
        ],
        [
         "45",
         "2016",
         "AUTOMATIC",
         "all wheel drive",
         "Compact",
         "Convertible",
         "34",
         "22",
         "3916",
         "40650"
        ],
        [
         "46",
         "2016",
         "AUTOMATIC",
         "rear wheel drive",
         "Compact",
         "Coupe",
         "31",
         "20",
         "3916",
         "44150"
        ],
        [
         "47",
         "2016",
         "MANUAL",
         "rear wheel drive",
         "Compact",
         "Coupe",
         "34",
         "22",
         "3916",
         "32850"
        ],
        [
         "48",
         "2016",
         "AUTOMATIC",
         "all wheel drive",
         "Compact",
         "Coupe",
         "30",
         "20",
         "3916",
         "46150"
        ],
        [
         "49",
         "2016",
         "AUTOMATIC",
         "rear wheel drive",
         "Compact",
         "Convertible",
         "30",
         "20",
         "3916",
         "50750"
        ]
       ],
       "shape": {
        "columns": 9,
        "rows": 11914
       }
      },
      "text/html": [
       "<div>\n",
       "<style scoped>\n",
       "    .dataframe tbody tr th:only-of-type {\n",
       "        vertical-align: middle;\n",
       "    }\n",
       "\n",
       "    .dataframe tbody tr th {\n",
       "        vertical-align: top;\n",
       "    }\n",
       "\n",
       "    .dataframe thead th {\n",
       "        text-align: right;\n",
       "    }\n",
       "</style>\n",
       "<table border=\"1\" class=\"dataframe\">\n",
       "  <thead>\n",
       "    <tr style=\"text-align: right;\">\n",
       "      <th></th>\n",
       "      <th>Year</th>\n",
       "      <th>Transmission Type</th>\n",
       "      <th>Driven_Wheels</th>\n",
       "      <th>Vehicle Size</th>\n",
       "      <th>Vehicle Style</th>\n",
       "      <th>highway MPG</th>\n",
       "      <th>city mpg</th>\n",
       "      <th>Popularity</th>\n",
       "      <th>MSRP</th>\n",
       "    </tr>\n",
       "  </thead>\n",
       "  <tbody>\n",
       "    <tr>\n",
       "      <th>0</th>\n",
       "      <td>2011</td>\n",
       "      <td>MANUAL</td>\n",
       "      <td>rear wheel drive</td>\n",
       "      <td>Compact</td>\n",
       "      <td>Coupe</td>\n",
       "      <td>26</td>\n",
       "      <td>19</td>\n",
       "      <td>3916</td>\n",
       "      <td>46135</td>\n",
       "    </tr>\n",
       "    <tr>\n",
       "      <th>1</th>\n",
       "      <td>2011</td>\n",
       "      <td>MANUAL</td>\n",
       "      <td>rear wheel drive</td>\n",
       "      <td>Compact</td>\n",
       "      <td>Convertible</td>\n",
       "      <td>28</td>\n",
       "      <td>19</td>\n",
       "      <td>3916</td>\n",
       "      <td>40650</td>\n",
       "    </tr>\n",
       "    <tr>\n",
       "      <th>2</th>\n",
       "      <td>2011</td>\n",
       "      <td>MANUAL</td>\n",
       "      <td>rear wheel drive</td>\n",
       "      <td>Compact</td>\n",
       "      <td>Coupe</td>\n",
       "      <td>28</td>\n",
       "      <td>20</td>\n",
       "      <td>3916</td>\n",
       "      <td>36350</td>\n",
       "    </tr>\n",
       "    <tr>\n",
       "      <th>3</th>\n",
       "      <td>2011</td>\n",
       "      <td>MANUAL</td>\n",
       "      <td>rear wheel drive</td>\n",
       "      <td>Compact</td>\n",
       "      <td>Coupe</td>\n",
       "      <td>28</td>\n",
       "      <td>18</td>\n",
       "      <td>3916</td>\n",
       "      <td>29450</td>\n",
       "    </tr>\n",
       "    <tr>\n",
       "      <th>4</th>\n",
       "      <td>2011</td>\n",
       "      <td>MANUAL</td>\n",
       "      <td>rear wheel drive</td>\n",
       "      <td>Compact</td>\n",
       "      <td>Convertible</td>\n",
       "      <td>28</td>\n",
       "      <td>18</td>\n",
       "      <td>3916</td>\n",
       "      <td>34500</td>\n",
       "    </tr>\n",
       "    <tr>\n",
       "      <th>...</th>\n",
       "      <td>...</td>\n",
       "      <td>...</td>\n",
       "      <td>...</td>\n",
       "      <td>...</td>\n",
       "      <td>...</td>\n",
       "      <td>...</td>\n",
       "      <td>...</td>\n",
       "      <td>...</td>\n",
       "      <td>...</td>\n",
       "    </tr>\n",
       "    <tr>\n",
       "      <th>11909</th>\n",
       "      <td>2012</td>\n",
       "      <td>AUTOMATIC</td>\n",
       "      <td>all wheel drive</td>\n",
       "      <td>Midsize</td>\n",
       "      <td>4dr Hatchback</td>\n",
       "      <td>23</td>\n",
       "      <td>16</td>\n",
       "      <td>204</td>\n",
       "      <td>46120</td>\n",
       "    </tr>\n",
       "    <tr>\n",
       "      <th>11910</th>\n",
       "      <td>2012</td>\n",
       "      <td>AUTOMATIC</td>\n",
       "      <td>all wheel drive</td>\n",
       "      <td>Midsize</td>\n",
       "      <td>4dr Hatchback</td>\n",
       "      <td>23</td>\n",
       "      <td>16</td>\n",
       "      <td>204</td>\n",
       "      <td>56670</td>\n",
       "    </tr>\n",
       "    <tr>\n",
       "      <th>11911</th>\n",
       "      <td>2012</td>\n",
       "      <td>AUTOMATIC</td>\n",
       "      <td>all wheel drive</td>\n",
       "      <td>Midsize</td>\n",
       "      <td>4dr Hatchback</td>\n",
       "      <td>23</td>\n",
       "      <td>16</td>\n",
       "      <td>204</td>\n",
       "      <td>50620</td>\n",
       "    </tr>\n",
       "    <tr>\n",
       "      <th>11912</th>\n",
       "      <td>2013</td>\n",
       "      <td>AUTOMATIC</td>\n",
       "      <td>all wheel drive</td>\n",
       "      <td>Midsize</td>\n",
       "      <td>4dr Hatchback</td>\n",
       "      <td>23</td>\n",
       "      <td>16</td>\n",
       "      <td>204</td>\n",
       "      <td>50920</td>\n",
       "    </tr>\n",
       "    <tr>\n",
       "      <th>11913</th>\n",
       "      <td>2006</td>\n",
       "      <td>AUTOMATIC</td>\n",
       "      <td>front wheel drive</td>\n",
       "      <td>Midsize</td>\n",
       "      <td>Sedan</td>\n",
       "      <td>26</td>\n",
       "      <td>17</td>\n",
       "      <td>61</td>\n",
       "      <td>28995</td>\n",
       "    </tr>\n",
       "  </tbody>\n",
       "</table>\n",
       "<p>11914 rows × 9 columns</p>\n",
       "</div>"
      ],
      "text/plain": [
       "       Year Transmission Type      Driven_Wheels Vehicle Size  Vehicle Style  \\\n",
       "0      2011            MANUAL   rear wheel drive      Compact          Coupe   \n",
       "1      2011            MANUAL   rear wheel drive      Compact    Convertible   \n",
       "2      2011            MANUAL   rear wheel drive      Compact          Coupe   \n",
       "3      2011            MANUAL   rear wheel drive      Compact          Coupe   \n",
       "4      2011            MANUAL   rear wheel drive      Compact    Convertible   \n",
       "...     ...               ...                ...          ...            ...   \n",
       "11909  2012         AUTOMATIC    all wheel drive      Midsize  4dr Hatchback   \n",
       "11910  2012         AUTOMATIC    all wheel drive      Midsize  4dr Hatchback   \n",
       "11911  2012         AUTOMATIC    all wheel drive      Midsize  4dr Hatchback   \n",
       "11912  2013         AUTOMATIC    all wheel drive      Midsize  4dr Hatchback   \n",
       "11913  2006         AUTOMATIC  front wheel drive      Midsize          Sedan   \n",
       "\n",
       "       highway MPG  city mpg  Popularity   MSRP  \n",
       "0               26        19        3916  46135  \n",
       "1               28        19        3916  40650  \n",
       "2               28        20        3916  36350  \n",
       "3               28        18        3916  29450  \n",
       "4               28        18        3916  34500  \n",
       "...            ...       ...         ...    ...  \n",
       "11909           23        16         204  46120  \n",
       "11910           23        16         204  56670  \n",
       "11911           23        16         204  50620  \n",
       "11912           23        16         204  50920  \n",
       "11913           26        17          61  28995  \n",
       "\n",
       "[11914 rows x 9 columns]"
      ]
     },
     "execution_count": 79,
     "metadata": {},
     "output_type": "execute_result"
    }
   ],
   "source": [
    "df.dropna(axis='columns')"
   ]
  },
  {
   "cell_type": "code",
   "execution_count": 80,
   "id": "507464c3",
   "metadata": {},
   "outputs": [
    {
     "data": {
      "application/vnd.microsoft.datawrangler.viewer.v0+json": {
       "columns": [
        {
         "name": "index",
         "rawType": "int64",
         "type": "integer"
        },
        {
         "name": "Year",
         "rawType": "int64",
         "type": "integer"
        },
        {
         "name": "Engine Fuel Type",
         "rawType": "object",
         "type": "unknown"
        },
        {
         "name": "Engine HP",
         "rawType": "float64",
         "type": "float"
        },
        {
         "name": "Engine Cylinders",
         "rawType": "float64",
         "type": "float"
        },
        {
         "name": "Transmission Type",
         "rawType": "object",
         "type": "string"
        },
        {
         "name": "Driven_Wheels",
         "rawType": "object",
         "type": "string"
        },
        {
         "name": "Number of Doors",
         "rawType": "float64",
         "type": "float"
        },
        {
         "name": "Market Category",
         "rawType": "object",
         "type": "unknown"
        },
        {
         "name": "Vehicle Size",
         "rawType": "object",
         "type": "string"
        },
        {
         "name": "Vehicle Style",
         "rawType": "object",
         "type": "string"
        },
        {
         "name": "highway MPG",
         "rawType": "int64",
         "type": "integer"
        },
        {
         "name": "city mpg",
         "rawType": "int64",
         "type": "integer"
        },
        {
         "name": "Popularity",
         "rawType": "int64",
         "type": "integer"
        },
        {
         "name": "MSRP",
         "rawType": "int64",
         "type": "integer"
        }
       ],
       "ref": "434f9789-f3ce-44ef-a976-26030a93de65",
       "rows": [
        [
         "0",
         "2011",
         "premium unleaded (required)",
         "335.0",
         "6.0",
         "MANUAL",
         "rear wheel drive",
         "2.0",
         "Factory Tuner,Luxury,High-Performance",
         "Compact",
         "Coupe",
         "26",
         "19",
         "3916",
         "46135"
        ],
        [
         "1",
         "2011",
         "premium unleaded (required)",
         "300.0",
         "6.0",
         "MANUAL",
         "rear wheel drive",
         "2.0",
         "Luxury,Performance",
         "Compact",
         "Convertible",
         "28",
         "19",
         "3916",
         "40650"
        ],
        [
         "2",
         "2011",
         "premium unleaded (required)",
         "300.0",
         "6.0",
         "MANUAL",
         "rear wheel drive",
         "2.0",
         "Luxury,High-Performance",
         "Compact",
         "Coupe",
         "28",
         "20",
         "3916",
         "36350"
        ],
        [
         "3",
         "2011",
         "premium unleaded (required)",
         "230.0",
         "6.0",
         "MANUAL",
         "rear wheel drive",
         "2.0",
         "Luxury,Performance",
         "Compact",
         "Coupe",
         "28",
         "18",
         "3916",
         "29450"
        ],
        [
         "4",
         "2011",
         "premium unleaded (required)",
         "230.0",
         "6.0",
         "MANUAL",
         "rear wheel drive",
         "2.0",
         "Luxury",
         "Compact",
         "Convertible",
         "28",
         "18",
         "3916",
         "34500"
        ],
        [
         "5",
         "2012",
         "premium unleaded (required)",
         "230.0",
         "6.0",
         "MANUAL",
         "rear wheel drive",
         "2.0",
         "Luxury,Performance",
         "Compact",
         "Coupe",
         "28",
         "18",
         "3916",
         "31200"
        ],
        [
         "6",
         "2012",
         "premium unleaded (required)",
         "300.0",
         "6.0",
         "MANUAL",
         "rear wheel drive",
         "2.0",
         "Luxury,Performance",
         "Compact",
         "Convertible",
         "26",
         "17",
         "3916",
         "44100"
        ],
        [
         "7",
         "2012",
         "premium unleaded (required)",
         "300.0",
         "6.0",
         "MANUAL",
         "rear wheel drive",
         "2.0",
         "Luxury,High-Performance",
         "Compact",
         "Coupe",
         "28",
         "20",
         "3916",
         "39300"
        ],
        [
         "8",
         "2012",
         "premium unleaded (required)",
         "230.0",
         "6.0",
         "MANUAL",
         "rear wheel drive",
         "2.0",
         "Luxury",
         "Compact",
         "Convertible",
         "28",
         "18",
         "3916",
         "36900"
        ],
        [
         "9",
         "2013",
         "premium unleaded (required)",
         "230.0",
         "6.0",
         "MANUAL",
         "rear wheel drive",
         "2.0",
         "Luxury",
         "Compact",
         "Convertible",
         "27",
         "18",
         "3916",
         "37200"
        ],
        [
         "10",
         "2013",
         "premium unleaded (required)",
         "300.0",
         "6.0",
         "MANUAL",
         "rear wheel drive",
         "2.0",
         "Luxury,High-Performance",
         "Compact",
         "Coupe",
         "28",
         "20",
         "3916",
         "39600"
        ],
        [
         "11",
         "2013",
         "premium unleaded (required)",
         "230.0",
         "6.0",
         "MANUAL",
         "rear wheel drive",
         "2.0",
         "Luxury,Performance",
         "Compact",
         "Coupe",
         "28",
         "19",
         "3916",
         "31500"
        ],
        [
         "12",
         "2013",
         "premium unleaded (required)",
         "300.0",
         "6.0",
         "MANUAL",
         "rear wheel drive",
         "2.0",
         "Luxury,Performance",
         "Compact",
         "Convertible",
         "28",
         "19",
         "3916",
         "44400"
        ],
        [
         "13",
         "2013",
         "premium unleaded (required)",
         "230.0",
         "6.0",
         "MANUAL",
         "rear wheel drive",
         "2.0",
         "Luxury",
         "Compact",
         "Convertible",
         "28",
         "19",
         "3916",
         "37200"
        ],
        [
         "14",
         "2013",
         "premium unleaded (required)",
         "230.0",
         "6.0",
         "MANUAL",
         "rear wheel drive",
         "2.0",
         "Luxury,Performance",
         "Compact",
         "Coupe",
         "28",
         "19",
         "3916",
         "31500"
        ],
        [
         "15",
         "2013",
         "premium unleaded (required)",
         "320.0",
         "6.0",
         "MANUAL",
         "rear wheel drive",
         "2.0",
         "Luxury,High-Performance",
         "Compact",
         "Convertible",
         "25",
         "18",
         "3916",
         "48250"
        ],
        [
         "16",
         "2013",
         "premium unleaded (required)",
         "320.0",
         "6.0",
         "MANUAL",
         "rear wheel drive",
         "2.0",
         "Luxury,High-Performance",
         "Compact",
         "Coupe",
         "28",
         "20",
         "3916",
         "43550"
        ],
        [
         "17",
         "1992",
         "regular unleaded",
         "172.0",
         "6.0",
         "MANUAL",
         "front wheel drive",
         "4.0",
         "Luxury",
         "Midsize",
         "Sedan",
         "24",
         "17",
         "3105",
         "2000"
        ],
        [
         "18",
         "1992",
         "regular unleaded",
         "172.0",
         "6.0",
         "MANUAL",
         "front wheel drive",
         "4.0",
         "Luxury",
         "Midsize",
         "Sedan",
         "24",
         "17",
         "3105",
         "2000"
        ],
        [
         "19",
         "1992",
         "regular unleaded",
         "172.0",
         "6.0",
         "AUTOMATIC",
         "all wheel drive",
         "4.0",
         "Luxury",
         "Midsize",
         "Wagon",
         "20",
         "16",
         "3105",
         "2000"
        ],
        [
         "20",
         "1992",
         "regular unleaded",
         "172.0",
         "6.0",
         "MANUAL",
         "front wheel drive",
         "4.0",
         "Luxury",
         "Midsize",
         "Sedan",
         "24",
         "17",
         "3105",
         "2000"
        ],
        [
         "21",
         "1992",
         "regular unleaded",
         "172.0",
         "6.0",
         "MANUAL",
         "all wheel drive",
         "4.0",
         "Luxury",
         "Midsize",
         "Sedan",
         "21",
         "16",
         "3105",
         "2000"
        ],
        [
         "22",
         "1993",
         "regular unleaded",
         "172.0",
         "6.0",
         "MANUAL",
         "front wheel drive",
         "4.0",
         "Luxury",
         "Midsize",
         "Sedan",
         "24",
         "17",
         "3105",
         "2000"
        ],
        [
         "23",
         "1993",
         "regular unleaded",
         "172.0",
         "6.0",
         "AUTOMATIC",
         "all wheel drive",
         "4.0",
         "Luxury",
         "Midsize",
         "Wagon",
         "20",
         "16",
         "3105",
         "2000"
        ],
        [
         "24",
         "1993",
         "regular unleaded",
         "172.0",
         "6.0",
         "MANUAL",
         "front wheel drive",
         "4.0",
         "Luxury",
         "Midsize",
         "Sedan",
         "24",
         "17",
         "3105",
         "2000"
        ],
        [
         "25",
         "1993",
         "regular unleaded",
         "172.0",
         "6.0",
         "MANUAL",
         "front wheel drive",
         "4.0",
         "Luxury",
         "Midsize",
         "Sedan",
         "24",
         "17",
         "3105",
         "2000"
        ],
        [
         "26",
         "1993",
         "regular unleaded",
         "172.0",
         "6.0",
         "MANUAL",
         "all wheel drive",
         "4.0",
         "Luxury",
         "Midsize",
         "Sedan",
         "21",
         "16",
         "3105",
         "2000"
        ],
        [
         "27",
         "1994",
         "regular unleaded",
         "172.0",
         "6.0",
         "AUTOMATIC",
         "front wheel drive",
         "4.0",
         "Luxury",
         "Midsize",
         "Wagon",
         "21",
         "16",
         "3105",
         "2000"
        ],
        [
         "28",
         "1994",
         "regular unleaded",
         "172.0",
         "6.0",
         "MANUAL",
         "all wheel drive",
         "4.0",
         "Luxury",
         "Midsize",
         "Sedan",
         "22",
         "16",
         "3105",
         "2000"
        ],
        [
         "29",
         "1994",
         "regular unleaded",
         "172.0",
         "6.0",
         "MANUAL",
         "front wheel drive",
         "4.0",
         "Luxury",
         "Midsize",
         "Sedan",
         "22",
         "17",
         "3105",
         "2000"
        ],
        [
         "30",
         "1994",
         "regular unleaded",
         "172.0",
         "6.0",
         "AUTOMATIC",
         "front wheel drive",
         "4.0",
         "Luxury",
         "Midsize",
         "Sedan",
         "22",
         "16",
         "3105",
         "2000"
        ],
        [
         "31",
         "1994",
         "regular unleaded",
         "172.0",
         "6.0",
         "AUTOMATIC",
         "all wheel drive",
         "4.0",
         "Luxury",
         "Midsize",
         "Wagon",
         "21",
         "16",
         "3105",
         "2000"
        ],
        [
         "32",
         "2017",
         "premium unleaded (recommended)",
         "160.0",
         "4.0",
         "MANUAL",
         "rear wheel drive",
         "2.0",
         "Performance",
         "Compact",
         "Convertible",
         "35",
         "26",
         "819",
         "27495"
        ],
        [
         "33",
         "2017",
         "premium unleaded (recommended)",
         "160.0",
         "4.0",
         "MANUAL",
         "rear wheel drive",
         "2.0",
         "Performance",
         "Compact",
         "Convertible",
         "35",
         "26",
         "819",
         "24995"
        ],
        [
         "34",
         "2017",
         "premium unleaded (recommended)",
         "160.0",
         "4.0",
         "MANUAL",
         "rear wheel drive",
         "2.0",
         "Performance",
         "Compact",
         "Convertible",
         "35",
         "26",
         "819",
         "28195"
        ],
        [
         "35",
         "1991",
         "regular unleaded",
         "130.0",
         "4.0",
         "MANUAL",
         "rear wheel drive",
         "4.0",
         "Luxury",
         "Compact",
         "Sedan",
         "26",
         "18",
         "617",
         "2000"
        ],
        [
         "36",
         "1991",
         "regular unleaded",
         "158.0",
         "6.0",
         "MANUAL",
         "rear wheel drive",
         "4.0",
         "Luxury",
         "Compact",
         "Sedan",
         "25",
         "17",
         "617",
         "2000"
        ],
        [
         "37",
         "1992",
         "regular unleaded",
         "158.0",
         "6.0",
         "MANUAL",
         "rear wheel drive",
         "4.0",
         "Luxury",
         "Compact",
         "Sedan",
         "25",
         "17",
         "617",
         "2000"
        ],
        [
         "38",
         "1992",
         "regular unleaded",
         "130.0",
         "4.0",
         "MANUAL",
         "rear wheel drive",
         "4.0",
         "Luxury",
         "Compact",
         "Sedan",
         "26",
         "18",
         "617",
         "2000"
        ],
        [
         "39",
         "1993",
         "regular unleaded",
         "130.0",
         "4.0",
         "MANUAL",
         "rear wheel drive",
         "4.0",
         "Luxury",
         "Compact",
         "Sedan",
         "26",
         "18",
         "617",
         "2000"
        ],
        [
         "40",
         "1993",
         "regular unleaded",
         "158.0",
         "6.0",
         "MANUAL",
         "rear wheel drive",
         "4.0",
         "Luxury",
         "Compact",
         "Sedan",
         "25",
         "17",
         "617",
         "2000"
        ],
        [
         "41",
         "2016",
         "premium unleaded (required)",
         "240.0",
         "4.0",
         "AUTOMATIC",
         "rear wheel drive",
         "2.0",
         "Luxury,Performance",
         "Compact",
         "Coupe",
         "35",
         "23",
         "3916",
         "32850"
        ],
        [
         "42",
         "2016",
         "premium unleaded (required)",
         "240.0",
         "4.0",
         "AUTOMATIC",
         "rear wheel drive",
         "2.0",
         "Luxury",
         "Compact",
         "Convertible",
         "34",
         "23",
         "3916",
         "38650"
        ],
        [
         "43",
         "2016",
         "premium unleaded (required)",
         "320.0",
         "6.0",
         "AUTOMATIC",
         "rear wheel drive",
         "2.0",
         "Factory Tuner,Luxury,High-Performance",
         "Compact",
         "Convertible",
         "31",
         "20",
         "3916",
         "48750"
        ],
        [
         "44",
         "2016",
         "premium unleaded (required)",
         "240.0",
         "4.0",
         "AUTOMATIC",
         "all wheel drive",
         "2.0",
         "Luxury,Performance",
         "Compact",
         "Coupe",
         "35",
         "23",
         "3916",
         "34850"
        ],
        [
         "45",
         "2016",
         "premium unleaded (required)",
         "240.0",
         "4.0",
         "AUTOMATIC",
         "all wheel drive",
         "2.0",
         "Luxury",
         "Compact",
         "Convertible",
         "34",
         "22",
         "3916",
         "40650"
        ],
        [
         "46",
         "2016",
         "premium unleaded (required)",
         "320.0",
         "6.0",
         "AUTOMATIC",
         "rear wheel drive",
         "2.0",
         "Factory Tuner,Luxury,High-Performance",
         "Compact",
         "Coupe",
         "31",
         "20",
         "3916",
         "44150"
        ],
        [
         "47",
         "2016",
         "premium unleaded (required)",
         "240.0",
         "4.0",
         "MANUAL",
         "rear wheel drive",
         "2.0",
         "Luxury,Performance",
         "Compact",
         "Coupe",
         "34",
         "22",
         "3916",
         "32850"
        ],
        [
         "48",
         "2016",
         "premium unleaded (required)",
         "320.0",
         "6.0",
         "AUTOMATIC",
         "all wheel drive",
         "2.0",
         "Factory Tuner,Luxury,High-Performance",
         "Compact",
         "Coupe",
         "30",
         "20",
         "3916",
         "46150"
        ],
        [
         "49",
         "2016",
         "premium unleaded (required)",
         "320.0",
         "6.0",
         "AUTOMATIC",
         "rear wheel drive",
         "2.0",
         "Factory Tuner,Luxury,High-Performance",
         "Compact",
         "Convertible",
         "30",
         "20",
         "3916",
         "50750"
        ]
       ],
       "shape": {
        "columns": 14,
        "rows": 11914
       }
      },
      "text/html": [
       "<div>\n",
       "<style scoped>\n",
       "    .dataframe tbody tr th:only-of-type {\n",
       "        vertical-align: middle;\n",
       "    }\n",
       "\n",
       "    .dataframe tbody tr th {\n",
       "        vertical-align: top;\n",
       "    }\n",
       "\n",
       "    .dataframe thead th {\n",
       "        text-align: right;\n",
       "    }\n",
       "</style>\n",
       "<table border=\"1\" class=\"dataframe\">\n",
       "  <thead>\n",
       "    <tr style=\"text-align: right;\">\n",
       "      <th></th>\n",
       "      <th>Year</th>\n",
       "      <th>Engine Fuel Type</th>\n",
       "      <th>Engine HP</th>\n",
       "      <th>Engine Cylinders</th>\n",
       "      <th>Transmission Type</th>\n",
       "      <th>Driven_Wheels</th>\n",
       "      <th>Number of Doors</th>\n",
       "      <th>Market Category</th>\n",
       "      <th>Vehicle Size</th>\n",
       "      <th>Vehicle Style</th>\n",
       "      <th>highway MPG</th>\n",
       "      <th>city mpg</th>\n",
       "      <th>Popularity</th>\n",
       "      <th>MSRP</th>\n",
       "    </tr>\n",
       "  </thead>\n",
       "  <tbody>\n",
       "    <tr>\n",
       "      <th>0</th>\n",
       "      <td>2011</td>\n",
       "      <td>premium unleaded (required)</td>\n",
       "      <td>335.0</td>\n",
       "      <td>6.0</td>\n",
       "      <td>MANUAL</td>\n",
       "      <td>rear wheel drive</td>\n",
       "      <td>2.0</td>\n",
       "      <td>Factory Tuner,Luxury,High-Performance</td>\n",
       "      <td>Compact</td>\n",
       "      <td>Coupe</td>\n",
       "      <td>26</td>\n",
       "      <td>19</td>\n",
       "      <td>3916</td>\n",
       "      <td>46135</td>\n",
       "    </tr>\n",
       "    <tr>\n",
       "      <th>1</th>\n",
       "      <td>2011</td>\n",
       "      <td>premium unleaded (required)</td>\n",
       "      <td>300.0</td>\n",
       "      <td>6.0</td>\n",
       "      <td>MANUAL</td>\n",
       "      <td>rear wheel drive</td>\n",
       "      <td>2.0</td>\n",
       "      <td>Luxury,Performance</td>\n",
       "      <td>Compact</td>\n",
       "      <td>Convertible</td>\n",
       "      <td>28</td>\n",
       "      <td>19</td>\n",
       "      <td>3916</td>\n",
       "      <td>40650</td>\n",
       "    </tr>\n",
       "    <tr>\n",
       "      <th>2</th>\n",
       "      <td>2011</td>\n",
       "      <td>premium unleaded (required)</td>\n",
       "      <td>300.0</td>\n",
       "      <td>6.0</td>\n",
       "      <td>MANUAL</td>\n",
       "      <td>rear wheel drive</td>\n",
       "      <td>2.0</td>\n",
       "      <td>Luxury,High-Performance</td>\n",
       "      <td>Compact</td>\n",
       "      <td>Coupe</td>\n",
       "      <td>28</td>\n",
       "      <td>20</td>\n",
       "      <td>3916</td>\n",
       "      <td>36350</td>\n",
       "    </tr>\n",
       "    <tr>\n",
       "      <th>3</th>\n",
       "      <td>2011</td>\n",
       "      <td>premium unleaded (required)</td>\n",
       "      <td>230.0</td>\n",
       "      <td>6.0</td>\n",
       "      <td>MANUAL</td>\n",
       "      <td>rear wheel drive</td>\n",
       "      <td>2.0</td>\n",
       "      <td>Luxury,Performance</td>\n",
       "      <td>Compact</td>\n",
       "      <td>Coupe</td>\n",
       "      <td>28</td>\n",
       "      <td>18</td>\n",
       "      <td>3916</td>\n",
       "      <td>29450</td>\n",
       "    </tr>\n",
       "    <tr>\n",
       "      <th>4</th>\n",
       "      <td>2011</td>\n",
       "      <td>premium unleaded (required)</td>\n",
       "      <td>230.0</td>\n",
       "      <td>6.0</td>\n",
       "      <td>MANUAL</td>\n",
       "      <td>rear wheel drive</td>\n",
       "      <td>2.0</td>\n",
       "      <td>Luxury</td>\n",
       "      <td>Compact</td>\n",
       "      <td>Convertible</td>\n",
       "      <td>28</td>\n",
       "      <td>18</td>\n",
       "      <td>3916</td>\n",
       "      <td>34500</td>\n",
       "    </tr>\n",
       "    <tr>\n",
       "      <th>...</th>\n",
       "      <td>...</td>\n",
       "      <td>...</td>\n",
       "      <td>...</td>\n",
       "      <td>...</td>\n",
       "      <td>...</td>\n",
       "      <td>...</td>\n",
       "      <td>...</td>\n",
       "      <td>...</td>\n",
       "      <td>...</td>\n",
       "      <td>...</td>\n",
       "      <td>...</td>\n",
       "      <td>...</td>\n",
       "      <td>...</td>\n",
       "      <td>...</td>\n",
       "    </tr>\n",
       "    <tr>\n",
       "      <th>11909</th>\n",
       "      <td>2012</td>\n",
       "      <td>premium unleaded (required)</td>\n",
       "      <td>300.0</td>\n",
       "      <td>6.0</td>\n",
       "      <td>AUTOMATIC</td>\n",
       "      <td>all wheel drive</td>\n",
       "      <td>4.0</td>\n",
       "      <td>Crossover,Hatchback,Luxury</td>\n",
       "      <td>Midsize</td>\n",
       "      <td>4dr Hatchback</td>\n",
       "      <td>23</td>\n",
       "      <td>16</td>\n",
       "      <td>204</td>\n",
       "      <td>46120</td>\n",
       "    </tr>\n",
       "    <tr>\n",
       "      <th>11910</th>\n",
       "      <td>2012</td>\n",
       "      <td>premium unleaded (required)</td>\n",
       "      <td>300.0</td>\n",
       "      <td>6.0</td>\n",
       "      <td>AUTOMATIC</td>\n",
       "      <td>all wheel drive</td>\n",
       "      <td>4.0</td>\n",
       "      <td>Crossover,Hatchback,Luxury</td>\n",
       "      <td>Midsize</td>\n",
       "      <td>4dr Hatchback</td>\n",
       "      <td>23</td>\n",
       "      <td>16</td>\n",
       "      <td>204</td>\n",
       "      <td>56670</td>\n",
       "    </tr>\n",
       "    <tr>\n",
       "      <th>11911</th>\n",
       "      <td>2012</td>\n",
       "      <td>premium unleaded (required)</td>\n",
       "      <td>300.0</td>\n",
       "      <td>6.0</td>\n",
       "      <td>AUTOMATIC</td>\n",
       "      <td>all wheel drive</td>\n",
       "      <td>4.0</td>\n",
       "      <td>Crossover,Hatchback,Luxury</td>\n",
       "      <td>Midsize</td>\n",
       "      <td>4dr Hatchback</td>\n",
       "      <td>23</td>\n",
       "      <td>16</td>\n",
       "      <td>204</td>\n",
       "      <td>50620</td>\n",
       "    </tr>\n",
       "    <tr>\n",
       "      <th>11912</th>\n",
       "      <td>2013</td>\n",
       "      <td>premium unleaded (recommended)</td>\n",
       "      <td>300.0</td>\n",
       "      <td>6.0</td>\n",
       "      <td>AUTOMATIC</td>\n",
       "      <td>all wheel drive</td>\n",
       "      <td>4.0</td>\n",
       "      <td>Crossover,Hatchback,Luxury</td>\n",
       "      <td>Midsize</td>\n",
       "      <td>4dr Hatchback</td>\n",
       "      <td>23</td>\n",
       "      <td>16</td>\n",
       "      <td>204</td>\n",
       "      <td>50920</td>\n",
       "    </tr>\n",
       "    <tr>\n",
       "      <th>11913</th>\n",
       "      <td>2006</td>\n",
       "      <td>regular unleaded</td>\n",
       "      <td>221.0</td>\n",
       "      <td>6.0</td>\n",
       "      <td>AUTOMATIC</td>\n",
       "      <td>front wheel drive</td>\n",
       "      <td>4.0</td>\n",
       "      <td>Luxury</td>\n",
       "      <td>Midsize</td>\n",
       "      <td>Sedan</td>\n",
       "      <td>26</td>\n",
       "      <td>17</td>\n",
       "      <td>61</td>\n",
       "      <td>28995</td>\n",
       "    </tr>\n",
       "  </tbody>\n",
       "</table>\n",
       "<p>11914 rows × 14 columns</p>\n",
       "</div>"
      ],
      "text/plain": [
       "       Year                Engine Fuel Type  Engine HP  Engine Cylinders  \\\n",
       "0      2011     premium unleaded (required)      335.0               6.0   \n",
       "1      2011     premium unleaded (required)      300.0               6.0   \n",
       "2      2011     premium unleaded (required)      300.0               6.0   \n",
       "3      2011     premium unleaded (required)      230.0               6.0   \n",
       "4      2011     premium unleaded (required)      230.0               6.0   \n",
       "...     ...                             ...        ...               ...   \n",
       "11909  2012     premium unleaded (required)      300.0               6.0   \n",
       "11910  2012     premium unleaded (required)      300.0               6.0   \n",
       "11911  2012     premium unleaded (required)      300.0               6.0   \n",
       "11912  2013  premium unleaded (recommended)      300.0               6.0   \n",
       "11913  2006                regular unleaded      221.0               6.0   \n",
       "\n",
       "      Transmission Type      Driven_Wheels  Number of Doors  \\\n",
       "0                MANUAL   rear wheel drive              2.0   \n",
       "1                MANUAL   rear wheel drive              2.0   \n",
       "2                MANUAL   rear wheel drive              2.0   \n",
       "3                MANUAL   rear wheel drive              2.0   \n",
       "4                MANUAL   rear wheel drive              2.0   \n",
       "...                 ...                ...              ...   \n",
       "11909         AUTOMATIC    all wheel drive              4.0   \n",
       "11910         AUTOMATIC    all wheel drive              4.0   \n",
       "11911         AUTOMATIC    all wheel drive              4.0   \n",
       "11912         AUTOMATIC    all wheel drive              4.0   \n",
       "11913         AUTOMATIC  front wheel drive              4.0   \n",
       "\n",
       "                             Market Category Vehicle Size  Vehicle Style  \\\n",
       "0      Factory Tuner,Luxury,High-Performance      Compact          Coupe   \n",
       "1                         Luxury,Performance      Compact    Convertible   \n",
       "2                    Luxury,High-Performance      Compact          Coupe   \n",
       "3                         Luxury,Performance      Compact          Coupe   \n",
       "4                                     Luxury      Compact    Convertible   \n",
       "...                                      ...          ...            ...   \n",
       "11909             Crossover,Hatchback,Luxury      Midsize  4dr Hatchback   \n",
       "11910             Crossover,Hatchback,Luxury      Midsize  4dr Hatchback   \n",
       "11911             Crossover,Hatchback,Luxury      Midsize  4dr Hatchback   \n",
       "11912             Crossover,Hatchback,Luxury      Midsize  4dr Hatchback   \n",
       "11913                                 Luxury      Midsize          Sedan   \n",
       "\n",
       "       highway MPG  city mpg  Popularity   MSRP  \n",
       "0               26        19        3916  46135  \n",
       "1               28        19        3916  40650  \n",
       "2               28        20        3916  36350  \n",
       "3               28        18        3916  29450  \n",
       "4               28        18        3916  34500  \n",
       "...            ...       ...         ...    ...  \n",
       "11909           23        16         204  46120  \n",
       "11910           23        16         204  56670  \n",
       "11911           23        16         204  50620  \n",
       "11912           23        16         204  50920  \n",
       "11913           26        17          61  28995  \n",
       "\n",
       "[11914 rows x 14 columns]"
      ]
     },
     "execution_count": 80,
     "metadata": {},
     "output_type": "execute_result"
    }
   ],
   "source": [
    "df.dropna(how='all')"
   ]
  },
  {
   "cell_type": "code",
   "execution_count": 81,
   "id": "179bbcd5",
   "metadata": {},
   "outputs": [
    {
     "data": {
      "application/vnd.microsoft.datawrangler.viewer.v0+json": {
       "columns": [
        {
         "name": "index",
         "rawType": "int64",
         "type": "integer"
        },
        {
         "name": "Year",
         "rawType": "int64",
         "type": "integer"
        },
        {
         "name": "Engine Fuel Type",
         "rawType": "object",
         "type": "unknown"
        },
        {
         "name": "Engine HP",
         "rawType": "float64",
         "type": "float"
        },
        {
         "name": "Engine Cylinders",
         "rawType": "float64",
         "type": "float"
        },
        {
         "name": "Transmission Type",
         "rawType": "object",
         "type": "string"
        },
        {
         "name": "Driven_Wheels",
         "rawType": "object",
         "type": "string"
        },
        {
         "name": "Number of Doors",
         "rawType": "float64",
         "type": "float"
        },
        {
         "name": "Market Category",
         "rawType": "object",
         "type": "unknown"
        },
        {
         "name": "Vehicle Size",
         "rawType": "object",
         "type": "string"
        },
        {
         "name": "Vehicle Style",
         "rawType": "object",
         "type": "string"
        },
        {
         "name": "highway MPG",
         "rawType": "int64",
         "type": "integer"
        },
        {
         "name": "city mpg",
         "rawType": "int64",
         "type": "integer"
        },
        {
         "name": "Popularity",
         "rawType": "int64",
         "type": "integer"
        },
        {
         "name": "MSRP",
         "rawType": "int64",
         "type": "integer"
        }
       ],
       "ref": "cc3c3aaa-fa58-4ef0-b037-01f010459b22",
       "rows": [
        [
         "0",
         "2011",
         "premium unleaded (required)",
         "335.0",
         "6.0",
         "MANUAL",
         "rear wheel drive",
         "2.0",
         "Factory Tuner,Luxury,High-Performance",
         "Compact",
         "Coupe",
         "26",
         "19",
         "3916",
         "46135"
        ],
        [
         "1",
         "2011",
         "premium unleaded (required)",
         "300.0",
         "6.0",
         "MANUAL",
         "rear wheel drive",
         "2.0",
         "Luxury,Performance",
         "Compact",
         "Convertible",
         "28",
         "19",
         "3916",
         "40650"
        ],
        [
         "2",
         "2011",
         "premium unleaded (required)",
         "300.0",
         "6.0",
         "MANUAL",
         "rear wheel drive",
         "2.0",
         "Luxury,High-Performance",
         "Compact",
         "Coupe",
         "28",
         "20",
         "3916",
         "36350"
        ],
        [
         "3",
         "2011",
         "premium unleaded (required)",
         "230.0",
         "6.0",
         "MANUAL",
         "rear wheel drive",
         "2.0",
         "Luxury,Performance",
         "Compact",
         "Coupe",
         "28",
         "18",
         "3916",
         "29450"
        ],
        [
         "4",
         "2011",
         "premium unleaded (required)",
         "230.0",
         "6.0",
         "MANUAL",
         "rear wheel drive",
         "2.0",
         "Luxury",
         "Compact",
         "Convertible",
         "28",
         "18",
         "3916",
         "34500"
        ],
        [
         "5",
         "2012",
         "premium unleaded (required)",
         "230.0",
         "6.0",
         "MANUAL",
         "rear wheel drive",
         "2.0",
         "Luxury,Performance",
         "Compact",
         "Coupe",
         "28",
         "18",
         "3916",
         "31200"
        ],
        [
         "6",
         "2012",
         "premium unleaded (required)",
         "300.0",
         "6.0",
         "MANUAL",
         "rear wheel drive",
         "2.0",
         "Luxury,Performance",
         "Compact",
         "Convertible",
         "26",
         "17",
         "3916",
         "44100"
        ],
        [
         "7",
         "2012",
         "premium unleaded (required)",
         "300.0",
         "6.0",
         "MANUAL",
         "rear wheel drive",
         "2.0",
         "Luxury,High-Performance",
         "Compact",
         "Coupe",
         "28",
         "20",
         "3916",
         "39300"
        ],
        [
         "8",
         "2012",
         "premium unleaded (required)",
         "230.0",
         "6.0",
         "MANUAL",
         "rear wheel drive",
         "2.0",
         "Luxury",
         "Compact",
         "Convertible",
         "28",
         "18",
         "3916",
         "36900"
        ],
        [
         "9",
         "2013",
         "premium unleaded (required)",
         "230.0",
         "6.0",
         "MANUAL",
         "rear wheel drive",
         "2.0",
         "Luxury",
         "Compact",
         "Convertible",
         "27",
         "18",
         "3916",
         "37200"
        ],
        [
         "10",
         "2013",
         "premium unleaded (required)",
         "300.0",
         "6.0",
         "MANUAL",
         "rear wheel drive",
         "2.0",
         "Luxury,High-Performance",
         "Compact",
         "Coupe",
         "28",
         "20",
         "3916",
         "39600"
        ],
        [
         "11",
         "2013",
         "premium unleaded (required)",
         "230.0",
         "6.0",
         "MANUAL",
         "rear wheel drive",
         "2.0",
         "Luxury,Performance",
         "Compact",
         "Coupe",
         "28",
         "19",
         "3916",
         "31500"
        ],
        [
         "12",
         "2013",
         "premium unleaded (required)",
         "300.0",
         "6.0",
         "MANUAL",
         "rear wheel drive",
         "2.0",
         "Luxury,Performance",
         "Compact",
         "Convertible",
         "28",
         "19",
         "3916",
         "44400"
        ],
        [
         "13",
         "2013",
         "premium unleaded (required)",
         "230.0",
         "6.0",
         "MANUAL",
         "rear wheel drive",
         "2.0",
         "Luxury",
         "Compact",
         "Convertible",
         "28",
         "19",
         "3916",
         "37200"
        ],
        [
         "14",
         "2013",
         "premium unleaded (required)",
         "230.0",
         "6.0",
         "MANUAL",
         "rear wheel drive",
         "2.0",
         "Luxury,Performance",
         "Compact",
         "Coupe",
         "28",
         "19",
         "3916",
         "31500"
        ],
        [
         "15",
         "2013",
         "premium unleaded (required)",
         "320.0",
         "6.0",
         "MANUAL",
         "rear wheel drive",
         "2.0",
         "Luxury,High-Performance",
         "Compact",
         "Convertible",
         "25",
         "18",
         "3916",
         "48250"
        ],
        [
         "16",
         "2013",
         "premium unleaded (required)",
         "320.0",
         "6.0",
         "MANUAL",
         "rear wheel drive",
         "2.0",
         "Luxury,High-Performance",
         "Compact",
         "Coupe",
         "28",
         "20",
         "3916",
         "43550"
        ],
        [
         "17",
         "1992",
         "regular unleaded",
         "172.0",
         "6.0",
         "MANUAL",
         "front wheel drive",
         "4.0",
         "Luxury",
         "Midsize",
         "Sedan",
         "24",
         "17",
         "3105",
         "2000"
        ],
        [
         "18",
         "1992",
         "regular unleaded",
         "172.0",
         "6.0",
         "MANUAL",
         "front wheel drive",
         "4.0",
         "Luxury",
         "Midsize",
         "Sedan",
         "24",
         "17",
         "3105",
         "2000"
        ],
        [
         "19",
         "1992",
         "regular unleaded",
         "172.0",
         "6.0",
         "AUTOMATIC",
         "all wheel drive",
         "4.0",
         "Luxury",
         "Midsize",
         "Wagon",
         "20",
         "16",
         "3105",
         "2000"
        ],
        [
         "20",
         "1992",
         "regular unleaded",
         "172.0",
         "6.0",
         "MANUAL",
         "front wheel drive",
         "4.0",
         "Luxury",
         "Midsize",
         "Sedan",
         "24",
         "17",
         "3105",
         "2000"
        ],
        [
         "21",
         "1992",
         "regular unleaded",
         "172.0",
         "6.0",
         "MANUAL",
         "all wheel drive",
         "4.0",
         "Luxury",
         "Midsize",
         "Sedan",
         "21",
         "16",
         "3105",
         "2000"
        ],
        [
         "22",
         "1993",
         "regular unleaded",
         "172.0",
         "6.0",
         "MANUAL",
         "front wheel drive",
         "4.0",
         "Luxury",
         "Midsize",
         "Sedan",
         "24",
         "17",
         "3105",
         "2000"
        ],
        [
         "23",
         "1993",
         "regular unleaded",
         "172.0",
         "6.0",
         "AUTOMATIC",
         "all wheel drive",
         "4.0",
         "Luxury",
         "Midsize",
         "Wagon",
         "20",
         "16",
         "3105",
         "2000"
        ],
        [
         "24",
         "1993",
         "regular unleaded",
         "172.0",
         "6.0",
         "MANUAL",
         "front wheel drive",
         "4.0",
         "Luxury",
         "Midsize",
         "Sedan",
         "24",
         "17",
         "3105",
         "2000"
        ],
        [
         "25",
         "1993",
         "regular unleaded",
         "172.0",
         "6.0",
         "MANUAL",
         "front wheel drive",
         "4.0",
         "Luxury",
         "Midsize",
         "Sedan",
         "24",
         "17",
         "3105",
         "2000"
        ],
        [
         "26",
         "1993",
         "regular unleaded",
         "172.0",
         "6.0",
         "MANUAL",
         "all wheel drive",
         "4.0",
         "Luxury",
         "Midsize",
         "Sedan",
         "21",
         "16",
         "3105",
         "2000"
        ],
        [
         "27",
         "1994",
         "regular unleaded",
         "172.0",
         "6.0",
         "AUTOMATIC",
         "front wheel drive",
         "4.0",
         "Luxury",
         "Midsize",
         "Wagon",
         "21",
         "16",
         "3105",
         "2000"
        ],
        [
         "28",
         "1994",
         "regular unleaded",
         "172.0",
         "6.0",
         "MANUAL",
         "all wheel drive",
         "4.0",
         "Luxury",
         "Midsize",
         "Sedan",
         "22",
         "16",
         "3105",
         "2000"
        ],
        [
         "29",
         "1994",
         "regular unleaded",
         "172.0",
         "6.0",
         "MANUAL",
         "front wheel drive",
         "4.0",
         "Luxury",
         "Midsize",
         "Sedan",
         "22",
         "17",
         "3105",
         "2000"
        ],
        [
         "30",
         "1994",
         "regular unleaded",
         "172.0",
         "6.0",
         "AUTOMATIC",
         "front wheel drive",
         "4.0",
         "Luxury",
         "Midsize",
         "Sedan",
         "22",
         "16",
         "3105",
         "2000"
        ],
        [
         "31",
         "1994",
         "regular unleaded",
         "172.0",
         "6.0",
         "AUTOMATIC",
         "all wheel drive",
         "4.0",
         "Luxury",
         "Midsize",
         "Wagon",
         "21",
         "16",
         "3105",
         "2000"
        ],
        [
         "32",
         "2017",
         "premium unleaded (recommended)",
         "160.0",
         "4.0",
         "MANUAL",
         "rear wheel drive",
         "2.0",
         "Performance",
         "Compact",
         "Convertible",
         "35",
         "26",
         "819",
         "27495"
        ],
        [
         "33",
         "2017",
         "premium unleaded (recommended)",
         "160.0",
         "4.0",
         "MANUAL",
         "rear wheel drive",
         "2.0",
         "Performance",
         "Compact",
         "Convertible",
         "35",
         "26",
         "819",
         "24995"
        ],
        [
         "34",
         "2017",
         "premium unleaded (recommended)",
         "160.0",
         "4.0",
         "MANUAL",
         "rear wheel drive",
         "2.0",
         "Performance",
         "Compact",
         "Convertible",
         "35",
         "26",
         "819",
         "28195"
        ],
        [
         "35",
         "1991",
         "regular unleaded",
         "130.0",
         "4.0",
         "MANUAL",
         "rear wheel drive",
         "4.0",
         "Luxury",
         "Compact",
         "Sedan",
         "26",
         "18",
         "617",
         "2000"
        ],
        [
         "36",
         "1991",
         "regular unleaded",
         "158.0",
         "6.0",
         "MANUAL",
         "rear wheel drive",
         "4.0",
         "Luxury",
         "Compact",
         "Sedan",
         "25",
         "17",
         "617",
         "2000"
        ],
        [
         "37",
         "1992",
         "regular unleaded",
         "158.0",
         "6.0",
         "MANUAL",
         "rear wheel drive",
         "4.0",
         "Luxury",
         "Compact",
         "Sedan",
         "25",
         "17",
         "617",
         "2000"
        ],
        [
         "38",
         "1992",
         "regular unleaded",
         "130.0",
         "4.0",
         "MANUAL",
         "rear wheel drive",
         "4.0",
         "Luxury",
         "Compact",
         "Sedan",
         "26",
         "18",
         "617",
         "2000"
        ],
        [
         "39",
         "1993",
         "regular unleaded",
         "130.0",
         "4.0",
         "MANUAL",
         "rear wheel drive",
         "4.0",
         "Luxury",
         "Compact",
         "Sedan",
         "26",
         "18",
         "617",
         "2000"
        ],
        [
         "40",
         "1993",
         "regular unleaded",
         "158.0",
         "6.0",
         "MANUAL",
         "rear wheel drive",
         "4.0",
         "Luxury",
         "Compact",
         "Sedan",
         "25",
         "17",
         "617",
         "2000"
        ],
        [
         "41",
         "2016",
         "premium unleaded (required)",
         "240.0",
         "4.0",
         "AUTOMATIC",
         "rear wheel drive",
         "2.0",
         "Luxury,Performance",
         "Compact",
         "Coupe",
         "35",
         "23",
         "3916",
         "32850"
        ],
        [
         "42",
         "2016",
         "premium unleaded (required)",
         "240.0",
         "4.0",
         "AUTOMATIC",
         "rear wheel drive",
         "2.0",
         "Luxury",
         "Compact",
         "Convertible",
         "34",
         "23",
         "3916",
         "38650"
        ],
        [
         "43",
         "2016",
         "premium unleaded (required)",
         "320.0",
         "6.0",
         "AUTOMATIC",
         "rear wheel drive",
         "2.0",
         "Factory Tuner,Luxury,High-Performance",
         "Compact",
         "Convertible",
         "31",
         "20",
         "3916",
         "48750"
        ],
        [
         "44",
         "2016",
         "premium unleaded (required)",
         "240.0",
         "4.0",
         "AUTOMATIC",
         "all wheel drive",
         "2.0",
         "Luxury,Performance",
         "Compact",
         "Coupe",
         "35",
         "23",
         "3916",
         "34850"
        ],
        [
         "45",
         "2016",
         "premium unleaded (required)",
         "240.0",
         "4.0",
         "AUTOMATIC",
         "all wheel drive",
         "2.0",
         "Luxury",
         "Compact",
         "Convertible",
         "34",
         "22",
         "3916",
         "40650"
        ],
        [
         "46",
         "2016",
         "premium unleaded (required)",
         "320.0",
         "6.0",
         "AUTOMATIC",
         "rear wheel drive",
         "2.0",
         "Factory Tuner,Luxury,High-Performance",
         "Compact",
         "Coupe",
         "31",
         "20",
         "3916",
         "44150"
        ],
        [
         "47",
         "2016",
         "premium unleaded (required)",
         "240.0",
         "4.0",
         "MANUAL",
         "rear wheel drive",
         "2.0",
         "Luxury,Performance",
         "Compact",
         "Coupe",
         "34",
         "22",
         "3916",
         "32850"
        ],
        [
         "48",
         "2016",
         "premium unleaded (required)",
         "320.0",
         "6.0",
         "AUTOMATIC",
         "all wheel drive",
         "2.0",
         "Factory Tuner,Luxury,High-Performance",
         "Compact",
         "Coupe",
         "30",
         "20",
         "3916",
         "46150"
        ],
        [
         "49",
         "2016",
         "premium unleaded (required)",
         "320.0",
         "6.0",
         "AUTOMATIC",
         "rear wheel drive",
         "2.0",
         "Factory Tuner,Luxury,High-Performance",
         "Compact",
         "Convertible",
         "30",
         "20",
         "3916",
         "50750"
        ]
       ],
       "shape": {
        "columns": 14,
        "rows": 11914
       }
      },
      "text/html": [
       "<div>\n",
       "<style scoped>\n",
       "    .dataframe tbody tr th:only-of-type {\n",
       "        vertical-align: middle;\n",
       "    }\n",
       "\n",
       "    .dataframe tbody tr th {\n",
       "        vertical-align: top;\n",
       "    }\n",
       "\n",
       "    .dataframe thead th {\n",
       "        text-align: right;\n",
       "    }\n",
       "</style>\n",
       "<table border=\"1\" class=\"dataframe\">\n",
       "  <thead>\n",
       "    <tr style=\"text-align: right;\">\n",
       "      <th></th>\n",
       "      <th>Year</th>\n",
       "      <th>Engine Fuel Type</th>\n",
       "      <th>Engine HP</th>\n",
       "      <th>Engine Cylinders</th>\n",
       "      <th>Transmission Type</th>\n",
       "      <th>Driven_Wheels</th>\n",
       "      <th>Number of Doors</th>\n",
       "      <th>Market Category</th>\n",
       "      <th>Vehicle Size</th>\n",
       "      <th>Vehicle Style</th>\n",
       "      <th>highway MPG</th>\n",
       "      <th>city mpg</th>\n",
       "      <th>Popularity</th>\n",
       "      <th>MSRP</th>\n",
       "    </tr>\n",
       "  </thead>\n",
       "  <tbody>\n",
       "    <tr>\n",
       "      <th>0</th>\n",
       "      <td>2011</td>\n",
       "      <td>premium unleaded (required)</td>\n",
       "      <td>335.0</td>\n",
       "      <td>6.0</td>\n",
       "      <td>MANUAL</td>\n",
       "      <td>rear wheel drive</td>\n",
       "      <td>2.0</td>\n",
       "      <td>Factory Tuner,Luxury,High-Performance</td>\n",
       "      <td>Compact</td>\n",
       "      <td>Coupe</td>\n",
       "      <td>26</td>\n",
       "      <td>19</td>\n",
       "      <td>3916</td>\n",
       "      <td>46135</td>\n",
       "    </tr>\n",
       "    <tr>\n",
       "      <th>1</th>\n",
       "      <td>2011</td>\n",
       "      <td>premium unleaded (required)</td>\n",
       "      <td>300.0</td>\n",
       "      <td>6.0</td>\n",
       "      <td>MANUAL</td>\n",
       "      <td>rear wheel drive</td>\n",
       "      <td>2.0</td>\n",
       "      <td>Luxury,Performance</td>\n",
       "      <td>Compact</td>\n",
       "      <td>Convertible</td>\n",
       "      <td>28</td>\n",
       "      <td>19</td>\n",
       "      <td>3916</td>\n",
       "      <td>40650</td>\n",
       "    </tr>\n",
       "    <tr>\n",
       "      <th>2</th>\n",
       "      <td>2011</td>\n",
       "      <td>premium unleaded (required)</td>\n",
       "      <td>300.0</td>\n",
       "      <td>6.0</td>\n",
       "      <td>MANUAL</td>\n",
       "      <td>rear wheel drive</td>\n",
       "      <td>2.0</td>\n",
       "      <td>Luxury,High-Performance</td>\n",
       "      <td>Compact</td>\n",
       "      <td>Coupe</td>\n",
       "      <td>28</td>\n",
       "      <td>20</td>\n",
       "      <td>3916</td>\n",
       "      <td>36350</td>\n",
       "    </tr>\n",
       "    <tr>\n",
       "      <th>3</th>\n",
       "      <td>2011</td>\n",
       "      <td>premium unleaded (required)</td>\n",
       "      <td>230.0</td>\n",
       "      <td>6.0</td>\n",
       "      <td>MANUAL</td>\n",
       "      <td>rear wheel drive</td>\n",
       "      <td>2.0</td>\n",
       "      <td>Luxury,Performance</td>\n",
       "      <td>Compact</td>\n",
       "      <td>Coupe</td>\n",
       "      <td>28</td>\n",
       "      <td>18</td>\n",
       "      <td>3916</td>\n",
       "      <td>29450</td>\n",
       "    </tr>\n",
       "    <tr>\n",
       "      <th>4</th>\n",
       "      <td>2011</td>\n",
       "      <td>premium unleaded (required)</td>\n",
       "      <td>230.0</td>\n",
       "      <td>6.0</td>\n",
       "      <td>MANUAL</td>\n",
       "      <td>rear wheel drive</td>\n",
       "      <td>2.0</td>\n",
       "      <td>Luxury</td>\n",
       "      <td>Compact</td>\n",
       "      <td>Convertible</td>\n",
       "      <td>28</td>\n",
       "      <td>18</td>\n",
       "      <td>3916</td>\n",
       "      <td>34500</td>\n",
       "    </tr>\n",
       "    <tr>\n",
       "      <th>...</th>\n",
       "      <td>...</td>\n",
       "      <td>...</td>\n",
       "      <td>...</td>\n",
       "      <td>...</td>\n",
       "      <td>...</td>\n",
       "      <td>...</td>\n",
       "      <td>...</td>\n",
       "      <td>...</td>\n",
       "      <td>...</td>\n",
       "      <td>...</td>\n",
       "      <td>...</td>\n",
       "      <td>...</td>\n",
       "      <td>...</td>\n",
       "      <td>...</td>\n",
       "    </tr>\n",
       "    <tr>\n",
       "      <th>11909</th>\n",
       "      <td>2012</td>\n",
       "      <td>premium unleaded (required)</td>\n",
       "      <td>300.0</td>\n",
       "      <td>6.0</td>\n",
       "      <td>AUTOMATIC</td>\n",
       "      <td>all wheel drive</td>\n",
       "      <td>4.0</td>\n",
       "      <td>Crossover,Hatchback,Luxury</td>\n",
       "      <td>Midsize</td>\n",
       "      <td>4dr Hatchback</td>\n",
       "      <td>23</td>\n",
       "      <td>16</td>\n",
       "      <td>204</td>\n",
       "      <td>46120</td>\n",
       "    </tr>\n",
       "    <tr>\n",
       "      <th>11910</th>\n",
       "      <td>2012</td>\n",
       "      <td>premium unleaded (required)</td>\n",
       "      <td>300.0</td>\n",
       "      <td>6.0</td>\n",
       "      <td>AUTOMATIC</td>\n",
       "      <td>all wheel drive</td>\n",
       "      <td>4.0</td>\n",
       "      <td>Crossover,Hatchback,Luxury</td>\n",
       "      <td>Midsize</td>\n",
       "      <td>4dr Hatchback</td>\n",
       "      <td>23</td>\n",
       "      <td>16</td>\n",
       "      <td>204</td>\n",
       "      <td>56670</td>\n",
       "    </tr>\n",
       "    <tr>\n",
       "      <th>11911</th>\n",
       "      <td>2012</td>\n",
       "      <td>premium unleaded (required)</td>\n",
       "      <td>300.0</td>\n",
       "      <td>6.0</td>\n",
       "      <td>AUTOMATIC</td>\n",
       "      <td>all wheel drive</td>\n",
       "      <td>4.0</td>\n",
       "      <td>Crossover,Hatchback,Luxury</td>\n",
       "      <td>Midsize</td>\n",
       "      <td>4dr Hatchback</td>\n",
       "      <td>23</td>\n",
       "      <td>16</td>\n",
       "      <td>204</td>\n",
       "      <td>50620</td>\n",
       "    </tr>\n",
       "    <tr>\n",
       "      <th>11912</th>\n",
       "      <td>2013</td>\n",
       "      <td>premium unleaded (recommended)</td>\n",
       "      <td>300.0</td>\n",
       "      <td>6.0</td>\n",
       "      <td>AUTOMATIC</td>\n",
       "      <td>all wheel drive</td>\n",
       "      <td>4.0</td>\n",
       "      <td>Crossover,Hatchback,Luxury</td>\n",
       "      <td>Midsize</td>\n",
       "      <td>4dr Hatchback</td>\n",
       "      <td>23</td>\n",
       "      <td>16</td>\n",
       "      <td>204</td>\n",
       "      <td>50920</td>\n",
       "    </tr>\n",
       "    <tr>\n",
       "      <th>11913</th>\n",
       "      <td>2006</td>\n",
       "      <td>regular unleaded</td>\n",
       "      <td>221.0</td>\n",
       "      <td>6.0</td>\n",
       "      <td>AUTOMATIC</td>\n",
       "      <td>front wheel drive</td>\n",
       "      <td>4.0</td>\n",
       "      <td>Luxury</td>\n",
       "      <td>Midsize</td>\n",
       "      <td>Sedan</td>\n",
       "      <td>26</td>\n",
       "      <td>17</td>\n",
       "      <td>61</td>\n",
       "      <td>28995</td>\n",
       "    </tr>\n",
       "  </tbody>\n",
       "</table>\n",
       "<p>11914 rows × 14 columns</p>\n",
       "</div>"
      ],
      "text/plain": [
       "       Year                Engine Fuel Type  Engine HP  Engine Cylinders  \\\n",
       "0      2011     premium unleaded (required)      335.0               6.0   \n",
       "1      2011     premium unleaded (required)      300.0               6.0   \n",
       "2      2011     premium unleaded (required)      300.0               6.0   \n",
       "3      2011     premium unleaded (required)      230.0               6.0   \n",
       "4      2011     premium unleaded (required)      230.0               6.0   \n",
       "...     ...                             ...        ...               ...   \n",
       "11909  2012     premium unleaded (required)      300.0               6.0   \n",
       "11910  2012     premium unleaded (required)      300.0               6.0   \n",
       "11911  2012     premium unleaded (required)      300.0               6.0   \n",
       "11912  2013  premium unleaded (recommended)      300.0               6.0   \n",
       "11913  2006                regular unleaded      221.0               6.0   \n",
       "\n",
       "      Transmission Type      Driven_Wheels  Number of Doors  \\\n",
       "0                MANUAL   rear wheel drive              2.0   \n",
       "1                MANUAL   rear wheel drive              2.0   \n",
       "2                MANUAL   rear wheel drive              2.0   \n",
       "3                MANUAL   rear wheel drive              2.0   \n",
       "4                MANUAL   rear wheel drive              2.0   \n",
       "...                 ...                ...              ...   \n",
       "11909         AUTOMATIC    all wheel drive              4.0   \n",
       "11910         AUTOMATIC    all wheel drive              4.0   \n",
       "11911         AUTOMATIC    all wheel drive              4.0   \n",
       "11912         AUTOMATIC    all wheel drive              4.0   \n",
       "11913         AUTOMATIC  front wheel drive              4.0   \n",
       "\n",
       "                             Market Category Vehicle Size  Vehicle Style  \\\n",
       "0      Factory Tuner,Luxury,High-Performance      Compact          Coupe   \n",
       "1                         Luxury,Performance      Compact    Convertible   \n",
       "2                    Luxury,High-Performance      Compact          Coupe   \n",
       "3                         Luxury,Performance      Compact          Coupe   \n",
       "4                                     Luxury      Compact    Convertible   \n",
       "...                                      ...          ...            ...   \n",
       "11909             Crossover,Hatchback,Luxury      Midsize  4dr Hatchback   \n",
       "11910             Crossover,Hatchback,Luxury      Midsize  4dr Hatchback   \n",
       "11911             Crossover,Hatchback,Luxury      Midsize  4dr Hatchback   \n",
       "11912             Crossover,Hatchback,Luxury      Midsize  4dr Hatchback   \n",
       "11913                                 Luxury      Midsize          Sedan   \n",
       "\n",
       "       highway MPG  city mpg  Popularity   MSRP  \n",
       "0               26        19        3916  46135  \n",
       "1               28        19        3916  40650  \n",
       "2               28        20        3916  36350  \n",
       "3               28        18        3916  29450  \n",
       "4               28        18        3916  34500  \n",
       "...            ...       ...         ...    ...  \n",
       "11909           23        16         204  46120  \n",
       "11910           23        16         204  56670  \n",
       "11911           23        16         204  50620  \n",
       "11912           23        16         204  50920  \n",
       "11913           26        17          61  28995  \n",
       "\n",
       "[11914 rows x 14 columns]"
      ]
     },
     "execution_count": 81,
     "metadata": {},
     "output_type": "execute_result"
    }
   ],
   "source": [
    "df.dropna(thresh=2)"
   ]
  },
  {
   "cell_type": "markdown",
   "id": "50509cec",
   "metadata": {},
   "source": [
    "<img src='fillna.png'>"
   ]
  },
  {
   "cell_type": "code",
   "execution_count": 82,
   "id": "53c69af6",
   "metadata": {},
   "outputs": [
    {
     "data": {
      "application/vnd.microsoft.datawrangler.viewer.v0+json": {
       "columns": [
        {
         "name": "index",
         "rawType": "int64",
         "type": "integer"
        },
        {
         "name": "Year",
         "rawType": "int64",
         "type": "integer"
        },
        {
         "name": "Engine Fuel Type",
         "rawType": "object",
         "type": "unknown"
        },
        {
         "name": "Engine HP",
         "rawType": "float64",
         "type": "float"
        },
        {
         "name": "Engine Cylinders",
         "rawType": "float64",
         "type": "float"
        },
        {
         "name": "Transmission Type",
         "rawType": "object",
         "type": "string"
        },
        {
         "name": "Driven_Wheels",
         "rawType": "object",
         "type": "string"
        },
        {
         "name": "Number of Doors",
         "rawType": "float64",
         "type": "float"
        },
        {
         "name": "Market Category",
         "rawType": "object",
         "type": "unknown"
        },
        {
         "name": "Vehicle Size",
         "rawType": "object",
         "type": "string"
        },
        {
         "name": "Vehicle Style",
         "rawType": "object",
         "type": "string"
        },
        {
         "name": "highway MPG",
         "rawType": "int64",
         "type": "integer"
        },
        {
         "name": "city mpg",
         "rawType": "int64",
         "type": "integer"
        },
        {
         "name": "Popularity",
         "rawType": "int64",
         "type": "integer"
        },
        {
         "name": "MSRP",
         "rawType": "int64",
         "type": "integer"
        }
       ],
       "ref": "c62269ba-1813-4c3d-9637-edfefd190dbe",
       "rows": [
        [
         "0",
         "2011",
         "premium unleaded (required)",
         "335.0",
         "6.0",
         "MANUAL",
         "rear wheel drive",
         "2.0",
         "Factory Tuner,Luxury,High-Performance",
         "Compact",
         "Coupe",
         "26",
         "19",
         "3916",
         "46135"
        ],
        [
         "1",
         "2011",
         "premium unleaded (required)",
         "300.0",
         "6.0",
         "MANUAL",
         "rear wheel drive",
         "2.0",
         "Luxury,Performance",
         "Compact",
         "Convertible",
         "28",
         "19",
         "3916",
         "40650"
        ],
        [
         "2",
         "2011",
         "premium unleaded (required)",
         "300.0",
         "6.0",
         "MANUAL",
         "rear wheel drive",
         "2.0",
         "Luxury,High-Performance",
         "Compact",
         "Coupe",
         "28",
         "20",
         "3916",
         "36350"
        ],
        [
         "3",
         "2011",
         "premium unleaded (required)",
         "230.0",
         "6.0",
         "MANUAL",
         "rear wheel drive",
         "2.0",
         "Luxury,Performance",
         "Compact",
         "Coupe",
         "28",
         "18",
         "3916",
         "29450"
        ],
        [
         "4",
         "2011",
         "premium unleaded (required)",
         "230.0",
         "6.0",
         "MANUAL",
         "rear wheel drive",
         "2.0",
         "Luxury",
         "Compact",
         "Convertible",
         "28",
         "18",
         "3916",
         "34500"
        ],
        [
         "5",
         "2012",
         "premium unleaded (required)",
         "230.0",
         "6.0",
         "MANUAL",
         "rear wheel drive",
         "2.0",
         "Luxury,Performance",
         "Compact",
         "Coupe",
         "28",
         "18",
         "3916",
         "31200"
        ],
        [
         "6",
         "2012",
         "premium unleaded (required)",
         "300.0",
         "6.0",
         "MANUAL",
         "rear wheel drive",
         "2.0",
         "Luxury,Performance",
         "Compact",
         "Convertible",
         "26",
         "17",
         "3916",
         "44100"
        ],
        [
         "7",
         "2012",
         "premium unleaded (required)",
         "300.0",
         "6.0",
         "MANUAL",
         "rear wheel drive",
         "2.0",
         "Luxury,High-Performance",
         "Compact",
         "Coupe",
         "28",
         "20",
         "3916",
         "39300"
        ],
        [
         "8",
         "2012",
         "premium unleaded (required)",
         "230.0",
         "6.0",
         "MANUAL",
         "rear wheel drive",
         "2.0",
         "Luxury",
         "Compact",
         "Convertible",
         "28",
         "18",
         "3916",
         "36900"
        ],
        [
         "9",
         "2013",
         "premium unleaded (required)",
         "230.0",
         "6.0",
         "MANUAL",
         "rear wheel drive",
         "2.0",
         "Luxury",
         "Compact",
         "Convertible",
         "27",
         "18",
         "3916",
         "37200"
        ],
        [
         "10",
         "2013",
         "premium unleaded (required)",
         "300.0",
         "6.0",
         "MANUAL",
         "rear wheel drive",
         "2.0",
         "Luxury,High-Performance",
         "Compact",
         "Coupe",
         "28",
         "20",
         "3916",
         "39600"
        ],
        [
         "11",
         "2013",
         "premium unleaded (required)",
         "230.0",
         "6.0",
         "MANUAL",
         "rear wheel drive",
         "2.0",
         "Luxury,Performance",
         "Compact",
         "Coupe",
         "28",
         "19",
         "3916",
         "31500"
        ],
        [
         "12",
         "2013",
         "premium unleaded (required)",
         "300.0",
         "6.0",
         "MANUAL",
         "rear wheel drive",
         "2.0",
         "Luxury,Performance",
         "Compact",
         "Convertible",
         "28",
         "19",
         "3916",
         "44400"
        ],
        [
         "13",
         "2013",
         "premium unleaded (required)",
         "230.0",
         "6.0",
         "MANUAL",
         "rear wheel drive",
         "2.0",
         "Luxury",
         "Compact",
         "Convertible",
         "28",
         "19",
         "3916",
         "37200"
        ],
        [
         "14",
         "2013",
         "premium unleaded (required)",
         "230.0",
         "6.0",
         "MANUAL",
         "rear wheel drive",
         "2.0",
         "Luxury,Performance",
         "Compact",
         "Coupe",
         "28",
         "19",
         "3916",
         "31500"
        ],
        [
         "15",
         "2013",
         "premium unleaded (required)",
         "320.0",
         "6.0",
         "MANUAL",
         "rear wheel drive",
         "2.0",
         "Luxury,High-Performance",
         "Compact",
         "Convertible",
         "25",
         "18",
         "3916",
         "48250"
        ],
        [
         "16",
         "2013",
         "premium unleaded (required)",
         "320.0",
         "6.0",
         "MANUAL",
         "rear wheel drive",
         "2.0",
         "Luxury,High-Performance",
         "Compact",
         "Coupe",
         "28",
         "20",
         "3916",
         "43550"
        ],
        [
         "17",
         "1992",
         "regular unleaded",
         "172.0",
         "6.0",
         "MANUAL",
         "front wheel drive",
         "4.0",
         "Luxury",
         "Midsize",
         "Sedan",
         "24",
         "17",
         "3105",
         "2000"
        ],
        [
         "18",
         "1992",
         "regular unleaded",
         "172.0",
         "6.0",
         "MANUAL",
         "front wheel drive",
         "4.0",
         "Luxury",
         "Midsize",
         "Sedan",
         "24",
         "17",
         "3105",
         "2000"
        ],
        [
         "19",
         "1992",
         "regular unleaded",
         "172.0",
         "6.0",
         "AUTOMATIC",
         "all wheel drive",
         "4.0",
         "Luxury",
         "Midsize",
         "Wagon",
         "20",
         "16",
         "3105",
         "2000"
        ],
        [
         "20",
         "1992",
         "regular unleaded",
         "172.0",
         "6.0",
         "MANUAL",
         "front wheel drive",
         "4.0",
         "Luxury",
         "Midsize",
         "Sedan",
         "24",
         "17",
         "3105",
         "2000"
        ],
        [
         "21",
         "1992",
         "regular unleaded",
         "172.0",
         "6.0",
         "MANUAL",
         "all wheel drive",
         "4.0",
         "Luxury",
         "Midsize",
         "Sedan",
         "21",
         "16",
         "3105",
         "2000"
        ],
        [
         "22",
         "1993",
         "regular unleaded",
         "172.0",
         "6.0",
         "MANUAL",
         "front wheel drive",
         "4.0",
         "Luxury",
         "Midsize",
         "Sedan",
         "24",
         "17",
         "3105",
         "2000"
        ],
        [
         "23",
         "1993",
         "regular unleaded",
         "172.0",
         "6.0",
         "AUTOMATIC",
         "all wheel drive",
         "4.0",
         "Luxury",
         "Midsize",
         "Wagon",
         "20",
         "16",
         "3105",
         "2000"
        ],
        [
         "24",
         "1993",
         "regular unleaded",
         "172.0",
         "6.0",
         "MANUAL",
         "front wheel drive",
         "4.0",
         "Luxury",
         "Midsize",
         "Sedan",
         "24",
         "17",
         "3105",
         "2000"
        ],
        [
         "25",
         "1993",
         "regular unleaded",
         "172.0",
         "6.0",
         "MANUAL",
         "front wheel drive",
         "4.0",
         "Luxury",
         "Midsize",
         "Sedan",
         "24",
         "17",
         "3105",
         "2000"
        ],
        [
         "26",
         "1993",
         "regular unleaded",
         "172.0",
         "6.0",
         "MANUAL",
         "all wheel drive",
         "4.0",
         "Luxury",
         "Midsize",
         "Sedan",
         "21",
         "16",
         "3105",
         "2000"
        ],
        [
         "27",
         "1994",
         "regular unleaded",
         "172.0",
         "6.0",
         "AUTOMATIC",
         "front wheel drive",
         "4.0",
         "Luxury",
         "Midsize",
         "Wagon",
         "21",
         "16",
         "3105",
         "2000"
        ],
        [
         "28",
         "1994",
         "regular unleaded",
         "172.0",
         "6.0",
         "MANUAL",
         "all wheel drive",
         "4.0",
         "Luxury",
         "Midsize",
         "Sedan",
         "22",
         "16",
         "3105",
         "2000"
        ],
        [
         "29",
         "1994",
         "regular unleaded",
         "172.0",
         "6.0",
         "MANUAL",
         "front wheel drive",
         "4.0",
         "Luxury",
         "Midsize",
         "Sedan",
         "22",
         "17",
         "3105",
         "2000"
        ],
        [
         "30",
         "1994",
         "regular unleaded",
         "172.0",
         "6.0",
         "AUTOMATIC",
         "front wheel drive",
         "4.0",
         "Luxury",
         "Midsize",
         "Sedan",
         "22",
         "16",
         "3105",
         "2000"
        ],
        [
         "31",
         "1994",
         "regular unleaded",
         "172.0",
         "6.0",
         "AUTOMATIC",
         "all wheel drive",
         "4.0",
         "Luxury",
         "Midsize",
         "Wagon",
         "21",
         "16",
         "3105",
         "2000"
        ],
        [
         "32",
         "2017",
         "premium unleaded (recommended)",
         "160.0",
         "4.0",
         "MANUAL",
         "rear wheel drive",
         "2.0",
         "Performance",
         "Compact",
         "Convertible",
         "35",
         "26",
         "819",
         "27495"
        ],
        [
         "33",
         "2017",
         "premium unleaded (recommended)",
         "160.0",
         "4.0",
         "MANUAL",
         "rear wheel drive",
         "2.0",
         "Performance",
         "Compact",
         "Convertible",
         "35",
         "26",
         "819",
         "24995"
        ],
        [
         "34",
         "2017",
         "premium unleaded (recommended)",
         "160.0",
         "4.0",
         "MANUAL",
         "rear wheel drive",
         "2.0",
         "Performance",
         "Compact",
         "Convertible",
         "35",
         "26",
         "819",
         "28195"
        ],
        [
         "35",
         "1991",
         "regular unleaded",
         "130.0",
         "4.0",
         "MANUAL",
         "rear wheel drive",
         "4.0",
         "Luxury",
         "Compact",
         "Sedan",
         "26",
         "18",
         "617",
         "2000"
        ],
        [
         "36",
         "1991",
         "regular unleaded",
         "158.0",
         "6.0",
         "MANUAL",
         "rear wheel drive",
         "4.0",
         "Luxury",
         "Compact",
         "Sedan",
         "25",
         "17",
         "617",
         "2000"
        ],
        [
         "37",
         "1992",
         "regular unleaded",
         "158.0",
         "6.0",
         "MANUAL",
         "rear wheel drive",
         "4.0",
         "Luxury",
         "Compact",
         "Sedan",
         "25",
         "17",
         "617",
         "2000"
        ],
        [
         "38",
         "1992",
         "regular unleaded",
         "130.0",
         "4.0",
         "MANUAL",
         "rear wheel drive",
         "4.0",
         "Luxury",
         "Compact",
         "Sedan",
         "26",
         "18",
         "617",
         "2000"
        ],
        [
         "39",
         "1993",
         "regular unleaded",
         "130.0",
         "4.0",
         "MANUAL",
         "rear wheel drive",
         "4.0",
         "Luxury",
         "Compact",
         "Sedan",
         "26",
         "18",
         "617",
         "2000"
        ],
        [
         "40",
         "1993",
         "regular unleaded",
         "158.0",
         "6.0",
         "MANUAL",
         "rear wheel drive",
         "4.0",
         "Luxury",
         "Compact",
         "Sedan",
         "25",
         "17",
         "617",
         "2000"
        ],
        [
         "41",
         "2016",
         "premium unleaded (required)",
         "240.0",
         "4.0",
         "AUTOMATIC",
         "rear wheel drive",
         "2.0",
         "Luxury,Performance",
         "Compact",
         "Coupe",
         "35",
         "23",
         "3916",
         "32850"
        ],
        [
         "42",
         "2016",
         "premium unleaded (required)",
         "240.0",
         "4.0",
         "AUTOMATIC",
         "rear wheel drive",
         "2.0",
         "Luxury",
         "Compact",
         "Convertible",
         "34",
         "23",
         "3916",
         "38650"
        ],
        [
         "43",
         "2016",
         "premium unleaded (required)",
         "320.0",
         "6.0",
         "AUTOMATIC",
         "rear wheel drive",
         "2.0",
         "Factory Tuner,Luxury,High-Performance",
         "Compact",
         "Convertible",
         "31",
         "20",
         "3916",
         "48750"
        ],
        [
         "44",
         "2016",
         "premium unleaded (required)",
         "240.0",
         "4.0",
         "AUTOMATIC",
         "all wheel drive",
         "2.0",
         "Luxury,Performance",
         "Compact",
         "Coupe",
         "35",
         "23",
         "3916",
         "34850"
        ],
        [
         "45",
         "2016",
         "premium unleaded (required)",
         "240.0",
         "4.0",
         "AUTOMATIC",
         "all wheel drive",
         "2.0",
         "Luxury",
         "Compact",
         "Convertible",
         "34",
         "22",
         "3916",
         "40650"
        ],
        [
         "46",
         "2016",
         "premium unleaded (required)",
         "320.0",
         "6.0",
         "AUTOMATIC",
         "rear wheel drive",
         "2.0",
         "Factory Tuner,Luxury,High-Performance",
         "Compact",
         "Coupe",
         "31",
         "20",
         "3916",
         "44150"
        ],
        [
         "47",
         "2016",
         "premium unleaded (required)",
         "240.0",
         "4.0",
         "MANUAL",
         "rear wheel drive",
         "2.0",
         "Luxury,Performance",
         "Compact",
         "Coupe",
         "34",
         "22",
         "3916",
         "32850"
        ],
        [
         "48",
         "2016",
         "premium unleaded (required)",
         "320.0",
         "6.0",
         "AUTOMATIC",
         "all wheel drive",
         "2.0",
         "Factory Tuner,Luxury,High-Performance",
         "Compact",
         "Coupe",
         "30",
         "20",
         "3916",
         "46150"
        ],
        [
         "49",
         "2016",
         "premium unleaded (required)",
         "320.0",
         "6.0",
         "AUTOMATIC",
         "rear wheel drive",
         "2.0",
         "Factory Tuner,Luxury,High-Performance",
         "Compact",
         "Convertible",
         "30",
         "20",
         "3916",
         "50750"
        ]
       ],
       "shape": {
        "columns": 14,
        "rows": 11914
       }
      },
      "text/html": [
       "<div>\n",
       "<style scoped>\n",
       "    .dataframe tbody tr th:only-of-type {\n",
       "        vertical-align: middle;\n",
       "    }\n",
       "\n",
       "    .dataframe tbody tr th {\n",
       "        vertical-align: top;\n",
       "    }\n",
       "\n",
       "    .dataframe thead th {\n",
       "        text-align: right;\n",
       "    }\n",
       "</style>\n",
       "<table border=\"1\" class=\"dataframe\">\n",
       "  <thead>\n",
       "    <tr style=\"text-align: right;\">\n",
       "      <th></th>\n",
       "      <th>Year</th>\n",
       "      <th>Engine Fuel Type</th>\n",
       "      <th>Engine HP</th>\n",
       "      <th>Engine Cylinders</th>\n",
       "      <th>Transmission Type</th>\n",
       "      <th>Driven_Wheels</th>\n",
       "      <th>Number of Doors</th>\n",
       "      <th>Market Category</th>\n",
       "      <th>Vehicle Size</th>\n",
       "      <th>Vehicle Style</th>\n",
       "      <th>highway MPG</th>\n",
       "      <th>city mpg</th>\n",
       "      <th>Popularity</th>\n",
       "      <th>MSRP</th>\n",
       "    </tr>\n",
       "  </thead>\n",
       "  <tbody>\n",
       "    <tr>\n",
       "      <th>0</th>\n",
       "      <td>2011</td>\n",
       "      <td>premium unleaded (required)</td>\n",
       "      <td>335.0</td>\n",
       "      <td>6.0</td>\n",
       "      <td>MANUAL</td>\n",
       "      <td>rear wheel drive</td>\n",
       "      <td>2.0</td>\n",
       "      <td>Factory Tuner,Luxury,High-Performance</td>\n",
       "      <td>Compact</td>\n",
       "      <td>Coupe</td>\n",
       "      <td>26</td>\n",
       "      <td>19</td>\n",
       "      <td>3916</td>\n",
       "      <td>46135</td>\n",
       "    </tr>\n",
       "    <tr>\n",
       "      <th>1</th>\n",
       "      <td>2011</td>\n",
       "      <td>premium unleaded (required)</td>\n",
       "      <td>300.0</td>\n",
       "      <td>6.0</td>\n",
       "      <td>MANUAL</td>\n",
       "      <td>rear wheel drive</td>\n",
       "      <td>2.0</td>\n",
       "      <td>Luxury,Performance</td>\n",
       "      <td>Compact</td>\n",
       "      <td>Convertible</td>\n",
       "      <td>28</td>\n",
       "      <td>19</td>\n",
       "      <td>3916</td>\n",
       "      <td>40650</td>\n",
       "    </tr>\n",
       "    <tr>\n",
       "      <th>2</th>\n",
       "      <td>2011</td>\n",
       "      <td>premium unleaded (required)</td>\n",
       "      <td>300.0</td>\n",
       "      <td>6.0</td>\n",
       "      <td>MANUAL</td>\n",
       "      <td>rear wheel drive</td>\n",
       "      <td>2.0</td>\n",
       "      <td>Luxury,High-Performance</td>\n",
       "      <td>Compact</td>\n",
       "      <td>Coupe</td>\n",
       "      <td>28</td>\n",
       "      <td>20</td>\n",
       "      <td>3916</td>\n",
       "      <td>36350</td>\n",
       "    </tr>\n",
       "    <tr>\n",
       "      <th>3</th>\n",
       "      <td>2011</td>\n",
       "      <td>premium unleaded (required)</td>\n",
       "      <td>230.0</td>\n",
       "      <td>6.0</td>\n",
       "      <td>MANUAL</td>\n",
       "      <td>rear wheel drive</td>\n",
       "      <td>2.0</td>\n",
       "      <td>Luxury,Performance</td>\n",
       "      <td>Compact</td>\n",
       "      <td>Coupe</td>\n",
       "      <td>28</td>\n",
       "      <td>18</td>\n",
       "      <td>3916</td>\n",
       "      <td>29450</td>\n",
       "    </tr>\n",
       "    <tr>\n",
       "      <th>4</th>\n",
       "      <td>2011</td>\n",
       "      <td>premium unleaded (required)</td>\n",
       "      <td>230.0</td>\n",
       "      <td>6.0</td>\n",
       "      <td>MANUAL</td>\n",
       "      <td>rear wheel drive</td>\n",
       "      <td>2.0</td>\n",
       "      <td>Luxury</td>\n",
       "      <td>Compact</td>\n",
       "      <td>Convertible</td>\n",
       "      <td>28</td>\n",
       "      <td>18</td>\n",
       "      <td>3916</td>\n",
       "      <td>34500</td>\n",
       "    </tr>\n",
       "    <tr>\n",
       "      <th>...</th>\n",
       "      <td>...</td>\n",
       "      <td>...</td>\n",
       "      <td>...</td>\n",
       "      <td>...</td>\n",
       "      <td>...</td>\n",
       "      <td>...</td>\n",
       "      <td>...</td>\n",
       "      <td>...</td>\n",
       "      <td>...</td>\n",
       "      <td>...</td>\n",
       "      <td>...</td>\n",
       "      <td>...</td>\n",
       "      <td>...</td>\n",
       "      <td>...</td>\n",
       "    </tr>\n",
       "    <tr>\n",
       "      <th>11909</th>\n",
       "      <td>2012</td>\n",
       "      <td>premium unleaded (required)</td>\n",
       "      <td>300.0</td>\n",
       "      <td>6.0</td>\n",
       "      <td>AUTOMATIC</td>\n",
       "      <td>all wheel drive</td>\n",
       "      <td>4.0</td>\n",
       "      <td>Crossover,Hatchback,Luxury</td>\n",
       "      <td>Midsize</td>\n",
       "      <td>4dr Hatchback</td>\n",
       "      <td>23</td>\n",
       "      <td>16</td>\n",
       "      <td>204</td>\n",
       "      <td>46120</td>\n",
       "    </tr>\n",
       "    <tr>\n",
       "      <th>11910</th>\n",
       "      <td>2012</td>\n",
       "      <td>premium unleaded (required)</td>\n",
       "      <td>300.0</td>\n",
       "      <td>6.0</td>\n",
       "      <td>AUTOMATIC</td>\n",
       "      <td>all wheel drive</td>\n",
       "      <td>4.0</td>\n",
       "      <td>Crossover,Hatchback,Luxury</td>\n",
       "      <td>Midsize</td>\n",
       "      <td>4dr Hatchback</td>\n",
       "      <td>23</td>\n",
       "      <td>16</td>\n",
       "      <td>204</td>\n",
       "      <td>56670</td>\n",
       "    </tr>\n",
       "    <tr>\n",
       "      <th>11911</th>\n",
       "      <td>2012</td>\n",
       "      <td>premium unleaded (required)</td>\n",
       "      <td>300.0</td>\n",
       "      <td>6.0</td>\n",
       "      <td>AUTOMATIC</td>\n",
       "      <td>all wheel drive</td>\n",
       "      <td>4.0</td>\n",
       "      <td>Crossover,Hatchback,Luxury</td>\n",
       "      <td>Midsize</td>\n",
       "      <td>4dr Hatchback</td>\n",
       "      <td>23</td>\n",
       "      <td>16</td>\n",
       "      <td>204</td>\n",
       "      <td>50620</td>\n",
       "    </tr>\n",
       "    <tr>\n",
       "      <th>11912</th>\n",
       "      <td>2013</td>\n",
       "      <td>premium unleaded (recommended)</td>\n",
       "      <td>300.0</td>\n",
       "      <td>6.0</td>\n",
       "      <td>AUTOMATIC</td>\n",
       "      <td>all wheel drive</td>\n",
       "      <td>4.0</td>\n",
       "      <td>Crossover,Hatchback,Luxury</td>\n",
       "      <td>Midsize</td>\n",
       "      <td>4dr Hatchback</td>\n",
       "      <td>23</td>\n",
       "      <td>16</td>\n",
       "      <td>204</td>\n",
       "      <td>50920</td>\n",
       "    </tr>\n",
       "    <tr>\n",
       "      <th>11913</th>\n",
       "      <td>2006</td>\n",
       "      <td>regular unleaded</td>\n",
       "      <td>221.0</td>\n",
       "      <td>6.0</td>\n",
       "      <td>AUTOMATIC</td>\n",
       "      <td>front wheel drive</td>\n",
       "      <td>4.0</td>\n",
       "      <td>Luxury</td>\n",
       "      <td>Midsize</td>\n",
       "      <td>Sedan</td>\n",
       "      <td>26</td>\n",
       "      <td>17</td>\n",
       "      <td>61</td>\n",
       "      <td>28995</td>\n",
       "    </tr>\n",
       "  </tbody>\n",
       "</table>\n",
       "<p>11914 rows × 14 columns</p>\n",
       "</div>"
      ],
      "text/plain": [
       "       Year                Engine Fuel Type  Engine HP  Engine Cylinders  \\\n",
       "0      2011     premium unleaded (required)      335.0               6.0   \n",
       "1      2011     premium unleaded (required)      300.0               6.0   \n",
       "2      2011     premium unleaded (required)      300.0               6.0   \n",
       "3      2011     premium unleaded (required)      230.0               6.0   \n",
       "4      2011     premium unleaded (required)      230.0               6.0   \n",
       "...     ...                             ...        ...               ...   \n",
       "11909  2012     premium unleaded (required)      300.0               6.0   \n",
       "11910  2012     premium unleaded (required)      300.0               6.0   \n",
       "11911  2012     premium unleaded (required)      300.0               6.0   \n",
       "11912  2013  premium unleaded (recommended)      300.0               6.0   \n",
       "11913  2006                regular unleaded      221.0               6.0   \n",
       "\n",
       "      Transmission Type      Driven_Wheels  Number of Doors  \\\n",
       "0                MANUAL   rear wheel drive              2.0   \n",
       "1                MANUAL   rear wheel drive              2.0   \n",
       "2                MANUAL   rear wheel drive              2.0   \n",
       "3                MANUAL   rear wheel drive              2.0   \n",
       "4                MANUAL   rear wheel drive              2.0   \n",
       "...                 ...                ...              ...   \n",
       "11909         AUTOMATIC    all wheel drive              4.0   \n",
       "11910         AUTOMATIC    all wheel drive              4.0   \n",
       "11911         AUTOMATIC    all wheel drive              4.0   \n",
       "11912         AUTOMATIC    all wheel drive              4.0   \n",
       "11913         AUTOMATIC  front wheel drive              4.0   \n",
       "\n",
       "                             Market Category Vehicle Size  Vehicle Style  \\\n",
       "0      Factory Tuner,Luxury,High-Performance      Compact          Coupe   \n",
       "1                         Luxury,Performance      Compact    Convertible   \n",
       "2                    Luxury,High-Performance      Compact          Coupe   \n",
       "3                         Luxury,Performance      Compact          Coupe   \n",
       "4                                     Luxury      Compact    Convertible   \n",
       "...                                      ...          ...            ...   \n",
       "11909             Crossover,Hatchback,Luxury      Midsize  4dr Hatchback   \n",
       "11910             Crossover,Hatchback,Luxury      Midsize  4dr Hatchback   \n",
       "11911             Crossover,Hatchback,Luxury      Midsize  4dr Hatchback   \n",
       "11912             Crossover,Hatchback,Luxury      Midsize  4dr Hatchback   \n",
       "11913                                 Luxury      Midsize          Sedan   \n",
       "\n",
       "       highway MPG  city mpg  Popularity   MSRP  \n",
       "0               26        19        3916  46135  \n",
       "1               28        19        3916  40650  \n",
       "2               28        20        3916  36350  \n",
       "3               28        18        3916  29450  \n",
       "4               28        18        3916  34500  \n",
       "...            ...       ...         ...    ...  \n",
       "11909           23        16         204  46120  \n",
       "11910           23        16         204  56670  \n",
       "11911           23        16         204  50620  \n",
       "11912           23        16         204  50920  \n",
       "11913           26        17          61  28995  \n",
       "\n",
       "[11914 rows x 14 columns]"
      ]
     },
     "execution_count": 82,
     "metadata": {},
     "output_type": "execute_result"
    }
   ],
   "source": [
    "df.fillna(0)   # Fill Empty Cells with 0"
   ]
  },
  {
   "cell_type": "markdown",
   "id": "ca16e2e1",
   "metadata": {},
   "source": [
    "*`Find Duplicates and Remove them`*"
   ]
  },
  {
   "cell_type": "markdown",
   "id": "9b3b51d7",
   "metadata": {},
   "source": [
    "<img src='dup.png'>"
   ]
  },
  {
   "cell_type": "code",
   "execution_count": null,
   "id": "cac85553",
   "metadata": {},
   "outputs": [
    {
     "data": {
      "text/plain": [
       "np.int64(724)"
      ]
     },
     "execution_count": 83,
     "metadata": {},
     "output_type": "execute_result"
    }
   ],
   "source": [
    "# How many Duplicated Rows ?\n",
    "df.duplicated().sum()"
   ]
  },
  {
   "cell_type": "markdown",
   "id": "f8640310",
   "metadata": {},
   "source": [
    "*`Set & Reset Index`*"
   ]
  },
  {
   "cell_type": "code",
   "execution_count": null,
   "id": "8a738bdd",
   "metadata": {},
   "outputs": [],
   "source": []
  },
  {
   "cell_type": "code",
   "execution_count": null,
   "id": "4caff40f",
   "metadata": {},
   "outputs": [],
   "source": []
  },
  {
   "cell_type": "code",
   "execution_count": null,
   "id": "8df380b1",
   "metadata": {},
   "outputs": [],
   "source": []
  },
  {
   "cell_type": "code",
   "execution_count": null,
   "id": "71a46bdf",
   "metadata": {},
   "outputs": [],
   "source": []
  },
  {
   "cell_type": "markdown",
   "id": "83c8eb4c",
   "metadata": {},
   "source": [
    "*`Group By & Aggegation Methods`*"
   ]
  },
  {
   "cell_type": "code",
   "execution_count": null,
   "id": "94d9f2f9",
   "metadata": {},
   "outputs": [],
   "source": []
  },
  {
   "cell_type": "code",
   "execution_count": null,
   "id": "53ecd72d",
   "metadata": {},
   "outputs": [],
   "source": []
  },
  {
   "cell_type": "markdown",
   "id": "380cdfad",
   "metadata": {},
   "source": [
    "*`Sorting`*"
   ]
  },
  {
   "cell_type": "markdown",
   "id": "a011a8c3",
   "metadata": {},
   "source": []
  },
  {
   "cell_type": "code",
   "execution_count": null,
   "id": "4027240c",
   "metadata": {},
   "outputs": [],
   "source": []
  },
  {
   "cell_type": "code",
   "execution_count": null,
   "id": "670eb324",
   "metadata": {},
   "outputs": [],
   "source": []
  },
  {
   "cell_type": "code",
   "execution_count": null,
   "id": "00b05aaf",
   "metadata": {},
   "outputs": [],
   "source": []
  },
  {
   "cell_type": "code",
   "execution_count": null,
   "id": "f1d2bd09",
   "metadata": {},
   "outputs": [],
   "source": []
  },
  {
   "cell_type": "markdown",
   "id": "a4da69b8",
   "metadata": {},
   "source": [
    "*`Data Integration`*\n",
    "- Append\n",
    "- Concatenate\n",
    "- Merge\n",
    "- Join"
   ]
  },
  {
   "cell_type": "code",
   "execution_count": null,
   "id": "f4e79e0c",
   "metadata": {},
   "outputs": [],
   "source": []
  },
  {
   "cell_type": "code",
   "execution_count": null,
   "id": "a914db42",
   "metadata": {},
   "outputs": [],
   "source": []
  },
  {
   "cell_type": "code",
   "execution_count": null,
   "id": "e9a860f9",
   "metadata": {},
   "outputs": [],
   "source": []
  },
  {
   "cell_type": "code",
   "execution_count": null,
   "id": "38c7d6b5",
   "metadata": {},
   "outputs": [],
   "source": []
  },
  {
   "cell_type": "code",
   "execution_count": null,
   "id": "11ac3fd4",
   "metadata": {},
   "outputs": [],
   "source": []
  },
  {
   "cell_type": "markdown",
   "id": "5b688b7a",
   "metadata": {},
   "source": [
    "*`Export DataFrames To CSV File`*"
   ]
  },
  {
   "cell_type": "markdown",
   "id": "1c4730c0",
   "metadata": {},
   "source": []
  }
 ],
 "metadata": {
  "kernelspec": {
   "display_name": "base",
   "language": "python",
   "name": "python3"
  },
  "language_info": {
   "codemirror_mode": {
    "name": "ipython",
    "version": 3
   },
   "file_extension": ".py",
   "mimetype": "text/x-python",
   "name": "python",
   "nbconvert_exporter": "python",
   "pygments_lexer": "ipython3",
   "version": "3.13.5"
  }
 },
 "nbformat": 4,
 "nbformat_minor": 5
}
