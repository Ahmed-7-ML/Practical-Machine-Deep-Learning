{
 "cells": [
  {
   "cell_type": "code",
   "execution_count": 1,
   "id": "6ff999b5",
   "metadata": {},
   "outputs": [],
   "source": [
    "import numpy as np\n",
    "import time"
   ]
  },
  {
   "cell_type": "code",
   "execution_count": 2,
   "id": "eb76bae9",
   "metadata": {},
   "outputs": [
    {
     "data": {
      "text/plain": [
       "array([1, 2, 3, 4])"
      ]
     },
     "execution_count": 2,
     "metadata": {},
     "output_type": "execute_result"
    }
   ],
   "source": [
    "a = np.array([1, 2, 3, 4])\n",
    "a"
   ]
  },
  {
   "cell_type": "code",
   "execution_count": 8,
   "id": "0ea07ea1",
   "metadata": {},
   "outputs": [
    {
     "name": "stdout",
     "output_type": "stream",
     "text": [
      "250111.65622271734\n",
      "Vectorized Operation takes : 2.732515335083008 ms\n"
     ]
    }
   ],
   "source": [
    "b = np.random.rand(1000000)\n",
    "c = np.random.rand(1000000)\n",
    "\n",
    "tic = time.time()\n",
    "d = np.dot(b, c)\n",
    "toc = time.time()\n",
    "\n",
    "print(d)\n",
    "print(f\"Vectorized Operation takes : {1000 * (toc -tic)} ms\")"
   ]
  },
  {
   "cell_type": "code",
   "execution_count": 7,
   "metadata": {},
   "outputs": [
    {
     "name": "stdout",
     "output_type": "stream",
     "text": [
      "249866.5319617711\n",
      "Non-Vectorized Operation (For Loop) takes : 603.2991409301758 ms\n"
     ]
    }
   ],
   "source": [
    "d = 0\n",
    "tic = time.time()\n",
    "for i in range(1000000):\n",
    "    d += b[i] * c[i]\n",
    "\n",
    "toc = time.time()\n",
    "\n",
    "print(d)\n",
    "print(f\"Non-Vectorized Operation (For Loop) takes : {1000 * (toc -tic)} ms\")"
   ]
  },
  {
   "cell_type": "markdown",
   "id": "613123db",
   "metadata": {},
   "source": [
    "*So Vectorization is much faster and takes less time*"
   ]
  }
 ],
 "metadata": {
  "kernelspec": {
   "display_name": "myenv",
   "language": "python",
   "name": "python3"
  },
  "language_info": {
   "codemirror_mode": {
    "name": "ipython",
    "version": 3
   },
   "file_extension": ".py",
   "mimetype": "text/x-python",
   "name": "python",
   "nbconvert_exporter": "python",
   "pygments_lexer": "ipython3",
   "version": "3.9.21"
  }
 },
 "nbformat": 4,
 "nbformat_minor": 5
}
