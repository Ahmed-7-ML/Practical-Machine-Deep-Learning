{
 "cells": [
  {
   "cell_type": "markdown",
   "id": "adebbd2d",
   "metadata": {},
   "source": [
    "## *`WHAT IS NUMPY?`*\n",
    " - NumPy is an open-source numerical Python library.\n",
    " - contains a large number of mathematical, algebraic, and transformation functions\n",
    " - Numpy also contains random number generators.\n",
    " - Pandas objects rely heavily on NumPy objects."
   ]
  },
  {
   "cell_type": "code",
   "execution_count": 1,
   "id": "a493c0b2",
   "metadata": {},
   "outputs": [],
   "source": [
    "import numpy as np"
   ]
  },
  {
   "cell_type": "code",
   "execution_count": 2,
   "id": "361114d7",
   "metadata": {},
   "outputs": [
    {
     "data": {
      "text/plain": [
       "'2.1.3'"
      ]
     },
     "execution_count": 2,
     "metadata": {},
     "output_type": "execute_result"
    }
   ],
   "source": [
    "np.__version__"
   ]
  },
  {
   "cell_type": "markdown",
   "id": "eae8d9a6",
   "metadata": {},
   "source": [
    "• Python does numerical computations slowly.\n",
    " - 1000 x 1000 matrix multiply\n",
    " - Python triple loop takes > 10 min.\n",
    " - Numpytakes ~0.03 seconds"
   ]
  },
  {
   "cell_type": "markdown",
   "id": "a1f4a2a1",
   "metadata": {},
   "source": [
    "_`1D- Numpy Array`_\n"
   ]
  },
  {
   "cell_type": "code",
   "execution_count": 3,
   "id": "7edbe55d",
   "metadata": {},
   "outputs": [
    {
     "data": {
      "text/plain": [
       "array([10, 20, 30, 40])"
      ]
     },
     "execution_count": 3,
     "metadata": {},
     "output_type": "execute_result"
    }
   ],
   "source": [
    "arr = np.array([10, 20, 30, 40])\n",
    "arr"
   ]
  },
  {
   "cell_type": "code",
   "execution_count": 4,
   "id": "129b181a",
   "metadata": {},
   "outputs": [
    {
     "data": {
      "text/plain": [
       "1"
      ]
     },
     "execution_count": 4,
     "metadata": {},
     "output_type": "execute_result"
    }
   ],
   "source": [
    "# Check the Dimension -> Arrays can have any number of dimensions, including zero (a scalar).\n",
    "arr.ndim"
   ]
  },
  {
   "cell_type": "code",
   "execution_count": 5,
   "metadata": {},
   "outputs": [
    {
     "data": {
      "text/plain": [
       "(4,)"
      ]
     },
     "execution_count": 5,
     "metadata": {},
     "output_type": "execute_result"
    }
   ],
   "source": [
    "# (Rows, Columns)\n",
    "arr.shape"
   ]
  },
  {
   "cell_type": "code",
   "execution_count": 6,
   "id": "fc43ffd1",
   "metadata": {},
   "outputs": [
    {
     "name": "stdout",
     "output_type": "stream",
     "text": [
      "True\n"
     ]
    },
    {
     "data": {
      "text/plain": [
       "4"
      ]
     },
     "execution_count": 6,
     "metadata": {},
     "output_type": "execute_result"
    }
   ],
   "source": [
    "# Print Number of Rows\n",
    "print(len(arr) == arr.shape[0])\n",
    "len(arr)"
   ]
  },
  {
   "cell_type": "code",
   "execution_count": 7,
   "id": "c9b75758",
   "metadata": {},
   "outputs": [
    {
     "data": {
      "text/plain": [
       "4"
      ]
     },
     "execution_count": 7,
     "metadata": {},
     "output_type": "execute_result"
    }
   ],
   "source": [
    "# How many elements in an array ?\n",
    "arr.size"
   ]
  },
  {
   "cell_type": "code",
   "execution_count": 8,
   "id": "d2962fbc",
   "metadata": {},
   "outputs": [
    {
     "data": {
      "text/plain": [
       "dtype('int64')"
      ]
     },
     "execution_count": 8,
     "metadata": {},
     "output_type": "execute_result"
    }
   ],
   "source": [
    "#  Arrays are dense. Each element of the array exists and has the same type.\n",
    "arr.dtype"
   ]
  },
  {
   "cell_type": "markdown",
   "id": "65691575",
   "metadata": {},
   "source": [
    "_`2D- Numpy Array`_\n"
   ]
  },
  {
   "cell_type": "code",
   "execution_count": 9,
   "id": "bca655b7",
   "metadata": {},
   "outputs": [
    {
     "data": {
      "text/plain": [
       "array([[1, 2, 3],\n",
       "       [4, 5, 6]])"
      ]
     },
     "execution_count": 9,
     "metadata": {},
     "output_type": "execute_result"
    }
   ],
   "source": [
    "arr_2d = np.array([[1, 2, 3],\n",
    "                    [4, 5, 6]])\n",
    "\n",
    "arr_2d"
   ]
  },
  {
   "cell_type": "code",
   "execution_count": 10,
   "id": "fed1c8d7",
   "metadata": {},
   "outputs": [
    {
     "data": {
      "text/plain": [
       "2"
      ]
     },
     "execution_count": 10,
     "metadata": {},
     "output_type": "execute_result"
    }
   ],
   "source": [
    "arr_2d.ndim"
   ]
  },
  {
   "cell_type": "code",
   "execution_count": 11,
   "id": "2a1fe87e",
   "metadata": {},
   "outputs": [
    {
     "data": {
      "text/plain": [
       "(2, 3)"
      ]
     },
     "execution_count": 11,
     "metadata": {},
     "output_type": "execute_result"
    }
   ],
   "source": [
    "arr_2d.shape"
   ]
  },
  {
   "cell_type": "code",
   "execution_count": 12,
   "id": "d8e93a87",
   "metadata": {},
   "outputs": [
    {
     "data": {
      "text/plain": [
       "2"
      ]
     },
     "execution_count": 12,
     "metadata": {},
     "output_type": "execute_result"
    }
   ],
   "source": [
    "len(arr_2d)"
   ]
  },
  {
   "cell_type": "code",
   "execution_count": 13,
   "id": "1cce5220",
   "metadata": {},
   "outputs": [
    {
     "data": {
      "text/plain": [
       "6"
      ]
     },
     "execution_count": 13,
     "metadata": {},
     "output_type": "execute_result"
    }
   ],
   "source": [
    "arr_2d.size"
   ]
  },
  {
   "cell_type": "code",
   "execution_count": 14,
   "id": "4a9b4f66",
   "metadata": {},
   "outputs": [
    {
     "data": {
      "text/plain": [
       "numpy.ndarray"
      ]
     },
     "execution_count": 14,
     "metadata": {},
     "output_type": "execute_result"
    }
   ],
   "source": [
    "# Type of Numpy Array\n",
    "type(arr_2d)"
   ]
  },
  {
   "cell_type": "code",
   "execution_count": 15,
   "id": "1f7e226f",
   "metadata": {},
   "outputs": [
    {
     "data": {
      "text/plain": [
       "dtype('int64')"
      ]
     },
     "execution_count": 15,
     "metadata": {},
     "output_type": "execute_result"
    }
   ],
   "source": [
    "# Type of Each Element in Numpy Array\n",
    "arr_2d.dtype"
   ]
  },
  {
   "cell_type": "markdown",
   "id": "16ba69f0",
   "metadata": {},
   "source": [
    "- _Every element in the array must be of the same Type and Size_\n",
    "- _If an array's elements are also arrays, those inner arrays must have the same type and number of elements as each other_\n"
   ]
  },
  {
   "cell_type": "code",
   "execution_count": 16,
   "id": "19d13850",
   "metadata": {},
   "outputs": [
    {
     "ename": "ValueError",
     "evalue": "setting an array element with a sequence. The requested array has an inhomogeneous shape after 1 dimensions. The detected shape was (2,) + inhomogeneous part.",
     "output_type": "error",
     "traceback": [
      "\u001b[1;31m---------------------------------------------------------------------------\u001b[0m",
      "\u001b[1;31mValueError\u001b[0m                                Traceback (most recent call last)",
      "Cell \u001b[1;32mIn[16], line 1\u001b[0m\n\u001b[1;32m----> 1\u001b[0m np\u001b[38;5;241m.\u001b[39marray([\n\u001b[0;32m      2\u001b[0m     [\u001b[38;5;241m4.0\u001b[39m, \u001b[38;5;241m5.0\u001b[39m, \u001b[38;5;241m6\u001b[39m],\n\u001b[0;32m      3\u001b[0m     [\u001b[38;5;241m1\u001b[39m, \u001b[38;5;241m2\u001b[39m]])\n",
      "\u001b[1;31mValueError\u001b[0m: setting an array element with a sequence. The requested array has an inhomogeneous shape after 1 dimensions. The detected shape was (2,) + inhomogeneous part."
     ]
    }
   ],
   "source": [
    "np.array([\n",
    "    [4.0, 5.0, 6],\n",
    "    [1, 2]])"
   ]
  },
  {
   "cell_type": "code",
   "execution_count": 17,
   "id": "c675ec03",
   "metadata": {},
   "outputs": [
    {
     "data": {
      "text/plain": [
       "array(['Hello', '1', '2'], dtype='<U21')"
      ]
     },
     "execution_count": 17,
     "metadata": {},
     "output_type": "execute_result"
    }
   ],
   "source": [
    "foo = np.array(['Hello', 1, 2])\n",
    "foo"
   ]
  },
  {
   "cell_type": "markdown",
   "id": "c3a9b639",
   "metadata": {},
   "source": [
    "- _`Cast the Integers to Strings`_\n",
    "  - U21 : Unicode Strings with 21 Characters or Less\n"
   ]
  },
  {
   "cell_type": "code",
   "execution_count": 18,
   "id": "a6f19182",
   "metadata": {},
   "outputs": [
    {
     "data": {
      "text/plain": [
       "array(['Hello', '1', 'World'], dtype='<U21')"
      ]
     },
     "execution_count": 18,
     "metadata": {},
     "output_type": "execute_result"
    }
   ],
   "source": [
    "foo[-1] = 'World'\n",
    "foo"
   ]
  },
  {
   "cell_type": "code",
   "execution_count": 19,
   "metadata": {},
   "outputs": [
    {
     "data": {
      "text/plain": [
       "array([[4., 5., 6.],\n",
       "       [1., 2., 3.]])"
      ]
     },
     "execution_count": 19,
     "metadata": {},
     "output_type": "execute_result"
    }
   ],
   "source": [
    "np.array([\n",
    "    [4.0, 5.0, 6],\n",
    "    [1, 2, 3]])"
   ]
  },
  {
   "cell_type": "markdown",
   "id": "db4dffb2",
   "metadata": {},
   "source": [
    "_`Cast Integers to Float`_\n"
   ]
  },
  {
   "cell_type": "markdown",
   "id": "dcb921cd",
   "metadata": {},
   "source": [
    "### *`Arrays creation`*\n",
    " - np.ones, np.zeros, np.full\n",
    " - np.arange\n",
    " - np.concatenate\n",
    " - np.astype\n",
    " - np.zeros_like, np.ones_like\n",
    " - np.random.random"
   ]
  },
  {
   "cell_type": "markdown",
   "id": "a50b05d2",
   "metadata": {},
   "source": [
    "_`Numpy Array of Zeros`_\n"
   ]
  },
  {
   "cell_type": "code",
   "execution_count": 20,
   "id": "2b681eb6",
   "metadata": {},
   "outputs": [
    {
     "data": {
      "text/plain": [
       "array([0., 0., 0., 0.])"
      ]
     },
     "execution_count": 20,
     "metadata": {},
     "output_type": "execute_result"
    }
   ],
   "source": [
    "zeros = np.zeros(shape=(4, ))  # 1D Array\n",
    "zeros"
   ]
  },
  {
   "cell_type": "code",
   "execution_count": 21,
   "id": "be79e754",
   "metadata": {},
   "outputs": [
    {
     "data": {
      "text/plain": [
       "array([[0., 0., 0., 0., 0.],\n",
       "       [0., 0., 0., 0., 0.],\n",
       "       [0., 0., 0., 0., 0.],\n",
       "       [0., 0., 0., 0., 0.]])"
      ]
     },
     "execution_count": 21,
     "metadata": {},
     "output_type": "execute_result"
    }
   ],
   "source": [
    "zeros = np.zeros(shape=(4, 5))  # 2D Array\n",
    "zeros"
   ]
  },
  {
   "cell_type": "markdown",
   "id": "cefa9252",
   "metadata": {},
   "source": [
    "_`Numpy Array of Ones`_\n"
   ]
  },
  {
   "cell_type": "code",
   "execution_count": 22,
   "id": "e1a52e84",
   "metadata": {},
   "outputs": [
    {
     "data": {
      "text/plain": [
       "array([1., 1., 1., 1., 1., 1., 1.])"
      ]
     },
     "execution_count": 22,
     "metadata": {},
     "output_type": "execute_result"
    }
   ],
   "source": [
    "ones = np.ones(7)\n",
    "ones"
   ]
  },
  {
   "cell_type": "code",
   "execution_count": 23,
   "id": "1dd0d11d",
   "metadata": {},
   "outputs": [
    {
     "data": {
      "text/plain": [
       "array([[1., 1., 1., 1., 1.],\n",
       "       [1., 1., 1., 1., 1.]])"
      ]
     },
     "execution_count": 23,
     "metadata": {},
     "output_type": "execute_result"
    }
   ],
   "source": [
    "ones = np.ones((2, 5))\n",
    "ones"
   ]
  },
  {
   "cell_type": "markdown",
   "id": "907aca9e",
   "metadata": {},
   "source": [
    "_`Numpy Array of a Filled Value`_\n"
   ]
  },
  {
   "cell_type": "code",
   "execution_count": 24,
   "id": "9dcafc5e",
   "metadata": {},
   "outputs": [
    {
     "data": {
      "text/plain": [
       "array([7, 7, 7])"
      ]
     },
     "execution_count": 24,
     "metadata": {},
     "output_type": "execute_result"
    }
   ],
   "source": [
    "full = np.full(shape=(3), fill_value=7)\n",
    "full"
   ]
  },
  {
   "cell_type": "code",
   "execution_count": 25,
   "id": "b0b8779b",
   "metadata": {},
   "outputs": [
    {
     "data": {
      "text/plain": [
       "array([[7, 7, 7, 7],\n",
       "       [7, 7, 7, 7],\n",
       "       [7, 7, 7, 7]])"
      ]
     },
     "execution_count": 25,
     "metadata": {},
     "output_type": "execute_result"
    }
   ],
   "source": [
    "full = np.full(shape=(3, 4), fill_value=7)\n",
    "full"
   ]
  },
  {
   "cell_type": "markdown",
   "id": "cf28f01d",
   "metadata": {},
   "source": [
    "_`Numpy Array of a Range of Values` 1D Vector_\n"
   ]
  },
  {
   "cell_type": "code",
   "execution_count": 26,
   "id": "31efbc4b",
   "metadata": {},
   "outputs": [
    {
     "data": {
      "text/plain": [
       "array([ 4,  6,  8, 10, 12, 14, 16, 18, 20])"
      ]
     },
     "execution_count": 26,
     "metadata": {},
     "output_type": "execute_result"
    }
   ],
   "source": [
    "rng = np.arange(start=4, stop=21, step=2)\n",
    "rng"
   ]
  },
  {
   "cell_type": "markdown",
   "id": "2b271d16",
   "metadata": {},
   "source": [
    "_stop is exclusive and start is inclusive_\n"
   ]
  },
  {
   "cell_type": "code",
   "execution_count": 27,
   "id": "d7d2085a",
   "metadata": {},
   "outputs": [
    {
     "data": {
      "text/plain": [
       "array([0, 1, 2, 3, 4, 5, 6, 7, 8, 9])"
      ]
     },
     "execution_count": 27,
     "metadata": {},
     "output_type": "execute_result"
    }
   ],
   "source": [
    "np.arange(10)"
   ]
  },
  {
   "cell_type": "markdown",
   "id": "73294429",
   "metadata": {},
   "source": [
    "_`Numpy Array of a Concatenation of Values`_ -> Join a sequence of arrays along an existing axis."
   ]
  },
  {
   "cell_type": "code",
   "execution_count": 32,
   "id": "d736ba90",
   "metadata": {},
   "outputs": [
    {
     "name": "stdout",
     "output_type": "stream",
     "text": [
      "[1. 1. 1.]\n",
      "[0. 0.]\n"
     ]
    },
    {
     "data": {
      "text/plain": [
       "array([1., 1., 1., 0., 0.])"
      ]
     },
     "execution_count": 32,
     "metadata": {},
     "output_type": "execute_result"
    }
   ],
   "source": [
    "A = np.ones((3, ))\n",
    "B = np.zeros((2, ))\n",
    "print(A)\n",
    "print(B)\n",
    "\n",
    "np.concatenate([A, B]) # A & B Must be in the Same Dimension (1D OR 2D OR .....)"
   ]
  },
  {
   "cell_type": "code",
   "execution_count": null,
   "id": "396f27b6",
   "metadata": {},
   "outputs": [
    {
     "name": "stdout",
     "output_type": "stream",
     "text": [
      "[[1. 1. 1. 1.]\n",
      " [1. 1. 1. 1.]\n",
      " [1. 1. 1. 1.]]\n",
      "[[0. 0. 0. 0.]\n",
      " [0. 0. 0. 0.]]\n"
     ]
    },
    {
     "data": {
      "text/plain": [
       "array([[1., 1., 1., 1.],\n",
       "       [1., 1., 1., 1.],\n",
       "       [1., 1., 1., 1.],\n",
       "       [0., 0., 0., 0.],\n",
       "       [0., 0., 0., 0.]])"
      ]
     },
     "execution_count": 39,
     "metadata": {},
     "output_type": "execute_result"
    }
   ],
   "source": [
    "A = np.ones((3, 4))\n",
    "B = np.zeros((2, 4))\n",
    "print(A)\n",
    "print(B)\n",
    "\n",
    "# A & B Must be in the Same Dimension (1D OR 2D OR .....) & The same Number of Columns\n",
    "np.concatenate([A, B], axis=0)      # axis = 0 (Default) -> Place rows under one anthore."
   ]
  },
  {
   "cell_type": "code",
   "execution_count": null,
   "id": "0c9965e3",
   "metadata": {},
   "outputs": [
    {
     "name": "stdout",
     "output_type": "stream",
     "text": [
      "[[1.]\n",
      " [1.]\n",
      " [1.]\n",
      " [1.]]\n",
      "[[0. 0.]\n",
      " [0. 0.]\n",
      " [0. 0.]\n",
      " [0. 0.]]\n"
     ]
    },
    {
     "data": {
      "text/plain": [
       "array([[1., 0., 0.],\n",
       "       [1., 0., 0.],\n",
       "       [1., 0., 0.],\n",
       "       [1., 0., 0.]])"
      ]
     },
     "execution_count": 38,
     "metadata": {},
     "output_type": "execute_result"
    }
   ],
   "source": [
    "A = np.ones((4, 1))\n",
    "B = np.zeros((4, 2))\n",
    "print(A)\n",
    "print(B)\n",
    "\n",
    "# A & B Must be in the Same Dimension (1D OR 2D OR .....) & The same Number of Rows\n",
    "np.concatenate([A, B], axis=1)      # Place Columns beside one anthor"
   ]
  },
  {
   "cell_type": "markdown",
   "id": "7262e330",
   "metadata": {},
   "source": [
    "_`np.astype(DataType)`_ -> Used for changing the type of an array."
   ]
  },
  {
   "cell_type": "code",
   "execution_count": 40,
   "id": "9e5f4acd",
   "metadata": {},
   "outputs": [
    {
     "data": {
      "text/plain": [
       "array([10, 12,  3, 50], dtype=int32)"
      ]
     },
     "execution_count": 40,
     "metadata": {},
     "output_type": "execute_result"
    }
   ],
   "source": [
    "A = np.array([10.65, 12.4, 3.14, 50.0])\n",
    "\n",
    "A.astype(np.int32)"
   ]
  },
  {
   "cell_type": "code",
   "execution_count": 41,
   "id": "4e3724b2",
   "metadata": {},
   "outputs": [
    {
     "data": {
      "text/plain": [
       "array(['10.65', '12.4', '3.14', '50.0'], dtype='<U32')"
      ]
     },
     "execution_count": 41,
     "metadata": {},
     "output_type": "execute_result"
    }
   ],
   "source": [
    "A.astype(str)"
   ]
  },
  {
   "cell_type": "markdown",
   "id": "4f9b631c",
   "metadata": {},
   "source": [
    "_`np.full_like, np.zeros_like & np.ones_like`_\n"
   ]
  },
  {
   "cell_type": "code",
   "execution_count": 45,
   "id": "e030ef3d",
   "metadata": {},
   "outputs": [
    {
     "data": {
      "text/plain": [
       "array([[0, 0, 0],\n",
       "       [0, 0, 0]])"
      ]
     },
     "execution_count": 45,
     "metadata": {},
     "output_type": "execute_result"
    }
   ],
   "source": [
    "A = np.array([[1, 2, 3], [4, 5, 6]])\n",
    "\n",
    "# Return an array of zeros with the same shape and type as a given array.\n",
    "np.zeros_like(A)"
   ]
  },
  {
   "cell_type": "code",
   "execution_count": 46,
   "id": "836f8e70",
   "metadata": {},
   "outputs": [
    {
     "data": {
      "text/plain": [
       "array([[0., 0., 0.],\n",
       "       [0., 0., 0.]], dtype=float32)"
      ]
     },
     "execution_count": 46,
     "metadata": {},
     "output_type": "execute_result"
    }
   ],
   "source": [
    "np.zeros_like(A, dtype=np.float32)"
   ]
  },
  {
   "cell_type": "code",
   "execution_count": 47,
   "id": "e598a439",
   "metadata": {},
   "outputs": [
    {
     "data": {
      "text/plain": [
       "array([[10., 10., 10.],\n",
       "       [10., 10., 10.]], dtype=float32)"
      ]
     },
     "execution_count": 47,
     "metadata": {},
     "output_type": "execute_result"
    }
   ],
   "source": [
    "np.full_like(A, fill_value=10, dtype=np.float32)    # Return a full array with the same shape and type as a given array."
   ]
  },
  {
   "cell_type": "code",
   "execution_count": 48,
   "id": "f08466ef",
   "metadata": {},
   "outputs": [
    {
     "data": {
      "text/plain": [
       "array([[1., 1., 1.],\n",
       "       [1., 1., 1.]], dtype=float32)"
      ]
     },
     "execution_count": 48,
     "metadata": {},
     "output_type": "execute_result"
    }
   ],
   "source": [
    "# Return a full array with the same shape and type as a given array.\n",
    "np.ones_like(A, dtype=np.float32)"
   ]
  },
  {
   "cell_type": "markdown",
   "id": "de81554d",
   "metadata": {},
   "source": [
    "_`Random Generators`_\n"
   ]
  },
  {
   "cell_type": "code",
   "execution_count": 49,
   "id": "30172976",
   "metadata": {},
   "outputs": [
    {
     "data": {
      "text/plain": [
       "6"
      ]
     },
     "execution_count": 49,
     "metadata": {},
     "output_type": "execute_result"
    }
   ],
   "source": [
    "np.random.randint(low=4, high=12)"
   ]
  },
  {
   "cell_type": "code",
   "execution_count": 50,
   "id": "356f8dc2",
   "metadata": {},
   "outputs": [
    {
     "data": {
      "text/plain": [
       "array([[ 6, 10],\n",
       "       [ 6,  5],\n",
       "       [ 8,  6]], dtype=int32)"
      ]
     },
     "execution_count": 50,
     "metadata": {},
     "output_type": "execute_result"
    }
   ],
   "source": [
    "np.random.randint(low=4, high=12, size=(3, 2))"
   ]
  },
  {
   "cell_type": "code",
   "execution_count": 51,
   "id": "fb2daea5",
   "metadata": {},
   "outputs": [
    {
     "data": {
      "text/plain": [
       "array([ 9,  5, 10,  4,  9, 10], dtype=int32)"
      ]
     },
     "execution_count": 51,
     "metadata": {},
     "output_type": "execute_result"
    }
   ],
   "source": [
    "np.random.randint(low=4, high=12, size=(6))"
   ]
  },
  {
   "cell_type": "code",
   "execution_count": null,
   "id": "aacf0eb2",
   "metadata": {},
   "outputs": [
    {
     "data": {
      "text/plain": [
       "array([[0.80613415, 0.33463411, 0.2492229 , 0.08166855],\n",
       "       [0.62388622, 0.18124365, 0.03670392, 0.2076529 ],\n",
       "       [0.52046582, 0.41768284, 0.4995326 , 0.90119993],\n",
       "       [0.94610397, 0.57648887, 0.87341401, 0.03298906],\n",
       "       [0.4204742 , 0.70021066, 0.7100296 , 0.10893892]])"
      ]
     },
     "execution_count": 55,
     "metadata": {},
     "output_type": "execute_result"
    }
   ],
   "source": [
    "np.random.random((5, 4))    # Generate Float Numbers between 0 & 1 "
   ]
  },
  {
   "cell_type": "code",
   "execution_count": null,
   "id": "1e88a76a",
   "metadata": {},
   "outputs": [
    {
     "data": {
      "text/plain": [
       "array([[-0.66922214, -0.06628822,  0.27286319, -2.47280629],\n",
       "       [-0.46779387, -1.1770464 ,  2.53964768, -1.56309278]])"
      ]
     },
     "execution_count": 57,
     "metadata": {},
     "output_type": "execute_result"
    }
   ],
   "source": [
    "np.random.randn(2, 4)       # Normal Distribution"
   ]
  },
  {
   "cell_type": "markdown",
   "id": "5a029557",
   "metadata": {},
   "source": [
    "- _`Indexing`_\n",
    "  - _Positive_\n",
    "  - _Negative_\n"
   ]
  },
  {
   "cell_type": "markdown",
   "id": "b5a31898",
   "metadata": {},
   "source": [
    "_You can Create a Numpy Array From List or Tuple_\n"
   ]
  },
  {
   "cell_type": "code",
   "execution_count": 58,
   "id": "dc66df75",
   "metadata": {},
   "outputs": [
    {
     "data": {
      "text/plain": [
       "array([ 10,  20, -10, -23,  10,  23])"
      ]
     },
     "execution_count": 58,
     "metadata": {},
     "output_type": "execute_result"
    }
   ],
   "source": [
    "arr = np.array((10, 20, -10, -23, 10, 23))\n",
    "arr"
   ]
  },
  {
   "cell_type": "code",
   "execution_count": 59,
   "metadata": {},
   "outputs": [
    {
     "data": {
      "text/plain": [
       "np.int64(10)"
      ]
     },
     "execution_count": 59,
     "metadata": {},
     "output_type": "execute_result"
    }
   ],
   "source": [
    "# 1st-element\n",
    "arr[0]"
   ]
  },
  {
   "cell_type": "code",
   "execution_count": 60,
   "metadata": {},
   "outputs": [
    {
     "data": {
      "text/plain": [
       "np.int64(23)"
      ]
     },
     "execution_count": 60,
     "metadata": {},
     "output_type": "execute_result"
    }
   ],
   "source": [
    "# last element\n",
    "arr[-1]"
   ]
  },
  {
   "cell_type": "code",
   "execution_count": 61,
   "id": "5fae8739",
   "metadata": {},
   "outputs": [
    {
     "data": {
      "text/plain": [
       "np.int64(-10)"
      ]
     },
     "execution_count": 61,
     "metadata": {},
     "output_type": "execute_result"
    }
   ],
   "source": [
    "arr[2]"
   ]
  },
  {
   "cell_type": "code",
   "execution_count": 62,
   "id": "e4374918",
   "metadata": {},
   "outputs": [
    {
     "data": {
      "text/plain": [
       "array([ 10,  20, 100, -23,  10,  23])"
      ]
     },
     "execution_count": 62,
     "metadata": {},
     "output_type": "execute_result"
    }
   ],
   "source": [
    "arr[2] = 100\n",
    "arr"
   ]
  },
  {
   "cell_type": "code",
   "execution_count": 63,
   "id": "b92cf6b2",
   "metadata": {},
   "outputs": [
    {
     "ename": "IndexError",
     "evalue": "index 10 is out of bounds for axis 0 with size 6",
     "output_type": "error",
     "traceback": [
      "\u001b[1;31m---------------------------------------------------------------------------\u001b[0m",
      "\u001b[1;31mIndexError\u001b[0m                                Traceback (most recent call last)",
      "Cell \u001b[1;32mIn[63], line 1\u001b[0m\n\u001b[1;32m----> 1\u001b[0m arr[\u001b[38;5;241m10\u001b[39m]\n",
      "\u001b[1;31mIndexError\u001b[0m: index 10 is out of bounds for axis 0 with size 6"
     ]
    }
   ],
   "source": [
    "arr[10]"
   ]
  },
  {
   "cell_type": "code",
   "execution_count": 64,
   "id": "1e3a5aa1",
   "metadata": {},
   "outputs": [
    {
     "data": {
      "text/plain": [
       "array([ 10,  20, 100, -23,  10,  23])"
      ]
     },
     "execution_count": 64,
     "metadata": {},
     "output_type": "execute_result"
    }
   ],
   "source": [
    "arr"
   ]
  },
  {
   "cell_type": "markdown",
   "id": "43664b29",
   "metadata": {},
   "source": [
    "_`To Select Multiple Elements by Indexing` [[_ ,_ , _]]_\n"
   ]
  },
  {
   "cell_type": "code",
   "execution_count": 65,
   "id": "c2a55e5c",
   "metadata": {},
   "outputs": [
    {
     "data": {
      "text/plain": [
       "array([10, 20, 10])"
      ]
     },
     "execution_count": 65,
     "metadata": {},
     "output_type": "execute_result"
    }
   ],
   "source": [
    "arr[[0, 1, 4]]"
   ]
  },
  {
   "cell_type": "markdown",
   "id": "065ecf7f",
   "metadata": {},
   "source": [
    "_Even if you repeat the index_\n"
   ]
  },
  {
   "cell_type": "code",
   "execution_count": 66,
   "id": "0d50ead2",
   "metadata": {},
   "outputs": [
    {
     "data": {
      "text/plain": [
       "array([10, 20, 10, 10])"
      ]
     },
     "execution_count": 66,
     "metadata": {},
     "output_type": "execute_result"
    }
   ],
   "source": [
    "arr[[0, 1, 4, 0]] "
   ]
  },
  {
   "cell_type": "code",
   "execution_count": 67,
   "id": "285e70c2",
   "metadata": {},
   "outputs": [
    {
     "data": {
      "text/plain": [
       "array([0., 0., 0.])"
      ]
     },
     "execution_count": 67,
     "metadata": {},
     "output_type": "execute_result"
    }
   ],
   "source": [
    "np.zeros(shape=3)  # Default : Float"
   ]
  },
  {
   "cell_type": "code",
   "execution_count": 68,
   "id": "d0d4e3a8",
   "metadata": {},
   "outputs": [
    {
     "data": {
      "text/plain": [
       "array([0, 0, 0])"
      ]
     },
     "execution_count": 68,
     "metadata": {},
     "output_type": "execute_result"
    }
   ],
   "source": [
    "np.zeros(shape=3, dtype=int)"
   ]
  },
  {
   "cell_type": "code",
   "execution_count": 69,
   "id": "beb14e19",
   "metadata": {},
   "outputs": [
    {
     "data": {
      "text/plain": [
       "array([10, 10, 10])"
      ]
     },
     "execution_count": 69,
     "metadata": {},
     "output_type": "execute_result"
    }
   ],
   "source": [
    "arr[np.zeros(shape=3, dtype=int)]"
   ]
  },
  {
   "cell_type": "markdown",
   "id": "f21e7ddf",
   "metadata": {},
   "source": [
    "_Same Thing with ones and full_\n"
   ]
  },
  {
   "cell_type": "code",
   "execution_count": 70,
   "id": "da4db091",
   "metadata": {},
   "outputs": [
    {
     "data": {
      "text/plain": [
       "array([1., 1., 1.])"
      ]
     },
     "execution_count": 70,
     "metadata": {},
     "output_type": "execute_result"
    }
   ],
   "source": [
    "np.ones(shape=(3))"
   ]
  },
  {
   "cell_type": "code",
   "execution_count": 71,
   "id": "c0b9e09b",
   "metadata": {},
   "outputs": [
    {
     "data": {
      "text/plain": [
       "array([1, 1, 1])"
      ]
     },
     "execution_count": 71,
     "metadata": {},
     "output_type": "execute_result"
    }
   ],
   "source": [
    "np.ones(shape=(3), dtype=int)"
   ]
  },
  {
   "cell_type": "code",
   "execution_count": 72,
   "id": "9ef5a1ba",
   "metadata": {},
   "outputs": [
    {
     "data": {
      "text/plain": [
       "array([20, 20, 20])"
      ]
     },
     "execution_count": 72,
     "metadata": {},
     "output_type": "execute_result"
    }
   ],
   "source": [
    "arr[np.ones(shape=(3), dtype=int)]"
   ]
  },
  {
   "cell_type": "code",
   "execution_count": 73,
   "id": "c89816e1",
   "metadata": {},
   "outputs": [
    {
     "data": {
      "text/plain": [
       "array([2, 2, 2])"
      ]
     },
     "execution_count": 73,
     "metadata": {},
     "output_type": "execute_result"
    }
   ],
   "source": [
    "np.full(shape=(3), fill_value=2)  # Defult : Integer"
   ]
  },
  {
   "cell_type": "code",
   "execution_count": 74,
   "id": "092d81df",
   "metadata": {},
   "outputs": [
    {
     "data": {
      "text/plain": [
       "array([2., 2., 2.])"
      ]
     },
     "execution_count": 74,
     "metadata": {},
     "output_type": "execute_result"
    }
   ],
   "source": [
    "np.full(shape=(3), fill_value=2, dtype=float)"
   ]
  },
  {
   "cell_type": "code",
   "execution_count": 75,
   "id": "809e3a7b",
   "metadata": {},
   "outputs": [
    {
     "data": {
      "text/plain": [
       "array([100, 100, 100])"
      ]
     },
     "execution_count": 75,
     "metadata": {},
     "output_type": "execute_result"
    }
   ],
   "source": [
    "arr[np.full(shape=(3), fill_value=2)]"
   ]
  },
  {
   "cell_type": "markdown",
   "id": "080c6257",
   "metadata": {},
   "source": [
    "_`Slicing: ` [Start: End: Step]_\n"
   ]
  },
  {
   "cell_type": "code",
   "execution_count": 76,
   "id": "46838089",
   "metadata": {},
   "outputs": [
    {
     "data": {
      "text/plain": [
       "array([100,  10])"
      ]
     },
     "execution_count": 76,
     "metadata": {},
     "output_type": "execute_result"
    }
   ],
   "source": [
    "arr[2:5:2]"
   ]
  },
  {
   "cell_type": "code",
   "execution_count": 77,
   "id": "17c89cf3",
   "metadata": {},
   "outputs": [
    {
     "data": {
      "text/plain": [
       "array([ 10, -23])"
      ]
     },
     "execution_count": 77,
     "metadata": {},
     "output_type": "execute_result"
    }
   ],
   "source": [
    "arr[::3]  # Start = 0 and End= Length - 1 (Default)"
   ]
  },
  {
   "cell_type": "code",
   "execution_count": 78,
   "id": "770da0a5",
   "metadata": {},
   "outputs": [
    {
     "data": {
      "text/plain": [
       "array([ 10,  20, 100, -23])"
      ]
     },
     "execution_count": 78,
     "metadata": {},
     "output_type": "execute_result"
    }
   ],
   "source": [
    "arr[:4]  # Step = 1 (Default)"
   ]
  },
  {
   "cell_type": "markdown",
   "id": "81a089fe",
   "metadata": {},
   "source": [
    "_Tricky_\n"
   ]
  },
  {
   "cell_type": "code",
   "execution_count": 79,
   "id": "919c1289",
   "metadata": {},
   "outputs": [
    {
     "data": {
      "text/plain": [
       "array([-20,  12,  19, -23,  10,  23])"
      ]
     },
     "execution_count": 79,
     "metadata": {},
     "output_type": "execute_result"
    }
   ],
   "source": [
    "arr[[0, 1, 2]] = [-20, 12, 19]\n",
    "arr"
   ]
  },
  {
   "cell_type": "code",
   "execution_count": 80,
   "id": "fd57c441",
   "metadata": {},
   "outputs": [
    {
     "data": {
      "text/plain": [
       "array([  3,   2,  19, -23,  10,  23])"
      ]
     },
     "execution_count": 80,
     "metadata": {},
     "output_type": "execute_result"
    }
   ],
   "source": [
    "arr[[0, 1, 0]] = [1, 2, 3]  # Even if it is repeated\n",
    "arr"
   ]
  },
  {
   "cell_type": "markdown",
   "id": "3adc5c6f",
   "metadata": {},
   "source": [
    "_`Indexing & Slicing on Multidimensional Array` [Row, Column]_\n"
   ]
  },
  {
   "cell_type": "code",
   "execution_count": 81,
   "id": "5629e778",
   "metadata": {},
   "outputs": [
    {
     "data": {
      "text/plain": [
       "array([[ 1,  2,  3],\n",
       "       [ 7,  8,  9],\n",
       "       [-1,  2, 10]])"
      ]
     },
     "execution_count": 81,
     "metadata": {},
     "output_type": "execute_result"
    }
   ],
   "source": [
    "arr = np.array([[1, 2, 3],\n",
    "                [7, 8, 9],\n",
    "                [-1, 2, 10]])\n",
    "arr"
   ]
  },
  {
   "cell_type": "code",
   "execution_count": 82,
   "id": "7d38b4ce",
   "metadata": {},
   "outputs": [
    {
     "data": {
      "text/plain": [
       "array([1, 2, 3])"
      ]
     },
     "execution_count": 82,
     "metadata": {},
     "output_type": "execute_result"
    }
   ],
   "source": [
    "arr[0]  # Row 0"
   ]
  },
  {
   "cell_type": "code",
   "execution_count": 83,
   "id": "955d8b58",
   "metadata": {},
   "outputs": [
    {
     "data": {
      "text/plain": [
       "array([7, 8, 9])"
      ]
     },
     "execution_count": 83,
     "metadata": {},
     "output_type": "execute_result"
    }
   ],
   "source": [
    "arr[1]  # Row 1"
   ]
  },
  {
   "cell_type": "code",
   "execution_count": 84,
   "id": "c5c1bea3",
   "metadata": {},
   "outputs": [
    {
     "data": {
      "text/plain": [
       "array([-1,  2, 10])"
      ]
     },
     "execution_count": 84,
     "metadata": {},
     "output_type": "execute_result"
    }
   ],
   "source": [
    "arr[2]  # Row 2"
   ]
  },
  {
   "cell_type": "code",
   "execution_count": 85,
   "id": "ef6ec3d8",
   "metadata": {},
   "outputs": [
    {
     "data": {
      "text/plain": [
       "array([ 1,  7, -1])"
      ]
     },
     "execution_count": 85,
     "metadata": {},
     "output_type": "execute_result"
    }
   ],
   "source": [
    "arr[:, 0]  # All Rows and Column 0"
   ]
  },
  {
   "cell_type": "code",
   "execution_count": 86,
   "id": "d97d35a8",
   "metadata": {},
   "outputs": [
    {
     "data": {
      "text/plain": [
       "array([2, 8, 2])"
      ]
     },
     "execution_count": 86,
     "metadata": {},
     "output_type": "execute_result"
    }
   ],
   "source": [
    "arr[:, 1]  # All Rows and Column 1"
   ]
  },
  {
   "cell_type": "code",
   "execution_count": 87,
   "id": "e277b2d4",
   "metadata": {},
   "outputs": [
    {
     "data": {
      "text/plain": [
       "array([ 3,  9, 10])"
      ]
     },
     "execution_count": 87,
     "metadata": {},
     "output_type": "execute_result"
    }
   ],
   "source": [
    "arr[:, 2]  # All Rows and Column 2"
   ]
  },
  {
   "cell_type": "code",
   "execution_count": 88,
   "id": "ea7b1796",
   "metadata": {},
   "outputs": [
    {
     "data": {
      "text/plain": [
       "array([[ 1,  2,  3],\n",
       "       [ 7,  8,  9],\n",
       "       [-1,  2, 10]])"
      ]
     },
     "execution_count": 88,
     "metadata": {},
     "output_type": "execute_result"
    }
   ],
   "source": [
    "arr[:, :]  # All Array Values"
   ]
  },
  {
   "cell_type": "code",
   "execution_count": 89,
   "id": "77b16d4d",
   "metadata": {},
   "outputs": [
    {
     "data": {
      "text/plain": [
       "array([[ 7,  8],\n",
       "       [-1,  2]])"
      ]
     },
     "execution_count": 89,
     "metadata": {},
     "output_type": "execute_result"
    }
   ],
   "source": [
    "arr[1:, 0:2]"
   ]
  },
  {
   "cell_type": "code",
   "execution_count": 90,
   "id": "bdddeb70",
   "metadata": {},
   "outputs": [
    {
     "data": {
      "text/plain": [
       "array([[ 1,  2,  3],\n",
       "       [ 1,  2,  9],\n",
       "       [ 3,  4, 10]])"
      ]
     },
     "execution_count": 90,
     "metadata": {},
     "output_type": "execute_result"
    }
   ],
   "source": [
    "arr[1:, 0:2] = [[1, 2], [3, 4]]\n",
    "\n",
    "arr"
   ]
  },
  {
   "cell_type": "code",
   "execution_count": 91,
   "id": "f7be44e7",
   "metadata": {},
   "outputs": [
    {
     "data": {
      "text/plain": [
       "array([[10,  2,  3],\n",
       "       [ 1, 20,  9],\n",
       "       [ 3,  4, 30]])"
      ]
     },
     "execution_count": 91,
     "metadata": {},
     "output_type": "execute_result"
    }
   ],
   "source": [
    "# (0, 0) & (1, 1) & (2, 2) -> Diagnoal Part\n",
    "arr[[0, 1, 2], [0, 1, 2]] = [10, 20, 30]\n",
    "arr"
   ]
  },
  {
   "cell_type": "code",
   "execution_count": 92,
   "id": "548026d0",
   "metadata": {},
   "outputs": [
    {
     "data": {
      "text/plain": [
       "array([[10, 20,  3],\n",
       "       [ 1, 20,  9],\n",
       "       [ 3,  4, 30]])"
      ]
     },
     "execution_count": 92,
     "metadata": {},
     "output_type": "execute_result"
    }
   ],
   "source": [
    "arr[0, 1] = 20\n",
    "arr"
   ]
  },
  {
   "cell_type": "markdown",
   "id": "e3cb4371",
   "metadata": {},
   "source": [
    "### *`Shaping`* \n",
    " 1. Total number of elements cannot change.\n",
    " 2. Use -1 to infer axis shape\n",
    " 3. Row-major by default (MATLAB is column-major)"
   ]
  },
  {
   "cell_type": "code",
   "execution_count": 93,
   "id": "7495d3e4",
   "metadata": {},
   "outputs": [
    {
     "data": {
      "text/plain": [
       "array([1, 2, 3, 4, 5, 6])"
      ]
     },
     "execution_count": 93,
     "metadata": {},
     "output_type": "execute_result"
    }
   ],
   "source": [
    "a = np.array([1,2,3,4,5,6])\n",
    "a"
   ]
  },
  {
   "cell_type": "code",
   "execution_count": 94,
   "id": "7bf15267",
   "metadata": {},
   "outputs": [
    {
     "data": {
      "text/plain": [
       "6"
      ]
     },
     "execution_count": 94,
     "metadata": {},
     "output_type": "execute_result"
    }
   ],
   "source": [
    "a.size"
   ]
  },
  {
   "cell_type": "code",
   "execution_count": 95,
   "id": "ff758910",
   "metadata": {},
   "outputs": [
    {
     "data": {
      "text/plain": [
       "array([[1, 2, 3],\n",
       "       [4, 5, 6]])"
      ]
     },
     "execution_count": 95,
     "metadata": {},
     "output_type": "execute_result"
    }
   ],
   "source": [
    "a.reshape(2, 3)"
   ]
  },
  {
   "cell_type": "code",
   "execution_count": 96,
   "id": "09f0edaf",
   "metadata": {},
   "outputs": [
    {
     "data": {
      "text/plain": [
       "array([[1, 2],\n",
       "       [3, 4],\n",
       "       [5, 6]])"
      ]
     },
     "execution_count": 96,
     "metadata": {},
     "output_type": "execute_result"
    }
   ],
   "source": [
    "a.reshape(3, 2)"
   ]
  },
  {
   "cell_type": "code",
   "execution_count": 97,
   "id": "cc035922",
   "metadata": {},
   "outputs": [
    {
     "data": {
      "text/plain": [
       "array([[1, 2, 3, 4, 5, 6]])"
      ]
     },
     "execution_count": 97,
     "metadata": {},
     "output_type": "execute_result"
    }
   ],
   "source": [
    "a.reshape(1, 6)"
   ]
  },
  {
   "cell_type": "code",
   "execution_count": 98,
   "id": "b921277a",
   "metadata": {},
   "outputs": [
    {
     "data": {
      "text/plain": [
       "array([[1],\n",
       "       [2],\n",
       "       [3],\n",
       "       [4],\n",
       "       [5],\n",
       "       [6]])"
      ]
     },
     "execution_count": 98,
     "metadata": {},
     "output_type": "execute_result"
    }
   ],
   "source": [
    "a.reshape(6, 1)"
   ]
  },
  {
   "cell_type": "markdown",
   "id": "8b88bf08",
   "metadata": {},
   "source": [
    "*`The size must be the same of the original array size`*"
   ]
  },
  {
   "cell_type": "code",
   "execution_count": 99,
   "id": "ff3c136a",
   "metadata": {},
   "outputs": [
    {
     "data": {
      "text/plain": [
       "array([[1, 2, 3],\n",
       "       [4, 5, 6]])"
      ]
     },
     "execution_count": 99,
     "metadata": {},
     "output_type": "execute_result"
    }
   ],
   "source": [
    "a.reshape(2, -1)"
   ]
  },
  {
   "cell_type": "markdown",
   "id": "b5d80ecb",
   "metadata": {},
   "source": [
    "*` -1 : Means with the Row = 2, Find the Appropriate number of Columns`*"
   ]
  },
  {
   "cell_type": "code",
   "execution_count": 101,
   "id": "5ecec3a3",
   "metadata": {},
   "outputs": [
    {
     "data": {
      "text/plain": [
       "array([[1, 2],\n",
       "       [3, 4],\n",
       "       [5, 6]])"
      ]
     },
     "execution_count": 101,
     "metadata": {},
     "output_type": "execute_result"
    }
   ],
   "source": [
    "a.reshape(-1, 2)"
   ]
  },
  {
   "cell_type": "markdown",
   "id": "4d62e292",
   "metadata": {},
   "source": [
    "*` -1 : Means with the Column = 2, Find the Appropriate number of Rows`*"
   ]
  },
  {
   "cell_type": "markdown",
   "id": "37dc7baf",
   "metadata": {},
   "source": [
    "*`Convert any Dimension to 1D Vector`*"
   ]
  },
  {
   "cell_type": "code",
   "execution_count": 104,
   "id": "f18e93a0",
   "metadata": {},
   "outputs": [
    {
     "data": {
      "text/plain": [
       "array([1, 2, 3, 4, 5, 6])"
      ]
     },
     "execution_count": 104,
     "metadata": {},
     "output_type": "execute_result"
    }
   ],
   "source": [
    "a.ravel()"
   ]
  },
  {
   "cell_type": "code",
   "execution_count": 105,
   "id": "91d06a52",
   "metadata": {},
   "outputs": [
    {
     "data": {
      "text/plain": [
       "array([1, 2, 3, 4, 5, 6])"
      ]
     },
     "execution_count": 105,
     "metadata": {},
     "output_type": "execute_result"
    }
   ],
   "source": [
    "a.flatten()"
   ]
  },
  {
   "cell_type": "markdown",
   "id": "2e398659",
   "metadata": {},
   "source": [
    "### *`Views & Copies`*\n",
    " - Views share data with the original array, like references in Java/C++. Altering entries of a view, changes the same entries in the original.\n",
    " - np.copy, np.view make explicit copies and views."
   ]
  },
  {
   "cell_type": "code",
   "execution_count": 125,
   "id": "a628645c",
   "metadata": {},
   "outputs": [
    {
     "data": {
      "text/plain": [
       "array([[1., 2., 3.],\n",
       "       [4., 5., 6.]])"
      ]
     },
     "execution_count": 125,
     "metadata": {},
     "output_type": "execute_result"
    }
   ],
   "source": [
    "A = np.array([[1, 2, 3],\n",
    "                [4, 5, 6]], dtype=float)\n",
    "A"
   ]
  },
  {
   "cell_type": "code",
   "execution_count": 126,
   "id": "80faf695",
   "metadata": {},
   "outputs": [
    {
     "name": "stdout",
     "output_type": "stream",
     "text": [
      "[[1. 2. 3.]\n",
      " [4. 5. 6.]]\n",
      "[[22.  2.  3.]\n",
      " [ 4.  5.  6.]]\n",
      "[[1. 2. 3.]\n",
      " [4. 5. 6.]]\n"
     ]
    }
   ],
   "source": [
    "B = np.copy(A)      # Doesnot affect the original.\n",
    "print(B)\n",
    "\n",
    "B[0][0] = 22\n",
    "print(B)\n",
    "print(A)"
   ]
  },
  {
   "cell_type": "code",
   "execution_count": 127,
   "id": "6c9b6515",
   "metadata": {},
   "outputs": [
    {
     "name": "stdout",
     "output_type": "stream",
     "text": [
      "[[1. 2. 3.]\n",
      " [4. 5. 6.]]\n",
      "[[22.  2.  3.]\n",
      " [ 4.  5.  6.]]\n",
      "[[22.  2.  3.]\n",
      " [ 4.  5.  6.]]\n"
     ]
    }
   ],
   "source": [
    "B = A.view()      # Affect the original.\n",
    "print(B)\n",
    "\n",
    "B[0][0] = 22\n",
    "print(B)\n",
    "print(A)"
   ]
  },
  {
   "cell_type": "markdown",
   "id": "6296ac2c",
   "metadata": {},
   "source": [
    "### *`Transposition`*\n",
    "- np.transpose permutes axes.\n",
    "- a.T transposes the first two axes."
   ]
  },
  {
   "cell_type": "code",
   "execution_count": 128,
   "id": "247ba710",
   "metadata": {},
   "outputs": [
    {
     "data": {
      "text/plain": [
       "array([[22.,  2.,  3.],\n",
       "       [ 4.,  5.,  6.]])"
      ]
     },
     "execution_count": 128,
     "metadata": {},
     "output_type": "execute_result"
    }
   ],
   "source": [
    "A"
   ]
  },
  {
   "cell_type": "code",
   "execution_count": 129,
   "id": "f94e789b",
   "metadata": {},
   "outputs": [
    {
     "name": "stdout",
     "output_type": "stream",
     "text": [
      "[[22.  4.]\n",
      " [ 2.  5.]\n",
      " [ 3.  6.]]\n",
      "[[22.  4.]\n",
      " [ 2.  5.]\n",
      " [ 3.  6.]]\n"
     ]
    }
   ],
   "source": [
    "a = A.T\n",
    "print(a)\n",
    "\n",
    "a = A.transpose((1,0))\n",
    "print(a)"
   ]
  },
  {
   "cell_type": "markdown",
   "id": "34947831",
   "metadata": {},
   "source": [
    "_`Math Operations on Arrays`_\n"
   ]
  },
  {
   "cell_type": "code",
   "execution_count": 106,
   "id": "cc7404c8",
   "metadata": {},
   "outputs": [],
   "source": [
    "arr1 = np.array([[1, 2], [3, 4]])\n",
    "arr2 = np.array([[5, 6], [7, 8]])"
   ]
  },
  {
   "cell_type": "markdown",
   "id": "4989188b",
   "metadata": {},
   "source": [
    "_Element-Wise Operation_\n"
   ]
  },
  {
   "cell_type": "code",
   "execution_count": 107,
   "id": "fb4cab1b",
   "metadata": {},
   "outputs": [
    {
     "data": {
      "text/plain": [
       "array([[ 6,  8],\n",
       "       [10, 12]])"
      ]
     },
     "execution_count": 107,
     "metadata": {},
     "output_type": "execute_result"
    }
   ],
   "source": [
    "arr1 + arr2"
   ]
  },
  {
   "cell_type": "code",
   "execution_count": 108,
   "id": "ade2ca36",
   "metadata": {},
   "outputs": [
    {
     "data": {
      "text/plain": [
       "array([[4, 4],\n",
       "       [4, 4]])"
      ]
     },
     "execution_count": 108,
     "metadata": {},
     "output_type": "execute_result"
    }
   ],
   "source": [
    "arr2 - arr1"
   ]
  },
  {
   "cell_type": "code",
   "execution_count": 109,
   "id": "3f703d08",
   "metadata": {},
   "outputs": [
    {
     "data": {
      "text/plain": [
       "array([[ 5, 12],\n",
       "       [21, 32]])"
      ]
     },
     "execution_count": 109,
     "metadata": {},
     "output_type": "execute_result"
    }
   ],
   "source": [
    "arr1 * arr2"
   ]
  },
  {
   "cell_type": "code",
   "execution_count": 110,
   "id": "755f2cec",
   "metadata": {},
   "outputs": [
    {
     "data": {
      "text/plain": [
       "array([[5.        , 3.        ],\n",
       "       [2.33333333, 2.        ]])"
      ]
     },
     "execution_count": 110,
     "metadata": {},
     "output_type": "execute_result"
    }
   ],
   "source": [
    "arr2 / arr1"
   ]
  },
  {
   "cell_type": "code",
   "execution_count": 111,
   "id": "46c8f830",
   "metadata": {},
   "outputs": [
    {
     "data": {
      "text/plain": [
       "array([[19, 22],\n",
       "       [43, 50]])"
      ]
     },
     "execution_count": 111,
     "metadata": {},
     "output_type": "execute_result"
    }
   ],
   "source": [
    "# Matrix Multiplication\n",
    "arr1 @ arr2"
   ]
  },
  {
   "cell_type": "code",
   "execution_count": 112,
   "id": "cdedd6b9",
   "metadata": {},
   "outputs": [
    {
     "data": {
      "text/plain": [
       "array([[19, 22],\n",
       "       [43, 50]])"
      ]
     },
     "execution_count": 112,
     "metadata": {},
     "output_type": "execute_result"
    }
   ],
   "source": [
    "arr1.dot(arr2)"
   ]
  },
  {
   "cell_type": "markdown",
   "id": "18b7ff15",
   "metadata": {},
   "source": [
    "_`Challenge 1` With your high school reunion fast approaching, you decide to get in shape and lose some weight. You record you weight every day for five weeks starting on Monday. Given these daily weights, build an array with your average weight per weekend_\n"
   ]
  },
  {
   "cell_type": "code",
   "execution_count": 113,
   "id": "71d45c4c",
   "metadata": {},
   "outputs": [
    {
     "data": {
      "text/plain": [
       "array([185. , 184.8, 184.6, 184.4, 184.2, 184. , 183.8, 183.6, 183.4,\n",
       "       183.2, 183. , 182.8, 182.6, 182.4, 182.2, 182. , 181.8, 181.6,\n",
       "       181.4, 181.2, 181. , 180.8, 180.6, 180.4, 180.2, 180. , 179.8,\n",
       "       179.6, 179.4, 179.2, 179. , 178.8, 178.6, 178.4, 178.2])"
      ]
     },
     "execution_count": 113,
     "metadata": {},
     "output_type": "execute_result"
    }
   ],
   "source": [
    "daily_weight = 185 - np.arange(5*7) / 5\n",
    "daily_weight"
   ]
  },
  {
   "cell_type": "code",
   "execution_count": 114,
   "id": "3028e9c9",
   "metadata": {},
   "outputs": [
    {
     "data": {
      "text/plain": [
       "35"
      ]
     },
     "execution_count": 114,
     "metadata": {},
     "output_type": "execute_result"
    }
   ],
   "source": [
    "len(daily_weight)"
   ]
  },
  {
   "cell_type": "code",
   "execution_count": 117,
   "id": "3dad6c39",
   "metadata": {},
   "outputs": [
    {
     "data": {
      "text/plain": [
       "array([184.4, 183. , 181.6, 180.2, 178.8])"
      ]
     },
     "execution_count": 117,
     "metadata": {},
     "output_type": "execute_result"
    }
   ],
   "source": [
    "# weeks\n",
    "week1 = daily_weight[0:7]\n",
    "week2 = daily_weight[7:14]\n",
    "week3 = daily_weight[14:21]\n",
    "week4 = daily_weight[21:28]\n",
    "week5 = daily_weight[28:35]\n",
    "\n",
    "\n",
    "weeks = [week1, week2, week3, week4, week5]\n",
    "averages = []\n",
    "for week in weeks:\n",
    "    avg = sum(week) / len(week)\n",
    "    averages.append(avg)\n",
    "\n",
    "averages = np.array(averages)\n",
    "averages"
   ]
  },
  {
   "cell_type": "code",
   "execution_count": 168,
   "id": "60c6b5d7",
   "metadata": {},
   "outputs": [
    {
     "data": {
      "text/plain": [
       "array([183.9, 182.5, 181.1, 179.7, 178.3])"
      ]
     },
     "execution_count": 168,
     "metadata": {},
     "output_type": "execute_result"
    }
   ],
   "source": [
    "weekends = daily_weight[5::7]\n",
    "sundays = daily_weight[6::7]\n",
    "\n",
    "weekend_avg = (weekends + sundays) / 2\n",
    "weekend_avg"
   ]
  },
  {
   "cell_type": "markdown",
   "id": "a5583c25",
   "metadata": {},
   "source": [
    "30:00\n"
   ]
  },
  {
   "cell_type": "code",
   "execution_count": null,
   "id": "82562d3f",
   "metadata": {},
   "outputs": [],
   "source": []
  }
 ],
 "metadata": {
  "kernelspec": {
   "display_name": "base",
   "language": "python",
   "name": "python3"
  },
  "language_info": {
   "codemirror_mode": {
    "name": "ipython",
    "version": 3
   },
   "file_extension": ".py",
   "mimetype": "text/x-python",
   "name": "python",
   "nbconvert_exporter": "python",
   "pygments_lexer": "ipython3",
   "version": "3.13.5"
  }
 },
 "nbformat": 4,
 "nbformat_minor": 5
}
