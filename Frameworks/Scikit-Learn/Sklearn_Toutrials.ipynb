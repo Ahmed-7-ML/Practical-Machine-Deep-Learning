{
 "cells": [
  {
   "cell_type": "markdown",
   "id": "9db538ae",
   "metadata": {},
   "source": [
    "# Resources\n",
    "1. [AhmedYosry](https://drive.google.com/file/d/1zuldJgazY2wrtZBmmPkTUPW2h9SpiX0P/view)\n",
    "2. [Reference](https://drive.google.com/file/d/11yAYdDASuX2pglCm_BzyngFABRHHaN5b/view)\n",
    "\n",
    "https://www.youtube.com/watch?v=O1YXUDnEuB0&list=PLPBnj6azlABaNz3wcEj7SwFLeQ-nlHQaf"
   ]
  },
  {
   "cell_type": "markdown",
   "id": "0166de51",
   "metadata": {},
   "source": [
    "## Datasets in Sklearn"
   ]
  },
  {
   "cell_type": "code",
   "execution_count": null,
   "id": "941d4843",
   "metadata": {},
   "outputs": [],
   "source": []
  },
  {
   "cell_type": "code",
   "execution_count": null,
   "id": "83686d67",
   "metadata": {},
   "outputs": [],
   "source": []
  },
  {
   "cell_type": "code",
   "execution_count": null,
   "id": "68b40f09",
   "metadata": {},
   "outputs": [],
   "source": []
  },
  {
   "cell_type": "code",
   "execution_count": null,
   "id": "3222a32c",
   "metadata": {},
   "outputs": [],
   "source": []
  },
  {
   "cell_type": "code",
   "execution_count": null,
   "metadata": {},
   "outputs": [],
   "source": []
  },
  {
   "cell_type": "code",
   "execution_count": null,
   "id": "626cd5ff",
   "metadata": {},
   "outputs": [],
   "source": []
  },
  {
   "cell_type": "code",
   "execution_count": null,
   "metadata": {},
   "outputs": [],
   "source": []
  },
  {
   "cell_type": "code",
   "execution_count": null,
   "id": "bbae6668",
   "metadata": {},
   "outputs": [],
   "source": []
  }
 ],
 "metadata": {
  "language_info": {
   "name": "python"
  }
 },
 "nbformat": 4,
 "nbformat_minor": 5
}
