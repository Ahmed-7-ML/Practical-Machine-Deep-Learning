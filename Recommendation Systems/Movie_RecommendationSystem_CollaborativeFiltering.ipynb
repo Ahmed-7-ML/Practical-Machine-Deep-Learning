{
 "cells": [
  {
   "cell_type": "markdown",
   "id": "91679e01",
   "metadata": {},
   "source": [
    "## _Importing Libraries_\n"
   ]
  },
  {
   "cell_type": "code",
   "execution_count": 11,
   "id": "cd356aa6",
   "metadata": {},
   "outputs": [
    {
     "name": "stdout",
     "output_type": "stream",
     "text": [
      "Collecting matplotlib\n",
      "  Downloading matplotlib-3.10.5-cp310-cp310-win_amd64.whl.metadata (11 kB)\n",
      "Collecting seaborn\n",
      "  Using cached seaborn-0.13.2-py3-none-any.whl.metadata (5.4 kB)\n",
      "Requirement already satisfied: pandas in c:\\users\\mr\\anaconda3\\envs\\diabetes_env\\lib\\site-packages (2.3.2)\n",
      "Requirement already satisfied: numpy in c:\\users\\mr\\anaconda3\\envs\\diabetes_env\\lib\\site-packages (2.2.6)\n",
      "Requirement already satisfied: scipy in c:\\users\\mr\\anaconda3\\envs\\diabetes_env\\lib\\site-packages (1.15.3)\n",
      "Requirement already satisfied: scikit-learn in c:\\users\\mr\\anaconda3\\envs\\diabetes_env\\lib\\site-packages (1.7.1)\n",
      "Requirement already satisfied: implicit in c:\\users\\mr\\anaconda3\\envs\\diabetes_env\\lib\\site-packages (0.7.2)\n",
      "Collecting contourpy>=1.0.1 (from matplotlib)\n",
      "  Downloading contourpy-1.3.2-cp310-cp310-win_amd64.whl.metadata (5.5 kB)\n",
      "Collecting cycler>=0.10 (from matplotlib)\n",
      "  Using cached cycler-0.12.1-py3-none-any.whl.metadata (3.8 kB)\n",
      "Collecting fonttools>=4.22.0 (from matplotlib)\n",
      "  Downloading fonttools-4.59.2-cp310-cp310-win_amd64.whl.metadata (111 kB)\n",
      "Collecting kiwisolver>=1.3.1 (from matplotlib)\n",
      "  Downloading kiwisolver-1.4.9-cp310-cp310-win_amd64.whl.metadata (6.4 kB)\n",
      "Requirement already satisfied: packaging>=20.0 in c:\\users\\mr\\anaconda3\\envs\\diabetes_env\\lib\\site-packages (from matplotlib) (25.0)\n",
      "Collecting pillow>=8 (from matplotlib)\n",
      "  Downloading pillow-11.3.0-cp310-cp310-win_amd64.whl.metadata (9.2 kB)\n",
      "Collecting pyparsing>=2.3.1 (from matplotlib)\n",
      "  Downloading pyparsing-3.2.3-py3-none-any.whl.metadata (5.0 kB)\n",
      "Requirement already satisfied: python-dateutil>=2.7 in c:\\users\\mr\\anaconda3\\envs\\diabetes_env\\lib\\site-packages (from matplotlib) (2.9.0.post0)\n",
      "Requirement already satisfied: pytz>=2020.1 in c:\\users\\mr\\anaconda3\\envs\\diabetes_env\\lib\\site-packages (from pandas) (2025.2)\n",
      "Requirement already satisfied: tzdata>=2022.7 in c:\\users\\mr\\anaconda3\\envs\\diabetes_env\\lib\\site-packages (from pandas) (2025.2)\n",
      "Requirement already satisfied: joblib>=1.2.0 in c:\\users\\mr\\anaconda3\\envs\\diabetes_env\\lib\\site-packages (from scikit-learn) (1.5.2)\n",
      "Requirement already satisfied: threadpoolctl>=3.1.0 in c:\\users\\mr\\anaconda3\\envs\\diabetes_env\\lib\\site-packages (from scikit-learn) (3.6.0)\n",
      "Requirement already satisfied: tqdm>=4.27 in c:\\users\\mr\\anaconda3\\envs\\diabetes_env\\lib\\site-packages (from implicit) (4.67.1)\n",
      "Requirement already satisfied: six>=1.5 in c:\\users\\mr\\anaconda3\\envs\\diabetes_env\\lib\\site-packages (from python-dateutil>=2.7->matplotlib) (1.17.0)\n",
      "Requirement already satisfied: colorama in c:\\users\\mr\\anaconda3\\envs\\diabetes_env\\lib\\site-packages (from tqdm>=4.27->implicit) (0.4.6)\n",
      "Downloading matplotlib-3.10.5-cp310-cp310-win_amd64.whl (8.1 MB)\n",
      "   ---------------------------------------- 0.0/8.1 MB ? eta -:--:--\n",
      "   - -------------------------------------- 0.3/8.1 MB ? eta -:--:--\n",
      "   -- ------------------------------------- 0.5/8.1 MB 1.4 MB/s eta 0:00:06\n",
      "   ----- ---------------------------------- 1.0/8.1 MB 1.7 MB/s eta 0:00:05\n",
      "   ------ --------------------------------- 1.3/8.1 MB 1.7 MB/s eta 0:00:04\n",
      "   --------- ------------------------------ 1.8/8.1 MB 1.7 MB/s eta 0:00:04\n",
      "   ---------- ----------------------------- 2.1/8.1 MB 1.7 MB/s eta 0:00:04\n",
      "   ------------ --------------------------- 2.6/8.1 MB 1.8 MB/s eta 0:00:04\n",
      "   -------------- ------------------------- 2.9/8.1 MB 1.8 MB/s eta 0:00:03\n",
      "   ---------------- ----------------------- 3.4/8.1 MB 1.8 MB/s eta 0:00:03\n",
      "   ------------------- -------------------- 3.9/8.1 MB 1.8 MB/s eta 0:00:03\n",
      "   -------------------- ------------------- 4.2/8.1 MB 1.8 MB/s eta 0:00:03\n",
      "   ----------------------- ---------------- 4.7/8.1 MB 1.9 MB/s eta 0:00:02\n",
      "   ------------------------- -------------- 5.2/8.1 MB 1.9 MB/s eta 0:00:02\n",
      "   --------------------------- ------------ 5.5/8.1 MB 1.9 MB/s eta 0:00:02\n",
      "   ----------------------------- ---------- 6.0/8.1 MB 1.9 MB/s eta 0:00:02\n",
      "   ------------------------------- -------- 6.3/8.1 MB 1.9 MB/s eta 0:00:01\n",
      "   ------------------------------- -------- 6.3/8.1 MB 1.9 MB/s eta 0:00:01\n",
      "   ------------------------------------ --- 7.3/8.1 MB 1.9 MB/s eta 0:00:01\n",
      "   -------------------------------------- - 7.9/8.1 MB 1.9 MB/s eta 0:00:01\n",
      "   ---------------------------------------- 8.1/8.1 MB 1.9 MB/s eta 0:00:00\n",
      "Using cached seaborn-0.13.2-py3-none-any.whl (294 kB)\n",
      "Downloading contourpy-1.3.2-cp310-cp310-win_amd64.whl (221 kB)\n",
      "Using cached cycler-0.12.1-py3-none-any.whl (8.3 kB)\n",
      "Downloading fonttools-4.59.2-cp310-cp310-win_amd64.whl (2.3 MB)\n",
      "   ---------------------------------------- 0.0/2.3 MB ? eta -:--:--\n",
      "   ---- ----------------------------------- 0.3/2.3 MB ? eta -:--:--\n",
      "   --------- ------------------------------ 0.5/2.3 MB 1.9 MB/s eta 0:00:01\n",
      "   ------------- -------------------------- 0.8/2.3 MB 1.4 MB/s eta 0:00:02\n",
      "   ------------------ --------------------- 1.0/2.3 MB 1.2 MB/s eta 0:00:02\n",
      "   ----------------------- ---------------- 1.3/2.3 MB 1.4 MB/s eta 0:00:01\n",
      "   -------------------------------- ------- 1.8/2.3 MB 1.4 MB/s eta 0:00:01\n",
      "   ------------------------------------- -- 2.1/2.3 MB 1.4 MB/s eta 0:00:01\n",
      "   ---------------------------------------- 2.3/2.3 MB 1.5 MB/s eta 0:00:00\n",
      "Downloading kiwisolver-1.4.9-cp310-cp310-win_amd64.whl (73 kB)\n",
      "Downloading pillow-11.3.0-cp310-cp310-win_amd64.whl (7.0 MB)\n",
      "   ---------------------------------------- 0.0/7.0 MB ? eta -:--:--\n",
      "   - -------------------------------------- 0.3/7.0 MB ? eta -:--:--\n",
      "   --- ------------------------------------ 0.5/7.0 MB 1.1 MB/s eta 0:00:06\n",
      "   --- ------------------------------------ 0.5/7.0 MB 1.1 MB/s eta 0:00:06\n",
      "   ---- ----------------------------------- 0.8/7.0 MB 860.9 kB/s eta 0:00:08\n",
      "   ------- -------------------------------- 1.3/7.0 MB 1.3 MB/s eta 0:00:05\n",
      "   --------- ------------------------------ 1.6/7.0 MB 1.4 MB/s eta 0:00:04\n",
      "   ---------- ----------------------------- 1.8/7.0 MB 1.4 MB/s eta 0:00:04\n",
      "   ------------- -------------------------- 2.4/7.0 MB 1.4 MB/s eta 0:00:04\n",
      "   --------------- ------------------------ 2.6/7.0 MB 1.4 MB/s eta 0:00:04\n",
      "   ---------------- ----------------------- 2.9/7.0 MB 1.4 MB/s eta 0:00:03\n",
      "   ------------------ --------------------- 3.1/7.0 MB 1.4 MB/s eta 0:00:03\n",
      "   ------------------ --------------------- 3.1/7.0 MB 1.4 MB/s eta 0:00:03\n",
      "   ------------------ --------------------- 3.1/7.0 MB 1.4 MB/s eta 0:00:03\n",
      "   --------------------- ------------------ 3.7/7.0 MB 1.3 MB/s eta 0:00:03\n",
      "   ------------------------ --------------- 4.2/7.0 MB 1.3 MB/s eta 0:00:03\n",
      "   ------------------------- -------------- 4.5/7.0 MB 1.4 MB/s eta 0:00:02\n",
      "   ------------------------- -------------- 4.5/7.0 MB 1.4 MB/s eta 0:00:02\n",
      "   ---------------------------- ----------- 5.0/7.0 MB 1.3 MB/s eta 0:00:02\n",
      "   ------------------------------ --------- 5.2/7.0 MB 1.3 MB/s eta 0:00:02\n",
      "   --------------------------------- ------ 5.8/7.0 MB 1.4 MB/s eta 0:00:01\n",
      "   ---------------------------------- ----- 6.0/7.0 MB 1.4 MB/s eta 0:00:01\n",
      "   ------------------------------------- -- 6.6/7.0 MB 1.4 MB/s eta 0:00:01\n",
      "   ---------------------------------------  6.8/7.0 MB 1.5 MB/s eta 0:00:01\n",
      "   ---------------------------------------- 7.0/7.0 MB 1.4 MB/s eta 0:00:00\n",
      "Downloading pyparsing-3.2.3-py3-none-any.whl (111 kB)\n",
      "Installing collected packages: pyparsing, pillow, kiwisolver, fonttools, cycler, contourpy, matplotlib, seaborn\n",
      "\n",
      "   ---------------------------------------- 0/8 [pyparsing]\n",
      "   ----- ---------------------------------- 1/8 [pillow]\n",
      "   ----- ---------------------------------- 1/8 [pillow]\n",
      "   ----- ---------------------------------- 1/8 [pillow]\n",
      "   ----- ---------------------------------- 1/8 [pillow]\n",
      "   ---------- ----------------------------- 2/8 [kiwisolver]\n",
      "   --------------- ------------------------ 3/8 [fonttools]\n",
      "   --------------- ------------------------ 3/8 [fonttools]\n",
      "   --------------- ------------------------ 3/8 [fonttools]\n",
      "   --------------- ------------------------ 3/8 [fonttools]\n",
      "   --------------- ------------------------ 3/8 [fonttools]\n",
      "   --------------- ------------------------ 3/8 [fonttools]\n",
      "   --------------- ------------------------ 3/8 [fonttools]\n",
      "   --------------- ------------------------ 3/8 [fonttools]\n",
      "   --------------- ------------------------ 3/8 [fonttools]\n",
      "   --------------- ------------------------ 3/8 [fonttools]\n",
      "   --------------- ------------------------ 3/8 [fonttools]\n",
      "   --------------- ------------------------ 3/8 [fonttools]\n",
      "   --------------- ------------------------ 3/8 [fonttools]\n",
      "   --------------- ------------------------ 3/8 [fonttools]\n",
      "   ------------------------- -------------- 5/8 [contourpy]\n",
      "   ------------------------------ --------- 6/8 [matplotlib]\n",
      "   ------------------------------ --------- 6/8 [matplotlib]\n",
      "   ------------------------------ --------- 6/8 [matplotlib]\n",
      "   ------------------------------ --------- 6/8 [matplotlib]\n",
      "   ------------------------------ --------- 6/8 [matplotlib]\n",
      "   ------------------------------ --------- 6/8 [matplotlib]\n",
      "   ------------------------------ --------- 6/8 [matplotlib]\n",
      "   ------------------------------ --------- 6/8 [matplotlib]\n",
      "   ------------------------------ --------- 6/8 [matplotlib]\n",
      "   ------------------------------ --------- 6/8 [matplotlib]\n",
      "   ------------------------------ --------- 6/8 [matplotlib]\n",
      "   ------------------------------ --------- 6/8 [matplotlib]\n",
      "   ------------------------------ --------- 6/8 [matplotlib]\n",
      "   ------------------------------ --------- 6/8 [matplotlib]\n",
      "   ------------------------------ --------- 6/8 [matplotlib]\n",
      "   ------------------------------ --------- 6/8 [matplotlib]\n",
      "   ------------------------------ --------- 6/8 [matplotlib]\n",
      "   ------------------------------ --------- 6/8 [matplotlib]\n",
      "   ------------------------------ --------- 6/8 [matplotlib]\n",
      "   ----------------------------------- ---- 7/8 [seaborn]\n",
      "   ----------------------------------- ---- 7/8 [seaborn]\n",
      "   ----------------------------------- ---- 7/8 [seaborn]\n",
      "   ---------------------------------------- 8/8 [seaborn]\n",
      "\n",
      "Successfully installed contourpy-1.3.2 cycler-0.12.1 fonttools-4.59.2 kiwisolver-1.4.9 matplotlib-3.10.5 pillow-11.3.0 pyparsing-3.2.3 seaborn-0.13.2\n"
     ]
    }
   ],
   "source": [
    "!pip install matplotlib seaborn pandas numpy scipy scikit-learn implicit"
   ]
  },
  {
   "cell_type": "code",
   "execution_count": 12,
   "id": "e7806c63",
   "metadata": {},
   "outputs": [],
   "source": [
    "import numpy as np\n",
    "import pandas as pd\n",
    "import matplotlib.pyplot as plt\n",
    "import seaborn as sns\n",
    "import sklearn\n",
    "import warnings\n",
    "warnings.simplefilter(action='ignore', category=FutureWarning)"
   ]
  },
  {
   "cell_type": "markdown",
   "id": "28ee9a65",
   "metadata": {},
   "source": [
    "## _Loading Dataset_\n"
   ]
  },
  {
   "cell_type": "markdown",
   "id": "28640d55",
   "metadata": {},
   "source": [
    "_rating dataset that contains ratings of movies_\n"
   ]
  },
  {
   "cell_type": "code",
   "execution_count": 13,
   "id": "3160bc1d",
   "metadata": {},
   "outputs": [
    {
     "data": {
      "application/vnd.microsoft.datawrangler.viewer.v0+json": {
       "columns": [
        {
         "name": "index",
         "rawType": "int64",
         "type": "integer"
        },
        {
         "name": "userId",
         "rawType": "int64",
         "type": "integer"
        },
        {
         "name": "movieId",
         "rawType": "int64",
         "type": "integer"
        },
        {
         "name": "rating",
         "rawType": "int64",
         "type": "integer"
        },
        {
         "name": "timestamp",
         "rawType": "int64",
         "type": "integer"
        }
       ],
       "ref": "c4f60f4e-7090-4f3c-af39-51ebcaea5a5d",
       "rows": [
        [
         "0",
         "877",
         "4155",
         "5",
         "1651201566"
        ],
        [
         "1",
         "305",
         "7661",
         "2",
         "1639553712"
        ],
        [
         "2",
         "381",
         "8423",
         "2",
         "1610704432"
        ],
        [
         "3",
         "208",
         "6433",
         "1",
         "1650223767"
        ],
        [
         "4",
         "47",
         "7752",
         "4",
         "1663998365"
        ]
       ],
       "shape": {
        "columns": 4,
        "rows": 5
       }
      },
      "text/html": [
       "<div>\n",
       "<style scoped>\n",
       "    .dataframe tbody tr th:only-of-type {\n",
       "        vertical-align: middle;\n",
       "    }\n",
       "\n",
       "    .dataframe tbody tr th {\n",
       "        vertical-align: top;\n",
       "    }\n",
       "\n",
       "    .dataframe thead th {\n",
       "        text-align: right;\n",
       "    }\n",
       "</style>\n",
       "<table border=\"1\" class=\"dataframe\">\n",
       "  <thead>\n",
       "    <tr style=\"text-align: right;\">\n",
       "      <th></th>\n",
       "      <th>userId</th>\n",
       "      <th>movieId</th>\n",
       "      <th>rating</th>\n",
       "      <th>timestamp</th>\n",
       "    </tr>\n",
       "  </thead>\n",
       "  <tbody>\n",
       "    <tr>\n",
       "      <th>0</th>\n",
       "      <td>877</td>\n",
       "      <td>4155</td>\n",
       "      <td>5</td>\n",
       "      <td>1651201566</td>\n",
       "    </tr>\n",
       "    <tr>\n",
       "      <th>1</th>\n",
       "      <td>305</td>\n",
       "      <td>7661</td>\n",
       "      <td>2</td>\n",
       "      <td>1639553712</td>\n",
       "    </tr>\n",
       "    <tr>\n",
       "      <th>2</th>\n",
       "      <td>381</td>\n",
       "      <td>8423</td>\n",
       "      <td>2</td>\n",
       "      <td>1610704432</td>\n",
       "    </tr>\n",
       "    <tr>\n",
       "      <th>3</th>\n",
       "      <td>208</td>\n",
       "      <td>6433</td>\n",
       "      <td>1</td>\n",
       "      <td>1650223767</td>\n",
       "    </tr>\n",
       "    <tr>\n",
       "      <th>4</th>\n",
       "      <td>47</td>\n",
       "      <td>7752</td>\n",
       "      <td>4</td>\n",
       "      <td>1663998365</td>\n",
       "    </tr>\n",
       "  </tbody>\n",
       "</table>\n",
       "</div>"
      ],
      "text/plain": [
       "   userId  movieId  rating   timestamp\n",
       "0     877     4155       5  1651201566\n",
       "1     305     7661       2  1639553712\n",
       "2     381     8423       2  1610704432\n",
       "3     208     6433       1  1650223767\n",
       "4      47     7752       4  1663998365"
      ]
     },
     "execution_count": 13,
     "metadata": {},
     "output_type": "execute_result"
    }
   ],
   "source": [
    "ratings = pd.read_csv(\"ratings.csv\")\n",
    "ratings.head()"
   ]
  },
  {
   "cell_type": "markdown",
   "id": "9739949b",
   "metadata": {},
   "source": [
    "_movies dataset that contains movie ID, Titles and Genres based on which our model will recommend movies_\n"
   ]
  },
  {
   "cell_type": "code",
   "execution_count": 14,
   "id": "a69ec1e3",
   "metadata": {},
   "outputs": [
    {
     "data": {
      "application/vnd.microsoft.datawrangler.viewer.v0+json": {
       "columns": [
        {
         "name": "index",
         "rawType": "int64",
         "type": "integer"
        },
        {
         "name": "movieId",
         "rawType": "int64",
         "type": "integer"
        },
        {
         "name": "title",
         "rawType": "object",
         "type": "string"
        },
        {
         "name": "genres",
         "rawType": "object",
         "type": "string"
        }
       ],
       "ref": "78bf5084-00d7-4a73-a66f-01be7d8d09d8",
       "rows": [
        [
         "0",
         "1",
         "Toy Story (1995)",
         "Adventure|Animation|Children|Comedy|Fantasy"
        ],
        [
         "1",
         "2",
         "Jumanji (1995)",
         "Adventure|Children|Fantasy"
        ],
        [
         "2",
         "3",
         "Grumpier Old Men (1995)",
         "Comedy|Romance"
        ],
        [
         "3",
         "4",
         "Waiting to Exhale (1995)",
         "Comedy|Drama|Romance"
        ],
        [
         "4",
         "5",
         "Father of the Bride Part II (1995)",
         "Comedy"
        ]
       ],
       "shape": {
        "columns": 3,
        "rows": 5
       }
      },
      "text/html": [
       "<div>\n",
       "<style scoped>\n",
       "    .dataframe tbody tr th:only-of-type {\n",
       "        vertical-align: middle;\n",
       "    }\n",
       "\n",
       "    .dataframe tbody tr th {\n",
       "        vertical-align: top;\n",
       "    }\n",
       "\n",
       "    .dataframe thead th {\n",
       "        text-align: right;\n",
       "    }\n",
       "</style>\n",
       "<table border=\"1\" class=\"dataframe\">\n",
       "  <thead>\n",
       "    <tr style=\"text-align: right;\">\n",
       "      <th></th>\n",
       "      <th>movieId</th>\n",
       "      <th>title</th>\n",
       "      <th>genres</th>\n",
       "    </tr>\n",
       "  </thead>\n",
       "  <tbody>\n",
       "    <tr>\n",
       "      <th>0</th>\n",
       "      <td>1</td>\n",
       "      <td>Toy Story (1995)</td>\n",
       "      <td>Adventure|Animation|Children|Comedy|Fantasy</td>\n",
       "    </tr>\n",
       "    <tr>\n",
       "      <th>1</th>\n",
       "      <td>2</td>\n",
       "      <td>Jumanji (1995)</td>\n",
       "      <td>Adventure|Children|Fantasy</td>\n",
       "    </tr>\n",
       "    <tr>\n",
       "      <th>2</th>\n",
       "      <td>3</td>\n",
       "      <td>Grumpier Old Men (1995)</td>\n",
       "      <td>Comedy|Romance</td>\n",
       "    </tr>\n",
       "    <tr>\n",
       "      <th>3</th>\n",
       "      <td>4</td>\n",
       "      <td>Waiting to Exhale (1995)</td>\n",
       "      <td>Comedy|Drama|Romance</td>\n",
       "    </tr>\n",
       "    <tr>\n",
       "      <th>4</th>\n",
       "      <td>5</td>\n",
       "      <td>Father of the Bride Part II (1995)</td>\n",
       "      <td>Comedy</td>\n",
       "    </tr>\n",
       "  </tbody>\n",
       "</table>\n",
       "</div>"
      ],
      "text/plain": [
       "   movieId                               title  \\\n",
       "0        1                    Toy Story (1995)   \n",
       "1        2                      Jumanji (1995)   \n",
       "2        3             Grumpier Old Men (1995)   \n",
       "3        4            Waiting to Exhale (1995)   \n",
       "4        5  Father of the Bride Part II (1995)   \n",
       "\n",
       "                                        genres  \n",
       "0  Adventure|Animation|Children|Comedy|Fantasy  \n",
       "1                   Adventure|Children|Fantasy  \n",
       "2                               Comedy|Romance  \n",
       "3                         Comedy|Drama|Romance  \n",
       "4                                       Comedy  "
      ]
     },
     "execution_count": 14,
     "metadata": {},
     "output_type": "execute_result"
    }
   ],
   "source": [
    "movies = pd.read_csv(\"movies.csv\")\n",
    "movies.head()"
   ]
  },
  {
   "cell_type": "markdown",
   "id": "45580199",
   "metadata": {},
   "source": [
    "## _Statistical Analysis of Ratings_\n"
   ]
  },
  {
   "cell_type": "code",
   "execution_count": null,
   "id": "6547ef0e",
   "metadata": {},
   "outputs": [
    {
     "name": "stdout",
     "output_type": "stream",
     "text": [
      "Total number of ratings: 100836\n",
      "Number of Unique Movies: 9742\n",
      "Number of Unique Users: 999\n",
      "Average number of ratings for all users: 100.94\n",
      "Average number of ratings for all movies: 10.35\n"
     ]
    }
   ],
   "source": [
    "print(f\"Total number of ratings: {len(ratings)}\")\n",
    "print(f\"Number of Unique Movies: {movies['movieId'].nunique()}\")\n",
    "print(f\"Number of Unique Users: {ratings['userId'].nunique()}\")\n",
    "\n",
    "avg_number_of_ratings_all_users = len(ratings) / ratings[\"userId\"].nunique()\n",
    "print(\n",
    "    f\"Average number of ratings for all users: {round(avg_number_of_ratings_all_users, 2)}\")\n",
    "\n",
    "avg_number_of_ratings_all_movies = len(ratings) / ratings[\"movieId\"].nunique()\n",
    "print(\n",
    "    f\"Average number of ratings for all movies: {round(avg_number_of_ratings_all_movies, 2)}\")"
   ]
  },
  {
   "cell_type": "markdown",
   "id": "3c4d0077",
   "metadata": {},
   "source": [
    "## _User Rating Frequency_\n",
    "\n",
    "_number of ratings each user has made_\n"
   ]
  },
  {
   "cell_type": "code",
   "execution_count": 17,
   "id": "f5db9a12",
   "metadata": {},
   "outputs": [
    {
     "name": "stdout",
     "output_type": "stream",
     "text": [
      "Number of ratings per user:\n",
      "         rating\n",
      "userId        \n",
      "1          120\n",
      "2          105\n",
      "3           89\n",
      "4          100\n",
      "5          107\n"
     ]
    }
   ],
   "source": [
    "number_of_ratings_per_user = ratings.groupby('userId').agg({'rating': 'count'})\n",
    "print(f\"Number of ratings per user:\\n {number_of_ratings_per_user.head()}\")"
   ]
  },
  {
   "cell_type": "markdown",
   "id": "940e113d",
   "metadata": {},
   "source": [
    "## _Movie Rating Analysis_\n"
   ]
  },
  {
   "cell_type": "code",
   "execution_count": 18,
   "id": "1ea8c16b",
   "metadata": {},
   "outputs": [
    {
     "name": "stdout",
     "output_type": "stream",
     "text": [
      "Average ratings per movies:\n",
      "            rating\n",
      "movieId          \n",
      "1        2.230769\n",
      "2        3.000000\n",
      "3        2.571429\n",
      "4        3.916667\n",
      "5        2.909091\n"
     ]
    }
   ],
   "source": [
    "avg_rate_per_movie = ratings.groupby('movieId').agg({'rating': 'mean'})\n",
    "print(f\"Average ratings per movies:\\n {avg_rate_per_movie.head()}\")"
   ]
  },
  {
   "cell_type": "code",
   "execution_count": 19,
   "id": "26c282c9",
   "metadata": {},
   "outputs": [
    {
     "name": "stdout",
     "output_type": "stream",
     "text": [
      "Movie that has the lowest average rating of 1285\n"
     ]
    },
    {
     "data": {
      "application/vnd.microsoft.datawrangler.viewer.v0+json": {
       "columns": [
        {
         "name": "index",
         "rawType": "int64",
         "type": "integer"
        },
        {
         "name": "movieId",
         "rawType": "int64",
         "type": "integer"
        },
        {
         "name": "title",
         "rawType": "object",
         "type": "string"
        },
        {
         "name": "genres",
         "rawType": "object",
         "type": "string"
        }
       ],
       "ref": "81beddbf-0868-47b0-ab71-edb636d0116d",
       "rows": [
        [
         "984",
         "1285",
         "Heathers (1989)",
         "Comedy"
        ]
       ],
       "shape": {
        "columns": 3,
        "rows": 1
       }
      },
      "text/html": [
       "<div>\n",
       "<style scoped>\n",
       "    .dataframe tbody tr th:only-of-type {\n",
       "        vertical-align: middle;\n",
       "    }\n",
       "\n",
       "    .dataframe tbody tr th {\n",
       "        vertical-align: top;\n",
       "    }\n",
       "\n",
       "    .dataframe thead th {\n",
       "        text-align: right;\n",
       "    }\n",
       "</style>\n",
       "<table border=\"1\" class=\"dataframe\">\n",
       "  <thead>\n",
       "    <tr style=\"text-align: right;\">\n",
       "      <th></th>\n",
       "      <th>movieId</th>\n",
       "      <th>title</th>\n",
       "      <th>genres</th>\n",
       "    </tr>\n",
       "  </thead>\n",
       "  <tbody>\n",
       "    <tr>\n",
       "      <th>984</th>\n",
       "      <td>1285</td>\n",
       "      <td>Heathers (1989)</td>\n",
       "      <td>Comedy</td>\n",
       "    </tr>\n",
       "  </tbody>\n",
       "</table>\n",
       "</div>"
      ],
      "text/plain": [
       "     movieId            title  genres\n",
       "984     1285  Heathers (1989)  Comedy"
      ]
     },
     "execution_count": 19,
     "metadata": {},
     "output_type": "execute_result"
    }
   ],
   "source": [
    "# Finds the movie ID with the lowest average rating\n",
    "lowest_rated = avg_rate_per_movie.idxmin()[0]\n",
    "print(f\"Movie that has the lowest average rating of {lowest_rated}\")\n",
    "\n",
    "movies.loc[movies['movieId'] == lowest_rated]"
   ]
  },
  {
   "cell_type": "code",
   "execution_count": 20,
   "id": "9756c3aa",
   "metadata": {},
   "outputs": [
    {
     "name": "stdout",
     "output_type": "stream",
     "text": [
      "Movie that has the highest average rating of 7831\n"
     ]
    },
    {
     "data": {
      "application/vnd.microsoft.datawrangler.viewer.v0+json": {
       "columns": [
        {
         "name": "index",
         "rawType": "int64",
         "type": "integer"
        },
        {
         "name": "movieId",
         "rawType": "int64",
         "type": "integer"
        },
        {
         "name": "title",
         "rawType": "object",
         "type": "string"
        },
        {
         "name": "genres",
         "rawType": "object",
         "type": "string"
        }
       ],
       "ref": "2457b2d7-4215-4e68-b09e-196a077613a6",
       "rows": [
        [
         "5029",
         "7831",
         "Another Thin Man (1939)",
         "Comedy|Crime|Drama|Mystery|Romance"
        ]
       ],
       "shape": {
        "columns": 3,
        "rows": 1
       }
      },
      "text/html": [
       "<div>\n",
       "<style scoped>\n",
       "    .dataframe tbody tr th:only-of-type {\n",
       "        vertical-align: middle;\n",
       "    }\n",
       "\n",
       "    .dataframe tbody tr th {\n",
       "        vertical-align: top;\n",
       "    }\n",
       "\n",
       "    .dataframe thead th {\n",
       "        text-align: right;\n",
       "    }\n",
       "</style>\n",
       "<table border=\"1\" class=\"dataframe\">\n",
       "  <thead>\n",
       "    <tr style=\"text-align: right;\">\n",
       "      <th></th>\n",
       "      <th>movieId</th>\n",
       "      <th>title</th>\n",
       "      <th>genres</th>\n",
       "    </tr>\n",
       "  </thead>\n",
       "  <tbody>\n",
       "    <tr>\n",
       "      <th>5029</th>\n",
       "      <td>7831</td>\n",
       "      <td>Another Thin Man (1939)</td>\n",
       "      <td>Comedy|Crime|Drama|Mystery|Romance</td>\n",
       "    </tr>\n",
       "  </tbody>\n",
       "</table>\n",
       "</div>"
      ],
      "text/plain": [
       "      movieId                    title                              genres\n",
       "5029     7831  Another Thin Man (1939)  Comedy|Crime|Drama|Mystery|Romance"
      ]
     },
     "execution_count": 20,
     "metadata": {},
     "output_type": "execute_result"
    }
   ],
   "source": [
    "# Finds the movie ID with the highest average rating\n",
    "highest_rated = avg_rate_per_movie.idxmax()[0]\n",
    "print(f\"Movie that has the highest average rating of {highest_rated}\")\n",
    "\n",
    "movies.loc[movies['movieId'] == highest_rated]"
   ]
  },
  {
   "cell_type": "code",
   "execution_count": 21,
   "id": "b07384a1",
   "metadata": {},
   "outputs": [
    {
     "data": {
      "application/vnd.microsoft.datawrangler.viewer.v0+json": {
       "columns": [
        {
         "name": "index",
         "rawType": "int64",
         "type": "integer"
        },
        {
         "name": "userId",
         "rawType": "int64",
         "type": "integer"
        },
        {
         "name": "movieId",
         "rawType": "int64",
         "type": "integer"
        },
        {
         "name": "rating",
         "rawType": "int64",
         "type": "integer"
        },
        {
         "name": "timestamp",
         "rawType": "int64",
         "type": "integer"
        }
       ],
       "ref": "03e79297-ae89-406b-b4f0-e56671c9e8cc",
       "rows": [
        [
         "78025",
         "667",
         "1285",
         "1",
         "1613097939"
        ],
        [
         "78504",
         "840",
         "1285",
         "1",
         "1643070897"
        ],
        [
         "84758",
         "979",
         "1285",
         "1",
         "1616319498"
        ]
       ],
       "shape": {
        "columns": 4,
        "rows": 3
       }
      },
      "text/html": [
       "<div>\n",
       "<style scoped>\n",
       "    .dataframe tbody tr th:only-of-type {\n",
       "        vertical-align: middle;\n",
       "    }\n",
       "\n",
       "    .dataframe tbody tr th {\n",
       "        vertical-align: top;\n",
       "    }\n",
       "\n",
       "    .dataframe thead th {\n",
       "        text-align: right;\n",
       "    }\n",
       "</style>\n",
       "<table border=\"1\" class=\"dataframe\">\n",
       "  <thead>\n",
       "    <tr style=\"text-align: right;\">\n",
       "      <th></th>\n",
       "      <th>userId</th>\n",
       "      <th>movieId</th>\n",
       "      <th>rating</th>\n",
       "      <th>timestamp</th>\n",
       "    </tr>\n",
       "  </thead>\n",
       "  <tbody>\n",
       "    <tr>\n",
       "      <th>78025</th>\n",
       "      <td>667</td>\n",
       "      <td>1285</td>\n",
       "      <td>1</td>\n",
       "      <td>1613097939</td>\n",
       "    </tr>\n",
       "    <tr>\n",
       "      <th>78504</th>\n",
       "      <td>840</td>\n",
       "      <td>1285</td>\n",
       "      <td>1</td>\n",
       "      <td>1643070897</td>\n",
       "    </tr>\n",
       "    <tr>\n",
       "      <th>84758</th>\n",
       "      <td>979</td>\n",
       "      <td>1285</td>\n",
       "      <td>1</td>\n",
       "      <td>1616319498</td>\n",
       "    </tr>\n",
       "  </tbody>\n",
       "</table>\n",
       "</div>"
      ],
      "text/plain": [
       "       userId  movieId  rating   timestamp\n",
       "78025     667     1285       1  1613097939\n",
       "78504     840     1285       1  1643070897\n",
       "84758     979     1285       1  1616319498"
      ]
     },
     "execution_count": 21,
     "metadata": {},
     "output_type": "execute_result"
    }
   ],
   "source": [
    "ratings[ratings['movieId'] == lowest_rated]"
   ]
  },
  {
   "cell_type": "code",
   "execution_count": 22,
   "id": "8dc23620",
   "metadata": {},
   "outputs": [
    {
     "data": {
      "application/vnd.microsoft.datawrangler.viewer.v0+json": {
       "columns": [
        {
         "name": "index",
         "rawType": "int64",
         "type": "integer"
        },
        {
         "name": "userId",
         "rawType": "int64",
         "type": "integer"
        },
        {
         "name": "movieId",
         "rawType": "int64",
         "type": "integer"
        },
        {
         "name": "rating",
         "rawType": "int64",
         "type": "integer"
        },
        {
         "name": "timestamp",
         "rawType": "int64",
         "type": "integer"
        }
       ],
       "ref": "17f379a4-b598-4ec8-9f4f-5877353b0233",
       "rows": [
        [
         "10060",
         "171",
         "7831",
         "5",
         "1632880028"
        ],
        [
         "51716",
         "992",
         "7831",
         "4",
         "1646316676"
        ],
        [
         "52680",
         "120",
         "7831",
         "5",
         "1653456682"
        ],
        [
         "84994",
         "610",
         "7831",
         "5",
         "1632111958"
        ],
        [
         "91240",
         "540",
         "7831",
         "5",
         "1619124112"
        ]
       ],
       "shape": {
        "columns": 4,
        "rows": 5
       }
      },
      "text/html": [
       "<div>\n",
       "<style scoped>\n",
       "    .dataframe tbody tr th:only-of-type {\n",
       "        vertical-align: middle;\n",
       "    }\n",
       "\n",
       "    .dataframe tbody tr th {\n",
       "        vertical-align: top;\n",
       "    }\n",
       "\n",
       "    .dataframe thead th {\n",
       "        text-align: right;\n",
       "    }\n",
       "</style>\n",
       "<table border=\"1\" class=\"dataframe\">\n",
       "  <thead>\n",
       "    <tr style=\"text-align: right;\">\n",
       "      <th></th>\n",
       "      <th>userId</th>\n",
       "      <th>movieId</th>\n",
       "      <th>rating</th>\n",
       "      <th>timestamp</th>\n",
       "    </tr>\n",
       "  </thead>\n",
       "  <tbody>\n",
       "    <tr>\n",
       "      <th>10060</th>\n",
       "      <td>171</td>\n",
       "      <td>7831</td>\n",
       "      <td>5</td>\n",
       "      <td>1632880028</td>\n",
       "    </tr>\n",
       "    <tr>\n",
       "      <th>51716</th>\n",
       "      <td>992</td>\n",
       "      <td>7831</td>\n",
       "      <td>4</td>\n",
       "      <td>1646316676</td>\n",
       "    </tr>\n",
       "    <tr>\n",
       "      <th>52680</th>\n",
       "      <td>120</td>\n",
       "      <td>7831</td>\n",
       "      <td>5</td>\n",
       "      <td>1653456682</td>\n",
       "    </tr>\n",
       "    <tr>\n",
       "      <th>84994</th>\n",
       "      <td>610</td>\n",
       "      <td>7831</td>\n",
       "      <td>5</td>\n",
       "      <td>1632111958</td>\n",
       "    </tr>\n",
       "    <tr>\n",
       "      <th>91240</th>\n",
       "      <td>540</td>\n",
       "      <td>7831</td>\n",
       "      <td>5</td>\n",
       "      <td>1619124112</td>\n",
       "    </tr>\n",
       "  </tbody>\n",
       "</table>\n",
       "</div>"
      ],
      "text/plain": [
       "       userId  movieId  rating   timestamp\n",
       "10060     171     7831       5  1632880028\n",
       "51716     992     7831       4  1646316676\n",
       "52680     120     7831       5  1653456682\n",
       "84994     610     7831       5  1632111958\n",
       "91240     540     7831       5  1619124112"
      ]
     },
     "execution_count": 22,
     "metadata": {},
     "output_type": "execute_result"
    }
   ],
   "source": [
    "ratings[ratings['movieId'] == highest_rated]"
   ]
  },
  {
   "cell_type": "code",
   "execution_count": 23,
   "id": "61d429c5",
   "metadata": {},
   "outputs": [
    {
     "data": {
      "application/vnd.microsoft.datawrangler.viewer.v0+json": {
       "columns": [
        {
         "name": "movieId",
         "rawType": "int64",
         "type": "integer"
        },
        {
         "name": "count",
         "rawType": "int64",
         "type": "integer"
        },
        {
         "name": "mean",
         "rawType": "float64",
         "type": "float"
        }
       ],
       "ref": "79dd129a-1c2b-4b02-b53d-1e724acbf33e",
       "rows": [
        [
         "1",
         "13",
         "2.230769230769231"
        ],
        [
         "2",
         "6",
         "3.0"
        ],
        [
         "3",
         "7",
         "2.5714285714285716"
        ],
        [
         "4",
         "12",
         "3.9166666666666665"
        ],
        [
         "5",
         "11",
         "2.909090909090909"
        ],
        [
         "6",
         "6",
         "3.1666666666666665"
        ],
        [
         "7",
         "10",
         "2.7"
        ],
        [
         "8",
         "13",
         "3.1538461538461537"
        ],
        [
         "9",
         "19",
         "2.736842105263158"
        ],
        [
         "10",
         "8",
         "2.875"
        ],
        [
         "11",
         "6",
         "2.6666666666666665"
        ],
        [
         "12",
         "4",
         "3.25"
        ],
        [
         "13",
         "13",
         "2.769230769230769"
        ],
        [
         "14",
         "11",
         "3.4545454545454546"
        ],
        [
         "15",
         "9",
         "2.6666666666666665"
        ],
        [
         "16",
         "11",
         "3.1818181818181817"
        ],
        [
         "17",
         "10",
         "3.3"
        ],
        [
         "18",
         "13",
         "2.8461538461538463"
        ],
        [
         "19",
         "6",
         "3.3333333333333335"
        ],
        [
         "20",
         "14",
         "2.7142857142857144"
        ],
        [
         "21",
         "9",
         "2.888888888888889"
        ],
        [
         "22",
         "7",
         "3.5714285714285716"
        ],
        [
         "23",
         "14",
         "2.2857142857142856"
        ],
        [
         "24",
         "13",
         "3.769230769230769"
        ],
        [
         "25",
         "10",
         "3.0"
        ],
        [
         "26",
         "13",
         "2.3076923076923075"
        ],
        [
         "27",
         "8",
         "2.25"
        ],
        [
         "28",
         "10",
         "3.1"
        ],
        [
         "29",
         "10",
         "2.5"
        ],
        [
         "30",
         "9",
         "3.0"
        ],
        [
         "31",
         "17",
         "2.588235294117647"
        ],
        [
         "32",
         "8",
         "3.875"
        ],
        [
         "33",
         "9",
         "3.4444444444444446"
        ],
        [
         "34",
         "7",
         "2.857142857142857"
        ],
        [
         "35",
         "8",
         "3.125"
        ],
        [
         "36",
         "7",
         "3.5714285714285716"
        ],
        [
         "37",
         "10",
         "3.1"
        ],
        [
         "38",
         "5",
         "2.8"
        ],
        [
         "39",
         "11",
         "3.0"
        ],
        [
         "40",
         "11",
         "2.909090909090909"
        ],
        [
         "41",
         "12",
         "3.1666666666666665"
        ],
        [
         "42",
         "8",
         "3.875"
        ],
        [
         "43",
         "8",
         "3.875"
        ],
        [
         "44",
         "9",
         "3.111111111111111"
        ],
        [
         "45",
         "11",
         "3.090909090909091"
        ],
        [
         "46",
         "12",
         "3.1666666666666665"
        ],
        [
         "47",
         "11",
         "3.0"
        ],
        [
         "48",
         "7",
         "2.7142857142857144"
        ],
        [
         "49",
         "12",
         "3.5833333333333335"
        ],
        [
         "50",
         "8",
         "4.0"
        ]
       ],
       "shape": {
        "columns": 2,
        "rows": 9742
       }
      },
      "text/html": [
       "<div>\n",
       "<style scoped>\n",
       "    .dataframe tbody tr th:only-of-type {\n",
       "        vertical-align: middle;\n",
       "    }\n",
       "\n",
       "    .dataframe tbody tr th {\n",
       "        vertical-align: top;\n",
       "    }\n",
       "\n",
       "    .dataframe thead th {\n",
       "        text-align: right;\n",
       "    }\n",
       "</style>\n",
       "<table border=\"1\" class=\"dataframe\">\n",
       "  <thead>\n",
       "    <tr style=\"text-align: right;\">\n",
       "      <th></th>\n",
       "      <th>count</th>\n",
       "      <th>mean</th>\n",
       "    </tr>\n",
       "    <tr>\n",
       "      <th>movieId</th>\n",
       "      <th></th>\n",
       "      <th></th>\n",
       "    </tr>\n",
       "  </thead>\n",
       "  <tbody>\n",
       "    <tr>\n",
       "      <th>1</th>\n",
       "      <td>13</td>\n",
       "      <td>2.230769</td>\n",
       "    </tr>\n",
       "    <tr>\n",
       "      <th>2</th>\n",
       "      <td>6</td>\n",
       "      <td>3.000000</td>\n",
       "    </tr>\n",
       "    <tr>\n",
       "      <th>3</th>\n",
       "      <td>7</td>\n",
       "      <td>2.571429</td>\n",
       "    </tr>\n",
       "    <tr>\n",
       "      <th>4</th>\n",
       "      <td>12</td>\n",
       "      <td>3.916667</td>\n",
       "    </tr>\n",
       "    <tr>\n",
       "      <th>5</th>\n",
       "      <td>11</td>\n",
       "      <td>2.909091</td>\n",
       "    </tr>\n",
       "    <tr>\n",
       "      <th>...</th>\n",
       "      <td>...</td>\n",
       "      <td>...</td>\n",
       "    </tr>\n",
       "    <tr>\n",
       "      <th>9738</th>\n",
       "      <td>7</td>\n",
       "      <td>3.428571</td>\n",
       "    </tr>\n",
       "    <tr>\n",
       "      <th>9739</th>\n",
       "      <td>7</td>\n",
       "      <td>3.428571</td>\n",
       "    </tr>\n",
       "    <tr>\n",
       "      <th>9740</th>\n",
       "      <td>7</td>\n",
       "      <td>2.571429</td>\n",
       "    </tr>\n",
       "    <tr>\n",
       "      <th>9741</th>\n",
       "      <td>9</td>\n",
       "      <td>2.666667</td>\n",
       "    </tr>\n",
       "    <tr>\n",
       "      <th>9742</th>\n",
       "      <td>11</td>\n",
       "      <td>2.272727</td>\n",
       "    </tr>\n",
       "  </tbody>\n",
       "</table>\n",
       "<p>9742 rows × 2 columns</p>\n",
       "</div>"
      ],
      "text/plain": [
       "         count      mean\n",
       "movieId                 \n",
       "1           13  2.230769\n",
       "2            6  3.000000\n",
       "3            7  2.571429\n",
       "4           12  3.916667\n",
       "5           11  2.909091\n",
       "...        ...       ...\n",
       "9738         7  3.428571\n",
       "9739         7  3.428571\n",
       "9740         7  2.571429\n",
       "9741         9  2.666667\n",
       "9742        11  2.272727\n",
       "\n",
       "[9742 rows x 2 columns]"
      ]
     },
     "execution_count": 23,
     "metadata": {},
     "output_type": "execute_result"
    }
   ],
   "source": [
    "movie_stats = ratings.groupby('movieId')[['rating']].agg(['count', 'mean'])\n",
    "movie_stats.columns = movie_stats.columns.droplevel()\n",
    "movie_stats"
   ]
  },
  {
   "cell_type": "markdown",
   "id": "a788833f",
   "metadata": {},
   "source": [
    "## _User-Item Matrix Creation_\n",
    "\n",
    "_`Creates a sparse user-item matrix using csr_matrix from scipy. It also generates mappings between user and movie IDs and their corresponding indices for use in the matrix.`_\n"
   ]
  },
  {
   "cell_type": "markdown",
   "id": "c9c58578",
   "metadata": {},
   "source": [
    "- User-Item Matrix\n",
    "  - `csr_matrix`: creates a sparse matrix (Compressed Sparse Row) from the user-item ratings data to save memory.\n",
    "  - `user_mapper and movie_mapper`: create dictionaries that map user IDs and movie IDs to indices in the sparse matrix.\n",
    "  - `user_inv_mapper and movie_inv_mapper`: create reverse dictionaries that map matrix indices back to user IDs and movie IDs.\n",
    "  - `user_index and movie_index`: create lists of indices for users and movies from the ratings DataFrame.\n",
    "  - `X = csr_matrix(...)`: constructs the sparse user-item matrix X with the given user and movie indices and ratings.\n"
   ]
  },
  {
   "cell_type": "code",
   "execution_count": null,
   "id": "5d2daeba",
   "metadata": {},
   "outputs": [],
   "source": [
    "from scipy.sparse import csr_matrix\n",
    "\n",
    "\n",
    "def create_matrix(df):\n",
    "    N = len(df[\"userId\"].unique())\n",
    "    M = len(df[\"movieId\"].unique())\n",
    "\n",
    "    user_mapper = dict(zip(np.unique(df[\"userId\"]), list(range(N))))\n",
    "    movie_mapper = dict(zip(np.unique(df[\"movieId\"]), list(range(M))))\n",
    "\n",
    "    user_inv_mapper = dict(zip(list(range(N)), np.unique(df[\"userId\"])))\n",
    "    movie_inv_mapper = dict(zip(list(range(M)), np.unique(df[\"movieId\"])))\n",
    "\n",
    "    user_index = [user_mapper[i] for i in df[\"userId\"]]\n",
    "    movie_index = [movie_mapper[i] for i in df[\"movieId\"]]\n",
    "\n",
    "    X = csr_matrix((df[\"rating\"], (movie_index, user_index)), shape=(M, N))\n",
    "\n",
    "    return X, user_mapper, movie_mapper, user_inv_mapper, movie_inv_mapper\n",
    "\n",
    "\n",
    "X, user_mapper, movie_mapper, user_inv_mapper, movie_inv_mapper = create_matrix(\n",
    "    ratings)"
   ]
  },
  {
   "cell_type": "markdown",
   "id": "8820d370",
   "metadata": {},
   "source": [
    "## _Movie Similarity Analysis_\n",
    "\n",
    "_`Use k-nearest neighbors algorithm to find similar movies based on the cosine similarity metric. It calculates the KNN for the given movie ID and returns a list of similar movie IDs.`_\n"
   ]
  },
  {
   "cell_type": "code",
   "execution_count": null,
   "id": "ba85f4fe",
   "metadata": {},
   "outputs": [],
   "source": [
    "from sklearn.neighbors import NearestNeighbors\n",
    "\n",
    "\n",
    "def find_similar_movies(movie_id, X, k, metric='cosine', show_distance=False):\n",
    "    neighbor_ids = []\n",
    "    if movie_id not in movie_mapper:\n",
    "        print(f\"Movie ID {movie_id} not found in movie_mapper!\")\n",
    "        return []\n",
    "\n",
    "    movie_ind = movie_mapper[movie_id]\n",
    "    movie_vec = X[movie_ind]\n",
    "\n",
    "    k += 1\n",
    "    knn = NearestNeighbors(n_neighbors=k, algorithm='brute', metric=metric)\n",
    "    knn.fit(X)\n",
    "    neighbor = knn.kneighbors(movie_vec, return_distance=show_distance)\n",
    "\n",
    "    for i in range(0, k):\n",
    "        n = neighbor.item(i)\n",
    "        neighbor_ids.append(movie_inv_mapper[n])\n",
    "\n",
    "    neighbor_ids.pop(0)\n",
    "    return neighbor_ids"
   ]
  },
  {
   "cell_type": "markdown",
   "id": "2fe96e91",
   "metadata": {},
   "source": [
    "## _`Collaborative Filtering`_\n",
    "\n",
    "_Movie Recommendation with respect to Users Preference_\n"
   ]
  },
  {
   "cell_type": "code",
   "execution_count": 26,
   "id": "1604195e",
   "metadata": {},
   "outputs": [],
   "source": [
    "def recommend_movies_for_user(user_id, X, user_mapper, movie_mapper, movie_inv_mapper, k=10):\n",
    "    df1 = ratings[ratings['userId'] == user_id]\n",
    "    movie_id = df1[df1['rating'] == max(df1['rating'])]['movieId'].iloc[0]\n",
    "    movie_titles = dict(zip(movies['movieId'], movies['title']))\n",
    "    similar_ids = find_similar_movies(movie_id, X, k)\n",
    "\n",
    "    print(f\"Since you watched {movie_titles[movie_id]}, you might also like:\")\n",
    "\n",
    "    for i in similar_ids:\n",
    "        if i in movie_titles:\n",
    "            print(movie_titles[i])"
   ]
  },
  {
   "cell_type": "markdown",
   "id": "346539b0",
   "metadata": {},
   "source": [
    "#### _`Recommending movies`_\n"
   ]
  },
  {
   "cell_type": "code",
   "execution_count": null,
   "id": "3a8c7b93",
   "metadata": {},
   "outputs": [
    {
     "name": "stdout",
     "output_type": "stream",
     "text": [
      "Since you watched Miller's Crossing (1990), you might also like:\n",
      "Flawless (1999)\n",
      "Lilya 4-Ever (Lilja 4-ever) (2002)\n",
      "Bells of St. Mary's, The (1945)\n",
      "Dark City (1998)\n",
      "Cradle 2 the Grave (2003)\n",
      "Japanese Story (2003)\n"
     ]
    }
   ],
   "source": [
    "user_id = 150\n",
    "recommend_movies_for_user(user_id, X, user_mapper,\n",
    "                          movie_mapper, movie_inv_mapper, k=10)"
   ]
  },
  {
   "cell_type": "code",
   "execution_count": null,
   "id": "247def57",
   "metadata": {},
   "outputs": [],
   "source": []
  }
 ],
 "metadata": {
  "kernelspec": {
   "display_name": "diabetes_env",
   "language": "python",
   "name": "python3"
  },
  "language_info": {
   "codemirror_mode": {
    "name": "ipython",
    "version": 3
   },
   "file_extension": ".py",
   "mimetype": "text/x-python",
   "name": "python",
   "nbconvert_exporter": "python",
   "pygments_lexer": "ipython3",
   "version": "3.10.18"
  }
 },
 "nbformat": 4,
 "nbformat_minor": 5
}
