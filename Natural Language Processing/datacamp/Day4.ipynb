{
 "cells": [
  {
   "cell_type": "markdown",
   "id": "35b4a684",
   "metadata": {},
   "source": [
    "Word Embedding : Word2Vec\n",
    "Relationship between vectors -> Cosine Similarity, Eculidean Distance, Manhatten Distance\n"
   ]
  }
 ],
 "metadata": {
  "language_info": {
   "name": "python"
  }
 },
 "nbformat": 4,
 "nbformat_minor": 5
}
