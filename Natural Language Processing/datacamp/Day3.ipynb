{
 "cells": [
  {
   "cell_type": "markdown",
   "id": "49b3e3eb",
   "metadata": {},
   "source": [
    "Bag-of-Words Problems: \n",
    "1. Out of Vocabulary (OOV)\n",
    "2. Sparse Matrix Created -> A lot of Computation.\n",
    "3. Semantic Meaning is Lost.\n",
    "\n",
    "\n",
    "TF-IDF : Used as a Text Preprocessing and Page Ranking in Search Engines\n",
    "Rare Words -> More Weight"
   ]
  },
  {
   "cell_type": "code",
   "execution_count": null,
   "id": "82684131",
   "metadata": {},
   "outputs": [
    {
     "data": {
      "text/plain": [
       "array([[0.        , 0.46979139, 0.58028582, 0.38408524, 0.        ,\n",
       "        0.        , 0.38408524, 0.        , 0.38408524],\n",
       "       [0.        , 0.6876236 , 0.        , 0.28108867, 0.        ,\n",
       "        0.53864762, 0.28108867, 0.        , 0.28108867],\n",
       "       [0.51184851, 0.        , 0.        , 0.26710379, 0.51184851,\n",
       "        0.        , 0.26710379, 0.51184851, 0.26710379],\n",
       "       [0.        , 0.46979139, 0.58028582, 0.38408524, 0.        ,\n",
       "        0.        , 0.38408524, 0.        , 0.38408524]])"
      ]
     },
     "execution_count": 4,
     "metadata": {},
     "output_type": "execute_result"
    }
   ],
   "source": [
    "from sklearn.feature_extraction.text import TfidfVectorizer\n",
    "\n",
    "corpus = [\n",
    "    \"This is the first document.\",\n",
    "    \"This document is the second document.\",\n",
    "    \"And this is the third one.\",\n",
    "    \"Is this the first document?\"\n",
    "]\n",
    "\n",
    "cv = TfidfVectorizer() # ngrang_range= (1, 1) by default\n",
    "x = cv.fit_transform(corpus)\n",
    "\n",
    "x.toarray()"
   ]
  },
  {
   "cell_type": "code",
   "execution_count": 5,
   "id": "cb9480c9",
   "metadata": {},
   "outputs": [
    {
     "data": {
      "text/plain": [
       "('This is the first document.',\n",
       " array([[0.        , 0.46979139, 0.58028582, 0.38408524, 0.        ,\n",
       "         0.        , 0.38408524, 0.        , 0.38408524]]))"
      ]
     },
     "execution_count": 5,
     "metadata": {},
     "output_type": "execute_result"
    }
   ],
   "source": [
    "corpus[0], x[0].toarray()"
   ]
  },
  {
   "cell_type": "code",
   "execution_count": 11,
   "id": "e2fff649",
   "metadata": {},
   "outputs": [
    {
     "data": {
      "text/plain": [
       "array([[0.        , 0.        , 0.66767854, 0.        , 0.        ,\n",
       "        0.        , 0.52640543, 0.        , 0.        , 0.        ,\n",
       "        0.52640543, 0.        ],\n",
       "       [0.        , 0.5       , 0.        , 0.5       , 0.        ,\n",
       "        0.        , 0.        , 0.5       , 0.        , 0.5       ,\n",
       "        0.        , 0.        ],\n",
       "       [0.52547275, 0.        , 0.        , 0.        , 0.52547275,\n",
       "        0.        , 0.        , 0.        , 0.52547275, 0.        ,\n",
       "        0.41428875, 0.        ],\n",
       "       [0.        , 0.        , 0.        , 0.        , 0.        ,\n",
       "        0.61761437, 0.48693426, 0.        , 0.        , 0.        ,\n",
       "        0.        , 0.61761437]])"
      ]
     },
     "execution_count": 11,
     "metadata": {},
     "output_type": "execute_result"
    }
   ],
   "source": [
    "cv = TfidfVectorizer(ngram_range=(3, 3))\n",
    "x = cv.fit_transform(corpus)\n",
    "\n",
    "x.toarray()"
   ]
  },
  {
   "cell_type": "code",
   "execution_count": null,
   "id": "0dc5923f",
   "metadata": {},
   "outputs": [
    {
     "data": {
      "text/plain": [
       "('This is the first document.',\n",
       " array([[0.        , 0.        , 0.66767854, 0.        , 0.        ,\n",
       "         0.        , 0.52640543, 0.        , 0.        , 0.        ,\n",
       "         0.52640543, 0.        ]]))"
      ]
     },
     "execution_count": 12,
     "metadata": {},
     "output_type": "execute_result"
    }
   ],
   "source": [
    "corpus[0], x[0].toarray()"
   ]
  },
  {
   "cell_type": "code",
   "execution_count": null,
   "metadata": {},
   "outputs": [
    {
     "data": {
      "text/plain": [
       "array([[0.        , 0.70710678, 0.70710678],\n",
       "       [0.        , 0.        , 0.        ],\n",
       "       [0.78528828, 0.        , 0.6191303 ],\n",
       "       [0.        , 1.        , 0.        ]])"
      ]
     },
     "execution_count": 13,
     "metadata": {},
     "output_type": "execute_result"
    }
   ],
   "source": [
    "# Top 3 Max Features\n",
    "cv = TfidfVectorizer(ngram_range=(3, 3), max_features=3)\n",
    "x = cv.fit_transform(corpus)\n",
    "\n",
    "x.toarray()"
   ]
  },
  {
   "cell_type": "code",
   "execution_count": 15,
   "id": "237500b7",
   "metadata": {},
   "outputs": [
    {
     "data": {
      "text/plain": [
       "array([[0.        , 0.70710678, 0.70710678]])"
      ]
     },
     "execution_count": 15,
     "metadata": {},
     "output_type": "execute_result"
    }
   ],
   "source": [
    "x[0].toarray()"
   ]
  },
  {
   "cell_type": "code",
   "execution_count": null,
   "id": "d5a4818e",
   "metadata": {},
   "outputs": [],
   "source": []
  },
  {
   "cell_type": "code",
   "execution_count": null,
   "id": "027685a4",
   "metadata": {},
   "outputs": [],
   "source": []
  },
  {
   "cell_type": "code",
   "execution_count": null,
   "id": "0f5a852b",
   "metadata": {},
   "outputs": [],
   "source": []
  },
  {
   "cell_type": "code",
   "execution_count": null,
   "id": "f4c83823",
   "metadata": {},
   "outputs": [],
   "source": []
  },
  {
   "cell_type": "code",
   "execution_count": null,
   "id": "6f39eb0d",
   "metadata": {},
   "outputs": [],
   "source": []
  },
  {
   "cell_type": "code",
   "execution_count": null,
   "id": "dc8810a4",
   "metadata": {},
   "outputs": [],
   "source": []
  },
  {
   "cell_type": "code",
   "execution_count": null,
   "id": "67c98f69",
   "metadata": {},
   "outputs": [],
   "source": []
  },
  {
   "cell_type": "code",
   "execution_count": null,
   "id": "3c939155",
   "metadata": {},
   "outputs": [],
   "source": []
  }
 ],
 "metadata": {
  "kernelspec": {
   "display_name": "diabetes_env",
   "language": "python",
   "name": "python3"
  },
  "language_info": {
   "codemirror_mode": {
    "name": "ipython",
    "version": 3
   },
   "file_extension": ".py",
   "mimetype": "text/x-python",
   "name": "python",
   "nbconvert_exporter": "python",
   "pygments_lexer": "ipython3",
   "version": "3.10.18"
  }
 },
 "nbformat": 4,
 "nbformat_minor": 5
}
